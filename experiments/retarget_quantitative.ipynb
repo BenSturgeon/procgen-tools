{
 "cells": [
  {
   "cell_type": "code",
   "execution_count": 7,
   "metadata": {},
   "outputs": [
    {
     "name": "stdout",
     "output_type": "stream",
     "text": [
      "Already downloaded https://nerdsniper.net/mats/model_rand_region_5.pth\n"
     ]
    }
   ],
   "source": [
    "try:\n",
    "    import procgen_tools\n",
    "except ImportError:\n",
    "    get_ipython().run_line_magic(\n",
    "        magic_name=\"pip\",\n",
    "        line=\"install -U git+https://github.com/ulissemini/procgen-tools\",\n",
    "    )\n",
    "\n",
    "from procgen_tools.utils import setup\n",
    "\n",
    "setup()  # create directory structure and download data\n",
    "\n",
    "from procgen_tools.imports import *\n",
    "from procgen_tools import maze, visualization\n",
    "from typing import Tuple, Dict, List, Optional, Union\n",
    "\n",
    "SAVE_DIR = \"playground/visualizations\"\n",
    "AX_SIZE = 6\n",
    "\n",
    "cheese_channels = [7, 8, 42, 44, 55, 77, 82, 88, 89, 99, 113]\n",
    "effective_channels = [8, 55, 77, 82, 88, 89, 113]"
   ]
  },
  {
   "cell_type": "code",
   "execution_count": null,
   "metadata": {},
   "outputs": [],
   "source": [
    "# def reaches_square(venv, hook, location: Tuple[int, int], max_steps: int = 70) -> bool:\n",
    "#     \"\"\" Returns whether the agent reaches a given square in the maze\n",
    "#     within `max_steps` time steps. Samples greedily from the hooked\n",
    "#     network. \"\"\"\n",
    "#     assert (location[i] >= 0 and location[i] < maze.MAZE_SIZE for i in (0,1)).all()\n",
    "#     assert max_steps >= 0\n",
    "\n",
    "#     # At each time step, see if the agent is in the target square\n",
    "#     for _ in range(max_steps):\n",
    "#         # Get the grid position\n",
    "#         grid_pos =\n",
    "\n",
    "#         # Greedily sample from the hooked network"
   ]
  },
  {
   "cell_type": "code",
   "execution_count": null,
   "metadata": {},
   "outputs": [],
   "source": [
    "def geometric_probability_path(\n",
    "    start: Tuple[int, int], end: Tuple[int, int], vf: Dict\n",
    ") -> float:\n",
    "    for coord in (start, end):\n",
    "        assert (coord[i] >= 0 and coord[i] < maze.MAZE_SIZE for i in (0, 1))\n",
    "\n",
    "    # Get the path from start to end\n",
    "    path = maze.pathfind(vf[\"grid\"], start, end)\n",
    "\n",
    "    print(path)\n",
    "\n",
    "\n",
    "venv = maze.create_venv(num=1, start_level=0, num_levels=1)\n",
    "vf = visualization.vector_field(venv, hook.network)\n",
    "geometric_probability_path((0, 0), (0, 1), vf)"
   ]
  },
  {
   "cell_type": "code",
   "execution_count": null,
   "metadata": {},
   "outputs": [],
   "source": []
  }
 ],
 "metadata": {
  "kernelspec": {
   "display_name": "Python 3",
   "language": "python",
   "name": "python3"
  },
  "language_info": {
   "codemirror_mode": {
    "name": "ipython",
    "version": 3
   },
   "file_extension": ".py",
   "mimetype": "text/x-python",
   "name": "python",
   "nbconvert_exporter": "python",
   "pygments_lexer": "ipython3",
   "version": "3.10.9"
  },
  "orig_nbformat": 4
 },
 "nbformat": 4,
 "nbformat_minor": 2
}
