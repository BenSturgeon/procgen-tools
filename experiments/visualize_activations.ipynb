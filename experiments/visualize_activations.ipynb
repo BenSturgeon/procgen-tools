{
 "cells": [
  {
   "cell_type": "code",
   "execution_count": 2,
   "metadata": {},
   "outputs": [],
   "source": [
    "from procgen_tools.imports import *"
   ]
  },
  {
   "attachments": {},
   "cell_type": "markdown",
   "metadata": {},
   "source": [
    "# Visualizing details of the goal misgeneralization nets\n",
    "Let's understand lots of details about [the goal misgeneralization paper](https://arxiv.org/abs/2105.14111). In particular, we'll be looking at the cheese-maze task from the goal misgeneralization task, for which cheese was spawned in the 5x5 top-right corner of the maze. \n",
    "\n",
    "Key conclusions:\n",
    "1. Convolutional layers limit speed of information propagation (_locality_). More precisely, ignoring the effect of `maxpool2D` layers, any portions of the state separated by `n` pixels take at least `ceil(n/2)` convolutional layers to interact.\n",
    "2. In the maximal maze size of 64 x 64, there is at most **two** steps of computation involving information from e.g. opposite corners of the maze. "
   ]
  },
  {
   "attachments": {},
   "cell_type": "markdown",
   "metadata": {},
   "source": [
    "Let's visualize the network structure. Here's a Mermaid diagram. \n",
    "\n",
    "![](https://i.imgur.com/5oSHoVQ.png) "
   ]
  },
  {
   "attachments": {},
   "cell_type": "markdown",
   "metadata": {},
   "source": [
    "And here's a more dynamic view; small nodes are activations, and large nodes are `nn.Module`s."
   ]
  },
  {
   "cell_type": "code",
   "execution_count": 3,
   "metadata": {},
   "outputs": [
    {
     "data": {},
     "metadata": {},
     "output_type": "display_data"
    },
    {
     "data": {
      "application/vnd.holoviews_exec.v0+json": "",
      "text/html": [
       "<div id='1003'>\n",
       "  <div class=\"bk-root\" id=\"45a7c267-4dfb-4797-bd20-c08a052c5330\" data-root-id=\"1003\"></div>\n",
       "</div>\n",
       "<script type=\"application/javascript\">(function(root) {\n",
       "  function embed_document(root) {\n",
       "    var docs_json = {\"7001a014-86eb-41cb-a072-3e2ff5f7c91f\":{\"defs\":[{\"extends\":null,\"module\":null,\"name\":\"ReactiveHTML1\",\"overrides\":[],\"properties\":[]},{\"extends\":null,\"module\":null,\"name\":\"FlexBox1\",\"overrides\":[],\"properties\":[{\"default\":\"flex-start\",\"kind\":null,\"name\":\"align_content\"},{\"default\":\"flex-start\",\"kind\":null,\"name\":\"align_items\"},{\"default\":\"row\",\"kind\":null,\"name\":\"flex_direction\"},{\"default\":\"wrap\",\"kind\":null,\"name\":\"flex_wrap\"},{\"default\":\"flex-start\",\"kind\":null,\"name\":\"justify_content\"}]},{\"extends\":null,\"module\":null,\"name\":\"GridStack1\",\"overrides\":[],\"properties\":[{\"default\":\"warn\",\"kind\":null,\"name\":\"mode\"},{\"default\":null,\"kind\":null,\"name\":\"ncols\"},{\"default\":null,\"kind\":null,\"name\":\"nrows\"},{\"default\":true,\"kind\":null,\"name\":\"allow_resize\"},{\"default\":true,\"kind\":null,\"name\":\"allow_drag\"},{\"default\":[],\"kind\":null,\"name\":\"state\"}]},{\"extends\":null,\"module\":null,\"name\":\"click1\",\"overrides\":[],\"properties\":[{\"default\":\"\",\"kind\":null,\"name\":\"terminal_output\"},{\"default\":\"\",\"kind\":null,\"name\":\"debug_name\"},{\"default\":0,\"kind\":null,\"name\":\"clears\"}]},{\"extends\":null,\"module\":null,\"name\":\"NotificationAreaBase1\",\"overrides\":[],\"properties\":[{\"default\":\"bottom-right\",\"kind\":null,\"name\":\"position\"},{\"default\":0,\"kind\":null,\"name\":\"_clear\"}]},{\"extends\":null,\"module\":null,\"name\":\"NotificationArea1\",\"overrides\":[],\"properties\":[{\"default\":[],\"kind\":null,\"name\":\"notifications\"},{\"default\":\"bottom-right\",\"kind\":null,\"name\":\"position\"},{\"default\":0,\"kind\":null,\"name\":\"_clear\"},{\"default\":[{\"background\":\"#ffc107\",\"icon\":{\"className\":\"fas fa-exclamation-triangle\",\"color\":\"white\",\"tagName\":\"i\"},\"type\":\"warning\"},{\"background\":\"#007bff\",\"icon\":{\"className\":\"fas fa-info-circle\",\"color\":\"white\",\"tagName\":\"i\"},\"type\":\"info\"}],\"kind\":null,\"name\":\"types\"}]},{\"extends\":null,\"module\":null,\"name\":\"Notification\",\"overrides\":[],\"properties\":[{\"default\":null,\"kind\":null,\"name\":\"background\"},{\"default\":3000,\"kind\":null,\"name\":\"duration\"},{\"default\":null,\"kind\":null,\"name\":\"icon\"},{\"default\":\"\",\"kind\":null,\"name\":\"message\"},{\"default\":null,\"kind\":null,\"name\":\"notification_type\"},{\"default\":false,\"kind\":null,\"name\":\"_destroyed\"}]},{\"extends\":null,\"module\":null,\"name\":\"TemplateActions1\",\"overrides\":[],\"properties\":[{\"default\":0,\"kind\":null,\"name\":\"open_modal\"},{\"default\":0,\"kind\":null,\"name\":\"close_modal\"}]},{\"extends\":null,\"module\":null,\"name\":\"MaterialTemplateActions1\",\"overrides\":[],\"properties\":[{\"default\":0,\"kind\":null,\"name\":\"open_modal\"},{\"default\":0,\"kind\":null,\"name\":\"close_modal\"}]}],\"roots\":{\"references\":[{\"attributes\":{},\"id\":\"1014\",\"type\":\"LinearScale\"},{\"attributes\":{\"line_alpha\":{\"value\":0.2},\"line_width\":{\"value\":2}},\"id\":\"1052\",\"type\":\"MultiLine\"},{\"attributes\":{\"data\":{\"end\":{\"__ndarray__\":\"PwAAAFEAAABNAAAARAAAAEgAAAAxAAAALAAAAD4AAABSAAAAOwAAAD0AAABHAAAATAAAAC4AAABTAAAARQAAAEsAAABPAAAANAAAAEAAAAAvAAAANwAAAE4AAAAyAAAAMAAAADwAAABGAAAANgAAADUAAAA4AAAAKwAAAEEAAAA5AAAAUAAAADoAAABCAAAAVAAAAEkAAABKAAAAQwAAADMAAAAtAAAAHgAAAAYAAAAFAAAAKQAAAA0AAAAUAAAAGAAAAAUAAAAbAAAAFwAAACgAAAASAAAAHAAAABsAAAAVAAAAHQAAACAAAAAKAAAAIgAAAAkAAAAZAAAACgAAAAcAAAAjAAAAAAAAABMAAAAfAAAAIwAAACcAAAADAAAADwAAACUAAAAaAAAACwAAAAQAAAAlAAAAFgAAACYAAAAQAAAADAAAAAIAAAAWAAAAEQAAACEAAAABAAAACAAAACQAAAAOAAAA\",\"dtype\":\"int32\",\"order\":\"little\",\"shape\":[90]},\"start\":{\"__ndarray__\":\"AAAAAAEAAAACAAAAAwAAAAQAAAAFAAAABgAAAAcAAAAIAAAACQAAAAoAAAALAAAADAAAAA0AAAAOAAAADwAAABAAAAARAAAAEgAAABMAAAAUAAAAFQAAABYAAAAXAAAAGAAAABkAAAAaAAAAGwAAABwAAAAdAAAAHgAAAB8AAAAgAAAAIQAAACIAAAAjAAAAJAAAACUAAAAmAAAAJwAAACgAAAApAAAAKgAAACsAAAAsAAAALAAAAC0AAAAuAAAALwAAADAAAAAxAAAAMQAAADIAAAAzAAAANAAAADUAAAA2AAAANwAAADgAAAA4AAAAOQAAADoAAAA7AAAAPAAAAD0AAAA9AAAAPgAAAD8AAABAAAAAQQAAAEIAAABDAAAARAAAAEQAAABFAAAARgAAAEcAAABIAAAASQAAAEkAAABKAAAASwAAAEwAAABNAAAATgAAAE8AAABQAAAAUQAAAFIAAABSAAAA\",\"dtype\":\"int32\",\"order\":\"little\",\"shape\":[90]},\"xs\":[{\"__ndarray__\":\"eyosIARNxr+A3IBeNpS/vwAAAAAAAPh/CvTFJRBzwr+A3IBeNpS/v9RFHCCXAcG/\",\"dtype\":\"float64\",\"order\":\"little\",\"shape\":[6]},{\"__ndarray__\":\"oSStdnHS5z/kuO/heG3pPwAAAAAAAPh/4YYaaAga6T/kuO/heG3pP350qxVDweg/\",\"dtype\":\"float64\",\"order\":\"little\",\"shape\":[6]},{\"__ndarray__\":\"vNMBVmV46D8KBiil4xrmPwAAAAAAAPh/25bec7/O5j8KBiil4xrmPyHVu8EnpeY/\",\"dtype\":\"float64\",\"order\":\"little\",\"shape\":[6]},{\"__ndarray__\":\"+NxLrVSn0D8aWgsQP0nVPwAAAAAAAPh/Vr+QiJjg0z8aWgsQP0nVP4qbGumyVtQ/\",\"dtype\":\"float64\",\"order\":\"little\",\"shape\":[6]},{\"__ndarray__\":\"5HN4DmB34T+OyHyH3V3gPwAAAAAAAPh/CBy7NYPj4D+OyHyH3V3gPzTxreqJZuA/\",\"dtype\":\"float64\",\"order\":\"little\",\"shape\":[6]},{\"__ndarray__\":\"2PdyMEjN4r+jgweH6R7jvwAAAAAAAPh/qgaQ+cNP47+jgweH6R7jv6dGBcmOxuK/\",\"dtype\":\"float64\",\"order\":\"little\",\"shape\":[6]},{\"__ndarray__\":\"UB7g1b195r/hfwIK+XfkvwAAAAAAAPh/h6Naqzcb5b/hfwIK+Xfkv7XWRRruIeW/\",\"dtype\":\"float64\",\"order\":\"little\",\"shape\":[6]},{\"__ndarray__\":\"jC7y/cm+xr9XhDRpkDrIvwAAAAAAAPh/8rG7XMbsyL9XhDRpkDrIv0f9pHe5yca/\",\"dtype\":\"float64\",\"order\":\"little\",\"shape\":[6]},{\"__ndarray__\":\"mc/PtfkP6z/NdS6kwLXsPwAAAAAAAPh/lvPrgERX7D/NdS6kwLXsP0MlH40oBuw/\",\"dtype\":\"float64\",\"order\":\"little\",\"shape\":[6]},{\"__ndarray__\":\"/ZRINeXp2L8dtyVq/4zUvwAAAAAAAPh/aukA3T7L1b8dtyVq/4zUv0MLeAen5tW/\",\"dtype\":\"float64\",\"order\":\"little\",\"shape\":[6]},{\"__ndarray__\":\"DjWWQQXbyb+O9A9zSxrAvwAAAAAAAPh/2rhX8GXswr+O9A9zSxrAv4v2RkNYEsK/\",\"dtype\":\"float64\",\"order\":\"little\",\"shape\":[6]},{\"__ndarray__\":\"rbGu2Y9t3z/1AfRZnj/hPwAAAAAAAPh/YSQNyXX84D/1AfRZnj/hP9tAaUOhmeA/\",\"dtype\":\"float64\",\"order\":\"little\",\"shape\":[6]},{\"__ndarray__\":\"UndY2SIG6T+5E7IfkonpPwAAAAAAAPh/EfTybyel6T+5E7IfkonpP829SIrpHuk/\",\"dtype\":\"float64\",\"order\":\"little\",\"shape\":[6]},{\"__ndarray__\":\"OfFZJ3qV47/79Ry/8oPhvwAAAAAAAPh/ynJux1g44r/79Ry/8oPhv81DDR+TCOK/\",\"dtype\":\"float64\",\"order\":\"little\",\"shape\":[6]},{\"__ndarray__\":\"2/QUdkdX7j8qVamR6vzvPwAAAAAAAPh/iyOXVMGY7z8qVamR6vzvP8xQS8LgS+8/\",\"dtype\":\"float64\",\"order\":\"little\",\"shape\":[6]},{\"__ndarray__\":\"7c1z8tLx0j/TBrPQdSHUPwAAAAAAAPh/tsINxaZM0z/TBrPQdSHUP7M/D7M/WdQ/\",\"dtype\":\"float64\",\"order\":\"little\",\"shape\":[6]},{\"__ndarray__\":\"7V9LM9cy5T8u3YJ+62DnPwAAAAAAAPh/oOpHlLbB5j8u3YJ+62DnP/wXz7AktOY/\",\"dtype\":\"float64\",\"order\":\"little\",\"shape\":[6]},{\"__ndarray__\":\"hB3FOqpz4j/SdPqxcn/jPwAAAAAAAPh/ClAvNn5v4z/SdPqxcn/jPyqgdggB9eI/\",\"dtype\":\"float64\",\"order\":\"little\",\"shape\":[6]},{\"__ndarray__\":\"9xcyZj8k6b/a1YCz/ijnvwAAAAAAAPh/yjS1/jPd57/a1YCz/ijnvwWf6SKtoOe/\",\"dtype\":\"float64\",\"order\":\"little\",\"shape\":[6]},{\"__ndarray__\":\"oGpeGwBurL+cNcc6U+5xPwAAAAAAAPh/Q+eAWQ++gr+cNcc6U+5xPzZ5tYQP6ZG/\",\"dtype\":\"float64\",\"order\":\"little\",\"shape\":[6]},{\"__ndarray__\":\"FjoQPuok4L/sSXu61i/fvwAAAAAAAPh/GHG6uXcD4L/sSXu61i/fv7Gi35vb+t6/\",\"dtype\":\"float64\",\"order\":\"little\",\"shape\":[6]},{\"__ndarray__\":\"Tms4WL3R2b9BSpkJb0/WvwAAAAAAAPh/EE8tMMCf179BSpkJb0/Wv3mId7NR4Na/\",\"dtype\":\"float64\",\"order\":\"little\",\"shape\":[6]},{\"__ndarray__\":\"ch1zmeow4j+TFi8bjeXhPwAAAAAAAPh/Hh07GWM/4j+TFi8bjeXhP7G5SP1WtuE/\",\"dtype\":\"float64\",\"order\":\"little\",\"shape\":[6]},{\"__ndarray__\":\"A9IOmg6V5r+CMvFi/+vovwAAAAAAAPh/5vuQ6m1n6L+CMvFi/+vov9124XyYN+i/\",\"dtype\":\"float64\",\"order\":\"little\",\"shape\":[6]},{\"__ndarray__\":\"JqoCe8CK37/qxAQhLKXgvwAAAAAAAPh/c5EjY3un4L/qxAQhLKXgv02/ZoUnJ+C/\",\"dtype\":\"float64\",\"order\":\"little\",\"shape\":[6]},{\"__ndarray__\":\"13KPJi7g0L/zIrWFpq7LvwAAAAAAAPh/rYd0DyVWzL/zIrWFpq7Lv17YMv/OFc6/\",\"dtype\":\"float64\",\"order\":\"little\",\"shape\":[6]},{\"__ndarray__\":\"MX9/BdD91j8MIZ+yLyLbPwAAAAAAAPh/IaWwtDu52T8MIZ+yLyLbP+HNxFYlHNo/\",\"dtype\":\"float64\",\"order\":\"little\",\"shape\":[6]},{\"__ndarray__\":\"zE56lOBk4b9rZMHMBvPdvwAAAAAAAPh/L/Cv6g5c379rZMHMBvPdv5O9RsSN9t6/\",\"dtype\":\"float64\",\"order\":\"little\",\"shape\":[6]},{\"__ndarray__\":\"0whN6YTh5L/hzsamgb/ivwAAAAAAAPh/pnj5tFAs47/hzsamgb/iv2VegkBRcuO/\",\"dtype\":\"float64\",\"order\":\"little\",\"shape\":[6]},{\"__ndarray__\":\"jk3NAGCq07+FzxYaLpjSvwAAAAAAAPh/hDNVU0Rn07+FzxYaLpjSvyJsKyR0WdK/\",\"dtype\":\"float64\",\"order\":\"little\",\"shape\":[6]},{\"__ndarray__\":\"7pJL4qLC6r89JUhxUq3ovwAAAAAAAPh/PzlxQhJh6b89JUhxUq3ov3wHqVFdOOm/\",\"dtype\":\"float64\",\"order\":\"little\",\"shape\":[6]},{\"__ndarray__\":\"8HpI8LPkoj9igv38mjSiPwAAAAAAAPh/xNIaiyCzpj9igv38mjSiP9X9NwEiIZw/\",\"dtype\":\"float64\",\"order\":\"little\",\"shape\":[6]},{\"__ndarray__\":\"sg0nIF3A2b8cGJvDekndvwAAAAAAAPh/nggqwB/D3L8cGJvDekndv9JWvGZ8/du/\",\"dtype\":\"float64\",\"order\":\"little\",\"shape\":[6]},{\"__ndarray__\":\"sMgNuoXP5D8LxrlOn0XmPwAAAAAAAPh/+iSaGDkI5j8LxrlOn0XmP4OlvXknouU/\",\"dtype\":\"float64\",\"order\":\"little\",\"shape\":[6]},{\"__ndarray__\":\"2oZKv0hU3r8XxLGDsp7cvwAAAAAAAPh/LeM/w/Kf3b8XxLGDsp7cvz78Hhxvody/\",\"dtype\":\"float64\",\"order\":\"little\",\"shape\":[6]},{\"__ndarray__\":\"A8CNAm03nb/jvb7kVbKhPwAAAAAAAPh/rOTyCgTElz/jvb7kVbKhP2Zk8F9S/Yo/\",\"dtype\":\"float64\",\"order\":\"little\",\"shape\":[6]},{\"__ndarray__\":\"K8KP6jhY7j8AAAAAAADwPwAAAAAAAPh/mW8In7qa7z8AAAAAAADwP2FoCVO0Tu8/\",\"dtype\":\"float64\",\"order\":\"little\",\"shape\":[6]},{\"__ndarray__\":\"NghsrANs2z9m/Ypb/xHfPwAAAAAAAPh/BC+Jy8OY3j9m/Ypb/xHfPxwr/F/Fy90/\",\"dtype\":\"float64\",\"order\":\"little\",\"shape\":[6]},{\"__ndarray__\":\"VJ1ha7LW4D9l46jaWgPjPwAAAAAAAPh/VrEL9h5P4j9l46jaWgPjPwwa9mxZi+I/\",\"dtype\":\"float64\",\"order\":\"little\",\"shape\":[6]},{\"__ndarray__\":\"f5us9qekuz817GREVI3HPwAAAAAAAPh/FEZpKiIExT817GREVI3HP5ZjsY6Z4sQ/\",\"dtype\":\"float64\",\"order\":\"little\",\"shape\":[6]},{\"__ndarray__\":\"UyjEfgdF6r8+84ivaErqvwAAAAAAAPh/+N8EGueN6r8+84ivaErqvw3IEKm6A+q/\",\"dtype\":\"float64\",\"order\":\"little\",\"shape\":[6]},{\"__ndarray__\":\"sirqpT3i5b+DFBWtHZDlvwAAAAAAAPh/QzOGhKNh5b+DFBWtHZDlv+azbkic6uW/\",\"dtype\":\"float64\",\"order\":\"little\",\"shape\":[6]},{\"__ndarray__\":\"9kyOVUG67L/ukkviosLqvwAAAAAAAPh/7l7PXf1267/ukkviosLqv+1+V5j6R+u/\",\"dtype\":\"float64\",\"order\":\"little\",\"shape\":[6]},{\"__ndarray__\":\"PSVIcVKt6L9QHuDVvX3mvwAAAAAAAPh/b9nySdMu579QHuDVvX3mv8mSBDnSE+e/\",\"dtype\":\"float64\",\"order\":\"little\",\"shape\":[6]},{\"__ndarray__\":\"4X8CCvl35L/Y93IwSM3ivwAAAAAAAPh/dbKtrTha47/Y93IwSM3iv4EjcDAo4eK/\",\"dtype\":\"float64\",\"order\":\"little\",\"shape\":[6]},{\"__ndarray__\":\"4X8CCvl35L+yKuqlPeLlvwAAAAAAAPh/pa+SIolp5b+yKuqlPeLlvyJnTv7S6+W/\",\"dtype\":\"float64\",\"order\":\"little\",\"shape\":[6]},{\"__ndarray__\":\"gxQVrR2Q5b858VknepXjvwAAAAAAAPh/dVT+iYEP5L858VknepXjv4jRCHXZSeS/\",\"dtype\":\"float64\",\"order\":\"little\",\"shape\":[6]},{\"__ndarray__\":\"+/Ucv/KD4b8WOhA+6iTgvwAAAAAAAPh/za3t7ujB4L8WOhA+6iTgv/balKPjVOC/\",\"dtype\":\"float64\",\"order\":\"little\",\"shape\":[6]},{\"__ndarray__\":\"7El7utYv378mqgJ7wIrfvwAAAAAAAPh/RaLged36378mqgJ7wIrfv1O4mu1S596/\",\"dtype\":\"float64\",\"order\":\"little\",\"shape\":[6]},{\"__ndarray__\":\"6sQEISyl4L/Y93IwSM3ivwAAAAAAAPh/ZlDNes5a4r/Y93IwSM3iv1YVszaeGeK/\",\"dtype\":\"float64\",\"order\":\"little\",\"shape\":[6]},{\"__ndarray__\":\"o4MHh+ke47/MTnqU4GThvwAAAAAAAPh/GrhLZL334b/MTnqU4GThvxkXaFh5guG/\",\"dtype\":\"float64\",\"order\":\"little\",\"shape\":[6]},{\"__ndarray__\":\"o4MHh+ke478D0g6aDpXmvwAAAAAAAPh/2Pqtw8Lk5b8D0g6aDpXmv4BtQbPg/OW/\",\"dtype\":\"float64\",\"order\":\"little\",\"shape\":[6]},{\"__ndarray__\":\"gjLxYv/r6L9TKMR+B0XqvwAAAAAAAPh/6lsoK68Y6r9TKMR+B0Xqv1DEdQHsqem/\",\"dtype\":\"float64\",\"order\":\"little\",\"shape\":[6]},{\"__ndarray__\":\"PvOIr2hK6r/3FzJmPyTpvwAAAAAAAPh/K+rcCIK26b/3FzJmPyTpv96xZJbTQOm/\",\"dtype\":\"float64\",\"order\":\"little\",\"shape\":[6]},{\"__ndarray__\":\"2tWAs/4o57/TCE3phOHkvwAAAAAAAPh/veMZzcGA5b/TCE3phOHkv24c2M1GjuW/\",\"dtype\":\"float64\",\"order\":\"little\",\"shape\":[6]},{\"__ndarray__\":\"4c7GpoG/4r/MTnqU4GThvwAAAAAAAPh/LjAgsT5u4b/MTnqU4GThv3h72qT96uG/\",\"dtype\":\"float64\",\"order\":\"little\",\"shape\":[6]},{\"__ndarray__\":\"a2TBzAbz3b9OazhYvdHZvwAAAAAAAPh/Thp/S/oz279OazhYvdHZv/i2AyDAmtq/\",\"dtype\":\"float64\",\"order\":\"little\",\"shape\":[6]},{\"__ndarray__\":\"QUqZCW9P1r+OTc0AYKrTvwAAAAAAAPh/hw5gkFPT1L+OTc0AYKrTv+QLoe8X69O/\",\"dtype\":\"float64\",\"order\":\"little\",\"shape\":[6]},{\"__ndarray__\":\"hc8WGi6Y0r+yDScgXcDZvwAAAAAAAPh/ou8KijyX2L+yDScgXcDZv7X/T2QvXdi/\",\"dtype\":\"float64\",\"order\":\"little\",\"shape\":[6]},{\"__ndarray__\":\"hc8WGi6Y0r8ONZZBBdvJvwAAAAAAAPh/6ziqqdWqzL8ONZZBBdvJv2XgDIrarsu/\",\"dtype\":\"float64\",\"order\":\"little\",\"shape\":[6]},{\"__ndarray__\":\"HBibw3pJ3b/ahkq/SFTevwAAAAAAAPh//DKYAbOO3r/ahkq/SFTev+xst0mhgd2/\",\"dtype\":\"float64\",\"order\":\"little\",\"shape\":[6]},{\"__ndarray__\":\"F8Sxg7Ke3L/9lEg15enYvwAAAAAAAPh/nBC0MoJO2r/9lEg15enYv0BEDS0Evtm/\",\"dtype\":\"float64\",\"order\":\"little\",\"shape\":[6]},{\"__ndarray__\":\"Hbclav+M1L/Xco8mLuDQvwAAAAAAAPh/dBP5s8uO0b/Xco8mLuDQv8lrbZAiO9K/\",\"dtype\":\"float64\",\"order\":\"little\",\"shape\":[6]},{\"__ndarray__\":\"8yK1haauy78ONZZBBdvJvwAAAAAAAPh/ZFUXxp04yb8ONZZBBdvJv5MNn+S/Wcu/\",\"dtype\":\"float64\",\"order\":\"little\",\"shape\":[6]},{\"__ndarray__\":\"jvQPc0sawL+MLvL9yb7GvwAAAAAAAPh/s0N0PmE7xr+MLvL9yb7Gv4YOCmu/a8S/\",\"dtype\":\"float64\",\"order\":\"little\",\"shape\":[6]},{\"__ndarray__\":\"jvQPc0sawL8DwI0CbTedvwAAAAAAAPh/XrnUF/GYqb8DwI0CbTedv5KCRPCsMKi/\",\"dtype\":\"float64\",\"order\":\"little\",\"shape\":[6]},{\"__ndarray__\":\"V4Q0aZA6yL97KiwgBE3GvwAAAAAAAPh/rNCRnaLlx797KiwgBE3Gv32PHMjpyMW/\",\"dtype\":\"float64\",\"order\":\"little\",\"shape\":[6]},{\"__ndarray__\":\"gNyAXjaUv7+gal4bAG6svwAAAAAAAPh/EknjDU6as7+gal4bAG6svxHimDZMNbO/\",\"dtype\":\"float64\",\"order\":\"little\",\"shape\":[6]},{\"__ndarray__\":\"nDXHOlPucT/wekjws+SiPwAAAAAAAPh/M37oSJUMoj/wekjws+SiP2y3PpMLrpQ/\",\"dtype\":\"float64\",\"order\":\"little\",\"shape\":[6]},{\"__ndarray__\":\"YoL9/Jo0oj8DwI0CbTedvwAAAAAAAPh/MqiGOj0dhL8DwI0CbTedv/Hf1anrGZi/\",\"dtype\":\"float64\",\"order\":\"little\",\"shape\":[6]},{\"__ndarray__\":\"472+5FWyoT9/m6z2p6S7PwAAAAAAAPh/dLnOrDJKtz9/m6z2p6S7P13Ajgf6BrY/\",\"dtype\":\"float64\",\"order\":\"little\",\"shape\":[6]},{\"__ndarray__\":\"NexkRFSNxz/43EutVKfQPwAAAAAAAPh/cHlvaJ6Qzj/43EutVKfQPwRkPE6L5s4/\",\"dtype\":\"float64\",\"order\":\"little\",\"shape\":[6]},{\"__ndarray__\":\"GloLED9J1T/tzXPy0vHSPwAAAAAAAPh/7ZB3lK7n0j/tzXPy0vHSP2Npw/rf6dM/\",\"dtype\":\"float64\",\"order\":\"little\",\"shape\":[6]},{\"__ndarray__\":\"GloLED9J1T82CGysA2zbPwAAAAAAAPh/2UaDnMVJ2j82CGysA2zbP/hqqyzlBto/\",\"dtype\":\"float64\",\"order\":\"little\",\"shape\":[6]},{\"__ndarray__\":\"0waz0HUh1D8xf38F0P3WPwAAAAAAAPh/TkZeylrD1T8xf38F0P3WP3YUVsjynNY/\",\"dtype\":\"float64\",\"order\":\"little\",\"shape\":[6]},{\"__ndarray__\":\"DCGfsi8i2z+tsa7Zj23fPwAAAAAAAPh/+1glR6lD3j+tsa7Zj23fP6W7Ga+hCt4/\",\"dtype\":\"float64\",\"order\":\"little\",\"shape\":[6]},{\"__ndarray__\":\"9QH0WZ4/4T/kc3gOYHfhPwAAAAAAAPh/3ngJTB6s4T/kc3gOYHfhP73Qx+uTIuE/\",\"dtype\":\"float64\",\"order\":\"little\",\"shape\":[6]},{\"__ndarray__\":\"jsh8h91d4D82CGysA2zbPwAAAAAAAPh/4uLg39nC3D82CGysA2zbPxtkMYZNDtw/\",\"dtype\":\"float64\",\"order\":\"little\",\"shape\":[6]},{\"__ndarray__\":\"Zv2KW/8R3z9yHXOZ6jDiPwAAAAAAAPh/9MeuzD/U4T9yHXOZ6jDiP+rvnx/UgeE/\",\"dtype\":\"float64\",\"order\":\"little\",\"shape\":[6]},{\"__ndarray__\":\"Zv2KW/8R3z9UnWFrstbgPwAAAAAAAPh/bcZ7SN894D9UnWFrstbgP4r62DuaruA/\",\"dtype\":\"float64\",\"order\":\"little\",\"shape\":[6]},{\"__ndarray__\":\"ZeOo2loD4z/tX0sz1zLlPwAAAAAAAPh/S5PIG5J+5D/tX0sz1zLlPwGW2V9hrOQ/\",\"dtype\":\"float64\",\"order\":\"little\",\"shape\":[6]},{\"__ndarray__\":\"Lt2Cfutg5z9Sd1jZIgbpPwAAAAAAAPh/JodQAPez6D9Sd1jZIgbpP62YOB5cWug/\",\"dtype\":\"float64\",\"order\":\"little\",\"shape\":[6]},{\"__ndarray__\":\"uROyH5KJ6T+80wFWZXjoPwAAAAAAAPh/+lYB2aYF6T+80wFWZXjoP0OUvGXGjOg/\",\"dtype\":\"float64\",\"order\":\"little\",\"shape\":[6]},{\"__ndarray__\":\"CgYopeMa5j9yHXOZ6jDiPwAAAAAAAPh/YZ6ctXnH4j9yHXOZ6jDiP31cGmHU4eI/\",\"dtype\":\"float64\",\"order\":\"little\",\"shape\":[6]},{\"__ndarray__\":\"kxYvG43l4T+EHcU6qnPiPwAAAAAAAPh/7UUsPX2O4j+EHcU6qnPiP2ZBhk9jCOI/\",\"dtype\":\"float64\",\"order\":\"little\",\"shape\":[6]},{\"__ndarray__\":\"0nT6sXJ/4z+wyA26hc/kPwAAAAAAAPh/KCnu6yak5D+wyA26hc/kP4FUo33uNOQ/\",\"dtype\":\"float64\",\"order\":\"little\",\"shape\":[6]},{\"__ndarray__\":\"C8a5Tp9F5j+hJK12cdLnPwAAAAAAAPh/dRqwd16I5z+hJK12cdLnPwyfq6ykKec/\",\"dtype\":\"float64\",\"order\":\"little\",\"shape\":[6]},{\"__ndarray__\":\"5Ljv4Xht6T+Zz8+1+Q/rPwAAAAAAAPh/KpyBTzi26j+Zz8+1+Q/rP1DD2bu9Yeo/\",\"dtype\":\"float64\",\"order\":\"little\",\"shape\":[6]},{\"__ndarray__\":\"zXUupMC17D8rwo/qOFjuPwAAAAAAAPh/JJ2bPWf27T8rwo/qOFjuP/IHyBbBp+0/\",\"dtype\":\"float64\",\"order\":\"little\",\"shape\":[6]},{\"__ndarray__\":\"zXUupMC17D/b9BR2R1fuPwAAAAAAAPh/LMFOfez17T/b9BR2R1fuP36kw6Ttpu0/\",\"dtype\":\"float64\",\"order\":\"little\",\"shape\":[6]}],\"ys\":[{\"__ndarray__\":\"9olAxFdn3L8LguV5b1TfvwAAAAAAAPh/WdXHpTXc3r8LguV5b1Tfv7RkSBWrDt6/\",\"dtype\":\"float64\",\"order\":\"little\",\"shape\":[6]},{\"__ndarray__\":\"0ygM7L9g0z/hB/IM4hHWPwAAAAAAAPh/ancmia3R1D/hB/IM4hHWP9TfEgF3pdU/\",\"dtype\":\"float64\",\"order\":\"little\",\"shape\":[6]},{\"__ndarray__\":\"bBIYAkKUqr+k/s+wlESdvwAAAAAAAPh/c8C2X9lOm7+k/s+wlESdv2cnuv3E46W/\",\"dtype\":\"float64\",\"order\":\"little\",\"shape\":[6]},{\"__ndarray__\":\"oFqYl8FYxb+z41b05bnJvwAAAAAAAPh/ohb2BaCWyb+z41b05bnJv0/8K2brose/\",\"dtype\":\"float64\",\"order\":\"little\",\"shape\":[6]},{\"__ndarray__\":\"xVb2YhiU1L/ztLUjCdXPvwAAAAAAAPh/irMUukfd0L/ztLUjCdXPv4tMebIuU9G/\",\"dtype\":\"float64\",\"order\":\"little\",\"shape\":[6]},{\"__ndarray__\":\"yijvitpA0z99dQZEkc/LPwAAAAAAAPh/OIC9+8mGzj99dQZEkc/LP/UOfGJXRc4/\",\"dtype\":\"float64\",\"order\":\"little\",\"shape\":[6]},{\"__ndarray__\":\"7wMZ/Xsd2T+2+odd2U/ZPwAAAAAAAPh/qEsQaaC12D+2+odd2U/ZPzwHj/2oydk/\",\"dtype\":\"float64\",\"order\":\"little\",\"shape\":[6]},{\"__ndarray__\":\"0pihg8a20r9e0L72VdrXvwAAAAAAAPh/tQ5u4mt81r9e0L72VdrXv6BGo+bmo9a/\",\"dtype\":\"float64\",\"order\":\"little\",\"shape\":[6]},{\"__ndarray__\":\"ISza6YaY2D+KAqCnIPzaPwAAAAAAAPh/7DMoOHHI2T+KAqCnIPzaP4+/B9wuqNo/\",\"dtype\":\"float64\",\"order\":\"little\",\"shape\":[6]},{\"__ndarray__\":\"oIJ6B/qD2L/pMsP8qRTYvwAAAAAAAPh/X+Zb7D6/2L/pMsP8qRTYv4BMApM/rNe/\",\"dtype\":\"float64\",\"order\":\"little\",\"shape\":[6]},{\"__ndarray__\":\"vINUtoUBx7/xjgmicjHLvwAAAAAAAPh/hBVLwS0oy7/xjgmicjHLvxqpQRBKLMm/\",\"dtype\":\"float64\",\"order\":\"little\",\"shape\":[6]},{\"__ndarray__\":\"G8UWR0873L8ZeovARBfZvwAAAAAAAPh/DlETOXBm2r8ZeovARBfZv4ZyFgJLpdm/\",\"dtype\":\"float64\",\"order\":\"little\",\"shape\":[6]},{\"__ndarray__\":\"BjAxwpjExr+GaedbvLO8vwAAAAAAAPh/aR3De40jwb+GaedbvLO8v0ew1FWJoMC/\",\"dtype\":\"float64\",\"order\":\"little\",\"shape\":[6]},{\"__ndarray__\":\"tmhbl1D+4z8wmxWaNjvjPwAAAAAAAPh/g/m7uQw04z8wmxWaNjvjPwG/23u1teM/\",\"dtype\":\"float64\",\"order\":\"little\",\"shape\":[6]},{\"__ndarray__\":\"DsQeDflB3T/J8oyulXbfPwAAAAAAAPh/cXXduCpK3j/J8oyulXbfP1Abum/OL98/\",\"dtype\":\"float64\",\"order\":\"little\",\"shape\":[6]},{\"__ndarray__\":\"/qcPHnf/0r9/8fvlZuXXvwAAAAAAAPh/AEfxN7LB1r9/8fvlZuXXvx0vWAKogNa/\",\"dtype\":\"float64\",\"order\":\"little\",\"shape\":[6]},{\"__ndarray__\":\"10FkxiM8zb8u+Vb92V/MvwAAAAAAAPh/0gTkiWW0zb8u+Vb92V/Mv3rwrkZZjsu/\",\"dtype\":\"float64\",\"order\":\"little\",\"shape\":[6]},{\"__ndarray__\":\"8zbZpoPAtj/VuOmPwWPDPwAAAAAAAPh/N3PfLWuUwD/VuOmPwWPDP+1d4T08lME/\",\"dtype\":\"float64\",\"order\":\"little\",\"shape\":[6]},{\"__ndarray__\":\"E7BLOLyDmj9362CgIoZxvwAAAAAAAPh/ZkbLb0QYaL9362CgIoZxv66qze/nB4k/\",\"dtype\":\"float64\",\"order\":\"little\",\"shape\":[6]},{\"__ndarray__\":\"dPVyrme637+/FWXoMYzdvwAAAAAAAPh/aJihATup3r+/FWXoMYzdv/D/uYYBud2/\",\"dtype\":\"float64\",\"order\":\"little\",\"shape\":[6]},{\"__ndarray__\":\"H96dS3R44T+DR6ZlJYvePwAAAAAAAPh/tC5rRCut3z+DR6ZlJYveP8HuSMtR8N8/\",\"dtype\":\"float64\",\"order\":\"little\",\"shape\":[6]},{\"__ndarray__\":\"pToCxNierT+p7eWFrEZ1PwAAAAAAAPh/Ar8cQ7cQiz+p7eWFrEZ1P0LQJ6V8/Zk/\",\"dtype\":\"float64\",\"order\":\"little\",\"shape\":[6]},{\"__ndarray__\":\"W1suqxDNqr/I/dEv8oWTPwAAAAAAAPh/ABBpg46xCr/I/dEv8oWTP1CBeQWfEmK/\",\"dtype\":\"float64\",\"order\":\"little\",\"shape\":[6]},{\"__ndarray__\":\"8Pz5QttDzj/ofBk13M/KPwAAAAAAAPh/fMnQQBi6zD/ofBk13M/KP34twXqMs8o/\",\"dtype\":\"float64\",\"order\":\"little\",\"shape\":[6]},{\"__ndarray__\":\"jRupPJnw2T+jgXVSqo/VPwAAAAAAAPh//JL3nbf41j+jgXVSqo/VP3aYa947ktY/\",\"dtype\":\"float64\",\"order\":\"little\",\"shape\":[6]},{\"__ndarray__\":\"KRARIykm1b//QTb/aPXQvwAAAAAAAPh/radGPaVU0r//QTb/aPXQvw6Fd4eNstG/\",\"dtype\":\"float64\",\"order\":\"little\",\"shape\":[6]},{\"__ndarray__\":\"QMBQt7iM278tV3DjKiPdvwAAAAAAAPh/uYWZrcss3b8tV3DjKiPdv8O5xUS+Kty/\",\"dtype\":\"float64\",\"order\":\"little\",\"shape\":[6]},{\"__ndarray__\":\"8q4pcdS6wD+Ew1GpAdG5PwAAAAAAAPh/aFC0kwa5uT+Ew1GpAdG5P49ubY0zvb0/\",\"dtype\":\"float64\",\"order\":\"little\",\"shape\":[6]},{\"__ndarray__\":\"YgYGWYxQZj+OO6dwRHKlPwAAAAAAAPh/A6LLc1vimD+OO6dwRHKlP1rbg8la46M/\",\"dtype\":\"float64\",\"order\":\"little\",\"shape\":[6]},{\"__ndarray__\":\"JN+V5MMjrr9DQJpwZjPBvwAAAAAAAPh/WMNGcZ7Hvb9DQJpwZjPBv3HGFU1v2Ly/\",\"dtype\":\"float64\",\"order\":\"little\",\"shape\":[6]},{\"__ndarray__\":\"FZYw7E9F2z91z1/Zf/zZPwAAAAAAAPh/HroT+Lna2T91z1/Zf/zZP+iSMXvS4to/\",\"dtype\":\"float64\",\"order\":\"little\",\"shape\":[6]},{\"__ndarray__\":\"o+rxs+Bs2b8pEvBjk1rUvwAAAAAAAPh/4SFd+cel1b8pEvBjk1rUv4kWoU53qtW/\",\"dtype\":\"float64\",\"order\":\"little\",\"shape\":[6]},{\"__ndarray__\":\"BaANJbFGxL/GHy0K0ILLvwAAAAAAAPh/tg7sBIHkyL/GHy0K0ILLvzhCahrXZsq/\",\"dtype\":\"float64\",\"order\":\"little\",\"shape\":[6]},{\"__ndarray__\":\"b4YKTyGDyj+FtT+jdnXQPwAAAAAAAPh/CLvxCM9Dzj+FtT+jdnXQPzx5HJRhuM8/\",\"dtype\":\"float64\",\"order\":\"little\",\"shape\":[6]},{\"__ndarray__\":\"DVR0gdYz0r9qjyWIBj7WvwAAAAAAAPh/Acs5E6VA1b9qjyWIBj7Wv7xk6VP01NS/\",\"dtype\":\"float64\",\"order\":\"little\",\"shape\":[6]},{\"__ndarray__\":\"uy0M194/zb9N4VvSt0bHvwAAAAAAAPh/r6Gh6aWxyb9N4VvSt0bHv5bnfxtE9ce/\",\"dtype\":\"float64\",\"order\":\"little\",\"shape\":[6]},{\"__ndarray__\":\"On12+38/3T8sf1AV7m3fPwAAAAAAAPh/ihqgGwFD3j8sf1AV7m3fP6Euy8bGKd8/\",\"dtype\":\"float64\",\"order\":\"little\",\"shape\":[6]},{\"__ndarray__\":\"0vfr3GKqxr9zt7RhwTC9vwAAAAAAAPh/mnmTx55Awb9zt7RhwTC9v+qRkqjdm7+/\",\"dtype\":\"float64\",\"order\":\"little\",\"shape\":[6]},{\"__ndarray__\":\"Epq/cmXzxb+XgSGKvSnKvwAAAAAAAPh/73ZjnKj/yb+XgSGKvSnKv1xhi5o0Dsi/\",\"dtype\":\"float64\",\"order\":\"little\",\"shape\":[6]},{\"__ndarray__\":\"ndMnNydnxL/D6c+hvs/DvwAAAAAAAPh/iIDN8xIMxb/D6c+hvs/DvwUPuGNf5MK/\",\"dtype\":\"float64\",\"order\":\"little\",\"shape\":[6]},{\"__ndarray__\":\"0n0uhomVwz/19eLI9JC1PwAAAAAAAPh/MP/Lo47Muj/19eLI9JC1P6wGxPL/wbo/\",\"dtype\":\"float64\",\"order\":\"little\",\"shape\":[6]},{\"__ndarray__\":\"+Fp8zl6p4D9OOrOsVBLjPwAAAAAAAPh/2qiR/N9j4j9OOrOsVBLjP4qD34cbduI/\",\"dtype\":\"float64\",\"order\":\"little\",\"shape\":[6]},{\"__ndarray__\":\"eVsJOrqx3D8VljDsT0XbPwAAAAAAAPh/OMQthN402z8VljDsT0XbP3s4a1i+ONw/\",\"dtype\":\"float64\",\"order\":\"little\",\"shape\":[6]},{\"__ndarray__\":\"dc9f2X/82T/vAxn9ex3ZPwAAAAAAAPh/4uNFoSnX2D/vAxn9ex3ZP4uaWZUx5tk/\",\"dtype\":\"float64\",\"order\":\"little\",\"shape\":[6]},{\"__ndarray__\":\"tvqHXdlP2T/KKO+K2kDTPwAAAAAAAPh/qvrle4Qi1D/KKO+K2kDTP0dOupO9p9Q/\",\"dtype\":\"float64\",\"order\":\"little\",\"shape\":[6]},{\"__ndarray__\":\"tvqHXdlP2T/4WnzOXqngPwAAAAAAAPh/TvVGvRwj4D/4WnzOXqngP801xRIr6t8/\",\"dtype\":\"float64\",\"order\":\"little\",\"shape\":[6]},{\"__ndarray__\":\"TjqzrFQS4z+2aFuXUP7jPwAAAAAAAPh/vul1PEJ54z+2aFuXUP7jP0mkP3OE9uM/\",\"dtype\":\"float64\",\"order\":\"little\",\"shape\":[6]},{\"__ndarray__\":\"MJsVmjY74z8f3p1LdHjhPwAAAAAAAPh/dqj7d5rR4T8f3p1LdHjhP4Mtcx6BJuI/\",\"dtype\":\"float64\",\"order\":\"little\",\"shape\":[6]},{\"__ndarray__\":\"g0emZSWL3j+NG6k8mfDZPwAAAAAAAPh/ANJsd9VH2z+NG6k8mfDZP213YyCUMts/\",\"dtype\":\"float64\",\"order\":\"little\",\"shape\":[6]},{\"__ndarray__\":\"o4F1UqqP1T/KKO+K2kDTPwAAAAAAAPh/o2tRuxFY1D/KKO+K2kDTP0YAGG5lZNM/\",\"dtype\":\"float64\",\"order\":\"little\",\"shape\":[6]},{\"__ndarray__\":\"fXUGRJHPyz/yrilx1LrAPwAAAAAAAPh/Fr8tCNtewj/yrilx1LrAP1pYsBA5g8M/\",\"dtype\":\"float64\",\"order\":\"little\",\"shape\":[6]},{\"__ndarray__\":\"fXUGRJHPyz/w/PlC20POPwAAAAAAAPh/jfhAFYffzj/w/PlC20POP3PEQqRKv8w/\",\"dtype\":\"float64\",\"order\":\"little\",\"shape\":[6]},{\"__ndarray__\":\"6HwZNdzPyj/SfS6GiZXDPwAAAAAAAPh/KwrHspNRxj/SfS6GiZXDP0OcbQYdB8U/\",\"dtype\":\"float64\",\"order\":\"little\",\"shape\":[6]},{\"__ndarray__\":\"9fXiyPSQtT8TsEs4vIOaPwAAAAAAAPh/qiJz1V3foz8TsEs4vIOaP/SwBDkZZqg/\",\"dtype\":\"float64\",\"order\":\"little\",\"shape\":[6]},{\"__ndarray__\":\"d+tgoCKGcb9iBgZZjFBmPwAAAAAAAPh/a8AVqrVhf79iBgZZjFBmP7r8v5g6sII/\",\"dtype\":\"float64\",\"order\":\"little\",\"shape\":[6]},{\"__ndarray__\":\"jjuncERypT/yrilx1LrAPwAAAAAAAPh/yUNxgEfTuz/yrilx1LrAP/5oUem7rr0/\",\"dtype\":\"float64\",\"order\":\"little\",\"shape\":[6]},{\"__ndarray__\":\"hMNRqQHRuT+lOgLE2J6tPwAAAAAAAPh/hMHyuZLOrz+lOgLE2J6tP+lbuM5Af7M/\",\"dtype\":\"float64\",\"order\":\"little\",\"shape\":[6]},{\"__ndarray__\":\"qe3lhaxGdT8k35XkwyOuvwAAAAAAAPh/p51yK1y4p78k35XkwyOuv9oLbDTkCaO/\",\"dtype\":\"float64\",\"order\":\"little\",\"shape\":[6]},{\"__ndarray__\":\"Q0CacGYzwb8FoA0lsUbEvwAAAAAAAPh/ztJ7gVmswr8FoA0lsUbEv8dyCdG8yMS/\",\"dtype\":\"float64\",\"order\":\"little\",\"shape\":[6]},{\"__ndarray__\":\"Q0CacGYzwb+8g1S2hQHHvwAAAAAAAPh/rHFH/lLHxr+8g1S2hQHHvzexcXVi28S/\",\"dtype\":\"float64\",\"order\":\"little\",\"shape\":[6]},{\"__ndarray__\":\"xh8tCtCCy78NVHSB1jPSvwAAAAAAAPh/gYVpTYPP0L8NVHSB1jPSvwvgz4eSDtG/\",\"dtype\":\"float64\",\"order\":\"little\",\"shape\":[6]},{\"__ndarray__\":\"ao8liAY+1r+ggnoH+oPYvwAAAAAAAPh/xtFrCFlL2L+ggnoH+oPYv+xxajbFX9e/\",\"dtype\":\"float64\",\"order\":\"little\",\"shape\":[6]},{\"__ndarray__\":\"6TLD/KkU2L8pEBEjKSbVvwAAAAAAAPh/KoQ3njZi1r8pEBEjKSbVv5U+RQIsitW/\",\"dtype\":\"float64\",\"order\":\"little\",\"shape\":[6]},{\"__ndarray__\":\"/0E2/2j10L+8g1S2hQHHvwAAAAAAAPh/2bhk6S/Byb+8g1S2hQHHvzQHzfXsZcm/\",\"dtype\":\"float64\",\"order\":\"little\",\"shape\":[6]},{\"__ndarray__\":\"8Y4JonIxy7/SmKGDxrbSvwAAAAAAAPh/okoM6LhT0b/SmKGDxrbSv7ipC9Qs6tG/\",\"dtype\":\"float64\",\"order\":\"little\",\"shape\":[6]},{\"__ndarray__\":\"8Y4JonIxy7+7LQzX3j/NvwAAAAAAAPh/rDi+BtHjzb+7LQzX3j/NvzVf0Al8wsu/\",\"dtype\":\"float64\",\"order\":\"little\",\"shape\":[6]},{\"__ndarray__\":\"XtC+9lXa17/2iUDEV2fcvwAAAAAAAPh/Q3phV58927/2iUDEV2fcv/CA5KJaBNu/\",\"dtype\":\"float64\",\"order\":\"little\",\"shape\":[6]},{\"__ndarray__\":\"C4LleW9U37909XKuZ7rfvwAAAAAAAPh/4eNTO8MS4L909XKuZ7rfv8Bs0U9SEt+/\",\"dtype\":\"float64\",\"order\":\"little\",\"shape\":[6]},{\"__ndarray__\":\"vxVl6DGM3b+j6vGz4GzZvwAAAAAAAPh/4q4XffLU2r+j6vGz4GzZv0JxPgJiWNq/\",\"dtype\":\"float64\",\"order\":\"little\",\"shape\":[6]},{\"__ndarray__\":\"KRLwY5Na1L+7LQzX3j/NvwAAAAAAAPh/nbhCMnu9zr+7LQzX3j/Nvz3uEt08/8+/\",\"dtype\":\"float64\",\"order\":\"little\",\"shape\":[6]},{\"__ndarray__\":\"TeFb0rdGx7+d0yc3J2fEvwAAAAAAAPh/3bnQWIQyxr+d0yc3J2fEv6Ue6LTzIcS/\",\"dtype\":\"float64\",\"order\":\"little\",\"shape\":[6]},{\"__ndarray__\":\"w+nPob7Pw7+gWpiXwVjFvwAAAAAAAPh/ot589ggCxr+gWpiXwVjFv4xZSQMJ4MO/\",\"dtype\":\"float64\",\"order\":\"little\",\"shape\":[6]},{\"__ndarray__\":\"s+NW9OW5yb/+pw8ed//SvwAAAAAAAPh/eh+duoaW0b/+pw8ed//Sv6xFcUQS+dG/\",\"dtype\":\"float64\",\"order\":\"little\",\"shape\":[6]},{\"__ndarray__\":\"s+NW9OW5yb/S9+vcYqrGvwAAAAAAAPh/dwFhnfxXyL/S9+vcYqrGv+KVnuSxP8a/\",\"dtype\":\"float64\",\"order\":\"little\",\"shape\":[6]},{\"__ndarray__\":\"f/H75Wbl179AwFC3uIzbvwAAAAAAAPh/71ihE0Db2r9AwFC3uIzbv7AYuQXgMNq/\",\"dtype\":\"float64\",\"order\":\"little\",\"shape\":[6]},{\"__ndarray__\":\"LVdw4yoj3b8bxRZHTzvcvwAAAAAAAPh/kKmVNlsH3b8bxRZHTzvcv9Y9POHx+Nu/\",\"dtype\":\"float64\",\"order\":\"little\",\"shape\":[6]},{\"__ndarray__\":\"GXqLwEQX2b/FVvZiGJTUvwAAAAAAAPh/oAoyv2zt1b/FVvZiGJTUv3y/xsLe0tW/\",\"dtype\":\"float64\",\"order\":\"little\",\"shape\":[6]},{\"__ndarray__\":\"87S1IwnVz7/S9+vcYqrGvwAAAAAAAPh/orWh2gmNx7/S9+vcYqrGv1WqFnd/L8m/\",\"dtype\":\"float64\",\"order\":\"little\",\"shape\":[6]},{\"__ndarray__\":\"c7e0YcEwvb9bWy6rEM2qvwAAAAAAAPh/wgmWXBY+sr9bWy6rEM2qv26oApmmja2/\",\"dtype\":\"float64\",\"order\":\"little\",\"shape\":[6]},{\"__ndarray__\":\"c7e0YcEwvb8Smr9yZfPFvwAAAAAAAPh/5dDD5+dyxL8Smr9yZfPFvyI2nk9EM8O/\",\"dtype\":\"float64\",\"order\":\"little\",\"shape\":[6]},{\"__ndarray__\":\"l4Ehir0pyr/XQWTGIzzNvwAAAAAAAPh/Az/4qK5jzb/XQWTGIzzNv3Mre2Q4Wsu/\",\"dtype\":\"float64\",\"order\":\"little\",\"shape\":[6]},{\"__ndarray__\":\"LvlW/dlfzL8GMDHCmMTGvwAAAAAAAPh/qDXZAqBHyb8GMDHCmMTGv40zHvXeose/\",\"dtype\":\"float64\",\"order\":\"little\",\"shape\":[6]},{\"__ndarray__\":\"hmnnW7yzvL9sEhgCQpSqvwAAAAAAAPh/9T8PyZzNsL9sEhgCQpSqv9oVn1A55bK/\",\"dtype\":\"float64\",\"order\":\"little\",\"shape\":[6]},{\"__ndarray__\":\"pP7PsJREnb9bWy6rEM2qvwAAAAAAAPh/5iuAseuSpL9bWy6rEM2qv82qgDY3Da2/\",\"dtype\":\"float64\",\"order\":\"little\",\"shape\":[6]},{\"__ndarray__\":\"yP3RL/KFkz/zNtmmg8C2PwAAAAAAAPh/s3cMHjgssT/zNtmmg8C2PxTrNvXQNrI/\",\"dtype\":\"float64\",\"order\":\"little\",\"shape\":[6]},{\"__ndarray__\":\"1bjpj8Fjwz9vhgpPIYPKPwAAAAAAAPh/Ksv/Lx3Gxz9vhgpPIYPKP/+2u1AbDsk/\",\"dtype\":\"float64\",\"order\":\"little\",\"shape\":[6]},{\"__ndarray__\":\"hbU/o3Z10D/TKAzsv2DTPwAAAAAAAPh/FKp6sHUX0j/TKAzsv2DTP7722Mup4NI/\",\"dtype\":\"float64\",\"order\":\"little\",\"shape\":[6]},{\"__ndarray__\":\"4QfyDOIR1j8hLNrphpjYPwAAAAAAAPh/xt+xnTpf1z8hLNrphpjYP+XWbNzsOdg/\",\"dtype\":\"float64\",\"order\":\"little\",\"shape\":[6]},{\"__ndarray__\":\"igKgpyD82j86fXb7fz/dPwAAAAAAAPh/lWdazAIQ3D86fXb7fz/dP2/e2+E889w/\",\"dtype\":\"float64\",\"order\":\"little\",\"shape\":[6]},{\"__ndarray__\":\"igKgpyD82j8OxB4N+UHdPwAAAAAAAPh/PODvVuMR3D8OxB4N+UHdPwqzsDmi9Nw/\",\"dtype\":\"float64\",\"order\":\"little\",\"shape\":[6]}]},\"selected\":{\"id\":\"1089\"},\"selection_policy\":{\"id\":\"1088\"}},\"id\":\"1041\",\"type\":\"ColumnDataSource\"},{\"attributes\":{\"below\":[{\"id\":\"1016\"}],\"center\":[{\"id\":\"1019\"},{\"id\":\"1023\"}],\"height\":800,\"left\":[{\"id\":\"1020\"}],\"margin\":[5,5,5,5],\"min_border_bottom\":10,\"min_border_left\":10,\"min_border_right\":10,\"min_border_top\":10,\"outline_line_alpha\":0,\"renderers\":[{\"id\":\"1055\"}],\"sizing_mode\":\"fixed\",\"title\":{\"id\":\"1008\"},\"toolbar\":{\"id\":\"1031\"},\"width\":800,\"x_range\":{\"id\":\"1004\"},\"x_scale\":{\"id\":\"1012\"},\"y_range\":{\"id\":\"1005\"},\"y_scale\":{\"id\":\"1014\"}},\"id\":\"1007\",\"subtype\":\"Figure\",\"type\":\"Plot\"},{\"attributes\":{\"callback\":null},\"id\":\"1029\",\"type\":\"TapTool\"},{\"attributes\":{\"axis_label\":\"y\",\"coordinates\":null,\"formatter\":{\"id\":\"1072\"},\"group\":null,\"major_label_policy\":{\"id\":\"1073\"},\"ticker\":{\"id\":\"1021\"},\"visible\":false},\"id\":\"1020\",\"type\":\"LinearAxis\"},{\"attributes\":{\"axis\":{\"id\":\"1020\"},\"coordinates\":null,\"dimension\":1,\"grid_line_color\":null,\"group\":null,\"ticker\":null},\"id\":\"1023\",\"type\":\"Grid\"},{\"attributes\":{\"coordinates\":null,\"data_source\":{\"id\":\"1040\"},\"glyph\":{\"id\":\"1043\"},\"group\":null,\"hover_glyph\":{\"id\":\"1045\"},\"muted_glyph\":{\"id\":\"1046\"},\"nonselection_glyph\":{\"id\":\"1044\"},\"view\":{\"id\":\"1048\"}},\"id\":\"1047\",\"type\":\"GlyphRenderer\"},{\"attributes\":{\"high\":85,\"low\":0,\"palette\":[\"#f7fbff\",\"#f6fafe\",\"#f5f9fe\",\"#f4f9fe\",\"#f3f8fd\",\"#f3f8fd\",\"#f2f7fd\",\"#f1f7fd\",\"#f0f6fc\",\"#eff6fc\",\"#eff5fc\",\"#eef5fc\",\"#edf4fb\",\"#ecf4fb\",\"#ecf3fb\",\"#ebf3fb\",\"#eaf2fa\",\"#e9f2fa\",\"#e8f1fa\",\"#e8f1fa\",\"#e7f0f9\",\"#e6f0f9\",\"#e5eff9\",\"#e4eff9\",\"#e4eef8\",\"#e3eef8\",\"#e2edf8\",\"#e1edf8\",\"#e1ecf7\",\"#e0ecf7\",\"#dfebf7\",\"#deebf7\",\"#ddeaf6\",\"#ddeaf6\",\"#dce9f6\",\"#dbe9f6\",\"#dae8f5\",\"#dae8f5\",\"#d9e7f5\",\"#d8e7f5\",\"#d7e6f4\",\"#d7e6f4\",\"#d6e5f4\",\"#d5e5f4\",\"#d4e4f3\",\"#d4e4f3\",\"#d3e3f3\",\"#d2e3f3\",\"#d1e2f2\",\"#d1e2f2\",\"#d0e1f2\",\"#cfe1f2\",\"#cee0f1\",\"#cee0f1\",\"#cddff1\",\"#ccdff1\",\"#cbdef0\",\"#cbdef0\",\"#caddf0\",\"#c9ddf0\",\"#c8dcef\",\"#c8dcef\",\"#c7dbef\",\"#c6dbef\",\"#c5daee\",\"#c4daee\",\"#c3d9ee\",\"#c1d9ed\",\"#c0d8ed\",\"#bfd8ec\",\"#bed7ec\",\"#bcd7eb\",\"#bbd6eb\",\"#bad6ea\",\"#b9d5ea\",\"#b7d4ea\",\"#b6d4e9\",\"#b5d3e9\",\"#b4d3e8\",\"#b2d2e8\",\"#b1d2e7\",\"#b0d1e7\",\"#afd1e6\",\"#add0e6\",\"#acd0e6\",\"#abcfe5\",\"#aacfe5\",\"#a8cee4\",\"#a7cee4\",\"#a6cde3\",\"#a5cde3\",\"#a3cce3\",\"#a2cbe2\",\"#a1cbe2\",\"#a0cae1\",\"#9ecae1\",\"#9dc9e0\",\"#9bc8e0\",\"#9ac7e0\",\"#98c7df\",\"#97c6df\",\"#95c5df\",\"#93c4de\",\"#92c3de\",\"#90c2de\",\"#8fc1dd\",\"#8dc0dd\",\"#8bc0dd\",\"#8abfdc\",\"#88bedc\",\"#87bddc\",\"#85bcdb\",\"#83bbdb\",\"#82badb\",\"#80b9da\",\"#7fb8da\",\"#7db8d9\",\"#7bb7d9\",\"#7ab6d9\",\"#78b5d8\",\"#77b4d8\",\"#75b3d8\",\"#73b2d7\",\"#72b1d7\",\"#70b1d7\",\"#6fb0d6\",\"#6dafd6\",\"#6baed6\",\"#6aadd5\",\"#69acd5\",\"#67abd4\",\"#66aad4\",\"#65aad3\",\"#63a9d3\",\"#62a8d2\",\"#61a7d2\",\"#60a6d1\",\"#5ea5d1\",\"#5da4d0\",\"#5ca3d0\",\"#5aa3cf\",\"#59a2cf\",\"#58a1ce\",\"#57a0ce\",\"#559fcd\",\"#549ecd\",\"#539dcc\",\"#519ccc\",\"#509bcb\",\"#4f9bcb\",\"#4e9aca\",\"#4c99ca\",\"#4b98c9\",\"#4a97c9\",\"#4896c8\",\"#4795c8\",\"#4694c7\",\"#4594c7\",\"#4393c6\",\"#4292c6\",\"#4191c5\",\"#4090c5\",\"#3f8fc4\",\"#3e8ec4\",\"#3d8dc3\",\"#3c8cc3\",\"#3b8bc2\",\"#3a8ac1\",\"#3989c1\",\"#3888c0\",\"#3787c0\",\"#3585bf\",\"#3484bf\",\"#3383be\",\"#3282be\",\"#3181bd\",\"#3080bd\",\"#2f7fbc\",\"#2e7ebc\",\"#2d7dbb\",\"#2c7cbb\",\"#2b7bba\",\"#2a7ab9\",\"#2979b9\",\"#2878b8\",\"#2777b8\",\"#2676b7\",\"#2575b7\",\"#2474b6\",\"#2373b6\",\"#2272b5\",\"#2171b5\",\"#2070b4\",\"#1f6fb3\",\"#1e6eb2\",\"#1e6db2\",\"#1d6cb1\",\"#1c6bb0\",\"#1b6aaf\",\"#1a69ae\",\"#1a68ae\",\"#1967ad\",\"#1866ac\",\"#1765ab\",\"#1764ab\",\"#1663aa\",\"#1562a9\",\"#1461a8\",\"#1360a7\",\"#135fa7\",\"#125ea6\",\"#115da5\",\"#105ca4\",\"#0f5ba3\",\"#0f5aa3\",\"#0e59a2\",\"#0d58a1\",\"#0c57a0\",\"#0c56a0\",\"#0b559f\",\"#0a549e\",\"#09539d\",\"#08529c\",\"#08519c\",\"#08509a\",\"#084f99\",\"#084e97\",\"#084c96\",\"#084b94\",\"#084a92\",\"#084991\",\"#08488f\",\"#08478e\",\"#08468c\",\"#08458b\",\"#084489\",\"#084388\",\"#084286\",\"#084185\",\"#084083\",\"#083f82\",\"#083e80\",\"#083d7e\",\"#083c7d\",\"#083b7b\",\"#083a7a\",\"#083978\",\"#083877\",\"#083775\",\"#083674\",\"#083572\",\"#083471\",\"#08336f\",\"#08326e\",\"#08316c\",\"#08306b\"]},\"id\":\"1039\",\"type\":\"LinearColorMapper\"},{\"attributes\":{},\"id\":\"1021\",\"type\":\"BasicTicker\"},{\"attributes\":{\"line_alpha\":{\"value\":0.2},\"line_width\":{\"value\":2}},\"id\":\"1050\",\"type\":\"MultiLine\"},{\"attributes\":{\"graph_layout\":{\"0\":[-0.17422534533428177,-0.44380754628414765],\"1\":[0.7444388692757863,0.3027801327849719],\"10\":[-0.20199647619703182,-0.17973395731772068],\"11\":[0.49106212862059345,-0.4411199754932384],\"12\":[0.7819990391760518,-0.17787465555227316],\"13\":[-0.6119967239933778,0.624794288272162],\"14\":[0.9481541925703384,0.45715166360156523],\"15\":[0.29600976635921833,-0.2968423646512973],\"16\":[0.6624561311573395,-0.22839781939593592],\"17\":[0.5766192577220157,0.08887503455590799],\"18\":[-0.785674762345251,0.02589315503693974],\"19\":[-0.055526736584586844,-0.4957522586444931],\"2\":[0.7646967582537552,-0.05191236758767989],\"20\":[-0.504506226747085,0.5459538914573762],\"21\":[-0.40342649092933847,0.05785252945598999],\"22\":[0.5684712407172994,-0.052345772644165144],\"23\":[-0.7056954392379001,0.23644581575715717],\"24\":[-0.4928437424920581,0.40530997203716695],\"25\":[-0.26368287816675945,-0.33045414375760856],\"26\":[0.3592414907161468,-0.4304639616193562],\"27\":[-0.543564119334826,0.13070159459618186],\"28\":[-0.6525291973742021,0.002723955265708609],\"29\":[-0.3072738654929815,-0.05886661687230646],\"3\":[0.2602130596491885,-0.166771124859868],\"30\":[-0.8362593097523054,0.4261054808178824],\"31\":[0.036901114541469826,-0.3972703702235469],\"32\":[-0.40236595287225463,-0.158407347767252],\"33\":[0.6503323205818301,0.20712677344731698],\"34\":[-0.47389429741643385,-0.28441393510848983],\"35\":[-0.028531745224825055,-0.22851167202348485],\"36\":[0.9482693272858048,0.4570007281963232],\"37\":[0.42846767271123853,-0.17707477366633256],\"38\":[0.5262081239024305,-0.1714903650565281],\"39\":[0.10798120281525135,-0.15939798539298247],\"4\":[0.5458221705081283,-0.3215390173366866],\"40\":[-0.82092642554313,0.15300101329647348],\"41\":[-0.6838672867318876,0.5206750901150761],\"42\":[-0.8977362319004942,0.44834762256271393],\"43\":[-0.7711574757133018,0.4060363409801007],\"44\":[-0.6396451182845305,0.39549860128310443],\"45\":[-0.6738422756685768,0.5959876416253083],\"46\":[-0.5473569615057267,0.6009781846486018],\"47\":[-0.4872948475941985,0.4772428028746775],\"48\":[-0.5201626438994513,0.33689363529813415],\"49\":[-0.5975234639446295,0.21727195569557614],\"5\":[-0.5875588365813611,0.300833354642816],\"50\":[-0.7788083012070077,0.20946838944198665],\"51\":[-0.8215831211487978,0.08424310593087354],\"52\":[-0.7237542634890659,-0.004278311977084274],\"53\":[-0.5858772523265224,0.041887415649049506],\"54\":[-0.46795816417358677,0.10084543594144973],\"55\":[-0.3485982507455994,0.005194353025554412],\"56\":[-0.2905383353020102,-0.13438110826655433],\"57\":[-0.45760983564503177,-0.21492958542716972],\"58\":[-0.4471861158445462,-0.347535736995488],\"59\":[-0.3211058174700712,-0.3762612312682863],\"6\":[-0.7028493096594932,0.39242458073209624],\"60\":[-0.21626740959825205,-0.2649786464981218],\"61\":[-0.12580245130803686,-0.2124465266416489],\"62\":[-0.18928723465890826,-0.37270115944125404],\"63\":[-0.12335529143534707,-0.48952853111225697],\"64\":[0.004377675166734287,-0.4616818208199582],\"65\":[0.03555759752521649,-0.3180283046679358],\"66\":[0.034563717053398134,-0.18184564372473702],\"67\":[0.1840005239444921,-0.1547773637865487],\"68\":[0.3325956017191928,-0.20098566465983722],\"69\":[0.3145422494963956,-0.3733765836657525],\"7\":[-0.17769741916378157,-0.2924057279073057],\"70\":[0.4239615673400443,-0.45527145586798917],\"71\":[0.5390159375093037,-0.3920452003784774],\"72\":[0.5114581724394769,-0.24868883365289882],\"73\":[0.48547347964991727,-0.11402519832037487],\"74\":[0.5941595335672046,-0.2043988155810552],\"75\":[0.7305810423776273,-0.22167515630821683],\"76\":[0.7980433100752783,-0.11211755031346202],\"77\":[0.6907823777875717,-0.028581927577760027],\"78\":[0.5592713862358373,0.0190656511008436],\"79\":[0.6093076206340362,0.15148181464196023],\"8\":[0.8457001257906881,0.384309509631466],\"80\":[0.6959988153086568,0.25716939871093586],\"81\":[0.7946133053608517,0.3448414923115007],\"82\":[0.8971865851087216,0.4216386448825139],\"83\":[0.9996235699606235,0.49161283536868133],\"84\":[1.0,0.49108459550369576],\"85\":[0.06046122830870136,-0.0042991479838000845],\"9\":[-0.38927583888501244,-0.3830552170784731]}},\"id\":\"1042\",\"type\":\"StaticLayoutProvider\"},{\"attributes\":{\"axis_label\":\"x\",\"coordinates\":null,\"formatter\":{\"id\":\"1069\"},\"group\":null,\"major_label_policy\":{\"id\":\"1070\"},\"ticker\":{\"id\":\"1017\"},\"visible\":false},\"id\":\"1016\",\"type\":\"LinearAxis\"},{\"attributes\":{},\"id\":\"1066\",\"type\":\"NodesAndLinkedEdges\"},{\"attributes\":{},\"id\":\"1072\",\"type\":\"BasicTickFormatter\"},{\"attributes\":{\"fill_color\":{\"value\":\"limegreen\"},\"hatch_color\":{\"value\":\"#30a2da\"},\"size\":{\"field\":\"node_size\"}},\"id\":\"1045\",\"type\":\"Circle\"},{\"attributes\":{},\"id\":\"1024\",\"type\":\"SaveTool\"},{\"attributes\":{},\"id\":\"1025\",\"type\":\"PanTool\"},{\"attributes\":{},\"id\":\"1026\",\"type\":\"WheelZoomTool\"},{\"attributes\":{\"overlay\":{\"id\":\"1030\"}},\"id\":\"1027\",\"type\":\"BoxZoomTool\"},{\"attributes\":{\"end\":0.7368489429638275,\"reset_end\":0.7368489429638275,\"reset_start\":-0.6078069133361587,\"start\":-0.6078069133361587,\"tags\":[[[\"y\",\"y\",null]]]},\"id\":\"1005\",\"type\":\"Range1d\"},{\"attributes\":{},\"id\":\"1028\",\"type\":\"ResetTool\"},{\"attributes\":{},\"id\":\"1073\",\"type\":\"AllLabels\"},{\"attributes\":{},\"id\":\"1089\",\"type\":\"Selection\"},{\"attributes\":{\"line_color\":{\"value\":\"limegreen\"},\"line_width\":{\"value\":2}},\"id\":\"1051\",\"type\":\"MultiLine\"},{\"attributes\":{\"bottom_units\":\"screen\",\"coordinates\":null,\"fill_alpha\":0.5,\"fill_color\":\"lightgrey\",\"group\":null,\"left_units\":\"screen\",\"level\":\"overlay\",\"line_alpha\":1.0,\"line_color\":\"black\",\"line_dash\":[4,4],\"line_width\":2,\"right_units\":\"screen\",\"syncable\":false,\"top_units\":\"screen\"},\"id\":\"1030\",\"type\":\"BoxAnnotation\"},{\"attributes\":{},\"id\":\"1012\",\"type\":\"LinearScale\"},{\"attributes\":{\"fill_alpha\":{\"value\":0.2},\"fill_color\":{\"field\":\"node_fill_color\",\"transform\":{\"id\":\"1039\"}},\"hatch_alpha\":{\"value\":0.2},\"hatch_color\":{\"value\":\"#30a2da\"},\"line_alpha\":{\"value\":0.2},\"size\":{\"field\":\"node_size\"}},\"id\":\"1046\",\"type\":\"Circle\"},{\"attributes\":{\"data\":{\"desc\":[\"Conv2d(128, 128, kernel_size=(3, 3), stride=(1, 1), padding=(1, 1))\",\"Linear(in_features=8192, out_features=256, bias=True)\",\"Conv2d(128, 128, kernel_size=(3, 3), stride=(1, 1), padding=(1, 1))\",\"MaxPool2d(kernel_size=3, stride=2, padding=1, dilation=1, ceil_mode=False)\",\"Conv2d(128, 128, kernel_size=(3, 3), stride=(1, 1), padding=(1, 1))\",\"ResidualAdd()\",\"MaxPool2d(kernel_size=3, stride=2, padding=1, dilation=1, ceil_mode=False)\",\"ReLU()\",\"ReLU()\",\"ReLU()\",\"ResidualAdd()\",\"ReLU()\",\"ReLU()\",\"Conv2d(64, 64, kernel_size=(3, 3), stride=(1, 1), padding=(1, 1))\",\"Linear(in_features=256, out_features=15, bias=True)\",\"ReLU()\",\"Conv2d(128, 128, kernel_size=(3, 3), stride=(1, 1), padding=(1, 1))\",\"ReLU()\",\"ReLU()\",\"ReLU()\",\"ReLU()\",\"Conv2d(64, 128, kernel_size=(3, 3), stride=(1, 1), padding=(1, 1))\",\"ResidualAdd()\",\"ReLU()\",\"Conv2d(64, 64, kernel_size=(3, 3), stride=(1, 1), padding=(1, 1))\",\"Conv2d(128, 128, kernel_size=(3, 3), stride=(1, 1), padding=(1, 1))\",\"Conv2d(128, 128, kernel_size=(3, 3), stride=(1, 1), padding=(1, 1))\",\"ResidualAdd()\",\"Conv2d(64, 64, kernel_size=(3, 3), stride=(1, 1), padding=(1, 1))\",\"MaxPool2d(kernel_size=3, stride=2, padding=1, dilation=1, ceil_mode=False)\",\"Conv2d(3, 64, kernel_size=(3, 3), stride=(1, 1), padding=(1, 1))\",\"Conv2d(128, 128, kernel_size=(3, 3), stride=(1, 1), padding=(1, 1))\",\"ReLU()\",\"Flatten()\",\"Conv2d(128, 128, kernel_size=(3, 3), stride=(1, 1), padding=(1, 1))\",\"ResidualAdd()\",\"Linear(in_features=256, out_features=1, bias=True)\",\"ResidualAdd()\",\"ReLU()\",\"Conv2d(128, 128, kernel_size=(3, 3), stride=(1, 1), padding=(1, 1))\",\"Conv2d(64, 64, kernel_size=(3, 3), stride=(1, 1), padding=(1, 1))\",\"ReLU()\",\"torch.Size([1, 3, 64, 64])\",\"torch.Size([1, 64, 64, 64])\",\"torch.Size([1, 64, 32, 32])\",\"torch.Size([1, 64, 32, 32])\",\"torch.Size([1, 64, 32, 32])\",\"torch.Size([1, 64, 32, 32])\",\"torch.Size([1, 64, 32, 32])\",\"torch.Size([1, 64, 32, 32])\",\"torch.Size([1, 64, 32, 32])\",\"torch.Size([1, 64, 32, 32])\",\"torch.Size([1, 64, 32, 32])\",\"torch.Size([1, 64, 32, 32])\",\"torch.Size([1, 64, 32, 32])\",\"torch.Size([1, 128, 32, 32])\",\"torch.Size([1, 128, 16, 16])\",\"torch.Size([1, 128, 16, 16])\",\"torch.Size([1, 128, 16, 16])\",\"torch.Size([1, 128, 16, 16])\",\"torch.Size([1, 128, 16, 16])\",\"torch.Size([1, 128, 16, 16])\",\"torch.Size([1, 128, 16, 16])\",\"torch.Size([1, 128, 16, 16])\",\"torch.Size([1, 128, 16, 16])\",\"torch.Size([1, 128, 16, 16])\",\"torch.Size([1, 128, 16, 16])\",\"torch.Size([1, 128, 16, 16])\",\"torch.Size([1, 128, 8, 8])\",\"torch.Size([1, 128, 8, 8])\",\"torch.Size([1, 128, 8, 8])\",\"torch.Size([1, 128, 8, 8])\",\"torch.Size([1, 128, 8, 8])\",\"torch.Size([1, 128, 8, 8])\",\"torch.Size([1, 128, 8, 8])\",\"torch.Size([1, 128, 8, 8])\",\"torch.Size([1, 128, 8, 8])\",\"torch.Size([1, 128, 8, 8])\",\"torch.Size([1, 128, 8, 8])\",\"torch.Size([1, 128, 8, 8])\",\"torch.Size([1, 8192])\",\"torch.Size([1, 256])\",\"torch.Size([1, 256])\",\"torch.Size([1, 15])\",\"torch.Size([1, 1])\",\"\"],\"index\":{\"__ndarray__\":\"AAAAAAEAAAACAAAAAwAAAAQAAAAFAAAABgAAAAcAAAAIAAAACQAAAAoAAAALAAAADAAAAA0AAAAOAAAADwAAABAAAAARAAAAEgAAABMAAAAUAAAAFQAAABYAAAAXAAAAGAAAABkAAAAaAAAAGwAAABwAAAAdAAAAHgAAAB8AAAAgAAAAIQAAACIAAAAjAAAAJAAAACUAAAAmAAAAJwAAACgAAAApAAAAKgAAACsAAAAsAAAALQAAAC4AAAAvAAAAMAAAADEAAAAyAAAAMwAAADQAAAA1AAAANgAAADcAAAA4AAAAOQAAADoAAAA7AAAAPAAAAD0AAAA+AAAAPwAAAEAAAABBAAAAQgAAAEMAAABEAAAARQAAAEYAAABHAAAASAAAAEkAAABKAAAASwAAAEwAAABNAAAATgAAAE8AAABQAAAAUQAAAFIAAABTAAAAVAAAAFUAAAA=\",\"dtype\":\"int32\",\"order\":\"little\",\"shape\":[86]},\"index_hover\":[\"embedder.block2.res2.conv1\",\"embedder.fc\",\"embedder.block3.res2.conv2\",\"embedder.block3.maxpool\",\"embedder.block3.res1.conv2\",\"embedder.block1.res1.resadd\",\"embedder.block1.maxpool\",\"embedder.block2.res2.relu1\",\"embedder.relufc\",\"embedder.block2.res1.relu2\",\"embedder.block2.res1.resadd\",\"embedder.block3.res1.relu2\",\"embedder.block3.res2.relu2\",\"embedder.block1.res1.conv1\",\"fc_policy\",\"embedder.block3.res1.relu1\",\"embedder.block3.res2.conv1\",\"embedder.relu3\",\"embedder.block1.res2.relu2\",\"embedder.block2.res2.relu2\",\"embedder.block1.res1.relu2\",\"embedder.block2.conv\",\"embedder.block3.res2.resadd\",\"embedder.block1.res2.relu1\",\"embedder.block1.res1.conv2\",\"embedder.block2.res1.conv2\",\"embedder.block3.res1.conv1\",\"embedder.block1.res2.resadd\",\"embedder.block1.res2.conv2\",\"embedder.block2.maxpool\",\"embedder.block1.conv\",\"embedder.block2.res2.conv2\",\"embedder.block2.res1.relu1\",\"embedder.flatten\",\"embedder.block2.res1.conv1\",\"embedder.block2.res2.resadd\",\"fc_value\",\"embedder.block3.res1.resadd\",\"embedder.block3.res2.relu1\",\"embedder.block3.conv\",\"embedder.block1.res2.conv1\",\"embedder.block1.res1.relu1\",\"embedder.block1.conv_in0\",\"embedder.block1.conv_out\",\"embedder.block1.maxpool_out\",\"embedder.block1.res1.relu1_out\",\"embedder.block1.res1.conv1_out\",\"embedder.block1.res1.relu2_out\",\"embedder.block1.res1.conv2_out\",\"embedder.block1.res1.resadd_out\",\"embedder.block1.res2.relu1_out\",\"embedder.block1.res2.conv1_out\",\"embedder.block1.res2.relu2_out\",\"embedder.block1.res2.conv2_out\",\"embedder.block1.res2.resadd_out\",\"embedder.block2.conv_out\",\"embedder.block2.maxpool_out\",\"embedder.block2.res1.relu1_out\",\"embedder.block2.res1.conv1_out\",\"embedder.block2.res1.relu2_out\",\"embedder.block2.res1.conv2_out\",\"embedder.block2.res1.resadd_out\",\"embedder.block2.res2.relu1_out\",\"embedder.block2.res2.conv1_out\",\"embedder.block2.res2.relu2_out\",\"embedder.block2.res2.conv2_out\",\"embedder.block2.res2.resadd_out\",\"embedder.block3.conv_out\",\"embedder.block3.maxpool_out\",\"embedder.block3.res1.relu1_out\",\"embedder.block3.res1.conv1_out\",\"embedder.block3.res1.relu2_out\",\"embedder.block3.res1.conv2_out\",\"embedder.block3.res1.resadd_out\",\"embedder.block3.res2.relu1_out\",\"embedder.block3.res2.conv1_out\",\"embedder.block3.res2.relu2_out\",\"embedder.block3.res2.conv2_out\",\"embedder.block3.res2.resadd_out\",\"embedder.relu3_out\",\"embedder.flatten_out\",\"embedder.fc_out\",\"embedder.relufc_out\",\"fc_policy_out\",\"fc_value_out\",\"_out\"],\"node_fill_color\":[42,78,70,52,60,14,4,40,80,34,38,58,68,8,83,54,66,74,20,44,10,26,72,16,12,36,56,24,22,28,2,46,30,76,32,48,82,62,64,50,18,6,0,3,5,7,9,11,13,15,17,19,21,23,25,27,29,31,33,35,37,39,41,43,45,47,49,51,53,55,57,59,61,63,65,67,69,71,73,75,77,79,81,85,84,1],\"node_size\":{\"__ndarray__\":\"wAofAMZILEDACh8AxkgsQMAKHwDGSCxAwAofAMZILEDACh8AxkgsQMAKHwDGSCxAwAofAMZILEDACh8AxkgsQMAKHwDGSCxAwAofAMZILEDACh8AxkgsQMAKHwDGSCxAwAofAMZILEDACh8AxkgsQMAKHwDGSCxAwAofAMZILEDACh8AxkgsQMAKHwDGSCxAwAofAMZILEDACh8AxkgsQMAKHwDGSCxAwAofAMZILEDACh8AxkgsQMAKHwDGSCxAwAofAMZILEDACh8AxkgsQMAKHwDGSCxAwAofAMZILEDACh8AxkgsQMAKHwDGSCxAwAofAMZILEDACh8AxkgsQMAKHwDGSCxAwAofAMZILEDACh8AxkgsQMAKHwDGSCxAwAofAMZILEDACh8AxkgsQMAKHwDGSCxAwAofAMZILEDACh8AxkgsQMAKHwDGSCxAAAAAAAAAJEAAAAAAAAAkQAAAAAAAACRAAAAAAAAAJEAAAAAAAAAkQAAAAAAAACRAAAAAAAAAJEAAAAAAAAAkQAAAAAAAACRAAAAAAAAAJEAAAAAAAAAkQAAAAAAAACRAAAAAAAAAJEAAAAAAAAAkQAAAAAAAACRAAAAAAAAAJEAAAAAAAAAkQAAAAAAAACRAAAAAAAAAJEAAAAAAAAAkQAAAAAAAACRAAAAAAAAAJEAAAAAAAAAkQAAAAAAAACRAAAAAAAAAJEAAAAAAAAAkQAAAAAAAACRAAAAAAAAAJEAAAAAAAAAkQAAAAAAAACRAAAAAAAAAJEAAAAAAAAAkQAAAAAAAACRAAAAAAAAAJEAAAAAAAAAkQAAAAAAAACRAAAAAAAAAJEAAAAAAAAAkQAAAAAAAACRAAAAAAAAAJEAAAAAAAAAkQAAAAAAAACRAAAAAAAAAJEAAAAAAAAAkQA==\",\"dtype\":\"float64\",\"order\":\"little\",\"shape\":[86]},\"type\":[\"module\",\"module\",\"module\",\"module\",\"module\",\"module\",\"module\",\"module\",\"module\",\"module\",\"module\",\"module\",\"module\",\"module\",\"module\",\"module\",\"module\",\"module\",\"module\",\"module\",\"module\",\"module\",\"module\",\"module\",\"module\",\"module\",\"module\",\"module\",\"module\",\"module\",\"module\",\"module\",\"module\",\"module\",\"module\",\"module\",\"module\",\"module\",\"module\",\"module\",\"module\",\"module\",\"value\",\"value\",\"value\",\"value\",\"value\",\"value\",\"value\",\"value\",\"value\",\"value\",\"value\",\"value\",\"value\",\"value\",\"value\",\"value\",\"value\",\"value\",\"value\",\"value\",\"value\",\"value\",\"value\",\"value\",\"value\",\"value\",\"value\",\"value\",\"value\",\"value\",\"value\",\"value\",\"value\",\"value\",\"value\",\"value\",\"value\",\"value\",\"value\",\"value\",\"value\",\"value\",\"value\",\"value\"]},\"selected\":{\"id\":\"1087\"},\"selection_policy\":{\"id\":\"1086\"}},\"id\":\"1040\",\"type\":\"ColumnDataSource\"},{\"attributes\":{\"coordinates\":null,\"group\":null,\"text_color\":\"black\",\"text_font_size\":\"12pt\"},\"id\":\"1008\",\"type\":\"Title\"},{\"attributes\":{},\"id\":\"1070\",\"type\":\"AllLabels\"},{\"attributes\":{\"fill_color\":{\"field\":\"node_fill_color\",\"transform\":{\"id\":\"1039\"}},\"hatch_color\":{\"value\":\"#30a2da\"},\"size\":{\"field\":\"node_size\"}},\"id\":\"1043\",\"type\":\"Circle\"},{\"attributes\":{\"children\":[{\"id\":\"1007\"}],\"height\":800,\"margin\":[0,0,0,0],\"name\":\"Row00818\",\"sizing_mode\":\"fixed\",\"tags\":[\"embedded\"],\"width\":800},\"id\":\"1003\",\"type\":\"Row\"},{\"attributes\":{\"fill_alpha\":{\"value\":0.2},\"fill_color\":{\"value\":\"#30a2da\"},\"hatch_alpha\":{\"value\":0.2},\"hatch_color\":{\"value\":\"#30a2da\"},\"line_alpha\":{\"value\":0.2},\"size\":{\"field\":\"node_size\"}},\"id\":\"1044\",\"type\":\"Circle\"},{\"attributes\":{\"coordinates\":null,\"edge_renderer\":{\"id\":\"1053\"},\"group\":null,\"inspection_policy\":{\"id\":\"1066\"},\"layout_provider\":{\"id\":\"1042\"},\"node_renderer\":{\"id\":\"1047\"},\"selection_policy\":{\"id\":\"1064\"}},\"id\":\"1055\",\"type\":\"GraphRenderer\"},{\"attributes\":{\"active_drag\":{\"id\":\"1025\"},\"active_scroll\":{\"id\":\"1026\"},\"tools\":[{\"id\":\"1006\"},{\"id\":\"1024\"},{\"id\":\"1025\"},{\"id\":\"1026\"},{\"id\":\"1027\"},{\"id\":\"1028\"},{\"id\":\"1029\"}]},\"id\":\"1031\",\"type\":\"Toolbar\"},{\"attributes\":{\"source\":{\"id\":\"1041\"}},\"id\":\"1054\",\"type\":\"CDSView\"},{\"attributes\":{},\"id\":\"1086\",\"type\":\"UnionRenderers\"},{\"attributes\":{\"axis\":{\"id\":\"1016\"},\"coordinates\":null,\"grid_line_color\":null,\"group\":null,\"ticker\":null},\"id\":\"1019\",\"type\":\"Grid\"},{\"attributes\":{},\"id\":\"1087\",\"type\":\"Selection\"},{\"attributes\":{\"line_width\":{\"value\":2}},\"id\":\"1049\",\"type\":\"MultiLine\"},{\"attributes\":{\"callback\":null,\"renderers\":[{\"id\":\"1055\"}],\"tooltips\":[[\"index\",\"@{index_hover}\"],[\"desc\",\"@{desc}\"],[\"type\",\"@{type}\"]]},\"id\":\"1006\",\"type\":\"HoverTool\"},{\"attributes\":{\"source\":{\"id\":\"1040\"}},\"id\":\"1048\",\"type\":\"CDSView\"},{\"attributes\":{},\"id\":\"1064\",\"type\":\"NodesAndLinkedEdges\"},{\"attributes\":{},\"id\":\"1069\",\"type\":\"BasicTickFormatter\"},{\"attributes\":{\"end\":1.1897736231900495,\"reset_end\":1.1897736231900495,\"reset_start\":-1.0875098550905435,\"start\":-1.0875098550905435,\"tags\":[[[\"x\",\"x\",null]]]},\"id\":\"1004\",\"type\":\"Range1d\"},{\"attributes\":{\"coordinates\":null,\"data_source\":{\"id\":\"1041\"},\"glyph\":{\"id\":\"1049\"},\"group\":null,\"hover_glyph\":{\"id\":\"1051\"},\"muted_glyph\":{\"id\":\"1052\"},\"nonselection_glyph\":{\"id\":\"1050\"},\"view\":{\"id\":\"1054\"}},\"id\":\"1053\",\"type\":\"GlyphRenderer\"},{\"attributes\":{},\"id\":\"1088\",\"type\":\"UnionRenderers\"},{\"attributes\":{},\"id\":\"1017\",\"type\":\"BasicTicker\"}],\"root_ids\":[\"1003\"]},\"title\":\"Bokeh Application\",\"version\":\"2.4.3\"}};\n",
       "    var render_items = [{\"docid\":\"7001a014-86eb-41cb-a072-3e2ff5f7c91f\",\"root_ids\":[\"1003\"],\"roots\":{\"1003\":\"45a7c267-4dfb-4797-bd20-c08a052c5330\"}}];\n",
       "    root.Bokeh.embed.embed_items_notebook(docs_json, render_items);\n",
       "    for (const render_item of render_items) {\n",
       "      for (const root_id of render_item.root_ids) {\n",
       "\tconst id_el = document.getElementById(root_id)\n",
       "\tif (id_el.children.length && (id_el.children[0].className === 'bk-root')) {\n",
       "\t  const root_el = id_el.children[0]\n",
       "\t  root_el.id = root_el.id + '-rendered'\n",
       "\t}\n",
       "      }\n",
       "    }\n",
       "  }\n",
       "  if (root.Bokeh !== undefined && root.Bokeh.Panel !== undefined) {\n",
       "    embed_document(root);\n",
       "  } else {\n",
       "    var attempts = 0;\n",
       "    var timer = setInterval(function(root) {\n",
       "      if (root.Bokeh !== undefined && root.Bokeh.Panel !== undefined) {\n",
       "        clearInterval(timer);\n",
       "        embed_document(root);\n",
       "      } else if (document.readyState == \"complete\") {\n",
       "        attempts++;\n",
       "        if (attempts > 200) {\n",
       "          clearInterval(timer);\n",
       "          console.log(\"Bokeh: ERROR: Unable to run BokehJS code because BokehJS library is missing\");\n",
       "        }\n",
       "      }\n",
       "    }, 25, root)\n",
       "  }\n",
       "})(window);</script>"
      ],
      "text/plain": [
       ":Graph   [start,end]"
      ]
     },
     "execution_count": 3,
     "metadata": {
      "application/vnd.holoviews_exec.v0+json": {
       "id": "1003"
      }
     },
     "output_type": "execute_result"
    }
   ],
   "source": [
    "hook.run_with_input(np.zeros((1,3, 64, 64), dtype=np.float32))\n",
    "hook.get_graph(include_parent_modules=False)"
   ]
  },
  {
   "cell_type": "code",
   "execution_count": 4,
   "metadata": {},
   "outputs": [
    {
     "data": {
      "text/plain": [
       "<matplotlib.image.AxesImage at 0x7fadbbf1a2c0>"
      ]
     },
     "execution_count": 4,
     "metadata": {},
     "output_type": "execute_result"
    },
    {
     "data": {
      "image/png": "[encoded data removed]",
      "text/plain": [
       "<Figure size 896x672 with 1 Axes>"
      ]
     },
     "metadata": {},
     "output_type": "display_data"
    }
   ],
   "source": [
    "def dummy_obs_pair(color: str, location: Tuple[int, int]=(32,32)):\n",
    "    \"\"\" Returns a mostly-black image pair, the first of which contains a red/green/blue pixel in the center. Returns obs of shape (2, 3, 64, 64). \"\"\"\n",
    "    \n",
    "    assert color in ['R', 'G', 'B'], f'Color must be one of R, G, B, not {color}'\n",
    "    assert len(location) == 2, 'Location must be a tuple of length 2'\n",
    "    assert all(0 <= col < 64 for col in location), 'Location must be in [0, 64)'\n",
    "\n",
    "    channel = {'R': 0, 'G': 1, 'B': 2}[color]\n",
    "    obs = np.zeros((2, 3, 64, 64), dtype=np.float32)\n",
    "    obs[0, channel, location[0], location[1]] = 1 # Have one pixel in the middle, in the given channel\n",
    "    return obs\n",
    "    \n",
    "# Let's load a dummy observation with only one nonzero value\n",
    "plt.imshow(dummy_obs_pair(\"G\")[0].transpose(1,2,0))"
   ]
  },
  {
   "cell_type": "code",
   "execution_count": 5,
   "metadata": {},
   "outputs": [],
   "source": [
    "# Get the available labels\n",
    "hook.run_with_input(dummy_obs_pair('R'))\n",
    "labels = list(hook.values_by_label.keys())[:-1] # Skip the \"_out\" layer and remove \"embedder.\" prefixes\n",
    "assert labels == list(map(expand_label, format_labels(labels)))"
   ]
  },
  {
   "cell_type": "code",
   "execution_count": 6,
   "metadata": {},
   "outputs": [],
   "source": [
    "# Let's visualize the activations at each layer using plotly, using an interactive interface that lets us slide the R/G/B pixel around\n",
    "def get_activations(label: str, obs: np.ndarray):\n",
    "    hook.run_with_input(obs) # Run the model with the given obs\n",
    "    return hook.get_value_by_label(label) # Shape is (b, c, h, w) at conv layers, (b, activations) at linear layers\n",
    "\n",
    "def activation_diff(label: str, obs: np.ndarray):\n",
    "    assert obs.shape[0] == 2 # Must be a pair of observations\n",
    "    \n",
    "    activations = get_activations(label, obs)\n",
    "    return activations[0] - activations[1] # Subtract in order to cancel out bias terms which don't behave differently in the presence of the differing inputs \n",
    "\n",
    "def plot_activations(activations: np.ndarray, fig: go.FigureWidget):\n",
    "    \"\"\" Plot the activations given a single (non-batched) activation tensor. \"\"\"\n",
    "    fig.update(data=[go.Heatmap(z=activations)])"
   ]
  },
  {
   "cell_type": "code",
   "execution_count": 7,
   "metadata": {},
   "outputs": [
    {
     "data": {
      "application/vnd.jupyter.widget-view+json": {
       "model_id": "200ccb583b9d476db3617a45dac41b5a",
       "version_major": 2,
       "version_minor": 0
      },
      "text/plain": [
       "FigureWidget({\n",
       "    'data': [{'colorscale': [[0.0, 'rgb(103,0,31)'], [0.1, 'rgb(178,24,43)'],\n",
       "                             [0.2, 'rgb(214,96,77)'], [0.3, 'rgb(244,165,130)'],\n",
       "                             [0.4, 'rgb(253,219,199)'], [0.5, 'rgb(247,247,247)'],\n",
       "                             [0.6, 'rgb(209,229,240)'], [0.7, 'rgb(146,197,222)'],\n",
       "                             [0.8, 'rgb(67,147,195)'], [0.9, 'rgb(33,102,172)'],\n",
       "                             [1.0, 'rgb(5,48,97)']],\n",
       "              'type': 'heatmap',\n",
       "              'uid': '9f175d6d-0ed6-4549-88e8-672dae288e68',\n",
       "              'z': array([[0., 0., 0., ..., 0., 0., 0.],\n",
       "                          [0., 0., 0., ..., 0., 0., 0.],\n",
       "                          [0., 0., 0., ..., 0., 0., 0.],\n",
       "                          ...,\n",
       "                          [0., 0., 0., ..., 0., 0., 0.],\n",
       "                          [0., 0., 0., ..., 0., 0., 0.],\n",
       "                          [0., 0., 0., ..., 0., 0., 0.]], dtype=float32),\n",
       "              'zmax': 1.0,\n",
       "              'zmid': 0,\n",
       "              'zmin': -1.0}],\n",
       "    'layout': {'height': 500,\n",
       "               'template': '...',\n",
       "               'title': {'text': 'block1.conv_in0'},\n",
       "               'width': 500,\n",
       "               'xaxis': {'side': 'top'},\n",
       "               'yaxis': {'autorange': 'reversed'}}\n",
       "})"
      ]
     },
     "metadata": {},
     "output_type": "display_data"
    },
    {
     "data": {
      "application/vnd.jupyter.widget-view+json": {
       "model_id": "a679976070a24ba795dc292af1de6130",
       "version_major": 2,
       "version_minor": 0
      },
      "text/plain": [
       "VBox(children=(Dropdown(description='Layers', options=('block1.conv_in0', 'block1.conv_out', 'block1.maxpool_o…"
      ]
     },
     "metadata": {},
     "output_type": "display_data"
    },
    {
     "data": {
      "application/vnd.jupyter.widget-view+json": {
       "model_id": "3e41324786be4ee3b5b575f635305d11",
       "version_major": 2,
       "version_minor": 0
      },
      "text/plain": [
       "HBox(children=(Text(value='', layout=Layout(width='150px'), placeholder='Custom filename'), Button(description…"
      ]
     },
     "metadata": {},
     "output_type": "display_data"
    }
   ],
   "source": [
    "# We can begin to see how information propagates across the net for a dummy single-pixel input\n",
    "def activ_gen_px(col: int, row: int, label: str, color: str, pair: bool = False):\n",
    "    \"\"\" Get the activations for running a forward pass on a dummy observation, in the given color. Returns shape of (batch, channels, rows, cols), where size batch=1 if pair=False, and batch=2 if pair=True. \"\"\"\n",
    "    return get_activations(label, dummy_obs_pair(color, (row, col)))\n",
    "\n",
    "# Instantiate the plotter\n",
    "activ_plotter = ActivationsPlotter(labels, plotter=lambda activations, fig: plot_activations(activations[0], fig=fig), activ_gen=activ_gen_px, hook=hook, coords_enabled=True, color=\"R\") # TODO for some reason block2.maxpool_out has a different fig width?\n",
    "activ_plotter.display()"
   ]
  },
  {
   "cell_type": "code",
   "execution_count": 8,
   "metadata": {},
   "outputs": [
    {
     "data": {
      "application/vnd.jupyter.widget-view+json": {
       "model_id": "8aefed44a02644f1be605253c33f5491",
       "version_major": 2,
       "version_minor": 0
      },
      "text/plain": [
       "FigureWidget({\n",
       "    'data': [{'colorscale': [[0.0, 'rgb(103,0,31)'], [0.1, 'rgb(178,24,43)'],\n",
       "                             [0.2, 'rgb(214,96,77)'], [0.3, 'rgb(244,165,130)'],\n",
       "                             [0.4, 'rgb(253,219,199)'], [0.5, 'rgb(247,247,247)'],\n",
       "                             [0.6, 'rgb(209,229,240)'], [0.7, 'rgb(146,197,222)'],\n",
       "                             [0.8, 'rgb(67,147,195)'], [0.9, 'rgb(33,102,172)'],\n",
       "                             [1.0, 'rgb(5,48,97)']],\n",
       "              'type': 'heatmap',\n",
       "              'uid': 'b6a749a6-a53e-450d-a7b9-65ce6846df81',\n",
       "              'z': array([[0., 0., 0., ..., 0., 0., 0.],\n",
       "                          [0., 0., 0., ..., 0., 0., 0.],\n",
       "                          [0., 0., 0., ..., 0., 0., 0.],\n",
       "                          ...,\n",
       "                          [0., 0., 0., ..., 0., 0., 0.],\n",
       "                          [0., 0., 0., ..., 0., 0., 0.],\n",
       "                          [0., 0., 0., ..., 0., 0., 0.]], dtype=float32),\n",
       "              'zmax': 1.0,\n",
       "              'zmid': 0,\n",
       "              'zmin': -1.0}],\n",
       "    'layout': {'height': 500,\n",
       "               'template': '...',\n",
       "               'title': {'text': 'block1.conv_in0'},\n",
       "               'width': 500,\n",
       "               'xaxis': {'side': 'top'},\n",
       "               'yaxis': {'autorange': 'reversed'}}\n",
       "})"
      ]
     },
     "metadata": {},
     "output_type": "display_data"
    },
    {
     "data": {
      "application/vnd.jupyter.widget-view+json": {
       "model_id": "1aa719fd5f674872a7e17360e7c149b2",
       "version_major": 2,
       "version_minor": 0
      },
      "text/plain": [
       "VBox(children=(Dropdown(description='Layers', options=('block1.conv_in0', 'block1.conv_out', 'block1.maxpool_o…"
      ]
     },
     "metadata": {},
     "output_type": "display_data"
    },
    {
     "data": {
      "application/vnd.jupyter.widget-view+json": {
       "model_id": "2d8eef5fc07b423493646a6622d8b398",
       "version_major": 2,
       "version_minor": 0
      },
      "text/plain": [
       "HBox(children=(Text(value='', layout=Layout(width='150px'), placeholder='Custom filename'), Button(description…"
      ]
     },
     "metadata": {},
     "output_type": "display_data"
    }
   ],
   "source": [
    "# Plot the diff between a single-pixel input and a blank input\n",
    "activ_plotter = ActivationsPlotter(labels, plotter=lambda activations, fig: plot_activations(activations[0] - activations[1], fig=fig), activ_gen=activ_gen_px, hook=hook, coords_enabled=True, color=\"R\")\n",
    "activ_plotter.display()"
   ]
  },
  {
   "cell_type": "code",
   "execution_count": 9,
   "metadata": {},
   "outputs": [
    {
     "data": {
      "application/vnd.jupyter.widget-view+json": {
       "model_id": "65b2c3125706416c98eaad42a2c82f97",
       "version_major": 2,
       "version_minor": 0
      },
      "text/plain": [
       "FigureWidget({\n",
       "    'data': [{'colorscale': [[0.0, 'rgb(103,0,31)'], [0.1, 'rgb(178,24,43)'],\n",
       "                             [0.2, 'rgb(214,96,77)'], [0.3, 'rgb(244,165,130)'],\n",
       "                             [0.4, 'rgb(253,219,199)'], [0.5, 'rgb(247,247,247)'],\n",
       "                             [0.6, 'rgb(209,229,240)'], [0.7, 'rgb(146,197,222)'],\n",
       "                             [0.8, 'rgb(67,147,195)'], [0.9, 'rgb(33,102,172)'],\n",
       "                             [1.0, 'rgb(5,48,97)']],\n",
       "              'type': 'heatmap',\n",
       "              'uid': '41ff8283-89bc-4180-accf-7eeee0d895cc',\n",
       "              'z': array([[0., 0., 0., ..., 0., 0., 0.],\n",
       "                          [0., 0., 0., ..., 0., 0., 0.],\n",
       "                          [0., 0., 0., ..., 0., 0., 0.],\n",
       "                          ...,\n",
       "                          [0., 0., 0., ..., 0., 0., 0.],\n",
       "                          [0., 0., 0., ..., 0., 0., 0.],\n",
       "                          [0., 0., 0., ..., 0., 0., 0.]], dtype=float32),\n",
       "              'zmax': 1.0,\n",
       "              'zmid': 0,\n",
       "              'zmin': -1.0}],\n",
       "    'layout': {'height': 500,\n",
       "               'template': '...',\n",
       "               'title': {'text': 'block1.conv_in0'},\n",
       "               'width': 500,\n",
       "               'xaxis': {'side': 'top'},\n",
       "               'yaxis': {'autorange': 'reversed'}}\n",
       "})"
      ]
     },
     "metadata": {},
     "output_type": "display_data"
    },
    {
     "data": {
      "application/vnd.jupyter.widget-view+json": {
       "model_id": "2a3704719dda4301933befa3aa03212d",
       "version_major": 2,
       "version_minor": 0
      },
      "text/plain": [
       "VBox(children=(Dropdown(description='Layers', options=('block1.conv_in0', 'block1.conv_out', 'block1.maxpool_o…"
      ]
     },
     "metadata": {},
     "output_type": "display_data"
    },
    {
     "data": {
      "application/vnd.jupyter.widget-view+json": {
       "model_id": "f32dabbbd85f4c67a0dac46c7c5b0095",
       "version_major": 2,
       "version_minor": 0
      },
      "text/plain": [
       "HBox(children=(Text(value='', layout=Layout(width='150px'), placeholder='Custom filename'), Button(description…"
      ]
     },
     "metadata": {},
     "output_type": "display_data"
    }
   ],
   "source": [
    "def plot_nonzero_activations(activations: np.ndarray, fig: go.FigureWidget): \n",
    "    \"\"\" Plot the nonzero activations in a heatmap. \"\"\"\n",
    "    # Find nonzero activations and cast to floats\n",
    "    nz = (activations != 0).astype(np.float32)\n",
    "    fig.update(data=[go.Heatmap(z=nz)])\n",
    "\n",
    "def plot_nonzero_diffs(activations: np.ndarray, fig: go.FigureWidget):\n",
    "    \"\"\" Plot the nonzero activation diffs in a heatmap. \"\"\"\n",
    "    diffs = activations[0] - activations[1]\n",
    "    plot_nonzero_activations(diffs, fig)\n",
    "\n",
    "# Instantiate the plotter\n",
    "nonzero_plotter = ActivationsPlotter(labels, plotter=plot_nonzero_diffs, activ_gen=activ_gen_px, hook=hook, coords_enabled=True, color=\"R\", pair=True)\n",
    "nonzero_plotter.display()"
   ]
  },
  {
   "attachments": {},
   "cell_type": "markdown",
   "metadata": {},
   "source": [
    "# 1: Locality\n",
    "Consider `n` convolutional layers (3x3 kernel, stride=1, padding=1) which each preserve the height col width of the previous feature maps. The above demonstrates that after these layers, information can only propagate `n` L1 pixels. The network itself is composed of # TODO "
   ]
  },
  {
   "attachments": {},
   "cell_type": "markdown",
   "metadata": {},
   "source": [
    "# Visualizing actual observation activations"
   ]
  },
  {
   "cell_type": "code",
   "execution_count": 10,
   "metadata": {},
   "outputs": [],
   "source": [
    "default_settings = {'channel_slider': 55, 'label_widget': 'block2.res1.resadd_out'}"
   ]
  },
  {
   "cell_type": "code",
   "execution_count": 11,
   "metadata": {},
   "outputs": [
    {
     "data": {
      "application/vnd.jupyter.widget-view+json": {
       "model_id": "1cccb344d74544409d96d0d1dbdd07ab",
       "version_major": 2,
       "version_minor": 0
      },
      "text/plain": [
       "Box(children=(HBox(children=(GridspecLayout(children=(Button(layout=Layout(grid_area='widget001', height='0px'…"
      ]
     },
     "metadata": {},
     "output_type": "display_data"
    },
    {
     "data": {
      "application/vnd.jupyter.widget-view+json": {
       "model_id": "3ad8e266147a40ef92a0c3661f5dee31",
       "version_major": 2,
       "version_minor": 0
      },
      "text/plain": [
       "FigureWidget({\n",
       "    'data': [{'colorscale': [[0.0, 'rgb(103,0,31)'], [0.1, 'rgb(178,24,43)'],\n",
       "                             [0.2, 'rgb(214,96,77)'], [0.3, 'rgb(244,165,130)'],\n",
       "                             [0.4, 'rgb(253,219,199)'], [0.5, 'rgb(247,247,247)'],\n",
       "                             [0.6, 'rgb(209,229,240)'], [0.7, 'rgb(146,197,222)'],\n",
       "                             [0.8, 'rgb(67,147,195)'], [0.9, 'rgb(33,102,172)'],\n",
       "                             [1.0, 'rgb(5,48,97)']],\n",
       "              'type': 'heatmap',\n",
       "              'uid': 'f2da7c77-64c8-40e8-b621-5d2a02ca3342',\n",
       "              'z': array([[ 0.02657299, -0.02839125, -0.07341541, ..., -0.04391609, -0.0239433 ,\n",
       "                           -0.01430185],\n",
       "                          [-0.00080868, -0.16516905, -0.19377661, ..., -0.17952022, -0.13850096,\n",
       "                           -0.08350438],\n",
       "                          [-0.06065884, -0.24889266, -0.23197651, ..., -0.21075162, -0.19989595,\n",
       "                           -0.19339341],\n",
       "                          ...,\n",
       "                          [-0.05958181, -0.25989884, -0.23555279, ..., -0.21935362, -0.21103477,\n",
       "                           -0.20787568],\n",
       "                          [-0.05656505, -0.25013715, -0.2460445 , ..., -0.21515793, -0.20747784,\n",
       "                           -0.20976013],\n",
       "                          [-0.08845839, -0.23615125, -0.23773462, ..., -0.24021876, -0.2307164 ,\n",
       "                           -0.04498965]], dtype=float32),\n",
       "              'zmax': 0.78584516,\n",
       "              'zmid': 0,\n",
       "              'zmin': -0.785845160484314}],\n",
       "    'layout': {'height': 500,\n",
       "               'template': '...',\n",
       "               'title': {'text': 'block2.res1.resadd_out'},\n",
       "               'width': 500,\n",
       "               'xaxis': {'side': 'top'},\n",
       "               'yaxis': {'autorange': 'reversed'}}\n",
       "})"
      ]
     },
     "metadata": {},
     "output_type": "display_data"
    },
    {
     "data": {
      "application/vnd.jupyter.widget-view+json": {
       "model_id": "79385c21a7c8459292fcc47121faccf8",
       "version_major": 2,
       "version_minor": 0
      },
      "text/plain": [
       "VBox(children=(Dropdown(description='Layers', index=19, options=('block1.conv_in0', 'block1.conv_out', 'block1…"
      ]
     },
     "metadata": {},
     "output_type": "display_data"
    },
    {
     "data": {
      "application/vnd.jupyter.widget-view+json": {
       "model_id": "cb6b3860da664b1d87ad22e03b2fadb2",
       "version_major": 2,
       "version_minor": 0
      },
      "text/plain": [
       "HBox(children=(Text(value='', layout=Layout(width='150px'), placeholder='Custom filename'), Button(description…"
      ]
     },
     "metadata": {},
     "output_type": "display_data"
    }
   ],
   "source": [
    "def activ_gen_cheese(label: str, venv : ProcgenGym3Env = None): # TODO dont use None\n",
    "    \"\"\" Generate an observation with cheese at the given location. Returns a tensor of shape (1, 3, rows, cols).\"\"\"\n",
    "    assert venv is not None\n",
    "    cheese_obs = venv.reset() \n",
    "    cheese_obs = np.array(cheese_obs, dtype=np.float32)\n",
    "    activations = get_activations(label, cheese_obs)\n",
    "    return activations\n",
    "\n",
    "# Show a maze editor side-by-side with the interactive plotter\n",
    "SEED = 0\n",
    "venv = create_venv(num=1, start_level=SEED, num_levels=1) # This has to be a single maze, otherwise the vfield wont work\n",
    "custom_maze_plotter = ActivationsPlotter(labels, lambda activations, fig: plot_activations(activations[0], fig=fig), activ_gen_cheese, hook, defaults=default_settings, venv=venv)\n",
    "# Set the default settings\n",
    "\n",
    "\n",
    "widget_box = custom_vfield(policy, venv=venv, callback=custom_maze_plotter.update_plotter) \n",
    "display(widget_box)\n",
    "    \n",
    "custom_maze_plotter.display() \n",
    "# TODO make it so that it's easy to attach notes to files, load  "
   ]
  }
 ],
 "metadata": {
  "kernelspec": {
   "display_name": "MATS",
   "language": "python",
   "name": "python3"
  },
  "language_info": {
   "codemirror_mode": {
    "name": "ipython",
    "version": 3
   },
   "file_extension": ".py",
   "mimetype": "text/x-python",
   "name": "python",
   "nbconvert_exporter": "python",
   "pygments_lexer": "ipython3",
   "version": "3.10.9"
  },
  "orig_nbformat": 4,
  "vscode": {
   "interpreter": {
    "hash": "cd3e04b79b22c2a61b6815ecea0d93d7d0a83bc295cb411e510169362b7f6e5c"
   }
  }
 },
 "nbformat": 4,
 "nbformat_minor": 2
}
