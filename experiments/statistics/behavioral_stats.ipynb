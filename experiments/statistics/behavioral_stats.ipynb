{
 "cells": [
  {
   "attachments": {},
   "cell_type": "markdown",
   "id": "bb489560",
   "metadata": {},
   "source": [
    "This notebook is for taking statistics over thousands of runs, in order to analyze which maze features (e.g. distance to cheese) tend to affect decision-making. "
   ]
  },
  {
   "cell_type": "code",
   "execution_count": 1,
   "id": "af4881a7",
   "metadata": {},
   "outputs": [
    {
     "name": "stdout",
     "output_type": "stream",
     "text": [
      "Already downloaded https://nerdsniper.net/mats/episode_stats_data.tgz\n",
      "Already downloaded https://nerdsniper.net/mats/model_rand_region_5.pth\n"
     ]
    }
   ],
   "source": [
    "try:\n",
    "    import procgen_tools\n",
    "except ImportError:\n",
    "    get_ipython().run_line_magic(magic_name='pip', line='install -U git+https://github.com/ulissemini/procgen-tools')\n",
    "\n",
    "from procgen_tools.utils import setup\n",
    "\n",
    "setup(dl_stats=True) # create directory structure and download data "
   ]
  },
  {
   "cell_type": "code",
   "execution_count": 2,
   "id": "c479b48f",
   "metadata": {},
   "outputs": [],
   "source": [
    "%matplotlib inline\n",
    "import matplotlib.pyplot as plt\n",
    "\n",
    "import numpy as np\n",
    "from procgen import ProcgenGym3Env\n",
    "from procgen_tools import maze\n",
    "from procgen_tools.models import load_policy\n",
    "from procgen_tools.metrics import metrics, decision_square \n",
    "from procgen_tools.data_utils import load_episode\n",
    "\n",
    "from IPython import display\n",
    "from glob import glob\n",
    "import pickle\n",
    "from tqdm import tqdm\n",
    "\n",
    "import os\n",
    "from collections import defaultdict\n",
    "\n",
    "import pandas as pd\n",
    "from sklearn import linear_model\n",
    "import statsmodels.api as sm\n",
    "from sklearn.linear_model import LogisticRegression\n",
    "from scipy import stats\n",
    "from sklearn.model_selection import train_test_split\n",
    "\n",
    "import random \n",
    "from typing import List, Tuple, Any, Dict, Union, Optional\n",
    "\n",
    "import prettytable "
   ]
  },
  {
   "cell_type": "code",
   "execution_count": 3,
   "id": "0ff6529e",
   "metadata": {},
   "outputs": [],
   "source": [
    "# Handle text formatting \n",
    "def bold_text(text : str):\n",
    "    return '\\033[1m' + text + '\\033[0m' \n",
    "\n",
    "# In the \"Understanding and controlling a maze-solving policy network\" post, we claimed that the following attributes are important. We'll often bold them in the text.\n",
    "claimed_attributes = ['steps_between_cheese_decision_square', 'euc_dist_cheese_decision_square','euc_dist_cheese_top_right', 'euc_dist_decision_square_5x5']  \n",
    "\n",
    "def english_attr(attr : str) -> str:\n",
    "    \"\"\" Maps an attribute to its English name. \"\"\" \n",
    "    if attr == 'steps_between_cheese_5x5':\n",
    "        return 'Steps between cheese and top-right 5x5'\n",
    "    elif attr == 'euc_dist_cheese_5x5':\n",
    "        return 'Euclidean distance between cheese and top-right 5x5'\n",
    "    elif attr == 'steps_between_decision_square_5x5':\n",
    "        return 'Steps between decision square and top-right 5x5'\n",
    "    elif attr == 'euc_dist_decision_square_5x5':\n",
    "        return 'Euclidean distance between decision square and top-right 5x5'\n",
    "    elif attr == 'steps_between_cheese_top_right':\n",
    "        return 'Steps between cheese and top right square'\n",
    "    elif attr == 'euc_dist_cheese_top_right':\n",
    "        return 'Euclidean distance between cheese and top right square'\n",
    "    elif attr == 'steps_between_decision_square_top_right':\n",
    "        return 'Steps between decision square and top right square'\n",
    "    elif attr == 'euc_dist_decision_square_top_right':\n",
    "        return 'Euclidean distance between decision square and top right square'\n",
    "    elif attr == 'steps_between_cheese_decision_square':\n",
    "        return 'Steps between cheese and decision square'\n",
    "    elif attr == 'euc_dist_cheese_decision_square':\n",
    "        return 'Euclidean distance between cheese and decision square'\n",
    "    elif attr == 'cheese_coord_norm':\n",
    "        return 'Norm of cheese coordinate'\n",
    "    elif attr == 'taxi_dist_cheese_decision_square':\n",
    "        return 'Taxicab distance between cheese and decision square'\n",
    "    elif attr == 'taxi_dist_cheese_top_right':\n",
    "        return 'Taxicab distance between cheese and top right square'\n",
    "    elif attr == 'taxi_dist_decision_square_top_right':\n",
    "        return 'Taxicab distance between decision square and top right square'\n",
    "    elif attr == 'taxi_dist_cheese_5x5':\n",
    "        return 'Taxicab distance between cheese and top-right 5x5'\n",
    "    elif attr == 'taxi_dist_decision_square_5x5':\n",
    "        return 'Taxicab distance between decision square and top-right 5x5'\n",
    "    else:\n",
    "        raise ValueError(f\"Unknown attribute {attr}\")\n",
    "\n",
    "def format_attr(attr : str):\n",
    "    attr_str = english_attr(attr)\n",
    "    return bold_text(attr_str) if attr in claimed_attributes else attr_str"
   ]
  },
  {
   "cell_type": "code",
   "execution_count": 4,
   "id": "04235c2e",
   "metadata": {},
   "outputs": [
    {
     "name": "stdout",
     "output_type": "stream",
     "text": [
      "Loaded 10000 runs\n"
     ]
    }
   ],
   "source": [
    "files = glob('experiments/statistics/data/*rand_region_5*.pkl') \n",
    "runs = []\n",
    "for f in files:\n",
    "    try:\n",
    "        runs.append(load_episode(f, load_venv=False))\n",
    "    except (AssertionError, KeyError) as e:\n",
    "        print(f\"Malformed file {f}: {e}\")\n",
    "        os.remove(f)\n",
    "\n",
    "print(f'Loaded {len(runs)} runs')"
   ]
  },
  {
   "cell_type": "code",
   "execution_count": 5,
   "id": "151864ae",
   "metadata": {},
   "outputs": [
    {
     "name": "stderr",
     "output_type": "stream",
     "text": [
      "100%|██████████| 10000/10000 [05:45<00:00, 28.96it/s] \n"
     ]
    },
    {
     "data": {
      "text/plain": [
       "5239"
      ]
     },
     "execution_count": 5,
     "metadata": {},
     "output_type": "execute_result"
    }
   ],
   "source": [
    "recorded_metrics = defaultdict(list)\n",
    "recorded_runs = []\n",
    "got_cheese = []\n",
    "for run in tqdm(runs):\n",
    "    g = run.grid()\n",
    "    if decision_square(g) is None or (g[-5:, -5:] == maze.CHEESE).any():\n",
    "        continue\n",
    "    for name, metric in metrics.items():\n",
    "        recorded_metrics[name].append(metric(g))\n",
    "    got_cheese.append(float(run.got_cheese))\n",
    "    recorded_runs.append(run)\n",
    "\n",
    "runs = recorded_runs; del recorded_runs\n",
    "got_cheese = np.array(got_cheese)\n",
    "len(got_cheese)"
   ]
  },
  {
   "cell_type": "code",
   "execution_count": 6,
   "id": "e6cb7919",
   "metadata": {},
   "outputs": [],
   "source": [
    "# We want to turn the metrics into a dataframe, so we have to convert them to numpy arrays\n",
    "for name, metric in recorded_metrics.items():\n",
    "    recorded_metrics[name] = np.array(metric)"
   ]
  },
  {
   "cell_type": "code",
   "execution_count": 7,
   "id": "a207f4ea",
   "metadata": {},
   "outputs": [
    {
     "name": "stdout",
     "output_type": "stream",
     "text": [
      "P(get cheese | decision square, cheese not in top 5x5) = 0.714\n"
     ]
    }
   ],
   "source": [
    "prob = sum(got_cheese) / len(got_cheese)\n",
    "print(f'P(get cheese | decision square, cheese not in top 5x5) = {prob:.3f}')"
   ]
  },
  {
   "cell_type": "code",
   "execution_count": 8,
   "id": "a306c611",
   "metadata": {},
   "outputs": [],
   "source": [
    "# We filter the data based on the conditions. In particular, we are filtering the data based on the distance between the cheese and the decision square, and the number of steps between the cheese and the decision square. We are also filtering the data based on the fact that the cheese is not in the top 5x5 region, and for mazes which have a decision square\n",
    "cond = np.logical_and(\n",
    "    (recorded_metrics['euc_dist_cheese_decision_square'] > 0),\n",
    "    (recorded_metrics['steps_between_cheese_decision_square'] > 20),\n",
    ") \n",
    "\n",
    "basenum= len (np.nonzero(cond)[0])\n",
    "\n",
    "sp_indexes = np.nonzero(cond)[0]\n",
    "filtered_rm = {}\n",
    "for key, value in recorded_metrics.items():\n",
    "    filtered_rm[key] = recorded_metrics[key][sp_indexes]\n",
    "\n",
    "assert len(filtered_rm['euc_dist_cheese_decision_square']) == len(sp_indexes)"
   ]
  },
  {
   "attachments": {},
   "cell_type": "markdown",
   "id": "f00443e8",
   "metadata": {},
   "source": [
    "We can explore the data itself."
   ]
  },
  {
   "cell_type": "code",
   "execution_count": 9,
   "id": "9338e2dd",
   "metadata": {},
   "outputs": [
    {
     "data": {
      "application/vnd.jupyter.widget-view+json": {
       "model_id": "6443aa3260f749b093a7588894dd80b9",
       "version_major": 2,
       "version_minor": 0
      },
      "text/plain": [
       "interactive(children=(Dropdown(description='metric', options=('euc_dist_cheese_decision_square', 'taxi_dist_ch…"
      ]
     },
     "metadata": {},
     "output_type": "display_data"
    }
   ],
   "source": [
    "# Make a plotly histogram, where you select which metric to display using a dropdown menu\n",
    "import plotly.express as px\n",
    "import plotly.graph_objects as go\n",
    "from ipywidgets import interact\n",
    "import math\n",
    "\n",
    "fig = go.FigureWidget()\n",
    "\n",
    "@interact \n",
    "def show_histogram(metric=list(recorded_metrics.keys())):\n",
    "    \"\"\" Show a histogram of the metric on this dataset. \"\"\"\n",
    "    fig.data = []\n",
    "\n",
    "    # Add a trace to fig\n",
    "    fig.add_trace(go.Histogram(x=recorded_metrics[metric], histnorm='probability density'))\n",
    "\n",
    "    # Set the title\n",
    "    fig.update_layout(title_text=f'Histogram of {english_attr(metric)}')\n",
    "    # Set y axis label to probability density\n",
    "    fig.update_yaxes(title_text='Probability density') \n",
    "    fig.update_xaxes(title_text=english_attr(metric))\n",
    "\n",
    "    # Automatically display updates to fig without having to call fig.show()\n",
    "    display.display(fig)"
   ]
  },
  {
   "attachments": {},
   "cell_type": "markdown",
   "id": "560a4e90",
   "metadata": {},
   "source": [
    "And see how the data points relate to each other. Many exhibit natural correlations from the dataset."
   ]
  },
  {
   "cell_type": "code",
   "execution_count": 10,
   "id": "f18bc057",
   "metadata": {},
   "outputs": [
    {
     "data": {
      "application/vnd.jupyter.widget-view+json": {
       "model_id": "f2e64748ef294650af800feef7be288d",
       "version_major": 2,
       "version_minor": 0
      },
      "text/plain": [
       "interactive(children=(Dropdown(description='metric1', options=('euc_dist_cheese_decision_square', 'taxi_dist_c…"
      ]
     },
     "metadata": {},
     "output_type": "display_data"
    }
   ],
   "source": [
    "from ipywidgets import Dropdown, Checkbox\n",
    "\n",
    "scatter_distances_fig = go.FigureWidget()\n",
    "\n",
    "# Make plotly scatterplot comparing two metrics, to check for collinearity\n",
    "@interact\n",
    "def show_scatter(metric1=Dropdown(options=list(filtered_rm.keys()), value='euc_dist_cheese_decision_square'), \n",
    "                 metric2=Dropdown(options=list(filtered_rm.keys()), value='steps_between_cheese_decision_square'),\n",
    "                 filter_cheese=Checkbox(value=True, description='Filter trivial cases')):\n",
    "    \"\"\" Show a scatterplot of two metrics on this dataset. \"\"\"\n",
    "    # Choose which data to use\n",
    "    data = filtered_rm if filter_cheese else recorded_metrics\n",
    "\n",
    "    # Plot the scatterplot\n",
    "    scatter_distances_fig.data = []\n",
    "    scatter_distances_fig.add_trace(go.Scatter(x=data[metric1], y=data[metric2], mode='markers', name='runs'))\n",
    "    scatter_distances_fig.update_layout(title_text=f'{english_attr(metric1)} vs {english_attr(metric2)}')\n",
    "    scatter_distances_fig.update_xaxes(title_text=english_attr(metric1))\n",
    "    scatter_distances_fig.update_yaxes(title_text=english_attr(metric2))\n",
    "    display.display(scatter_distances_fig)\n",
    "\n",
    "    # Draw a line of best fit\n",
    "    slope, intercept, r_value, p_value, std_err = stats.linregress(data[metric1], data[metric2])\n",
    "    scatter_distances_fig.add_trace(go.Scatter(x=data[metric1], y=slope*data[metric1] + intercept, mode='lines', name='best fit'))\n",
    "\n",
    "    # Hide the legend\n",
    "    scatter_distances_fig.update_layout(showlegend=False)\n",
    "\n",
    "    # Print the correlation coefficient\n",
    "    print(f\"Correlation: {np.corrcoef(data[metric1], data[metric2])[0,1]:.3f}\")"
   ]
  },
  {
   "cell_type": "code",
   "execution_count": 11,
   "id": "68d758e4",
   "metadata": {},
   "outputs": [
    {
     "data": {
      "application/vnd.plotly.v1+json": {
       "config": {
        "plotlyServerURL": "https://plot.ly"
       },
       "data": [
        {
         "coloraxis": "coloraxis",
         "hovertemplate": "(%{x}, %{y}) = %{z:.3f} <extra></extra>",
         "name": "0",
         "type": "heatmap",
         "xaxis": "x",
         "yaxis": "y",
         "z": [
          [
           0.9999999999999999,
           0.950397357067919,
           0.3697436631212564,
           0.3182208731143262,
           0.2711201723575516,
           0.14438174456343386,
           0.24036044907700876,
           0.2238664513710081,
           0.20122701103433555,
           0.2420934292226903,
           0.22650042327424097,
           0.30875196096372287,
           0.2196089966151537,
           0.2603928417847301,
           0.2417711658326272,
           0.17875574064241812
          ],
          [
           0.9503973570679188,
           1,
           0.371099403751976,
           0.31128419569045207,
           0.25627401027398655,
           0.14654094455729566,
           0.2480172044502216,
           0.22911590000559587,
           0.1931236010379063,
           0.20452482514619214,
           0.21587837405669696,
           0.28773760338255217,
           0.21203353659595048,
           0.2666361583306616,
           0.24311683351819216,
           0.1493910703680265
          ],
          [
           0.3697436631212564,
           0.37109940375197603,
           1,
           0.40190999390349125,
           0.10195316240226315,
           0.12211086648033632,
           0.08271508468605122,
           0.07351224339918237,
           0.04372675740182588,
           0.21651268833869083,
           0.0523435652603429,
           0.0951465785845426,
           0.11109901517845484,
           0.09645413412130048,
           0.08560037795984426,
           0.03748595639301703
          ],
          [
           0.3182208731143262,
           0.31128419569045207,
           0.40190999390349125,
           1,
           0.08195385834418999,
           0.06635253824862344,
           0.8620101951254748,
           0.8601098211209607,
           0.9323775771153414,
           0.7020065360526148,
           0.9042857226393234,
           0.08510109466387643,
           0.07568909993120398,
           0.8639781884287453,
           0.8632967918602888,
           0.19904054079027855
          ],
          [
           0.27112017235755165,
           0.2562740102739865,
           0.10195316240226314,
           0.08195385834418999,
           0.9999999999999999,
           0.9543732483500599,
           0.04593513253013221,
           0.04192700649273108,
           0.04916661042110438,
           0.3197034426547901,
           0.07785296478838352,
           0.9948777593365917,
           0.980679043546823,
           0.04805362476180013,
           0.041232390117722756,
           -0.6218979541448502
          ],
          [
           0.14438174456343386,
           0.14654094455729566,
           0.12211086648033634,
           0.06635253824862344,
           0.9543732483500598,
           1,
           0.024574188458902187,
           0.02003813864164899,
           0.024187202610805605,
           0.2699963603648436,
           0.048937541882115645,
           0.9215519397801321,
           0.9797110281452648,
           0.027473133101098855,
           0.02072307819991558,
           -0.7808138043074043
          ],
          [
           0.24036044907700876,
           0.2480172044502216,
           0.08271508468605122,
           0.8620101951254749,
           0.04593513253013221,
           0.024574188458902187,
           0.9999999999999999,
           0.9972894494972077,
           0.9078347416304583,
           0.6404499648393515,
           0.9194675554519682,
           0.05218755059420195,
           0.037594775675215304,
           0.9970024030371513,
           0.9944172485919878,
           0.20033400510739077
          ],
          [
           0.2238664513710081,
           0.22911590000559587,
           0.07351224339918239,
           0.8601098211209607,
           0.04192700649273108,
           0.020038138641648988,
           0.9972894494972075,
           1,
           0.909394393768143,
           0.6410265881970553,
           0.9190957402170564,
           0.048558531220889864,
           0.03412871549405343,
           0.9914277017734242,
           0.9952119770323818,
           0.20105162237520796
          ],
          [
           0.20122701103433557,
           0.19312360103790632,
           0.04372675740182588,
           0.9323775771153413,
           0.04916661042110438,
           0.024187202610805605,
           0.9078347416304584,
           0.9093943937681429,
           1,
           0.6804444374311102,
           0.965948947325138,
           0.05528743337736906,
           0.03872096158280721,
           0.904558090038752,
           0.9080994340246757,
           0.2023629279532594
          ],
          [
           0.24209342922269028,
           0.20452482514619216,
           0.21651268833869083,
           0.7020065360526149,
           0.31970344265479006,
           0.2699963603648436,
           0.6404499648393516,
           0.6410265881970553,
           0.6804444374311102,
           1,
           0.7325052936835846,
           0.33103973599731834,
           0.30562838347345134,
           0.6416557061164603,
           0.643476376033155,
           -0.014290692235408574
          ],
          [
           0.22650042327424097,
           0.21587837405669696,
           0.0523435652603429,
           0.9042857226393235,
           0.07785296478838352,
           0.048937541882115645,
           0.9194675554519683,
           0.9190957402170563,
           0.965948947325138,
           0.7325052936835846,
           1,
           0.08473451288162145,
           0.06482461801825791,
           0.9210920545278306,
           0.9237477781399264,
           0.18321352945619623
          ],
          [
           0.3087519609637229,
           0.28773760338255217,
           0.09514657858454259,
           0.08510109466387643,
           0.9948777593365916,
           0.921551939780132,
           0.05218755059420195,
           0.048558531220889864,
           0.05528743337736906,
           0.33103973599731834,
           0.08473451288162145,
           1,
           0.9630192607714181,
           0.053763567615874724,
           0.04707083194007308,
           -0.5605565548998098
          ],
          [
           0.2196089966151537,
           0.21203353659595045,
           0.11109901517845484,
           0.07568909993120397,
           0.9806790435468231,
           0.9797110281452648,
           0.03759477567521531,
           0.03412871549405343,
           0.03872096158280721,
           0.30562838347345134,
           0.06482461801825791,
           0.963019260771418,
           1,
           0.0384556165676123,
           0.031974863868421965,
           -0.7187311612183717
          ],
          [
           0.26039284178473004,
           0.2666361583306616,
           0.09645413412130048,
           0.8639781884287453,
           0.04805362476180013,
           0.027473133101098855,
           0.9970024030371512,
           0.9914277017734242,
           0.9045580900387521,
           0.6416557061164604,
           0.9210920545278306,
           0.05376356761587472,
           0.03845561656761231,
           1,
           0.994996715023901,
           0.19994372488976
          ],
          [
           0.2417711658326272,
           0.24311683351819216,
           0.08560037795984426,
           0.863296791860289,
           0.041232390117722756,
           0.02072307819991558,
           0.9944172485919879,
           0.9952119770323817,
           0.9080994340246756,
           0.6434763760331551,
           0.9237477781399265,
           0.047070831940073075,
           0.03197486386842197,
           0.9949967150239009,
           1,
           0.2027017772472101
          ],
          [
           0.17875574064241812,
           0.1493910703680265,
           0.03748595639301703,
           0.19904054079027855,
           -0.6218979541448502,
           -0.7808138043074043,
           0.2003340051073908,
           0.201051622375208,
           0.2023629279532594,
           -0.014290692235408574,
           0.18321352945619623,
           -0.5605565548998098,
           -0.7187311612183717,
           0.19994372488976,
           0.20270177724721009,
           1
          ]
         ]
        }
       ],
       "layout": {
        "coloraxis": {
         "cmax": 1,
         "cmin": -1,
         "colorbar": {
          "title": {
           "text": "Correlation"
          }
         },
         "colorscale": [
          [
           0,
           "rgb(103,0,31)"
          ],
          [
           0.1,
           "rgb(178,24,43)"
          ],
          [
           0.2,
           "rgb(214,96,77)"
          ],
          [
           0.3,
           "rgb(244,165,130)"
          ],
          [
           0.4,
           "rgb(253,219,199)"
          ],
          [
           0.5,
           "rgb(247,247,247)"
          ],
          [
           0.6,
           "rgb(209,229,240)"
          ],
          [
           0.7,
           "rgb(146,197,222)"
          ],
          [
           0.8,
           "rgb(67,147,195)"
          ],
          [
           0.9,
           "rgb(33,102,172)"
          ],
          [
           1,
           "rgb(5,48,97)"
          ]
         ],
         "showscale": false
        },
        "height": 1000,
        "margin": {
         "t": 60
        },
        "template": {
         "data": {
          "bar": [
           {
            "error_x": {
             "color": "#2a3f5f"
            },
            "error_y": {
             "color": "#2a3f5f"
            },
            "marker": {
             "line": {
              "color": "#E5ECF6",
              "width": 0.5
             },
             "pattern": {
              "fillmode": "overlay",
              "size": 10,
              "solidity": 0.2
             }
            },
            "type": "bar"
           }
          ],
          "barpolar": [
           {
            "marker": {
             "line": {
              "color": "#E5ECF6",
              "width": 0.5
             },
             "pattern": {
              "fillmode": "overlay",
              "size": 10,
              "solidity": 0.2
             }
            },
            "type": "barpolar"
           }
          ],
          "carpet": [
           {
            "aaxis": {
             "endlinecolor": "#2a3f5f",
             "gridcolor": "white",
             "linecolor": "white",
             "minorgridcolor": "white",
             "startlinecolor": "#2a3f5f"
            },
            "baxis": {
             "endlinecolor": "#2a3f5f",
             "gridcolor": "white",
             "linecolor": "white",
             "minorgridcolor": "white",
             "startlinecolor": "#2a3f5f"
            },
            "type": "carpet"
           }
          ],
          "choropleth": [
           {
            "colorbar": {
             "outlinewidth": 0,
             "ticks": ""
            },
            "type": "choropleth"
           }
          ],
          "contour": [
           {
            "colorbar": {
             "outlinewidth": 0,
             "ticks": ""
            },
            "colorscale": [
             [
              0,
              "#0d0887"
             ],
             [
              0.1111111111111111,
              "#46039f"
             ],
             [
              0.2222222222222222,
              "#7201a8"
             ],
             [
              0.3333333333333333,
              "#9c179e"
             ],
             [
              0.4444444444444444,
              "#bd3786"
             ],
             [
              0.5555555555555556,
              "#d8576b"
             ],
             [
              0.6666666666666666,
              "#ed7953"
             ],
             [
              0.7777777777777778,
              "#fb9f3a"
             ],
             [
              0.8888888888888888,
              "#fdca26"
             ],
             [
              1,
              "#f0f921"
             ]
            ],
            "type": "contour"
           }
          ],
          "contourcarpet": [
           {
            "colorbar": {
             "outlinewidth": 0,
             "ticks": ""
            },
            "type": "contourcarpet"
           }
          ],
          "heatmap": [
           {
            "colorbar": {
             "outlinewidth": 0,
             "ticks": ""
            },
            "colorscale": [
             [
              0,
              "#0d0887"
             ],
             [
              0.1111111111111111,
              "#46039f"
             ],
             [
              0.2222222222222222,
              "#7201a8"
             ],
             [
              0.3333333333333333,
              "#9c179e"
             ],
             [
              0.4444444444444444,
              "#bd3786"
             ],
             [
              0.5555555555555556,
              "#d8576b"
             ],
             [
              0.6666666666666666,
              "#ed7953"
             ],
             [
              0.7777777777777778,
              "#fb9f3a"
             ],
             [
              0.8888888888888888,
              "#fdca26"
             ],
             [
              1,
              "#f0f921"
             ]
            ],
            "type": "heatmap"
           }
          ],
          "heatmapgl": [
           {
            "colorbar": {
             "outlinewidth": 0,
             "ticks": ""
            },
            "colorscale": [
             [
              0,
              "#0d0887"
             ],
             [
              0.1111111111111111,
              "#46039f"
             ],
             [
              0.2222222222222222,
              "#7201a8"
             ],
             [
              0.3333333333333333,
              "#9c179e"
             ],
             [
              0.4444444444444444,
              "#bd3786"
             ],
             [
              0.5555555555555556,
              "#d8576b"
             ],
             [
              0.6666666666666666,
              "#ed7953"
             ],
             [
              0.7777777777777778,
              "#fb9f3a"
             ],
             [
              0.8888888888888888,
              "#fdca26"
             ],
             [
              1,
              "#f0f921"
             ]
            ],
            "type": "heatmapgl"
           }
          ],
          "histogram": [
           {
            "marker": {
             "pattern": {
              "fillmode": "overlay",
              "size": 10,
              "solidity": 0.2
             }
            },
            "type": "histogram"
           }
          ],
          "histogram2d": [
           {
            "colorbar": {
             "outlinewidth": 0,
             "ticks": ""
            },
            "colorscale": [
             [
              0,
              "#0d0887"
             ],
             [
              0.1111111111111111,
              "#46039f"
             ],
             [
              0.2222222222222222,
              "#7201a8"
             ],
             [
              0.3333333333333333,
              "#9c179e"
             ],
             [
              0.4444444444444444,
              "#bd3786"
             ],
             [
              0.5555555555555556,
              "#d8576b"
             ],
             [
              0.6666666666666666,
              "#ed7953"
             ],
             [
              0.7777777777777778,
              "#fb9f3a"
             ],
             [
              0.8888888888888888,
              "#fdca26"
             ],
             [
              1,
              "#f0f921"
             ]
            ],
            "type": "histogram2d"
           }
          ],
          "histogram2dcontour": [
           {
            "colorbar": {
             "outlinewidth": 0,
             "ticks": ""
            },
            "colorscale": [
             [
              0,
              "#0d0887"
             ],
             [
              0.1111111111111111,
              "#46039f"
             ],
             [
              0.2222222222222222,
              "#7201a8"
             ],
             [
              0.3333333333333333,
              "#9c179e"
             ],
             [
              0.4444444444444444,
              "#bd3786"
             ],
             [
              0.5555555555555556,
              "#d8576b"
             ],
             [
              0.6666666666666666,
              "#ed7953"
             ],
             [
              0.7777777777777778,
              "#fb9f3a"
             ],
             [
              0.8888888888888888,
              "#fdca26"
             ],
             [
              1,
              "#f0f921"
             ]
            ],
            "type": "histogram2dcontour"
           }
          ],
          "mesh3d": [
           {
            "colorbar": {
             "outlinewidth": 0,
             "ticks": ""
            },
            "type": "mesh3d"
           }
          ],
          "parcoords": [
           {
            "line": {
             "colorbar": {
              "outlinewidth": 0,
              "ticks": ""
             }
            },
            "type": "parcoords"
           }
          ],
          "pie": [
           {
            "automargin": true,
            "type": "pie"
           }
          ],
          "scatter": [
           {
            "fillpattern": {
             "fillmode": "overlay",
             "size": 10,
             "solidity": 0.2
            },
            "type": "scatter"
           }
          ],
          "scatter3d": [
           {
            "line": {
             "colorbar": {
              "outlinewidth": 0,
              "ticks": ""
             }
            },
            "marker": {
             "colorbar": {
              "outlinewidth": 0,
              "ticks": ""
             }
            },
            "type": "scatter3d"
           }
          ],
          "scattercarpet": [
           {
            "marker": {
             "colorbar": {
              "outlinewidth": 0,
              "ticks": ""
             }
            },
            "type": "scattercarpet"
           }
          ],
          "scattergeo": [
           {
            "marker": {
             "colorbar": {
              "outlinewidth": 0,
              "ticks": ""
             }
            },
            "type": "scattergeo"
           }
          ],
          "scattergl": [
           {
            "marker": {
             "colorbar": {
              "outlinewidth": 0,
              "ticks": ""
             }
            },
            "type": "scattergl"
           }
          ],
          "scattermapbox": [
           {
            "marker": {
             "colorbar": {
              "outlinewidth": 0,
              "ticks": ""
             }
            },
            "type": "scattermapbox"
           }
          ],
          "scatterpolar": [
           {
            "marker": {
             "colorbar": {
              "outlinewidth": 0,
              "ticks": ""
             }
            },
            "type": "scatterpolar"
           }
          ],
          "scatterpolargl": [
           {
            "marker": {
             "colorbar": {
              "outlinewidth": 0,
              "ticks": ""
             }
            },
            "type": "scatterpolargl"
           }
          ],
          "scatterternary": [
           {
            "marker": {
             "colorbar": {
              "outlinewidth": 0,
              "ticks": ""
             }
            },
            "type": "scatterternary"
           }
          ],
          "surface": [
           {
            "colorbar": {
             "outlinewidth": 0,
             "ticks": ""
            },
            "colorscale": [
             [
              0,
              "#0d0887"
             ],
             [
              0.1111111111111111,
              "#46039f"
             ],
             [
              0.2222222222222222,
              "#7201a8"
             ],
             [
              0.3333333333333333,
              "#9c179e"
             ],
             [
              0.4444444444444444,
              "#bd3786"
             ],
             [
              0.5555555555555556,
              "#d8576b"
             ],
             [
              0.6666666666666666,
              "#ed7953"
             ],
             [
              0.7777777777777778,
              "#fb9f3a"
             ],
             [
              0.8888888888888888,
              "#fdca26"
             ],
             [
              1,
              "#f0f921"
             ]
            ],
            "type": "surface"
           }
          ],
          "table": [
           {
            "cells": {
             "fill": {
              "color": "#EBF0F8"
             },
             "line": {
              "color": "white"
             }
            },
            "header": {
             "fill": {
              "color": "#C8D4E3"
             },
             "line": {
              "color": "white"
             }
            },
            "type": "table"
           }
          ]
         },
         "layout": {
          "annotationdefaults": {
           "arrowcolor": "#2a3f5f",
           "arrowhead": 0,
           "arrowwidth": 1
          },
          "autotypenumbers": "strict",
          "coloraxis": {
           "colorbar": {
            "outlinewidth": 0,
            "ticks": ""
           }
          },
          "colorscale": {
           "diverging": [
            [
             0,
             "#8e0152"
            ],
            [
             0.1,
             "#c51b7d"
            ],
            [
             0.2,
             "#de77ae"
            ],
            [
             0.3,
             "#f1b6da"
            ],
            [
             0.4,
             "#fde0ef"
            ],
            [
             0.5,
             "#f7f7f7"
            ],
            [
             0.6,
             "#e6f5d0"
            ],
            [
             0.7,
             "#b8e186"
            ],
            [
             0.8,
             "#7fbc41"
            ],
            [
             0.9,
             "#4d9221"
            ],
            [
             1,
             "#276419"
            ]
           ],
           "sequential": [
            [
             0,
             "#0d0887"
            ],
            [
             0.1111111111111111,
             "#46039f"
            ],
            [
             0.2222222222222222,
             "#7201a8"
            ],
            [
             0.3333333333333333,
             "#9c179e"
            ],
            [
             0.4444444444444444,
             "#bd3786"
            ],
            [
             0.5555555555555556,
             "#d8576b"
            ],
            [
             0.6666666666666666,
             "#ed7953"
            ],
            [
             0.7777777777777778,
             "#fb9f3a"
            ],
            [
             0.8888888888888888,
             "#fdca26"
            ],
            [
             1,
             "#f0f921"
            ]
           ],
           "sequentialminus": [
            [
             0,
             "#0d0887"
            ],
            [
             0.1111111111111111,
             "#46039f"
            ],
            [
             0.2222222222222222,
             "#7201a8"
            ],
            [
             0.3333333333333333,
             "#9c179e"
            ],
            [
             0.4444444444444444,
             "#bd3786"
            ],
            [
             0.5555555555555556,
             "#d8576b"
            ],
            [
             0.6666666666666666,
             "#ed7953"
            ],
            [
             0.7777777777777778,
             "#fb9f3a"
            ],
            [
             0.8888888888888888,
             "#fdca26"
            ],
            [
             1,
             "#f0f921"
            ]
           ]
          },
          "colorway": [
           "#636efa",
           "#EF553B",
           "#00cc96",
           "#ab63fa",
           "#FFA15A",
           "#19d3f3",
           "#FF6692",
           "#B6E880",
           "#FF97FF",
           "#FECB52"
          ],
          "font": {
           "color": "#2a3f5f"
          },
          "geo": {
           "bgcolor": "white",
           "lakecolor": "white",
           "landcolor": "#E5ECF6",
           "showlakes": true,
           "showland": true,
           "subunitcolor": "white"
          },
          "hoverlabel": {
           "align": "left"
          },
          "hovermode": "closest",
          "mapbox": {
           "style": "light"
          },
          "paper_bgcolor": "white",
          "plot_bgcolor": "#E5ECF6",
          "polar": {
           "angularaxis": {
            "gridcolor": "white",
            "linecolor": "white",
            "ticks": ""
           },
           "bgcolor": "#E5ECF6",
           "radialaxis": {
            "gridcolor": "white",
            "linecolor": "white",
            "ticks": ""
           }
          },
          "scene": {
           "xaxis": {
            "backgroundcolor": "#E5ECF6",
            "gridcolor": "white",
            "gridwidth": 2,
            "linecolor": "white",
            "showbackground": true,
            "ticks": "",
            "zerolinecolor": "white"
           },
           "yaxis": {
            "backgroundcolor": "#E5ECF6",
            "gridcolor": "white",
            "gridwidth": 2,
            "linecolor": "white",
            "showbackground": true,
            "ticks": "",
            "zerolinecolor": "white"
           },
           "zaxis": {
            "backgroundcolor": "#E5ECF6",
            "gridcolor": "white",
            "gridwidth": 2,
            "linecolor": "white",
            "showbackground": true,
            "ticks": "",
            "zerolinecolor": "white"
           }
          },
          "shapedefaults": {
           "line": {
            "color": "#2a3f5f"
           }
          },
          "ternary": {
           "aaxis": {
            "gridcolor": "white",
            "linecolor": "white",
            "ticks": ""
           },
           "baxis": {
            "gridcolor": "white",
            "linecolor": "white",
            "ticks": ""
           },
           "bgcolor": "#E5ECF6",
           "caxis": {
            "gridcolor": "white",
            "linecolor": "white",
            "ticks": ""
           }
          },
          "title": {
           "x": 0.05
          },
          "xaxis": {
           "automargin": true,
           "gridcolor": "white",
           "linecolor": "white",
           "ticks": "",
           "title": {
            "standoff": 15
           },
           "zerolinecolor": "white",
           "zerolinewidth": 2
          },
          "yaxis": {
           "automargin": true,
           "gridcolor": "white",
           "linecolor": "white",
           "ticks": "",
           "title": {
            "standoff": 15
           },
           "zerolinecolor": "white",
           "zerolinewidth": 2
          }
         }
        },
        "title": {
         "text": "Correlation matrix between metrics"
        },
        "width": 1000,
        "xaxis": {
         "anchor": "y",
         "constrain": "domain",
         "domain": [
          0,
          1
         ],
         "scaleanchor": "y",
         "ticktext": [
          "Euclidean distance between cheese and decision square",
          "Taxicab distance between cheese and decision square",
          "Steps between cheese and decision square",
          "Steps between cheese and top right square",
          "Euclidean distance between cheese and top right square",
          "Taxicab distance between cheese and top right square",
          "Euclidean distance between decision square and top right square",
          "Taxicab distance between decision square and top right square",
          "Steps between decision square and top right square",
          "Steps between cheese and top-right 5x5",
          "Steps between decision square and top-right 5x5",
          "Euclidean distance between cheese and top-right 5x5",
          "Taxicab distance between cheese and top-right 5x5",
          "Euclidean distance between decision square and top-right 5x5",
          "Taxicab distance between decision square and top-right 5x5",
          "Norm of cheese coordinate"
         ],
         "tickvals": [
          0,
          1,
          2,
          3,
          4,
          5,
          6,
          7,
          8,
          9,
          10,
          11,
          12,
          13,
          14,
          15
         ],
         "title": {
          "text": ""
         }
        },
        "yaxis": {
         "anchor": "x",
         "autorange": "reversed",
         "constrain": "domain",
         "domain": [
          0,
          1
         ],
         "ticktext": [
          "Euclidean distance between cheese and decision square",
          "Taxicab distance between cheese and decision square",
          "Steps between cheese and decision square",
          "Steps between cheese and top right square",
          "Euclidean distance between cheese and top right square",
          "Taxicab distance between cheese and top right square",
          "Euclidean distance between decision square and top right square",
          "Taxicab distance between decision square and top right square",
          "Steps between decision square and top right square",
          "Steps between cheese and top-right 5x5",
          "Steps between decision square and top-right 5x5",
          "Euclidean distance between cheese and top-right 5x5",
          "Taxicab distance between cheese and top-right 5x5",
          "Euclidean distance between decision square and top-right 5x5",
          "Taxicab distance between decision square and top-right 5x5",
          "Norm of cheese coordinate"
         ],
         "tickvals": [
          0,
          1,
          2,
          3,
          4,
          5,
          6,
          7,
          8,
          9,
          10,
          11,
          12,
          13,
          14,
          15
         ],
         "title": {
          "text": ""
         }
        }
       }
      }
     },
     "metadata": {},
     "output_type": "display_data"
    }
   ],
   "source": [
    "# Show the correlation matrix in plotly\n",
    "final_metrics = ['euc_dist_cheese_decision_square']\n",
    "\n",
    "correlations = np.zeros((len(filtered_rm), len(filtered_rm)))\n",
    "for i, metric1 in enumerate(filtered_rm.keys()):\n",
    "    for j, metric2 in enumerate(filtered_rm.keys()):\n",
    "        correlations[i, j] = np.corrcoef(filtered_rm[metric1], filtered_rm[metric2])[0,1]\n",
    "\n",
    "# Show the correlation matrix in plotly, with a colorbar \n",
    "# On mouse over, show the name of each metric\n",
    "corrmap = px.imshow(correlations, labels=dict(x='Metric 1', y='Metric 2', color='Correlation'), color_continuous_scale='RdBu', zmin=-1, zmax=1)\n",
    "# Hover template: show the name of each metric, by looking up its value in the x and y lists \n",
    "corrmap.update_traces(hovertemplate='(%{x}, %{y}) = %{z:.3f} <extra></extra>')\n",
    "\n",
    "corrmap.update_layout(title_text='Correlation matrix between metrics')\n",
    "# Don't show numbers over each cell\n",
    "corrmap.update_traces(text=None)\n",
    "# Show x and y axis labels\n",
    "corrmap.update_xaxes(ticktext=list(map(english_attr,filtered_rm.keys())), tickvals=list(range(len(filtered_rm.keys()))))\n",
    "\n",
    "corrmap.update_yaxes(ticktext=list(map(english_attr, filtered_rm.keys())), tickvals=list(range(len(filtered_rm.keys()))))\n",
    "\n",
    "# Hide x and y axis titles\n",
    "corrmap.update_xaxes(title_text='')\n",
    "corrmap.update_yaxes(title_text='')  \n",
    "\n",
    "# Hide the color bar \n",
    "corrmap.update_layout(coloraxis_showscale=False)\n",
    "\n",
    "# Make size of plot a bit bigger\n",
    "corrmap.update_layout(width=1000, height=1000)\n",
    "corrmap.show()"
   ]
  },
  {
   "attachments": {},
   "cell_type": "markdown",
   "id": "41d1c538",
   "metadata": {},
   "source": [
    "And here are the strongest correlations:"
   ]
  },
  {
   "cell_type": "code",
   "execution_count": 12,
   "id": "8514cf7b",
   "metadata": {},
   "outputs": [
    {
     "name": "stdout",
     "output_type": "stream",
     "text": [
      "+-----------------------------------------------------------------+-------------+---------------------------------------------------------------+\n",
      "|                             \u001b[1mMetric 1\u001b[0m                            | \u001b[1mCorrelation\u001b[0m |                            \u001b[1mMetric 2\u001b[0m                           |\n",
      "+-----------------------------------------------------------------+-------------+---------------------------------------------------------------+\n",
      "| Euclidean distance between decision square and top right square |    0.997    | Taxicab distance between decision square and top right square |\n",
      "| Euclidean distance between decision square and top right square |    0.997    |  \u001b[1mEuclidean distance between decision square and top-right 5x5\u001b[0m |\n",
      "|  Taxicab distance between decision square and top right square  |    0.995    |   Taxicab distance between decision square and top-right 5x5  |\n",
      "|   \u001b[1mEuclidean distance between decision square and top-right 5x5\u001b[0m  |    0.995    |   Taxicab distance between decision square and top-right 5x5  |\n",
      "|      \u001b[1mEuclidean distance between cheese and top right square\u001b[0m     |    0.995    |      Euclidean distance between cheese and top-right 5x5      |\n",
      "| Euclidean distance between decision square and top right square |    0.994    |   Taxicab distance between decision square and top-right 5x5  |\n",
      "|  Taxicab distance between decision square and top right square  |    0.991    |  \u001b[1mEuclidean distance between decision square and top-right 5x5\u001b[0m |\n",
      "|      \u001b[1mEuclidean distance between cheese and top right square\u001b[0m     |    0.981    |       Taxicab distance between cheese and top-right 5x5       |\n",
      "|       Taxicab distance between cheese and top right square      |    0.980    |       Taxicab distance between cheese and top-right 5x5       |\n",
      "|        Steps between decision square and top right square       |    0.966    |        Steps between decision square and top-right 5x5        |\n",
      "|       Euclidean distance between cheese and top-right 5x5       |    0.963    |       Taxicab distance between cheese and top-right 5x5       |\n",
      "|      \u001b[1mEuclidean distance between cheese and top right square\u001b[0m     |    0.954    |      Taxicab distance between cheese and top right square     |\n",
      "|      \u001b[1mEuclidean distance between cheese and decision square\u001b[0m      |    0.950    |      Taxicab distance between cheese and decision square      |\n",
      "|            Steps between cheese and top right square            |    0.932    |       Steps between decision square and top right square      |\n",
      "|         Steps between decision square and top-right 5x5         |    0.924    |   Taxicab distance between decision square and top-right 5x5  |\n",
      "|       Taxicab distance between cheese and top right square      |    0.922    |      Euclidean distance between cheese and top-right 5x5      |\n",
      "|         Steps between decision square and top-right 5x5         |    0.921    |  \u001b[1mEuclidean distance between decision square and top-right 5x5\u001b[0m |\n",
      "| Euclidean distance between decision square and top right square |    0.919    |        Steps between decision square and top-right 5x5        |\n",
      "|  Taxicab distance between decision square and top right square  |    0.919    |        Steps between decision square and top-right 5x5        |\n",
      "|  Taxicab distance between decision square and top right square  |    0.909    |       Steps between decision square and top right square      |\n",
      "|        Steps between decision square and top right square       |    0.908    |   Taxicab distance between decision square and top-right 5x5  |\n",
      "| Euclidean distance between decision square and top right square |    0.908    |       Steps between decision square and top right square      |\n",
      "|        Steps between decision square and top right square       |    0.905    |  \u001b[1mEuclidean distance between decision square and top-right 5x5\u001b[0m |\n",
      "|            Steps between cheese and top right square            |    0.904    |        Steps between decision square and top-right 5x5        |\n",
      "|            Steps between cheese and top right square            |    0.864    |  \u001b[1mEuclidean distance between decision square and top-right 5x5\u001b[0m |\n",
      "+-----------------------------------------------------------------+-------------+---------------------------------------------------------------+\n"
     ]
    }
   ],
   "source": [
    "# Get the top k absolute value correlations, ignoring diagonals\n",
    "k = 50\n",
    "len_diagonal = len(correlations)\n",
    "topk = np.argsort(np.abs(correlations).flatten())[-(k+len_diagonal):][::-1] # Diagonal will be 1, so just add in len_diagonal\n",
    "\n",
    "# Print the top k correlations in a pretty table\n",
    "table = prettytable.PrettyTable() \n",
    "table.field_names = map(bold_text, [\"Metric 1\", \"Correlation\", \"Metric 2\"])\n",
    "\n",
    "for i in topk:\n",
    "    # Get the row and column of the correlation\n",
    "    row, col = i // len(correlations), i % len(correlations)\n",
    "    # Ignore the diagonal and the lower triangle\n",
    "    if row >= col:\n",
    "        continue\n",
    "    # Get the metric names\n",
    "    metric1, metric2 = list(filtered_rm.keys())[row], list(filtered_rm.keys())[col]\n",
    "    # Add the row to the table\n",
    "    table.add_row([format_attr(metric1), f'{correlations[row, col]:.3f}', format_attr(metric2)])\n",
    "\n",
    "print(table)"
   ]
  },
  {
   "cell_type": "code",
   "execution_count": 31,
   "id": "e51004a0",
   "metadata": {},
   "outputs": [],
   "source": [
    "def run_regression(attrs : List[str], data_frame : pd.DataFrame):\n",
    "    \"\"\" Runs a LASSO-regularized regression on the data using the given attributes. Returns the clf. \"\"\" \n",
    "    assert len(attrs) > 0, \"Must have at least one attribute to regress upon\"\n",
    "    for attr in attrs:\n",
    "        assert attr in data_frame, f\"Attribute {attr} not in data frame\"\n",
    "    assert 'cheese' in data_frame, \"Attribute 'cheese' not in data frame\"\n",
    "    \n",
    "    x = data_frame[attrs] \n",
    "    y = np.ravel(data_frame[['cheese']])\n",
    "\n",
    "    clf = LogisticRegression(random_state=0, solver ='liblinear', penalty= 'l1').fit(x, y)\n",
    "    return clf\n",
    "\n",
    "def compute_avg_accuracy(attrs : List[str], data_frame : pd.DataFrame, num_runs : int) -> float:\n",
    "    \"\"\" Runs a LASSO-regularized regression num_runs times on the data using the given attributes. Returns the average accuracy. \"\"\" \n",
    "    assert len(attrs) > 0, \"Must have at least one attribute to regress upon\"\n",
    "    assert num_runs > 0, \"Must run at least one time\"\n",
    "\n",
    "    accuracies = []\n",
    "    for i in range(num_runs):\n",
    "        train, test = train_test_split(data_frame, test_size=0.2)\n",
    "        clf = run_regression(attrs, train)\n",
    "        accuracies.append(clf.score(test[attrs], test['cheese']))\n",
    "    return np.mean(accuracies)\n",
    "\n",
    "def display_coeff_table(clf : Any, attrs : List[str]):\n",
    "    \"\"\" Displays the coefficients for each attribute, printing the label next to each coefficient. \"\"\" \n",
    "    assert len(attrs) > 0, \"Must have at least one attribute\"\n",
    "\n",
    "    # Print the coefficient for each attribute, printing the label next to each coefficient\n",
    "    table = prettytable.PrettyTable()\n",
    "    table.field_names = [bold_text(\"Attribute\"), bold_text(\"Coefficient\")]\n",
    "    for i, attr in enumerate(attrs):\n",
    "        table.add_row([format_attr(attr), f'{clf.coef_[0][i]:.3f}'])\n",
    "\n",
    "    # Add a row for the intercept\n",
    "    table.add_row([\"Intercept\", f'{clf.intercept_[0]:.3f}'])\n",
    "    print(table)"
   ]
  },
  {
   "attachments": {},
   "cell_type": "markdown",
   "id": "d5bf611e",
   "metadata": {},
   "source": [
    "# Using maze features to predict whether the mouse got the cheese "
   ]
  },
  {
   "cell_type": "code",
   "execution_count": 32,
   "id": "1f3f5156",
   "metadata": {},
   "outputs": [
    {
     "name": "stdout",
     "output_type": "stream",
     "text": [
      "+-----------------------------------------------------------------+-------------+\n",
      "|                            \u001b[1mAttribute\u001b[0m                            | \u001b[1mCoefficient\u001b[0m |\n",
      "+-----------------------------------------------------------------+-------------+\n",
      "|              Steps between cheese and top-right 5x5             |    0.357    |\n",
      "|       Euclidean distance between cheese and top-right 5x5       |    -0.159   |\n",
      "|         Steps between decision square and top-right 5x5         |    0.052    |\n",
      "|   \u001b[1mEuclidean distance between decision square and top-right 5x5\u001b[0m  |    0.314    |\n",
      "|            Steps between cheese and top right square            |    0.000    |\n",
      "|      \u001b[1mEuclidean distance between cheese and top right square\u001b[0m     |    -3.459   |\n",
      "|        Steps between decision square and top right square       |    0.858    |\n",
      "| Euclidean distance between decision square and top right square |    0.000    |\n",
      "|             \u001b[1mSteps between cheese and decision square\u001b[0m            |    -0.236   |\n",
      "|      \u001b[1mEuclidean distance between cheese and decision square\u001b[0m      |    -0.154   |\n",
      "|                    Norm of cheese coordinate                    |    -0.092   |\n",
      "|                            Intercept                            |    -2.212   |\n",
      "+-----------------------------------------------------------------+-------------+\n",
      "The average regression accuracy is 0.867.\n"
     ]
    }
   ],
   "source": [
    "keys = list(filtered_rm.keys())\n",
    "\n",
    "# Data will track the data for each run, and filtered_data will track the data for each run that got cheese\n",
    "data = { key: recorded_metrics[key] for key in keys }\n",
    "filtered_data = { key: filtered_rm[key] for key in keys }\n",
    "\n",
    "df = pd.DataFrame(data) \n",
    "filtered_df= pd.DataFrame(filtered_data) \n",
    "\n",
    "df= stats.zscore(df) # zscore standardizes the data by subtracting the mean and dividing by the standard deviation\n",
    "filtered_df= stats.zscore(filtered_df)\n",
    "\n",
    "# Now we want to add the cheese column to the dataframe\n",
    "df ['cheese'] = pd.DataFrame({'cheese': [(runs[i].got_cheese) for i in range(len(runs))]})\n",
    "filtered_df ['cheese'] = pd.DataFrame({'cheese': [(runs[i].got_cheese) for i in sp_indexes]})\n",
    "\n",
    "# Choose which keys to regress upon\n",
    "attributes = [\n",
    "    'steps_between_cheese_5x5', \n",
    "    'euc_dist_cheese_5x5',\n",
    "    'steps_between_decision_square_5x5',\n",
    "    'euc_dist_decision_square_5x5',\n",
    "    'steps_between_cheese_top_right',\n",
    "    'euc_dist_cheese_top_right',\n",
    "    'steps_between_decision_square_top_right',\n",
    "    'euc_dist_decision_square_top_right',\n",
    "    'steps_between_cheese_decision_square',\n",
    "    'euc_dist_cheese_decision_square',\n",
    "    'cheese_coord_norm'\n",
    "    ] \n",
    "\n",
    "n_runs = 50\n",
    "\n",
    "avg_accuracy = 0\n",
    "avg_coefficients = np.zeros(len(attributes)+1) # Add one for the intercept \n",
    "# We reduce variance in the score by running the regression multiple times\n",
    "for x in range(n_runs): \n",
    "    train, test = train_test_split(filtered_df, test_size=0.2)\n",
    "\n",
    "    clf = run_regression(attributes, train)\n",
    "    avg_coefficients[:-1] = clf.coef_[0] + avg_coefficients[:-1] # Update all but last entry with coeffs\n",
    "    avg_coefficients[-1] += clf.intercept_[0] # Last entry is the intercept\n",
    "\n",
    "    x = test[attributes]\n",
    "    y = np.ravel(test[['cheese']])\n",
    "    avg_accuracy += clf.score(x, y)\n",
    "\n",
    "avg_accuracy /= n_runs\n",
    "avg_coefficients /= n_runs\n",
    "# Print the coefficient for each attribute, printing the label next to each coefficient (for the last run)\n",
    "display_coeff_table(clf, attributes)\n",
    "# print(avg_coefficients / n_runs) # TODO show what avg coefficients are\n",
    "print(f'The average regression accuracy is {avg_accuracy:.3f}.')\n",
    "\n",
    "# Record the sign of the coefficients for each attribute\n",
    "regression_coeff_signs = { attr: (clf.coef_[0][i] > 0) for i, attr in enumerate(attributes) if attr in claimed_attributes }"
   ]
  },
  {
   "cell_type": "code",
   "execution_count": 41,
   "id": "fc8c909c",
   "metadata": {},
   "outputs": [
    {
     "name": "stdout",
     "output_type": "stream",
     "text": [
      "Accuracy of the trivial \"always yes\" or \"always no\" predictor in the unfiltered data set: 0.714\n",
      "Accuracy of the trivial \"always yes\" or \"always no\" predictor in the filtered data set: 0.674\n",
      "The filtered data set is used for regression in this document.\n"
     ]
    }
   ],
   "source": [
    "for idx, dframe in enumerate([df, filtered_df]):\n",
    "    cheese_rate = sum(dframe[\"cheese\"]) / len(dframe[\"cheese\"])\n",
    "    max_baseline = max(cheese_rate, 1-cheese_rate) # Always predict \"cheese\" or \"no cheese\"\n",
    "    print(f'Accuracy of the trivial \"always yes\" or \"always no\" predictor in the {\"unfiltered\" if idx == 0 else \"filtered\"} data set: {max_baseline:.3f}')\n",
    "\n",
    "print(\"The filtered data set is used for regression in this document.\")"
   ]
  },
  {
   "attachments": {},
   "cell_type": "markdown",
   "id": "19678d56",
   "metadata": {},
   "source": [
    "However, for some reason, just regressing on cheese distances to\n",
    "decision square doesn't appear to improve accuracy over just predicting\n",
    "\"always yes\" or \"always no\"!"
   ]
  },
  {
   "cell_type": "code",
   "execution_count": 39,
   "id": "f22f899f",
   "metadata": {},
   "outputs": [
    {
     "name": "stdout",
     "output_type": "stream",
     "text": [
      "\n",
      "+------------------------------------------+-------------+\n",
      "|                \u001b[1mAttribute\u001b[0m                 | \u001b[1mCoefficient\u001b[0m |\n",
      "+------------------------------------------+-------------+\n",
      "| \u001b[1mSteps between cheese and decision square\u001b[0m |    0.357    |\n",
      "|                Intercept                 |    -2.212   |\n",
      "+------------------------------------------+-------------+\n",
      "The accuracy for these attributes is 0.663, averaged over 50 regressions.\n",
      "\n",
      "\n",
      "+-------------------------------------------------------+-------------+\n",
      "|                       \u001b[1mAttribute\u001b[0m                       | \u001b[1mCoefficient\u001b[0m |\n",
      "+-------------------------------------------------------+-------------+\n",
      "|        \u001b[1mSteps between cheese and decision square\u001b[0m       |    0.357    |\n",
      "| \u001b[1mEuclidean distance between cheese and decision square\u001b[0m |    -0.159   |\n",
      "|                       Intercept                       |    -2.212   |\n",
      "+-------------------------------------------------------+-------------+\n",
      "The accuracy for these attributes is 0.680, averaged over 50 regressions.\n",
      "\n",
      "\n",
      "+-----------------------------------------------------------------+-------------+\n",
      "|                            \u001b[1mAttribute\u001b[0m                            | \u001b[1mCoefficient\u001b[0m |\n",
      "+-----------------------------------------------------------------+-------------+\n",
      "|              Steps between cheese and top-right 5x5             |    0.357    |\n",
      "|       Euclidean distance between cheese and top-right 5x5       |    -0.159   |\n",
      "|         Steps between decision square and top-right 5x5         |    0.052    |\n",
      "|   \u001b[1mEuclidean distance between decision square and top-right 5x5\u001b[0m  |    0.314    |\n",
      "|            Steps between cheese and top right square            |    0.000    |\n",
      "|      \u001b[1mEuclidean distance between cheese and top right square\u001b[0m     |    -3.459   |\n",
      "|        Steps between decision square and top right square       |    0.858    |\n",
      "| Euclidean distance between decision square and top right square |    0.000    |\n",
      "|             \u001b[1mSteps between cheese and decision square\u001b[0m            |    -0.236   |\n",
      "|      \u001b[1mEuclidean distance between cheese and decision square\u001b[0m      |    -0.154   |\n",
      "|                    Norm of cheese coordinate                    |    -0.092   |\n",
      "|                            Intercept                            |    -2.212   |\n",
      "+-----------------------------------------------------------------+-------------+\n",
      "The accuracy for these attributes is 0.879, averaged over 50 regressions.\n",
      "\n"
     ]
    }
   ],
   "source": [
    "attr_lists = [['steps_between_cheese_decision_square'],\n",
    "              ['steps_between_cheese_decision_square', 'euc_dist_cheese_decision_square'],\n",
    "              attributes] # TODO why is this true?\n",
    "\n",
    "for attr_list in attr_lists:\n",
    "    print()\n",
    "    display_coeff_table(clf, attr_list)\n",
    "    print(f'The accuracy for these attributes is {compute_avg_accuracy(attr_list, filtered_df, 50):.3f}, averaged over 50 regressions.')\n",
    "    print()"
   ]
  },
  {
   "attachments": {},
   "cell_type": "markdown",
   "id": "33762c04",
   "metadata": {},
   "source": [
    "# Stress-testing our results\n",
    "Overall, the features we claimed to be important, still seem to be important, although to different strengths. The claimed attributes don't exhibit sign-flips in a range of conditions.\n",
    "\n",
    "## Trying to re-pinpoint the claimed features\n",
    "Peli Grietzer originally found the bolded attributes using the following methodology, which he describes as follows:\n",
    "\n",
    "> I did multiple logistic regression with all the factors at once, then did a multiple logistic regression with all-factors-except-x for each x and wrote down which factors caused test accuracy loss when dropped.\n",
    ">\n",
    "> Four factors caused non-trivial test accuracy loss, so I took those four factors and did a multiple logistic regression on these four factors, and saw that the test accuracy was as good as with all factors.\n",
    ">\n",
    "> I then tested dropping each of the four factors and using just three, and saw that there was a non-trivial drop in test accuracy for each of them.\n",
    ">\n",
    "> I then tested adding one additional factor to the four factors, trying every unused factor and seeing no increase in test accuracy.\n",
    "\n",
    "This section implements that methodology. This doesn't seem to replicate, which is some evidence against our initial results -- there's less of a reason to pick out the four attributes we did."
   ]
  },
  {
   "cell_type": "code",
   "execution_count": 15,
   "id": "d7fda0ed",
   "metadata": {},
   "outputs": [
    {
     "name": "stdout",
     "output_type": "stream",
     "text": [
      "When excluded, the following attributes caused a >0.5% relative drop in accuracy:\n",
      "\tTaxicab distance between cheese and decision square\n"
     ]
    }
   ],
   "source": [
    "# Do a multiple logistic regression with all-attributes-except-x for each x and store which attributes caused test accuracy loss when dropped.\n",
    "relative_drop = .005\n",
    "accuracy_drop_attrs = []\n",
    "num_runs = 5\n",
    "\n",
    "for attr in filtered_rm.keys():\n",
    "    attr_accuracy = compute_avg_accuracy(list(filtered_rm.keys() - {attr}), filtered_df, num_runs)\n",
    "    if attr_accuracy < avg_accuracy * (1 - relative_drop):\n",
    "        accuracy_drop_attrs.append(attr)\n",
    "\n",
    "print(f'When excluded, the following attributes caused a >{relative_drop*100}% relative drop in accuracy:')\n",
    "for attr in accuracy_drop_attrs:\n",
    "    print(f'\\t{format_attr(attr)}')"
   ]
  },
  {
   "cell_type": "code",
   "execution_count": 16,
   "id": "88a3d5ff",
   "metadata": {},
   "outputs": [
    {
     "name": "stdout",
     "output_type": "stream",
     "text": [
      "The accuracy of the regression with the dropped attributes is 0.696.\n",
      "Accuracy of regression with dropped attributes is not as good as with all attributes.\n",
      "The accuracy of the regression with (Taxicab distance between cheese and decision square) dropped is not significantly lower than with all attributes (0.866).\n",
      "\n",
      "The accuracy of the regression with (Taxicab distance between decision square and top right square) added is not significantly higher than with all attributes.\n",
      "The accuracy of the regression with (Euclidean distance between decision square and top right square) added is not significantly higher than with all attributes.\n",
      "The accuracy of the regression with (Taxicab distance between decision square and top-right 5x5) added is not significantly higher than with all attributes.\n",
      "The accuracy of the regression with (\u001b[1mEuclidean distance between decision square and top-right 5x5\u001b[0m) added is not significantly higher than with all attributes.\n",
      "The accuracy of the regression with (Taxicab distance between cheese and top-right 5x5) added is not significantly higher than with all attributes.\n",
      "The accuracy of the regression with (\u001b[1mEuclidean distance between cheese and decision square\u001b[0m) added is not significantly higher than with all attributes.\n",
      "The accuracy of the regression with (Steps between cheese and top-right 5x5) added is not significantly higher than with all attributes.\n",
      "The accuracy of the regression with (Steps between cheese and top right square) added is not significantly higher than with all attributes.\n",
      "The accuracy of the regression with (\u001b[1mSteps between cheese and decision square\u001b[0m) added is not significantly higher than with all attributes.\n",
      "The accuracy of the regression with (Norm of cheese coordinate) added is not significantly higher than with all attributes.\n"
     ]
    }
   ],
   "source": [
    "# Take these attributes and run a multiple logistic regression on these attributes, and check that the test accuracy was as good as with all attributes.\n",
    "if len(accuracy_drop_attrs) > 0:\n",
    "    new_accuracy = compute_avg_accuracy(accuracy_drop_attrs, filtered_df, num_runs=10)\n",
    "    print(f'The accuracy of the regression with the dropped attributes is {new_accuracy:.3f}.')\n",
    "    if new_accuracy < avg_accuracy * (1-relative_drop): \n",
    "        print(\"Accuracy of regression with dropped attributes is not as good as with all attributes.\")\n",
    "\n",
    "    # Try dropping each of the attributes that caused a drop in accuracy and verify that the accuracy drops significantly\n",
    "    for attr in accuracy_drop_attrs:\n",
    "        attr_accuracy = compute_avg_accuracy(list(filtered_rm.keys() - {attr}), filtered_df, num_runs=1)\n",
    "        if attr_accuracy > avg_accuracy * (1-relative_drop): \n",
    "            print(f'The accuracy of the regression with ({format_attr(attr)}) dropped is not significantly lower than with all attributes ({avg_accuracy:.3f}).')\n",
    "    print()\n",
    "\n",
    "    # Try adding each of the attributes that did not cause a drop in accuracy and see if the accuracy increases significantly\n",
    "    for attr in list(filtered_rm.keys() - set(accuracy_drop_attrs)):\n",
    "        attr_accuracy = compute_avg_accuracy(list(filtered_rm.keys() | {attr}), filtered_df, num_runs=1)\n",
    "        if attr_accuracy > avg_accuracy * (1-relative_drop): \n",
    "            print(f'The accuracy of the regression with ({format_attr(attr)}) added is not significantly higher than with all attributes.')"
   ]
  },
  {
   "cell_type": "code",
   "execution_count": 17,
   "id": "927b82c3",
   "metadata": {},
   "outputs": [
    {
     "name": "stdout",
     "output_type": "stream",
     "text": [
      "+--------------------------------------------------------------+---------------------+\n",
      "|                          \u001b[1mAttribute\u001b[0m                           |     \u001b[1mCoefficient\u001b[0m     |\n",
      "+--------------------------------------------------------------+---------------------+\n",
      "|           \u001b[1mSteps between cheese and decision square\u001b[0m           | -0.1672270194312876 |\n",
      "|    \u001b[1mEuclidean distance between cheese and decision square\u001b[0m     | -0.3789134564076006 |\n",
      "|    \u001b[1mEuclidean distance between cheese and top right square\u001b[0m    | -3.2781814812080596 |\n",
      "| \u001b[1mEuclidean distance between decision square and top-right 5x5\u001b[0m |  1.3479111405270023 |\n",
      "|                          Intercept                           | -2.2081096630218724 |\n",
      "+--------------------------------------------------------------+---------------------+\n",
      "Claimed attributes obtain accuracy of 0.865, which is 0.085 absolute percent less than when all features are used.\n"
     ]
    }
   ],
   "source": [
    "claimed_accuracy = compute_avg_accuracy(claimed_attributes, filtered_df, num_runs=10)\n",
    "clf = run_regression(claimed_attributes, filtered_df)\n",
    "display_coeff_table(clf, claimed_attributes)\n",
    "print(f'Claimed attributes obtain accuracy of {claimed_accuracy:.3f}, which is {(avg_accuracy - claimed_accuracy)*100:.3f} absolute percent less than when all features are used.')"
   ]
  },
  {
   "attachments": {},
   "cell_type": "markdown",
   "id": "116e6e4c",
   "metadata": {},
   "source": [
    "## Robustness to regressing on random subsets of attributes\n",
    "\n",
    "When regressing on related factors (e.g. Euclidean and step distance to cheese from decision square), we might wonder: \"Did these coefficients only come out this way as a fluke of the regression itself?\". For example, factor subset X may induce feature $a$ to have a positive coefficient, while a different factor subset Y induces $a$ with a negative regression coefficient. Encouragingly, the signs of our claimed attributes are highly robust to which set of factors we regress upon."
   ]
  },
  {
   "cell_type": "code",
   "execution_count": 19,
   "id": "224e12a0",
   "metadata": {},
   "outputs": [],
   "source": [
    "def run_subset_regression(data_frame : pd.DataFrame, n_attrs : int, verbose : bool = False) -> Tuple[Any, List[str]]:\n",
    "    \"\"\" Runs a regression on the data frame using a random subset of n_attrs attributes. Returns the clf and the attributes used. \"\"\"\n",
    "    attrs = random.sample(list(filtered_rm.keys() - {'cheese'}), n_attrs)\n",
    "    clf = run_regression(attrs, train)\n",
    "    \n",
    "    if verbose: display_coeff_table(clf, attrs)\n",
    "\n",
    "    return clf, attrs\n",
    "\n",
    "def check_claimed_signs(clf : Any, attrs : List[str], data_frame : pd.DataFrame, verbose : bool = False) -> Dict[str, int]:\n",
    "    \"\"\" Checks if the signs of the regression coefficients for the given attributes match regression_coeff_signs. Returns a dictionary which counts the number of times each attribute had the wrong sign. \"\"\"\n",
    "    counters = defaultdict(int)\n",
    "\n",
    "    for i, attr in enumerate(attrs):\n",
    "        if attr not in regression_coeff_signs.keys() or attr in counters: continue\n",
    "        assert attr in data_frame, f\"Attribute {attr} not in data frame\"\n",
    "        if (clf.coef_[0][i] >= 0) != regression_coeff_signs[attr]:\n",
    "            if verbose: \n",
    "                print(f\"Attribute {attr} has incorrect sign; expected {regression_coeff_signs[attr]} but got {clf.coef_[0][i] >= 0}\")\n",
    "                display_coeff_table(clf, attrs)\n",
    "            counters[attr] += 1 # Increment the attribute that had the incorrect sign\n",
    "    return counters\n",
    "\n",
    "# Run the regression multiple times and check the signs\n",
    "# See distribution of sign errors over multiple runs\n",
    "counter = { attr: 0 for attr in claimed_attributes }\n",
    "n_rand_runs = 200 \n",
    "for x in range(n_rand_runs):\n",
    "    # Draw a random number of attributes to use\n",
    "    n_attrs = random.randint(1, len(filtered_rm.keys()) - 1)\n",
    "    clf, attrs = run_subset_regression(train, n_attrs)\n",
    "    new_counter = check_claimed_signs(clf, attrs, train, verbose=False)\n",
    "    for key in new_counter.keys():  \n",
    "        counter[key] += new_counter[key]"
   ]
  },
  {
   "cell_type": "code",
   "execution_count": 20,
   "id": "d96cd3ac",
   "metadata": {},
   "outputs": [
    {
     "name": "stdout",
     "output_type": "stream",
     "text": [
      "+--------------------------------------------------------------+-----------------------------+\n",
      "|                          Attribute                           | % of runs with flipped sign |\n",
      "+--------------------------------------------------------------+-----------------------------+\n",
      "|           Steps between cheese and decision square           |             15.5            |\n",
      "|    Euclidean distance between cheese and decision square     |             0.5             |\n",
      "|    Euclidean distance between cheese and top right square    |             0.0             |\n",
      "| Euclidean distance between decision square and top-right 5x5 |             0.0             |\n",
      "+--------------------------------------------------------------+-----------------------------+\n"
     ]
    }
   ],
   "source": [
    "# Print a table displaying the percentage of times each attribute had the wrong sign\n",
    "sign_table = prettytable.PrettyTable()\n",
    "sign_table.field_names = [\"Attribute\", \"% of runs with flipped sign\"] \n",
    "for key in counter.keys():\n",
    "    sign_table.add_row([english_attr(key), counter[key] / n_rand_runs * 100])\n",
    "print(sign_table)"
   ]
  },
  {
   "attachments": {},
   "cell_type": "markdown",
   "id": "83f3df78",
   "metadata": {},
   "source": [
    "## Variation inflation factor (VIF)\n",
    "As I (Alex) understand it, VIF measures how much of the variance of the regression coefficients are due to multicollinearity. Restricting our attention to the features mentioned in the post, the VIF scores are medium-high (but tolerable), while including all features leads to extremely high VIF. This is some weak further evidence that our regression was not a statistical fluke or modeling decision (but I'm not a statistician!)."
   ]
  },
  {
   "cell_type": "code",
   "execution_count": 21,
   "id": "8ba3bf95",
   "metadata": {},
   "outputs": [
    {
     "name": "stdout",
     "output_type": "stream",
     "text": [
      "\n",
      "VIF for claimed attributes\n",
      "                               Features       VIF\n",
      "0  steps_between_cheese_decision_square  4.649812\n",
      "1       euc_dist_cheese_decision_square  4.669986\n",
      "2             euc_dist_cheese_top_right  2.620124\n",
      "3          euc_dist_decision_square_5x5  2.569385\n",
      "\n",
      "VIF for all attributes\n",
      "                                   Features          VIF\n",
      "0           euc_dist_cheese_decision_square    34.813221\n",
      "1          taxi_dist_cheese_decision_square    31.922247\n",
      "2      steps_between_cheese_decision_square          inf\n",
      "3            steps_between_cheese_top_right          inf\n",
      "4                 euc_dist_cheese_top_right  1008.796065\n",
      "5                taxi_dist_cheese_top_right   185.542253\n",
      "6        euc_dist_decision_square_top_right   849.361266\n",
      "7       taxi_dist_decision_square_top_right   472.831023\n",
      "8   steps_between_decision_square_top_right          inf\n",
      "9                  steps_between_cheese_5x5    12.111153\n",
      "10        steps_between_decision_square_5x5    30.564062\n",
      "11                      euc_dist_cheese_5x5   571.094823\n",
      "12                     taxi_dist_cheese_5x5    93.560493\n",
      "13             euc_dist_decision_square_5x5   460.061302\n",
      "14            taxi_dist_decision_square_5x5   251.892851\n",
      "15                        cheese_coord_norm     3.011046\n"
     ]
    }
   ],
   "source": [
    "# Let's compute VIF (variance inflation factor) for each attribute\n",
    "# This is a measure of how much the variance of the coefficient is inflated due to multicollinearity\n",
    "# Above 5 is usually considered to be a sign of that\n",
    "from statsmodels.stats.outliers_influence import variance_inflation_factor\n",
    "\n",
    "# Ignore runtime warnings due to division by 0 from R2=1\n",
    "import warnings\n",
    "warnings.filterwarnings(\"ignore\")\n",
    "\n",
    "for attrs in [claimed_attributes, filtered_rm.keys()]:\n",
    "    print()\n",
    "    print(\"VIF for claimed attributes\" if attrs == claimed_attributes else \"VIF for all attributes\")\n",
    "    vif = pd.DataFrame()\n",
    "    vif[\"Features\"] = df[attrs].columns\n",
    "    vif[\"VIF\"] = [variance_inflation_factor(df[attrs].values, i) for i in range(df[attrs].shape[1])]\n",
    "\n",
    "    print(vif)"
   ]
  }
 ],
 "metadata": {
  "kernelspec": {
   "display_name": "MATS",
   "language": "python",
   "name": "python3"
  },
  "language_info": {
   "codemirror_mode": {
    "name": "ipython",
    "version": 3
   },
   "file_extension": ".py",
   "mimetype": "text/x-python",
   "name": "python",
   "nbconvert_exporter": "python",
   "pygments_lexer": "ipython3",
   "version": "3.10.9"
  },
  "vscode": {
   "interpreter": {
    "hash": "4c77f2f46953a93e2cdf30c808e94602375d16ad6294e549473c1f301bc8b554"
   }
  }
 },
 "nbformat": 4,
 "nbformat_minor": 5
}
