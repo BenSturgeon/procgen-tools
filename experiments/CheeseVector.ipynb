{
 "cells": [
  {
   "cell_type": "code",
   "execution_count": null,
   "metadata": {},
   "outputs": [],
   "source": [
    "# Install procgen tools if needed\n",
    "try:\n",
    "  import procgen_tools\n",
    "except ImportError:\n",
    "  get_ipython().run_line_magic(magic_name='pip', line='install git+https://github.com/ulissemini/procgen-tools')"
   ]
  },
  {
   "cell_type": "code",
   "execution_count": null,
   "metadata": {},
   "outputs": [],
   "source": [
    "# Download data and create directory structure\n",
    "\n",
    "import os, sys\n",
    "from pathlib import Path\n",
    "from procgen_tools.utils import setup\n",
    "\n",
    "setup() # create directory structure and download data\n",
    "\n",
    "# path this notebook expects to be in\n",
    "if 'experiments' not in os.getcwd():\n",
    "    Path('experiments').mkdir(exist_ok=True)\n",
    "    os.chdir('experiments')"
   ]
  },
  {
   "cell_type": "code",
   "execution_count": null,
   "metadata": {},
   "outputs": [],
   "source": [
    "# Actual start of notebook!\n",
    "\n",
    "%matplotlib inline\n",
    "import matplotlib.pyplot as plt\n",
    "from procgen_tools import maze\n",
    "import pickle\n",
    "import numpy as np\n",
    "from glob import glob\n",
    "from collections import defaultdict\n",
    "\n",
    "plt.rcParams['figure.dpi'] = 140"
   ]
  },
  {
   "attachments": {},
   "cell_type": "markdown",
   "metadata": {},
   "source": [
    "## Introduction\n",
    "\n",
    "We're looking at the maze solving agents from the [goal misgeneralization](https://arxiv.org/abs/2105.14111) paper. In particular, the agents trained to find cheese in a maze.\n",
    "\n",
    "We have a variety of ways to look at and manipulate mazes\n",
    "1. The human view (rarely used now, we've gotten comfortable looking at grids)\n",
    "2. The agent view (what the agent sees)\n",
    "3. The grid/numpy view (easy to manipulate in code)"
   ]
  },
  {
   "cell_type": "code",
<<<<<<< HEAD
   "execution_count": 3,
=======
   "execution_count": null,
>>>>>>> main
   "metadata": {},
   "outputs": [],
   "source": [
    "venv = maze.create_venv(num=1, start_level=0, num_levels=1)\n",
    "fig, ax = plt.subplots(1,3, figsize=(15, 5))\n",
    "\n",
    "human_view = venv.env.get_info()[0]['rgb']\n",
    "agent_view = venv.reset()[0].transpose(1,2,0)\n",
    "grid_view = maze.EnvState(venv.env.callmethod('get_state')[0]).full_grid()[::-1, :]\n",
    "for (a, img, title) in zip(ax, [human_view, agent_view, grid_view], ['Human view', 'Agent view', 'Grid/Numpy view']):\n",
    "    a.axis('off')\n",
    "    a.imshow(img)\n",
    "    a.set_title(title)\n",
    "\n",
    "plt.show()"
   ]
  },
  {
   "attachments": {},
   "cell_type": "markdown",
   "metadata": {},
   "source": [
    "### Explore episodes interactively\n",
    "\n",
    "Here you can explore a bunch of episodes from the `rand_region_5` agent, trained to get the cheese when the cheese always spawned in the top right 5x5 region of the maze.\n",
    "These mazes were generated with the cheese in any position though, so there's a conflict between the \"top-right shard\" and the \"cheese shard\""
   ]
  },
  {
   "cell_type": "code",
   "execution_count": null,
   "metadata": {},
   "outputs": [],
   "source": [
    "from procgen_tools import maze\n",
    "from circrl.rollouts import load_saved_rollout\n",
    "from glob import glob\n",
    "from tqdm import tqdm\n",
    "import matplotlib.pyplot as plt\n",
    "from ipywidgets import interact, IntSlider, FloatSlider\n",
    "from procgen_tools import vfield\n",
    "import procgen_tools.vfield_stats as vs\n",
    "\n",
    "\n",
    "# rand_region_5 model on all mazes, load 100 (uses a lot of memory)\n",
    "files = glob('../episode_data/20230131T032642/*.dat')[:100]\n",
    "rollouts = [load_saved_rollout(f) for f in tqdm(files)]\n",
    "\n",
    "from procgen_tools.maze import EnvState\n",
    "from ipywidgets import interact, IntSlider\n",
    "\n",
    "episode_slider = IntSlider(min=0, max=len(rollouts)-1, step=1, value=0)\n",
    "timestep_slider = IntSlider(min=0, max=256, step=1, value=0)\n",
    "\n",
    "@interact\n",
    "def show_episodes(ep = episode_slider, timestep = timestep_slider):\n",
    "    timestep_slider.max = len(rollouts[ep]['seq'].obs)-1\n",
    "    state = EnvState(rollouts[ep]['seq'].custom['state_bytes'][timestep].item())\n",
    "    plt.imshow(state.inner_grid(), origin='lower')"
   ]
  },
  {
   "attachments": {},
   "cell_type": "markdown",
   "metadata": {},
   "source": [
    "### The vector field view\n",
    "\n",
    "A nicer way to view episodes is with a **vector field view**, which overlays a vector-field representing the agent policy for a given maze, and are computed as follows:\n",
    "\n",
    "1. Take the output probabilities from the policy $(p_{\\text{left}}, p_{\\text{right}}, p_{\\text{up}}, p_{\\text{down}})$ at every mouse position\n",
    "2. Compute the x and y components of the vector as $x = p_{\\text{right}} - p_{\\text{left}}$ and $y = p_{\\text{down}} - p_{\\text{up}}$\n",
    "\n",
    "\n",
    "Generating the vector fields is a bit slow (~1s/each), so we'll load them from a precomputed dataset."
   ]
  },
  {
   "cell_type": "code",
   "execution_count": null,
   "metadata": {},
   "outputs": [],
   "source": [
    "vfields = [pickle.load(open(f, 'rb')) for f in glob('../data/vfields/seed-*.pkl')]\n",
    "vfields_by_level = defaultdict(list)\n",
    "for vf in vfields:\n",
    "    vfields_by_level[vf['seed']].append(vf)\n",
    "def get_vfields(seed: int, coeff: float):\n",
    "    return next(vf for vf in vfields_by_level[seed] if vf['coeff'] == coeff)"
   ]
  },
  {
   "cell_type": "code",
   "execution_count": null,
   "metadata": {},
   "outputs": [],
   "source": [
    "@interact(seed=IntSlider(min=0, max=max(vf['seed'] for vf in vfields), step=1, value=0))\n",
    "def interact_vfields(seed: int):\n",
    "    vfield.plot_vf(vfields_by_level[seed][0]['original_vfield'])"
   ]
  },
  {
   "attachments": {},
   "cell_type": "markdown",
   "metadata": {},
   "source": [
    "## Model editing: Finding a \"cheese\" vector\n",
    "\n",
    "\"What's the stupidest first thing we could try? What if taking the difference in activations at a certain layer gave us a \"cheese\" vector? Could we subtract this from the activations to make the mouse ignore the cheese?\"\n",
    "\n",
    "Surprisingly, this (sort-of) works. Take a maze, make a copy with no cheese, record the difference in activations at a particular layer (`embedder.block2.res1.resadd_out` seemed to work best in our experiments though we don't yet understand why), then patch the network by adding (or subtracting) this difference to the activations at that layer."
   ]
  },
  {
   "attachments": {},
   "cell_type": "markdown",
   "metadata": {},
   "source": [
    "### Interactively explore the effect of the cheese vector"
   ]
  },
  {
   "cell_type": "code",
   "execution_count": null,
   "metadata": {},
   "outputs": [],
   "source": [
    "%matplotlib inline\n",
    "import matplotlib.pyplot as plt\n",
    "import pickle\n",
    "from glob import glob\n",
    "from collections import defaultdict"
   ]
  },
  {
   "cell_type": "code",
   "execution_count": null,
   "metadata": {},
   "outputs": [],
   "source": [
    "vfields = [pickle.load(open(f, 'rb')) for f in glob('../data/vfields/seed-*.pkl')]\n",
    "vfields_by_level = defaultdict(list)\n",
    "for vf in vfields:\n",
    "    vfields_by_level[vf['seed']].append(vf)\n",
    "def get_vfields(seed: int, coeff: float):\n",
    "    return next(vf for vf in vfields_by_level[seed] if vf['coeff'] == coeff)"
   ]
  },
  {
   "cell_type": "code",
   "execution_count": null,
   "metadata": {},
   "outputs": [],
   "source": [
    "from ipywidgets import interact, IntSlider, FloatSlider\n",
    "\n",
    "\n",
    "def _coeffs_for(seed: int):\n",
    "    return sorted(set(vf['coeff'] for vf in vfields_by_level[seed]))\n",
    "\n",
    "\n",
    "seed_max = max(vf['seed'] for vf in vfields)\n",
    "min_coeff, max_coeff = min(vf['coeff']\n",
    "                           for vf in vfields), max(vf['coeff']\n",
    "                                                   for vf in vfields)\n",
    "\n",
    "\n",
    "@interact(seed=IntSlider(min=0, max=seed_max, step=1, value=0),\n",
    "          coeff=FloatSlider(min=min_coeff, max=max_coeff, step=0.1, value=-1.0))\n",
    "def interact_vfields(seed: int, coeff: float):\n",
    "    # set coeff to nearest available in vfields_by_level[seed]\n",
    "    coeff = min(_coeffs_for(seed), key=lambda x: abs(x - coeff))\n",
    "    vfs = get_vfields(seed, coeff)\n",
    "    vs.plot_vfs(vfs)"
   ]
  },
  {
   "attachments": {},
   "cell_type": "markdown",
   "metadata": {},
   "source": [
    "### Quantifying the effect of subtracting the \"cheese vector\"\n",
    "\n",
    "\n",
    "To see the statistical change in propensity to go to the cheese, we can look at the probability of going to the cheese when there's a fork in the maze, with cheese on one side and the top-right on the other. Plotting the difference in action probabilities gives us the following:\n",
    "\n",
    "(Note: We're *subtracting* the cheese vector, so the probability of going to the cheese should be lower, and the probability of going to the top right (or towards neither) should be higher.)"
   ]
  },
  {
   "cell_type": "code",
   "execution_count": null,
   "metadata": {},
   "outputs": [],
   "source": [
    "from ipywidgets import Dropdown\n",
    "\n",
    "@interact\n",
    "def boxplot_interactive(coeff = Dropdown(options=_coeffs_for(0), value=-1.0)):\n",
    "    \"\"\" Plot boxplots of decision probabilities, given a coefficient. \"\"\"\n",
    "    dprobs_original, dprobs_patched = vs.get_decision_probs_original_and_patched(vfields, coeff=coeff)\n",
    "    dpo, dpp = dprobs_original, dprobs_patched\n",
    "    dpo = np.stack([dpo[:,0], dpo[:,1], 1-dpo[:,0]-dpo[:,1]], axis=1)\n",
    "    dpp = np.stack([dpp[:,0], dpp[:,1], 1-dpp[:,0]-dpp[:,1]], axis=1)\n",
    "\n",
    "    fig, ax = plt.subplots(1, 3, figsize=(15, 5))\n",
    "    for i in range(3):\n",
    "        ax[i].boxplot([dpo[:,i], dpp[:,i]], showmeans=True, meanline=True)\n",
    "        ax[i].set_xticks([1, 2])\n",
    "        ax[i].set_xticklabels(['original', 'patched'])\n",
    "        ax[i].set_title([f'P({label} | decision-square)' for label in ('cheese', 'top-right', 'other')][i])\n",
    "\n",
    "\n",
    "    vs.plot_decision_probs(dprobs_original, dprobs_patched)"
   ]
  },
  {
   "attachments": {},
   "cell_type": "markdown",
   "metadata": {},
   "source": [
    "### What about generalization?\n",
    "\n",
    "We're doing something quite specific here, taking in the maze `M`, recording activations, editing it to have no cheese, recording activations, and then subtracting the two. If we're truly finding a \"cheese vector / cheese abstraction\", we'd be able to generalize from one maze to another, and create a saved copy of the model which ignores the cheese in any maze."
   ]
  },
  {
   "cell_type": "markdown",
   "metadata": {},
   "source": []
  }
 ],
 "metadata": {
  "kernelspec": {
   "display_name": "Python 3",
   "language": "python",
   "name": "python3"
  },
  "language_info": {
   "codemirror_mode": {
    "name": "ipython",
    "version": 3
   },
   "file_extension": ".py",
   "mimetype": "text/x-python",
   "name": "python",
   "nbconvert_exporter": "python",
   "pygments_lexer": "ipython3",
   "version": "3.10.9"
  },
  "orig_nbformat": 4,
  "vscode": {
   "interpreter": {
    "hash": "767d51c1340bd893661ea55ea3124f6de3c7a262a8b4abca0554b478b1e2ff90"
   }
  }
 },
 "nbformat": 4,
 "nbformat_minor": 2
}
