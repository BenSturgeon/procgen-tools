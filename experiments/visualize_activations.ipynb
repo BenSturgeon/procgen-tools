{
 "cells": [
  {
   "cell_type": "code",
   "execution_count": 14,
   "metadata": {},
   "outputs": [
    {
     "name": "stdout",
     "output_type": "stream",
     "text": [
      "Already downloaded https://nerdsniper.net/mats/model_rand_region_5.pth\n"
     ]
    }
   ],
   "source": [
    "try:\n",
    "    import procgen_tools\n",
    "except ImportError:\n",
    "    get_ipython().run_line_magic(magic_name='pip', line='install -U git+https://github.com/ulissemini/procgen-tools')\n",
    "\n",
    "from procgen_tools.utils import setup\n",
    "\n",
    "setup() # create directory structure and download data "
   ]
  },
  {
   "cell_type": "code",
   "execution_count": 15,
   "metadata": {},
   "outputs": [],
   "source": [
    "from procgen_tools.imports import *\n",
    "from procgen_tools.procgen_imports import *\n",
    "from procgen_tools import visualization"
   ]
  },
  {
   "attachments": {},
   "cell_type": "markdown",
   "metadata": {},
   "source": [
    "# Visualizing details of the goal misgeneralization nets\n",
    "Let's understand lots of details about [the goal misgeneralization paper](https://arxiv.org/abs/2105.14111). In particular, we'll be looking at the cheese-maze task from the goal misgeneralization task, for which cheese was spawned in the 5x5 top-right corner of the maze. \n",
    "\n",
    "Key conclusions:\n",
    "1. Convolutional layers limit speed of information propagation (_locality_). More precisely, ignoring the effect of `maxpool2D` layers, any portions of the state separated by `n` pixels take at least `ceil(n/2)` convolutional layers to interact.\n",
    "2. In the maximal maze size of 64 x 64, there is at most **two** steps of computation involving information from e.g. opposite corners of the maze. "
   ]
  },
  {
   "attachments": {},
   "cell_type": "markdown",
   "metadata": {},
   "source": [
    "Let's visualize the network structure. Here's a Mermaid diagram. \n",
    "\n",
    "![](https://i.imgur.com/5oSHoVQ.png) "
   ]
  },
  {
   "attachments": {},
   "cell_type": "markdown",
   "metadata": {},
   "source": [
    "And here's a more dynamic view; small nodes are activations, and large nodes are `nn.Module`s."
   ]
  },
  {
   "cell_type": "code",
   "execution_count": 16,
   "metadata": {},
   "outputs": [
    {
     "data": {},
     "metadata": {},
     "output_type": "display_data"
    },
    {
     "data": {
      "application/vnd.holoviews_exec.v0+json": "",
      "text/html": [
       "<div id='1152'>\n",
       "  <div class=\"bk-root\" id=\"37741e15-7893-4e1d-a772-f2db53969d0b\" data-root-id=\"1152\"></div>\n",
       "</div>\n",
       "<script type=\"application/javascript\">(function(root) {\n",
       "  function embed_document(root) {\n",
       "    var docs_json = {\"e8fffe7b-ea04-4683-91d4-a70c2d667896\":{\"defs\":[{\"extends\":null,\"module\":null,\"name\":\"ReactiveHTML1\",\"overrides\":[],\"properties\":[]},{\"extends\":null,\"module\":null,\"name\":\"FlexBox1\",\"overrides\":[],\"properties\":[{\"default\":\"flex-start\",\"kind\":null,\"name\":\"align_content\"},{\"default\":\"flex-start\",\"kind\":null,\"name\":\"align_items\"},{\"default\":\"row\",\"kind\":null,\"name\":\"flex_direction\"},{\"default\":\"wrap\",\"kind\":null,\"name\":\"flex_wrap\"},{\"default\":\"flex-start\",\"kind\":null,\"name\":\"justify_content\"}]},{\"extends\":null,\"module\":null,\"name\":\"GridStack1\",\"overrides\":[],\"properties\":[{\"default\":\"warn\",\"kind\":null,\"name\":\"mode\"},{\"default\":null,\"kind\":null,\"name\":\"ncols\"},{\"default\":null,\"kind\":null,\"name\":\"nrows\"},{\"default\":true,\"kind\":null,\"name\":\"allow_resize\"},{\"default\":true,\"kind\":null,\"name\":\"allow_drag\"},{\"default\":[],\"kind\":null,\"name\":\"state\"}]},{\"extends\":null,\"module\":null,\"name\":\"click1\",\"overrides\":[],\"properties\":[{\"default\":\"\",\"kind\":null,\"name\":\"terminal_output\"},{\"default\":\"\",\"kind\":null,\"name\":\"debug_name\"},{\"default\":0,\"kind\":null,\"name\":\"clears\"}]},{\"extends\":null,\"module\":null,\"name\":\"NotificationAreaBase1\",\"overrides\":[],\"properties\":[{\"default\":\"bottom-right\",\"kind\":null,\"name\":\"position\"},{\"default\":0,\"kind\":null,\"name\":\"_clear\"}]},{\"extends\":null,\"module\":null,\"name\":\"NotificationArea1\",\"overrides\":[],\"properties\":[{\"default\":[],\"kind\":null,\"name\":\"notifications\"},{\"default\":\"bottom-right\",\"kind\":null,\"name\":\"position\"},{\"default\":0,\"kind\":null,\"name\":\"_clear\"},{\"default\":[{\"background\":\"#ffc107\",\"icon\":{\"className\":\"fas fa-exclamation-triangle\",\"color\":\"white\",\"tagName\":\"i\"},\"type\":\"warning\"},{\"background\":\"#007bff\",\"icon\":{\"className\":\"fas fa-info-circle\",\"color\":\"white\",\"tagName\":\"i\"},\"type\":\"info\"}],\"kind\":null,\"name\":\"types\"}]},{\"extends\":null,\"module\":null,\"name\":\"Notification\",\"overrides\":[],\"properties\":[{\"default\":null,\"kind\":null,\"name\":\"background\"},{\"default\":3000,\"kind\":null,\"name\":\"duration\"},{\"default\":null,\"kind\":null,\"name\":\"icon\"},{\"default\":\"\",\"kind\":null,\"name\":\"message\"},{\"default\":null,\"kind\":null,\"name\":\"notification_type\"},{\"default\":false,\"kind\":null,\"name\":\"_destroyed\"}]},{\"extends\":null,\"module\":null,\"name\":\"TemplateActions1\",\"overrides\":[],\"properties\":[{\"default\":0,\"kind\":null,\"name\":\"open_modal\"},{\"default\":0,\"kind\":null,\"name\":\"close_modal\"}]},{\"extends\":null,\"module\":null,\"name\":\"MaterialTemplateActions1\",\"overrides\":[],\"properties\":[{\"default\":0,\"kind\":null,\"name\":\"open_modal\"},{\"default\":0,\"kind\":null,\"name\":\"close_modal\"}]}],\"roots\":{\"references\":[{\"attributes\":{},\"id\":\"1163\",\"type\":\"LinearScale\"},{\"attributes\":{\"high\":85,\"low\":0,\"palette\":[\"#f7fbff\",\"#f6fafe\",\"#f5f9fe\",\"#f4f9fe\",\"#f3f8fd\",\"#f3f8fd\",\"#f2f7fd\",\"#f1f7fd\",\"#f0f6fc\",\"#eff6fc\",\"#eff5fc\",\"#eef5fc\",\"#edf4fb\",\"#ecf4fb\",\"#ecf3fb\",\"#ebf3fb\",\"#eaf2fa\",\"#e9f2fa\",\"#e8f1fa\",\"#e8f1fa\",\"#e7f0f9\",\"#e6f0f9\",\"#e5eff9\",\"#e4eff9\",\"#e4eef8\",\"#e3eef8\",\"#e2edf8\",\"#e1edf8\",\"#e1ecf7\",\"#e0ecf7\",\"#dfebf7\",\"#deebf7\",\"#ddeaf6\",\"#ddeaf6\",\"#dce9f6\",\"#dbe9f6\",\"#dae8f5\",\"#dae8f5\",\"#d9e7f5\",\"#d8e7f5\",\"#d7e6f4\",\"#d7e6f4\",\"#d6e5f4\",\"#d5e5f4\",\"#d4e4f3\",\"#d4e4f3\",\"#d3e3f3\",\"#d2e3f3\",\"#d1e2f2\",\"#d1e2f2\",\"#d0e1f2\",\"#cfe1f2\",\"#cee0f1\",\"#cee0f1\",\"#cddff1\",\"#ccdff1\",\"#cbdef0\",\"#cbdef0\",\"#caddf0\",\"#c9ddf0\",\"#c8dcef\",\"#c8dcef\",\"#c7dbef\",\"#c6dbef\",\"#c5daee\",\"#c4daee\",\"#c3d9ee\",\"#c1d9ed\",\"#c0d8ed\",\"#bfd8ec\",\"#bed7ec\",\"#bcd7eb\",\"#bbd6eb\",\"#bad6ea\",\"#b9d5ea\",\"#b7d4ea\",\"#b6d4e9\",\"#b5d3e9\",\"#b4d3e8\",\"#b2d2e8\",\"#b1d2e7\",\"#b0d1e7\",\"#afd1e6\",\"#add0e6\",\"#acd0e6\",\"#abcfe5\",\"#aacfe5\",\"#a8cee4\",\"#a7cee4\",\"#a6cde3\",\"#a5cde3\",\"#a3cce3\",\"#a2cbe2\",\"#a1cbe2\",\"#a0cae1\",\"#9ecae1\",\"#9dc9e0\",\"#9bc8e0\",\"#9ac7e0\",\"#98c7df\",\"#97c6df\",\"#95c5df\",\"#93c4de\",\"#92c3de\",\"#90c2de\",\"#8fc1dd\",\"#8dc0dd\",\"#8bc0dd\",\"#8abfdc\",\"#88bedc\",\"#87bddc\",\"#85bcdb\",\"#83bbdb\",\"#82badb\",\"#80b9da\",\"#7fb8da\",\"#7db8d9\",\"#7bb7d9\",\"#7ab6d9\",\"#78b5d8\",\"#77b4d8\",\"#75b3d8\",\"#73b2d7\",\"#72b1d7\",\"#70b1d7\",\"#6fb0d6\",\"#6dafd6\",\"#6baed6\",\"#6aadd5\",\"#69acd5\",\"#67abd4\",\"#66aad4\",\"#65aad3\",\"#63a9d3\",\"#62a8d2\",\"#61a7d2\",\"#60a6d1\",\"#5ea5d1\",\"#5da4d0\",\"#5ca3d0\",\"#5aa3cf\",\"#59a2cf\",\"#58a1ce\",\"#57a0ce\",\"#559fcd\",\"#549ecd\",\"#539dcc\",\"#519ccc\",\"#509bcb\",\"#4f9bcb\",\"#4e9aca\",\"#4c99ca\",\"#4b98c9\",\"#4a97c9\",\"#4896c8\",\"#4795c8\",\"#4694c7\",\"#4594c7\",\"#4393c6\",\"#4292c6\",\"#4191c5\",\"#4090c5\",\"#3f8fc4\",\"#3e8ec4\",\"#3d8dc3\",\"#3c8cc3\",\"#3b8bc2\",\"#3a8ac1\",\"#3989c1\",\"#3888c0\",\"#3787c0\",\"#3585bf\",\"#3484bf\",\"#3383be\",\"#3282be\",\"#3181bd\",\"#3080bd\",\"#2f7fbc\",\"#2e7ebc\",\"#2d7dbb\",\"#2c7cbb\",\"#2b7bba\",\"#2a7ab9\",\"#2979b9\",\"#2878b8\",\"#2777b8\",\"#2676b7\",\"#2575b7\",\"#2474b6\",\"#2373b6\",\"#2272b5\",\"#2171b5\",\"#2070b4\",\"#1f6fb3\",\"#1e6eb2\",\"#1e6db2\",\"#1d6cb1\",\"#1c6bb0\",\"#1b6aaf\",\"#1a69ae\",\"#1a68ae\",\"#1967ad\",\"#1866ac\",\"#1765ab\",\"#1764ab\",\"#1663aa\",\"#1562a9\",\"#1461a8\",\"#1360a7\",\"#135fa7\",\"#125ea6\",\"#115da5\",\"#105ca4\",\"#0f5ba3\",\"#0f5aa3\",\"#0e59a2\",\"#0d58a1\",\"#0c57a0\",\"#0c56a0\",\"#0b559f\",\"#0a549e\",\"#09539d\",\"#08529c\",\"#08519c\",\"#08509a\",\"#084f99\",\"#084e97\",\"#084c96\",\"#084b94\",\"#084a92\",\"#084991\",\"#08488f\",\"#08478e\",\"#08468c\",\"#08458b\",\"#084489\",\"#084388\",\"#084286\",\"#084185\",\"#084083\",\"#083f82\",\"#083e80\",\"#083d7e\",\"#083c7d\",\"#083b7b\",\"#083a7a\",\"#083978\",\"#083877\",\"#083775\",\"#083674\",\"#083572\",\"#083471\",\"#08336f\",\"#08326e\",\"#08316c\",\"#08306b\"]},\"id\":\"1188\",\"type\":\"LinearColorMapper\"},{\"attributes\":{\"coordinates\":null,\"group\":null,\"text_color\":\"black\",\"text_font_size\":\"12pt\"},\"id\":\"1157\",\"type\":\"Title\"},{\"attributes\":{\"data\":{\"desc\":[\"Flatten()\",\"Conv2d(128, 128, kernel_size=(3, 3), stride=(1, 1), padding=(1, 1))\",\"Conv2d(128, 128, kernel_size=(3, 3), stride=(1, 1), padding=(1, 1))\",\"Linear(in_features=8192, out_features=256, bias=True)\",\"ReLU()\",\"ResidualAdd()\",\"ReLU()\",\"Conv2d(128, 128, kernel_size=(3, 3), stride=(1, 1), padding=(1, 1))\",\"ResidualAdd()\",\"Conv2d(3, 64, kernel_size=(3, 3), stride=(1, 1), padding=(1, 1))\",\"Linear(in_features=256, out_features=1, bias=True)\",\"ReLU()\",\"Conv2d(64, 64, kernel_size=(3, 3), stride=(1, 1), padding=(1, 1))\",\"MaxPool2d(kernel_size=3, stride=2, padding=1, dilation=1, ceil_mode=False)\",\"ReLU()\",\"ReLU()\",\"ReLU()\",\"ResidualAdd()\",\"ReLU()\",\"Conv2d(64, 64, kernel_size=(3, 3), stride=(1, 1), padding=(1, 1))\",\"ReLU()\",\"ResidualAdd()\",\"MaxPool2d(kernel_size=3, stride=2, padding=1, dilation=1, ceil_mode=False)\",\"ResidualAdd()\",\"ReLU()\",\"ReLU()\",\"ReLU()\",\"Conv2d(128, 128, kernel_size=(3, 3), stride=(1, 1), padding=(1, 1))\",\"MaxPool2d(kernel_size=3, stride=2, padding=1, dilation=1, ceil_mode=False)\",\"ResidualAdd()\",\"Conv2d(64, 64, kernel_size=(3, 3), stride=(1, 1), padding=(1, 1))\",\"ReLU()\",\"Linear(in_features=256, out_features=15, bias=True)\",\"Conv2d(128, 128, kernel_size=(3, 3), stride=(1, 1), padding=(1, 1))\",\"Conv2d(64, 64, kernel_size=(3, 3), stride=(1, 1), padding=(1, 1))\",\"Conv2d(64, 128, kernel_size=(3, 3), stride=(1, 1), padding=(1, 1))\",\"ReLU()\",\"ReLU()\",\"Conv2d(128, 128, kernel_size=(3, 3), stride=(1, 1), padding=(1, 1))\",\"Conv2d(128, 128, kernel_size=(3, 3), stride=(1, 1), padding=(1, 1))\",\"Conv2d(128, 128, kernel_size=(3, 3), stride=(1, 1), padding=(1, 1))\",\"Conv2d(128, 128, kernel_size=(3, 3), stride=(1, 1), padding=(1, 1))\",\"torch.Size([1, 3, 64, 64])\",\"torch.Size([1, 64, 64, 64])\",\"torch.Size([1, 64, 32, 32])\",\"torch.Size([1, 64, 32, 32])\",\"torch.Size([1, 64, 32, 32])\",\"torch.Size([1, 64, 32, 32])\",\"torch.Size([1, 64, 32, 32])\",\"torch.Size([1, 64, 32, 32])\",\"torch.Size([1, 64, 32, 32])\",\"torch.Size([1, 64, 32, 32])\",\"torch.Size([1, 64, 32, 32])\",\"torch.Size([1, 64, 32, 32])\",\"torch.Size([1, 64, 32, 32])\",\"torch.Size([1, 128, 32, 32])\",\"torch.Size([1, 128, 16, 16])\",\"torch.Size([1, 128, 16, 16])\",\"torch.Size([1, 128, 16, 16])\",\"torch.Size([1, 128, 16, 16])\",\"torch.Size([1, 128, 16, 16])\",\"torch.Size([1, 128, 16, 16])\",\"torch.Size([1, 128, 16, 16])\",\"torch.Size([1, 128, 16, 16])\",\"torch.Size([1, 128, 16, 16])\",\"torch.Size([1, 128, 16, 16])\",\"torch.Size([1, 128, 16, 16])\",\"torch.Size([1, 128, 16, 16])\",\"torch.Size([1, 128, 8, 8])\",\"torch.Size([1, 128, 8, 8])\",\"torch.Size([1, 128, 8, 8])\",\"torch.Size([1, 128, 8, 8])\",\"torch.Size([1, 128, 8, 8])\",\"torch.Size([1, 128, 8, 8])\",\"torch.Size([1, 128, 8, 8])\",\"torch.Size([1, 128, 8, 8])\",\"torch.Size([1, 128, 8, 8])\",\"torch.Size([1, 128, 8, 8])\",\"torch.Size([1, 128, 8, 8])\",\"torch.Size([1, 128, 8, 8])\",\"torch.Size([1, 8192])\",\"torch.Size([1, 256])\",\"torch.Size([1, 256])\",\"torch.Size([1, 15])\",\"torch.Size([1, 1])\",\"\"],\"index\":{\"__ndarray__\":\"AAAAAAEAAAACAAAAAwAAAAQAAAAFAAAABgAAAAcAAAAIAAAACQAAAAoAAAALAAAADAAAAA0AAAAOAAAADwAAABAAAAARAAAAEgAAABMAAAAUAAAAFQAAABYAAAAXAAAAGAAAABkAAAAaAAAAGwAAABwAAAAdAAAAHgAAAB8AAAAgAAAAIQAAACIAAAAjAAAAJAAAACUAAAAmAAAAJwAAACgAAAApAAAAKgAAACsAAAAsAAAALQAAAC4AAAAvAAAAMAAAADEAAAAyAAAAMwAAADQAAAA1AAAANgAAADcAAAA4AAAAOQAAADoAAAA7AAAAPAAAAD0AAAA+AAAAPwAAAEAAAABBAAAAQgAAAEMAAABEAAAARQAAAEYAAABHAAAASAAAAEkAAABKAAAASwAAAEwAAABNAAAATgAAAE8AAABQAAAAUQAAAFIAAABTAAAAVAAAAFUAAAA=\",\"dtype\":\"int32\",\"order\":\"little\",\"shape\":[86]},\"index_hover\":[\"embedder.flatten\",\"embedder.block3.conv\",\"embedder.block3.res1.conv1\",\"embedder.fc\",\"embedder.block1.res2.relu2\",\"embedder.block2.res2.resadd\",\"embedder.block1.res1.relu2\",\"embedder.block2.res1.conv1\",\"embedder.block1.res2.resadd\",\"embedder.block1.conv\",\"fc_value\",\"embedder.block2.res2.relu1\",\"embedder.block1.res2.conv2\",\"embedder.block3.maxpool\",\"embedder.block1.res2.relu1\",\"embedder.block3.res1.relu2\",\"embedder.block2.res1.relu2\",\"embedder.block2.res1.resadd\",\"embedder.block2.res1.relu1\",\"embedder.block1.res1.conv2\",\"embedder.relufc\",\"embedder.block3.res2.resadd\",\"embedder.block2.maxpool\",\"embedder.block3.res1.resadd\",\"embedder.block2.res2.relu2\",\"embedder.relu3\",\"embedder.block3.res2.relu2\",\"embedder.block3.res2.conv2\",\"embedder.block1.maxpool\",\"embedder.block1.res1.resadd\",\"embedder.block1.res1.conv1\",\"embedder.block3.res2.relu1\",\"fc_policy\",\"embedder.block3.res1.conv2\",\"embedder.block1.res2.conv1\",\"embedder.block2.conv\",\"embedder.block1.res1.relu1\",\"embedder.block3.res1.relu1\",\"embedder.block3.res2.conv1\",\"embedder.block2.res2.conv2\",\"embedder.block2.res1.conv2\",\"embedder.block2.res2.conv1\",\"embedder.block1.conv_in0\",\"embedder.block1.conv_out\",\"embedder.block1.maxpool_out\",\"embedder.block1.res1.relu1_out\",\"embedder.block1.res1.conv1_out\",\"embedder.block1.res1.relu2_out\",\"embedder.block1.res1.conv2_out\",\"embedder.block1.res1.resadd_out\",\"embedder.block1.res2.relu1_out\",\"embedder.block1.res2.conv1_out\",\"embedder.block1.res2.relu2_out\",\"embedder.block1.res2.conv2_out\",\"embedder.block1.res2.resadd_out\",\"embedder.block2.conv_out\",\"embedder.block2.maxpool_out\",\"embedder.block2.res1.relu1_out\",\"embedder.block2.res1.conv1_out\",\"embedder.block2.res1.relu2_out\",\"embedder.block2.res1.conv2_out\",\"embedder.block2.res1.resadd_out\",\"embedder.block2.res2.relu1_out\",\"embedder.block2.res2.conv1_out\",\"embedder.block2.res2.relu2_out\",\"embedder.block2.res2.conv2_out\",\"embedder.block2.res2.resadd_out\",\"embedder.block3.conv_out\",\"embedder.block3.maxpool_out\",\"embedder.block3.res1.relu1_out\",\"embedder.block3.res1.conv1_out\",\"embedder.block3.res1.relu2_out\",\"embedder.block3.res1.conv2_out\",\"embedder.block3.res1.resadd_out\",\"embedder.block3.res2.relu1_out\",\"embedder.block3.res2.conv1_out\",\"embedder.block3.res2.relu2_out\",\"embedder.block3.res2.conv2_out\",\"embedder.block3.res2.resadd_out\",\"embedder.relu3_out\",\"embedder.flatten_out\",\"embedder.fc_out\",\"embedder.relufc_out\",\"fc_policy_out\",\"fc_value_out\",\"_out\"],\"node_fill_color\":[76,50,56,78,20,48,10,32,24,2,83,40,22,52,16,58,34,38,30,12,80,72,28,62,44,74,68,70,4,14,8,64,82,60,18,26,6,54,66,46,36,42,0,3,5,7,9,11,13,15,17,19,21,23,25,27,29,31,33,35,37,39,41,43,45,47,49,51,53,55,57,59,61,63,65,67,69,71,73,75,77,79,81,84,85,1],\"node_size\":{\"__ndarray__\":\"wAofAMZILEDACh8AxkgsQMAKHwDGSCxAwAofAMZILEDACh8AxkgsQMAKHwDGSCxAwAofAMZILEDACh8AxkgsQMAKHwDGSCxAwAofAMZILEDACh8AxkgsQMAKHwDGSCxAwAofAMZILEDACh8AxkgsQMAKHwDGSCxAwAofAMZILEDACh8AxkgsQMAKHwDGSCxAwAofAMZILEDACh8AxkgsQMAKHwDGSCxAwAofAMZILEDACh8AxkgsQMAKHwDGSCxAwAofAMZILEDACh8AxkgsQMAKHwDGSCxAwAofAMZILEDACh8AxkgsQMAKHwDGSCxAwAofAMZILEDACh8AxkgsQMAKHwDGSCxAwAofAMZILEDACh8AxkgsQMAKHwDGSCxAwAofAMZILEDACh8AxkgsQMAKHwDGSCxAwAofAMZILEDACh8AxkgsQMAKHwDGSCxAAAAAAAAAJEAAAAAAAAAkQAAAAAAAACRAAAAAAAAAJEAAAAAAAAAkQAAAAAAAACRAAAAAAAAAJEAAAAAAAAAkQAAAAAAAACRAAAAAAAAAJEAAAAAAAAAkQAAAAAAAACRAAAAAAAAAJEAAAAAAAAAkQAAAAAAAACRAAAAAAAAAJEAAAAAAAAAkQAAAAAAAACRAAAAAAAAAJEAAAAAAAAAkQAAAAAAAACRAAAAAAAAAJEAAAAAAAAAkQAAAAAAAACRAAAAAAAAAJEAAAAAAAAAkQAAAAAAAACRAAAAAAAAAJEAAAAAAAAAkQAAAAAAAACRAAAAAAAAAJEAAAAAAAAAkQAAAAAAAACRAAAAAAAAAJEAAAAAAAAAkQAAAAAAAACRAAAAAAAAAJEAAAAAAAAAkQAAAAAAAACRAAAAAAAAAJEAAAAAAAAAkQAAAAAAAACRAAAAAAAAAJEAAAAAAAAAkQA==\",\"dtype\":\"float64\",\"order\":\"little\",\"shape\":[86]},\"type\":[\"module\",\"module\",\"module\",\"module\",\"module\",\"module\",\"module\",\"module\",\"module\",\"module\",\"module\",\"module\",\"module\",\"module\",\"module\",\"module\",\"module\",\"module\",\"module\",\"module\",\"module\",\"module\",\"module\",\"module\",\"module\",\"module\",\"module\",\"module\",\"module\",\"module\",\"module\",\"module\",\"module\",\"module\",\"module\",\"module\",\"module\",\"module\",\"module\",\"module\",\"module\",\"module\",\"value\",\"value\",\"value\",\"value\",\"value\",\"value\",\"value\",\"value\",\"value\",\"value\",\"value\",\"value\",\"value\",\"value\",\"value\",\"value\",\"value\",\"value\",\"value\",\"value\",\"value\",\"value\",\"value\",\"value\",\"value\",\"value\",\"value\",\"value\",\"value\",\"value\",\"value\",\"value\",\"value\",\"value\",\"value\",\"value\",\"value\",\"value\",\"value\",\"value\",\"value\",\"value\",\"value\",\"value\"]},\"selected\":{\"id\":\"1236\"},\"selection_policy\":{\"id\":\"1235\"}},\"id\":\"1189\",\"type\":\"ColumnDataSource\"},{\"attributes\":{},\"id\":\"1174\",\"type\":\"PanTool\"},{\"attributes\":{\"end\":1.1828573746807747,\"reset_end\":1.1828573746807747,\"reset_start\":-1.01143112148852,\"start\":-1.01143112148852,\"tags\":[[[\"x\",\"x\",null]]]},\"id\":\"1153\",\"type\":\"Range1d\"},{\"attributes\":{\"axis_label\":\"y\",\"coordinates\":null,\"formatter\":{\"id\":\"1221\"},\"group\":null,\"major_label_policy\":{\"id\":\"1222\"},\"ticker\":{\"id\":\"1170\"},\"visible\":false},\"id\":\"1169\",\"type\":\"LinearAxis\"},{\"attributes\":{},\"id\":\"1237\",\"type\":\"UnionRenderers\"},{\"attributes\":{\"axis\":{\"id\":\"1169\"},\"coordinates\":null,\"dimension\":1,\"grid_line_color\":null,\"group\":null,\"ticker\":null},\"id\":\"1172\",\"type\":\"Grid\"},{\"attributes\":{\"line_color\":{\"value\":\"limegreen\"},\"line_width\":{\"value\":2}},\"id\":\"1200\",\"type\":\"MultiLine\"},{\"attributes\":{},\"id\":\"1238\",\"type\":\"Selection\"},{\"attributes\":{},\"id\":\"1170\",\"type\":\"BasicTicker\"},{\"attributes\":{\"below\":[{\"id\":\"1165\"}],\"center\":[{\"id\":\"1168\"},{\"id\":\"1172\"}],\"height\":800,\"left\":[{\"id\":\"1169\"}],\"margin\":[5,5,5,5],\"min_border_bottom\":10,\"min_border_left\":10,\"min_border_right\":10,\"min_border_top\":10,\"outline_line_alpha\":0,\"renderers\":[{\"id\":\"1204\"}],\"sizing_mode\":\"fixed\",\"title\":{\"id\":\"1157\"},\"toolbar\":{\"id\":\"1180\"},\"width\":800,\"x_range\":{\"id\":\"1153\"},\"x_scale\":{\"id\":\"1161\"},\"y_range\":{\"id\":\"1154\"},\"y_scale\":{\"id\":\"1163\"}},\"id\":\"1156\",\"subtype\":\"Figure\",\"type\":\"Plot\"},{\"attributes\":{\"coordinates\":null,\"data_source\":{\"id\":\"1190\"},\"glyph\":{\"id\":\"1198\"},\"group\":null,\"hover_glyph\":{\"id\":\"1200\"},\"muted_glyph\":{\"id\":\"1201\"},\"nonselection_glyph\":{\"id\":\"1199\"},\"view\":{\"id\":\"1203\"}},\"id\":\"1202\",\"type\":\"GlyphRenderer\"},{\"attributes\":{},\"id\":\"1175\",\"type\":\"WheelZoomTool\"},{\"attributes\":{\"fill_alpha\":{\"value\":0.2},\"fill_color\":{\"field\":\"node_fill_color\",\"transform\":{\"id\":\"1188\"}},\"hatch_alpha\":{\"value\":0.2},\"hatch_color\":{\"value\":\"#30a2da\"},\"line_alpha\":{\"value\":0.2},\"size\":{\"field\":\"node_size\"}},\"id\":\"1195\",\"type\":\"Circle\"},{\"attributes\":{},\"id\":\"1173\",\"type\":\"SaveTool\"},{\"attributes\":{},\"id\":\"1219\",\"type\":\"AllLabels\"},{\"attributes\":{\"overlay\":{\"id\":\"1179\"}},\"id\":\"1176\",\"type\":\"BoxZoomTool\"},{\"attributes\":{},\"id\":\"1221\",\"type\":\"BasicTickFormatter\"},{\"attributes\":{},\"id\":\"1177\",\"type\":\"ResetTool\"},{\"attributes\":{\"source\":{\"id\":\"1190\"}},\"id\":\"1203\",\"type\":\"CDSView\"},{\"attributes\":{\"callback\":null},\"id\":\"1178\",\"type\":\"TapTool\"},{\"attributes\":{\"source\":{\"id\":\"1189\"}},\"id\":\"1197\",\"type\":\"CDSView\"},{\"attributes\":{},\"id\":\"1215\",\"type\":\"NodesAndLinkedEdges\"},{\"attributes\":{\"coordinates\":null,\"data_source\":{\"id\":\"1189\"},\"glyph\":{\"id\":\"1192\"},\"group\":null,\"hover_glyph\":{\"id\":\"1194\"},\"muted_glyph\":{\"id\":\"1195\"},\"nonselection_glyph\":{\"id\":\"1193\"},\"view\":{\"id\":\"1197\"}},\"id\":\"1196\",\"type\":\"GlyphRenderer\"},{\"attributes\":{\"data\":{\"end\":{\"__ndarray__\":\"UAAAAEMAAABGAAAAUQAAADQAAABCAAAALwAAADoAAAA2AAAAKwAAAFQAAAA+AAAANQAAAEQAAAAyAAAARwAAADsAAAA9AAAAOQAAADAAAABSAAAATgAAADgAAABJAAAAQAAAAE8AAABMAAAATQAAACwAAAAxAAAALgAAAEoAAABTAAAASAAAADMAAAA3AAAALQAAAEUAAABLAAAAQQAAADwAAAA/AAAACQAAABwAAAAkAAAAHQAAAB4AAAAGAAAAEwAAAB0AAAAIAAAADgAAACIAAAAEAAAADAAAAAgAAAAjAAAAFgAAABEAAAASAAAABwAAABAAAAAoAAAAEQAAAAsAAAAFAAAAKQAAABgAAAAnAAAABQAAAAEAAAANAAAAFwAAACUAAAACAAAADwAAACEAAAAXAAAAHwAAABUAAAAmAAAAGgAAABsAAAAVAAAAGQAAAAAAAAADAAAAFAAAACAAAAAKAAAA\",\"dtype\":\"int32\",\"order\":\"little\",\"shape\":[90]},\"start\":{\"__ndarray__\":\"AAAAAAEAAAACAAAAAwAAAAQAAAAFAAAABgAAAAcAAAAIAAAACQAAAAoAAAALAAAADAAAAA0AAAAOAAAADwAAABAAAAARAAAAEgAAABMAAAAUAAAAFQAAABYAAAAXAAAAGAAAABkAAAAaAAAAGwAAABwAAAAdAAAAHgAAAB8AAAAgAAAAIQAAACIAAAAjAAAAJAAAACUAAAAmAAAAJwAAACgAAAApAAAAKgAAACsAAAAsAAAALAAAAC0AAAAuAAAALwAAADAAAAAxAAAAMQAAADIAAAAzAAAANAAAADUAAAA2AAAANwAAADgAAAA4AAAAOQAAADoAAAA7AAAAPAAAAD0AAAA9AAAAPgAAAD8AAABAAAAAQQAAAEIAAABDAAAARAAAAEQAAABFAAAARgAAAEcAAABIAAAASQAAAEkAAABKAAAASwAAAEwAAABNAAAATgAAAE8AAABQAAAAUQAAAFIAAABSAAAA\",\"dtype\":\"int32\",\"order\":\"little\",\"shape\":[90]},\"xs\":[{\"__ndarray__\":\"MLGYOtYP5T/sjuVtCqzmPwAAAAAAAPh/Xd6SCCcT5j/sjuVtCqzmP54qU89TJeY/\",\"dtype\":\"float64\",\"order\":\"little\",\"shape\":[6]},{\"__ndarray__\":\"HhZ7eBYHuz8VaoyXbADFPwAAAAAAAPh/+EuCwPrXwj8VaoyXbADFPx84xCjzo8I/\",\"dtype\":\"float64\",\"order\":\"little\",\"shape\":[6]},{\"__ndarray__\":\"m1g5s5UQ1D/hSu0sJn/XPwAAAAAAAPh/vzxJ2v1R1j/hSu0sJn/XP4nvmgkjadY/\",\"dtype\":\"float64\",\"order\":\"little\",\"shape\":[6]},{\"__ndarray__\":\"+irndFVC6D+7L/MSFdTpPwAAAAAAAPh/MpS/PE886T+7L/MSFdTpP4zhps0iS+k/\",\"dtype\":\"float64\",\"order\":\"little\",\"shape\":[6]},{\"__ndarray__\":\"RDEavhuD4r+5+Q3kesLgvwAAAAAAAPh/7vGk0LBK4b+5+Q3kesLgv5GBq8CjWuG/\",\"dtype\":\"float64\",\"order\":\"little\",\"shape\":[6]},{\"__ndarray__\":\"TJTgl9nneb+HiZoJdG6oPwAAAAAAAPh/iQ3IH/79oT+HiZoJdG6oPxeuRAeWO50/\",\"dtype\":\"float64\",\"order\":\"little\",\"shape\":[6]},{\"__ndarray__\":\"4a18d+525792yciv2vXlvwAAAAAAAPh/lJy+7WKP5r92yciv2vXlvz2IUoy8Sea/\",\"dtype\":\"float64\",\"order\":\"little\",\"shape\":[6]},{\"__ndarray__\":\"9+L00hM8y7/R8PYsB4zEvwAAAAAAAPh/0NDcGu6Oxr/R8PYsB4zEvzemNS6P+Ma/\",\"dtype\":\"float64\",\"order\":\"little\",\"shape\":[6]},{\"__ndarray__\":\"oInCNPO/3r8wRBL6f/LavwAAAAAAAPh/ikkyWUXa278wRBL6f/Lav5TCAgggLdy/\",\"dtype\":\"float64\",\"order\":\"little\",\"shape\":[6]},{\"__ndarray__\":\"+7nCJxdt5L/S0okGtDPkvwAAAAAAAPh/KXNVSUWB5L/S0okGtDPkv9mys22qCeS/\",\"dtype\":\"float64\",\"order\":\"little\",\"shape\":[6]},{\"__ndarray__\":\"s00jrgx37j8AAAAAAADwPwAAAAAAAPh/T0Ygoyxq7z8AAAAAAADwP3WAK/bUc+8/\",\"dtype\":\"float64\",\"order\":\"little\",\"shape\":[6]},{\"__ndarray__\":\"Qb9+ML15wb/RODtiiYTCvwAAAAAAAPh/wGTg3Eslw7/RODtiiYTCv/vm1KugR8G/\",\"dtype\":\"float64\",\"order\":\"little\",\"shape\":[6]},{\"__ndarray__\":\"Wj8IuMyx3r8AwIxJx1LdvwAAAAAAAPh/HfOSMOtI3b8AwIxJx1Ldv4+IwH1dKt6/\",\"dtype\":\"float64\",\"order\":\"little\",\"shape\":[6]},{\"__ndarray__\":\"dW96ULCgzD9Er3AuxhfSPwAAAAAAAPh/zbYZjfDe0D9Er3AuxhfSP+2LsysbIdE/\",\"dtype\":\"float64\",\"order\":\"little\",\"shape\":[6]},{\"__ndarray__\":\"aPmAeXiS5L9UjkTDUJ/lvwAAAAAAAPh/hoRMUo6C5b9UjkTDUJ/lv3fLOr+EHeW/\",\"dtype\":\"float64\",\"order\":\"little\",\"shape\":[6]},{\"__ndarray__\":\"A3RtzcqG2j+1W6qXtVfcPwAAAAAAAPh/XJHncjcp3D+1W6qXtVfcP2EhE0KbWts/\",\"dtype\":\"float64\",\"order\":\"little\",\"shape\":[6]},{\"__ndarray__\":\"K61CxOl1vL8yn7Aj0eKzvwAAAAAAAPh/QbXlLi4juL8yn7Aj0eKzv5UxroELJLW/\",\"dtype\":\"float64\",\"order\":\"little\",\"shape\":[6]},{\"__ndarray__\":\"3uGQYodnvr8/LnXVPLq0vwAAAAAAAPh/XSpQlInHuL8/LnXVPLq0v1+KKINynrW/\",\"dtype\":\"float64\",\"order\":\"little\",\"shape\":[6]},{\"__ndarray__\":\"pf+fTKpiz7/7BYYP/XTPvwAAAAAAAPh/ELMgRKl+zr/7BYYP/XTPvyo/55tVMNC/\",\"dtype\":\"float64\",\"order\":\"little\",\"shape\":[6]},{\"__ndarray__\":\"AT02VY5p5L+wfolyRvrivwAAAAAAAPh/nzCGktmS47+wfolyRvriv6iYxeWrSuO/\",\"dtype\":\"float64\",\"order\":\"little\",\"shape\":[6]},{\"__ndarray__\":\"PB/MXapi6z8+LFCTzO7sPwAAAAAAAPh/kW7fgeBX7D8+LFCTzO7sP5BGdBVbZOw/\",\"dtype\":\"float64\",\"order\":\"little\",\"shape\":[6]},{\"__ndarray__\":\"afoWBZQt3T/7lVdZJQ7gPwAAAAAAAPh/M2/ZkM7k3j/7lVdZJQ7gP5zGAxG+YN8/\",\"dtype\":\"float64\",\"order\":\"little\",\"shape\":[6]},{\"__ndarray__\":\"EC0FkyWCz7/Rw29x67XIvwAAAAAAAPh/inWTMepTyr/Rw29x67XIvyhQX1hCKsu/\",\"dtype\":\"float64\",\"order\":\"little\",\"shape\":[6]},{\"__ndarray__\":\"6OgAEymW1j+YX97KgZTYPwAAAAAAAPh/A9tb0z592D+YX97KgZTYP7LaKMb/pdc/\",\"dtype\":\"float64\",\"order\":\"little\",\"shape\":[6]},{\"__ndarray__\":\"4vIvlkd8qL/2xLqM2QNzPwAAAAAAAPh/ay4FzWu4hr/2xLqM2QNzP8Uv/lkDQ42/\",\"dtype\":\"float64\",\"order\":\"little\",\"shape\":[6]},{\"__ndarray__\":\"orsZuW294T8P5krdYGvjPwAAAAAAAPh/OlM+vRHQ4j8P5krdYGvjP+PkNd5C6+I/\",\"dtype\":\"float64\",\"order\":\"little\",\"shape\":[6]},{\"__ndarray__\":\"xn8HPtrv3D/Phqn+nyzgPwAAAAAAAPh/9ya7g+om3z/Phqn+nyzgP1tx6pMOTd8/\",\"dtype\":\"float64\",\"order\":\"little\",\"shape\":[6]},{\"__ndarray__\":\"sqWwZ/Mv4T+QWuqEfMDgPwAAAAAAAPh/52c0lQGm4D+QWuqEfMDgP17ZY5eCG+E/\",\"dtype\":\"float64\",\"order\":\"little\",\"shape\":[6]},{\"__ndarray__\":\"9fcmEktw5L/iUKjNki7lvwAAAAAAAPh/kNHBbMsw5b/iUKjNki7lv2EQczzSwOS/\",\"dtype\":\"float64\",\"order\":\"little\",\"shape\":[6]},{\"__ndarray__\":\"9cq4hvbg4r9qVFr6WuThvwAAAAAAAPh/D+4/ydpg4r9qVFr6WuThvyF4huA7+OG/\",\"dtype\":\"float64\",\"order\":\"little\",\"shape\":[6]},{\"__ndarray__\":\"ZKEbF62D6r/DHqI+AibpvwAAAAAAAPh/zqYAQIV96b/DHqI+Aibpv9DeLCtxwOm/\",\"dtype\":\"float64\",\"order\":\"little\",\"shape\":[6]},{\"__ndarray__\":\"LxT5Ec8Y1j/r2h1HiE3WPwAAAAAAAPh/O1DnAzu21j/r2h1HiE3WP4INqp2QxdU/\",\"dtype\":\"float64\",\"order\":\"little\",\"shape\":[6]},{\"__ndarray__\":\"FIdhsul27j+QsklWrf/vPwAAAAAAAPh/upi6aoNp7z+QsklWrf/vP/zK/dwEdO8/\",\"dtype\":\"float64\",\"order\":\"little\",\"shape\":[6]},{\"__ndarray__\":\"XCdAC+6N3D+dw35AnAnbPwAAAAAAAPh/SVr2Z6zp2z+dw35AnAnbPwU1qP6WC9s/\",\"dtype\":\"float64\",\"order\":\"little\",\"shape\":[6]},{\"__ndarray__\":\"wx5MLdlb5b+wA+3AGivkvwAAAAAAAPh/fs4+K4+55L+wA+3AGivkv1l8NY5qYOS/\",\"dtype\":\"float64\",\"order\":\"little\",\"shape\":[6]},{\"__ndarray__\":\"aQudtYks17+NiNHIhnPTvwAAAAAAAPh/YWjYlYV/1L+NiNHIhnPTv9B8o43ypdS/\",\"dtype\":\"float64\",\"order\":\"little\",\"shape\":[6]},{\"__ndarray__\":\"qk9UTjpY6L80f+tI6y/qvwAAAAAAAPh/l/K6l86S6b80f+tI6y/qv8B7dt6Iuem/\",\"dtype\":\"float64\",\"order\":\"little\",\"shape\":[6]},{\"__ndarray__\":\"CdaRB8N70D9GZ5CrnX7RPwAAAAAAAPh/axTcQXi/0D9GZ5CrnX7RP6sz95toqNE/\",\"dtype\":\"float64\",\"order\":\"little\",\"shape\":[6]},{\"__ndarray__\":\"eRBItK6L1z9Vykc+kcbZPwAAAAAAAPh/57eZZWFw2T9Vykc+kcbZP+nUG2F1s9g/\",\"dtype\":\"float64\",\"order\":\"little\",\"shape\":[6]},{\"__ndarray__\":\"zsrU5/Bpoz9rlt51V4OkPwAAAAAAAPh/ipIq4C72pz9rlt51V4OkPysY4rs6b6A/\",\"dtype\":\"float64\",\"order\":\"little\",\"shape\":[6]},{\"__ndarray__\":\"PluAek7zr7+u+HgcSzKxvwAAAAAAAPh/1sfWOyu2sr+u+HgcSzKxv0YzPfBX6q2/\",\"dtype\":\"float64\",\"order\":\"little\",\"shape\":[6]},{\"__ndarray__\":\"i6nObg/HwL+A6kcOK/m4vwAAAAAAAPh/T4l6okk5vb+A6kcOK/m4v5yJAXntObq/\",\"dtype\":\"float64\",\"order\":\"little\",\"shape\":[6]},{\"__ndarray__\":\"VRpCF77m5L/7ucInF23kvwAAAAAAAPh/FEUwMNPO5L/7ucInF23kv6fEGDnpWuS/\",\"dtype\":\"float64\",\"order\":\"little\",\"shape\":[6]},{\"__ndarray__\":\"0tKJBrQz5L/19yYSS3DkvwAAAAAAAPh/mQ4SWVOa5L/19yYSS3Dkv2/kN564IuS/\",\"dtype\":\"float64\",\"order\":\"little\",\"shape\":[6]},{\"__ndarray__\":\"4lCozZIu5b+qT1ROOljovwAAAAAAAPh/chpA/Qm957+qT1ROOljov4wUUiqx1+e/\",\"dtype\":\"float64\",\"order\":\"little\",\"shape\":[6]},{\"__ndarray__\":\"4lCozZIu5b/1yriG9uDivwAAAAAAAPh/oRjMkjZ947/1yriG9uDivzMhcxK7QeO/\",\"dtype\":\"float64\",\"order\":\"little\",\"shape\":[6]},{\"__ndarray__\":\"NH/rSOsv6r9koRsXrYPqvwAAAAAAAPh/mJipGSMr6r9koRsXrYPqv2sg1Acioeq/\",\"dtype\":\"float64\",\"order\":\"little\",\"shape\":[6]},{\"__ndarray__\":\"wx6iPgIm6b/hrXx37nbnvwAAAAAAAPh/E/jJPtcS6L/hrXx37nbnv4krSmy29Oe/\",\"dtype\":\"float64\",\"order\":\"little\",\"shape\":[6]},{\"__ndarray__\":\"dsnIr9r15b8BPTZVjmnkvwAAAAAAAPh/4Ci28mgC5b8BPTZVjmnkvxJpCsrvuuS/\",\"dtype\":\"float64\",\"order\":\"little\",\"shape\":[6]},{\"__ndarray__\":\"sH6Jckb64r/1yriG9uDivwAAAAAAAPh/lYOP2CIn47/1yriG9uDiv0rm/vzqruK/\",\"dtype\":\"float64\",\"order\":\"little\",\"shape\":[6]},{\"__ndarray__\":\"alRa+lrk4b+gicI087/evwAAAAAAAPh/R+s28hL637+gicI087/ev2xFsa+wrd+/\",\"dtype\":\"float64\",\"order\":\"little\",\"shape\":[6]},{\"__ndarray__\":\"alRa+lrk4b9o+YB5eJLkvwAAAAAAAPh/LFY9mzsn5L9o+YB5eJLkv3up1p8f9eO/\",\"dtype\":\"float64\",\"order\":\"little\",\"shape\":[6]},{\"__ndarray__\":\"VI5Ew1Cf5b/DHkwt2VvlvwAAAAAAAPh/y1KDNgOt5b/DHkwt2Vvlv6pgYLbWNeW/\",\"dtype\":\"float64\",\"order\":\"little\",\"shape\":[6]},{\"__ndarray__\":\"sAPtwBor5L9EMRq+G4PivwAAAAAAAPh/VtJS1XIg479EMRq+G4Piv1QuOjSF9uK/\",\"dtype\":\"float64\",\"order\":\"little\",\"shape\":[6]},{\"__ndarray__\":\"ufkN5HrC4L9aPwi4zLHevwAAAAAAAPh/spGBKDZK379aPwi4zLHev+7AE6Vr4N+/\",\"dtype\":\"float64\",\"order\":\"little\",\"shape\":[6]},{\"__ndarray__\":\"AMCMScdS3b+gicI087/evwAAAAAAAPh/4cSkBG783b+gicI087/ev+YcsHE+5N6/\",\"dtype\":\"float64\",\"order\":\"little\",\"shape\":[6]},{\"__ndarray__\":\"MEQS+n/y2r9pC521iSzXvwAAAAAAAPh/+OGoatUz2L9pC521iSzXv35xX6TbYNi/\",\"dtype\":\"float64\",\"order\":\"little\",\"shape\":[6]},{\"__ndarray__\":\"jYjRyIZz078QLQWTJYLPvwAAAAAAAPh/MGW3066+0L8QLQWTJYLPv9CShyFl+NC/\",\"dtype\":\"float64\",\"order\":\"little\",\"shape\":[6]},{\"__ndarray__\":\"0cNvceu1yL/e4ZBih2e+vwAAAAAAAPh/nTopilqowb/e4ZBih2e+v1qw9a2l1MC/\",\"dtype\":\"float64\",\"order\":\"little\",\"shape\":[6]},{\"__ndarray__\":\"0cNvceu1yL+l/59MqmLPvwAAAAAAAPh/ercPn/lTzb+l/59MqmLPv6S2q5Zq4s6/\",\"dtype\":\"float64\",\"order\":\"little\",\"shape\":[6]},{\"__ndarray__\":\"+wWGD/10z7/34vTSEzzLvwAAAAAAAPh/n1NYCv/Wy7/34vTSEzzLvx7YJitGWc2/\",\"dtype\":\"float64\",\"order\":\"little\",\"shape\":[6]},{\"__ndarray__\":\"0fD2LAeMxL8rrULE6XW8vwAAAAAAAPh/CvflgZqwwL8rrULE6XW8v5qVVJfB3L+/\",\"dtype\":\"float64\",\"order\":\"little\",\"shape\":[6]},{\"__ndarray__\":\"Mp+wI9His78+W4B6TvOvvwAAAAAAAPh/XbKd2nAAs78+W4B6TvOvvwVMPVeIvq6/\",\"dtype\":\"float64\",\"order\":\"little\",\"shape\":[6]},{\"__ndarray__\":\"rvh4HEsysb/e4ZBih2e+vwAAAAAAAPh/pZIArlpqvL/e4ZBih2e+v0B6iMTU0Lm/\",\"dtype\":\"float64\",\"order\":\"little\",\"shape\":[6]},{\"__ndarray__\":\"Py511Ty6tL9Bv34wvXnBvwAAAAAAAPh/QbVwkaBqwL9Bv34wvXnBvxOTwyglUL6/\",\"dtype\":\"float64\",\"order\":\"little\",\"shape\":[6]},{\"__ndarray__\":\"Py511Ty6tL9MlOCX2ed5vwAAAAAAAPh/MK5ZQqkjmr9MlOCX2ed5v1OC9Gd/x5O/\",\"dtype\":\"float64\",\"order\":\"little\",\"shape\":[6]},{\"__ndarray__\":\"0Tg7YomEwr+Lqc5uD8fAvwAAAAAAAPh/m+j6xb86wr+Lqc5uD8fAv2tlt7VfZsC/\",\"dtype\":\"float64\",\"order\":\"little\",\"shape\":[6]},{\"__ndarray__\":\"gOpHDiv5uL/i8i+WR3yovwAAAAAAAPh/1M/OVKEpsb/i8i+WR3yovyRr8ckJWq+/\",\"dtype\":\"float64\",\"order\":\"little\",\"shape\":[6]},{\"__ndarray__\":\"9sS6jNkDcz/OytTn8GmjPwAAAAAAAPh/B9WTFE75oD/OytTn8GmjP9gg2MkU5ZU/\",\"dtype\":\"float64\",\"order\":\"little\",\"shape\":[6]},{\"__ndarray__\":\"a5bedVeDpD9MlOCX2ed5vwAAAAAAAPh/9Jl92bh7gj9MlOCX2ed5v9oTiidI5m2/\",\"dtype\":\"float64\",\"order\":\"little\",\"shape\":[6]},{\"__ndarray__\":\"h4maCXRuqD8eFnt4Fge7PwAAAAAAAPh/qdFmdgAYtz8eFnt4Fge7PykUbzQCKLY/\",\"dtype\":\"float64\",\"order\":\"little\",\"shape\":[6]},{\"__ndarray__\":\"FWqMl2wAxT91b3pQsKDMPwAAAAAAAPh/1YWT0wFQyj91b3pQsKDMP9qc0lP5Zso/\",\"dtype\":\"float64\",\"order\":\"little\",\"shape\":[6]},{\"__ndarray__\":\"RK9wLsYX0j/o6AATKZbWPwAAAAAAAPh/fqlpSWjY1T/o6AATKZbWPxs55oBIXtU/\",\"dtype\":\"float64\",\"order\":\"little\",\"shape\":[6]},{\"__ndarray__\":\"RK9wLsYX0j8J1pEHw3vQPwAAAAAAAPh/hxvLRNhd0D8J1pEHw3vQPywDYJdERNE/\",\"dtype\":\"float64\",\"order\":\"little\",\"shape\":[6]},{\"__ndarray__\":\"RmeQq51+0T+bWDmzlRDUPwAAAAAAAPh/VeSYxEbr0j+bWDmzlRDUPy6pYDk3ktM/\",\"dtype\":\"float64\",\"order\":\"little\",\"shape\":[6]},{\"__ndarray__\":\"4UrtLCZ/1z8DdG3NyobaPwAAAAAAAPh/pCiRRi3D2T8DdG3NyobaPwYPFRj6Tdk/\",\"dtype\":\"float64\",\"order\":\"little\",\"shape\":[6]},{\"__ndarray__\":\"tVuql7VX3D9cJ0AL7o3cPwAAAAAAAPh/jG/H4Ff13D9cJ0AL7o3cP557NmO8BNw/\",\"dtype\":\"float64\",\"order\":\"little\",\"shape\":[6]},{\"__ndarray__\":\"ncN+QJwJ2z/o6AATKZbWPwAAAAAAAPh/jFmrm4bO1z/o6AATKZbWPzf2BKDXVtc/\",\"dtype\":\"float64\",\"order\":\"little\",\"shape\":[6]},{\"__ndarray__\":\"mF/eyoGU2D8vFPkRzxjWPwAAAAAAAPh/ftYcnG0n1z8vFPkRzxjWPwhq8tlOZtY/\",\"dtype\":\"float64\",\"order\":\"little\",\"shape\":[6]},{\"__ndarray__\":\"mF/eyoGU2D9p+hYFlC3dPwAAAAAAAPh/DPdFEsF23D9p+hYFlC3dP7ec9kYB99s/\",\"dtype\":\"float64\",\"order\":\"little\",\"shape\":[6]},{\"__ndarray__\":\"69odR4hN1j95EEi0rovXPwAAAAAAAPh/w9f+9KSb1z95EEi0rovXPyczoXCWuNY/\",\"dtype\":\"float64\",\"order\":\"little\",\"shape\":[6]},{\"__ndarray__\":\"VcpHPpHG2T/Gfwc+2u/cPwAAAAAAAPh/jWeRAUgd3D/Gfwc+2u/cP3im39xktds/\",\"dtype\":\"float64\",\"order\":\"little\",\"shape\":[6]},{\"__ndarray__\":\"z4ap/p8s4D+ypbBn8y/hPwAAAAAAAPh/BOEUqC6q4D+ypbBn8y/hP5iup3AVDOE/\",\"dtype\":\"float64\",\"order\":\"little\",\"shape\":[6]},{\"__ndarray__\":\"kFrqhHzA4D9p+hYFlC3dPwAAAAAAAPh/Q3Eye9eT3T9p+hYFlC3dP1GvgBl9SN4/\",\"dtype\":\"float64\",\"order\":\"little\",\"shape\":[6]},{\"__ndarray__\":\"+5VXWSUO4D+iuxm5bb3hPwAAAAAAAPh/tZD+Xlsg4T+iuxm5bb3hPziOYlemRuE/\",\"dtype\":\"float64\",\"order\":\"little\",\"shape\":[6]},{\"__ndarray__\":\"D+ZK3WBr4z8wsZg61g/lPwAAAAAAAPh/A2HfGu515D8wsZg61g/lP4B+RrGFi+Q/\",\"dtype\":\"float64\",\"order\":\"little\",\"shape\":[6]},{\"__ndarray__\":\"7I7lbQqs5j/6Kud0VULoPwAAAAAAAPh/XhiY7Saq5z/6Kud0VULoP2XacZsquuc/\",\"dtype\":\"float64\",\"order\":\"little\",\"shape\":[6]},{\"__ndarray__\":\"uy/zEhXU6T88H8xdqmLrPwAAAAAAAPh/l2ElqTzL6j88H8xdqmLrPzZphC8Y2eo/\",\"dtype\":\"float64\",\"order\":\"little\",\"shape\":[6]},{\"__ndarray__\":\"PixQk8zu7D8Uh2Gy6XbuPwAAAAAAAPh/bhXR/0Tf7T8Uh2Gy6XbuP1Y3Qnu67e0/\",\"dtype\":\"float64\",\"order\":\"little\",\"shape\":[6]},{\"__ndarray__\":\"PixQk8zu7D+zTSOuDHfuPwAAAAAAAPh/PBGEqp7f7T+zTSOuDHfuP8ObGQx77e0/\",\"dtype\":\"float64\",\"order\":\"little\",\"shape\":[6]}],\"ys\":[{\"__ndarray__\":\"yzUr8eFGjz8pxYCtFRx/PwAAAAAAAPh/6OlWyB6YaD8pxYCtFRx/P7CcD3Ug95E/\",\"dtype\":\"float64\",\"order\":\"little\",\"shape\":[6]},{\"__ndarray__\":\"NTluP8IEq7/yMIf5RMSnvwAAAAAAAPh/3d44+el9rL/yMIf5RMSnvxcVelcRAaW/\",\"dtype\":\"float64\",\"order\":\"little\",\"shape\":[6]},{\"__ndarray__\":\"tTXR8M+Cz7+lz5M/KxbQvwAAAAAAAPh/Qyo2HS5y0L+lz5M/KxbQvxCGJXGPBM+/\",\"dtype\":\"float64\",\"order\":\"little\",\"shape\":[6]},{\"__ndarray__\":\"mbrVPxv5Tj+iDzJjKgh1vwAAAAAAAPh/ojyZFZj9hL+iDzJjKgh1v2B/F7CC0HE/\",\"dtype\":\"float64\",\"order\":\"little\",\"shape\":[6]},{\"__ndarray__\":\"fA14U6rmzL9cktozDvfLvwAAAAAAAPh/I77iKvUyzb9cktozDvfLv9B4JpIrVcu/\",\"dtype\":\"float64\",\"order\":\"little\",\"shape\":[6]},{\"__ndarray__\":\"xpYxVM9AuL8md9tIA1GxvwAAAAAAAPh/jGPdaoAJtb8md9tIA1GxvwR6n420q7G/\",\"dtype\":\"float64\",\"order\":\"little\",\"shape\":[6]},{\"__ndarray__\":\"Hq+SaVroxj9KFR0+bKXCPwAAAAAAAPh/yU/KtAoxwz9KFR0+bKXCP4VBUCpnusQ/\",\"dtype\":\"float64\",\"order\":\"little\",\"shape\":[6]},{\"__ndarray__\":\"AqS00Aa5yz9osZLkijnNPwAAAAAAAPh/Cq9vgeHOyz9osZLkijnNP7j2RVkxpc0/\",\"dtype\":\"float64\",\"order\":\"little\",\"shape\":[6]},{\"__ndarray__\":\"8CQ54EO4qL9X9mcjrCqbvwAAAAAAAPh/l8XEDL8+pL9X9mcjrCqbv8XYnhFMWJq/\",\"dtype\":\"float64\",\"order\":\"little\",\"shape\":[6]},{\"__ndarray__\":\"DkfoKYTFzz+4tCro+HvIPwAAAAAAAPh/1J2EvAqgyj+4tCro+HvIP2VhAO3o2so/\",\"dtype\":\"float64\",\"order\":\"little\",\"shape\":[6]},{\"__ndarray__\":\"/CKmBrHblb8oXhiRqs6ZvwAAAAAAAPh/vnVO54fbn78oXhiRqs6Zvym9PDi215C/\",\"dtype\":\"float64\",\"order\":\"little\",\"shape\":[6]},{\"__ndarray__\":\"tWtTJ0ApvL8BMni5+sbFvwAAAAAAAPh/hCl+6wpmw78BMni5+sbFv73+Hcq4psO/\",\"dtype\":\"float64\",\"order\":\"little\",\"shape\":[6]},{\"__ndarray__\":\"t/TXfmp2x79cQ2aZEzXAvwAAAAAAAPh/KvecQ5Gqwr9cQ2aZEzXAvz+MqTsjAMK/\",\"dtype\":\"float64\",\"order\":\"little\",\"shape\":[6]},{\"__ndarray__\":\"ZgP7ucM4qb/KEXeIM+2wvwAAAAAAAPh/45qscjp9sb/KEXeIM+2wvwZNIq1tvKu/\",\"dtype\":\"float64\",\"order\":\"little\",\"shape\":[6]},{\"__ndarray__\":\"pLouAnXerr9eu+vB/Vu8vwAAAAAAAPh/WngMNJWFt79eu+vB/Vu8vwdSViX+krm/\",\"dtype\":\"float64\",\"order\":\"little\",\"shape\":[6]},{\"__ndarray__\":\"G66Y7AjNzL+7zKvP8MDGvwAAAAAAAPh/lMyok9Yvyb+7zKvP8MDGv1dbVCKlN8i/\",\"dtype\":\"float64\",\"order\":\"little\",\"shape\":[6]},{\"__ndarray__\":\"d5PAa55xyj/WgmmNk8/EPwAAAAAAAPh/Bq56mJ0Mxj/WgmmNk8/EP4q5wDKNMMc/\",\"dtype\":\"float64\",\"order\":\"little\",\"shape\":[6]},{\"__ndarray__\":\"juHVrJ2rWr+Dus1BxbSuvwAAAAAAAPh/TAPnOaUfqb+Dus1BxbSuv2xk21ZDB6W/\",\"dtype\":\"float64\",\"order\":\"little\",\"shape\":[6]},{\"__ndarray__\":\"tfM5lqZ8vD+k+uh++RDGPwAAAAAAAPh/VpdPUVjNwz+k+uh++RDGP37FXVLvyMM/\",\"dtype\":\"float64\",\"order\":\"little\",\"shape\":[6]},{\"__ndarray__\":\"EGM4yVcrvD+STahNo5WzPwAAAAAAAPh/NzePxqfMtD+STahNo5WzP1ozlEGn0Lc/\",\"dtype\":\"float64\",\"order\":\"little\",\"shape\":[6]},{\"__ndarray__\":\"Ik7gShQNhr/5JFT1Sy6QvwAAAAAAAPh/YjFOmQTKlb/5JFT1Sy6Qv2Kojl0bOnu/\",\"dtype\":\"float64\",\"order\":\"little\",\"shape\":[6]},{\"__ndarray__\":\"o7CIUuD2tD8nkToJ5tyrPwAAAAAAAPh/TgkULeZOrT8nkToJ5tyrP4hwJcxG4rE/\",\"dtype\":\"float64\",\"order\":\"little\",\"shape\":[6]},{\"__ndarray__\":\"1wKtbFwLgT9+owSUn8KhPwAAAAAAAPh/TjgWsFuwlD9+owSUn8KhP4xNT/EsF6E/\",\"dtype\":\"float64\",\"order\":\"little\",\"shape\":[6]},{\"__ndarray__\":\"qO3mI41ymb86HcNHn++iPwAAAAAAAPh/0WRmyZw+kj86HcNHn++iP5Lku8h3BZk/\",\"dtype\":\"float64\",\"order\":\"little\",\"shape\":[6]},{\"__ndarray__\":\"h6hYnamn0r/W+fRWdejRvwAAAAAAAPh/aelQbUKd0r/W+fRWdejRvwSUf9X+sdG/\",\"dtype\":\"float64\",\"order\":\"little\",\"shape\":[6]},{\"__ndarray__\":\"BmLG7UrUoj/rOG453zWZPwAAAAAAAPh/p//rWNf5lT/rOG453zWZP84CiPlNU6I/\",\"dtype\":\"float64\",\"order\":\"little\",\"shape\":[6]},{\"__ndarray__\":\"2dRIMAVW0T8YpJ0nCsrQPwAAAAAAAPh/LJ0JYxeB0D8YpJ0nCsrQP59J3HQRb9E/\",\"dtype\":\"float64\",\"order\":\"little\",\"shape\":[6]},{\"__ndarray__\":\"Tn/OG8vuyz9V/J5+LEfEPwAAAAAAAPh/HUCCqgC0xj9V/J5+LEfEP9ehAD0QScY/\",\"dtype\":\"float64\",\"order\":\"little\",\"shape\":[6]},{\"__ndarray__\":\"0coXKN3KwD94idZR46KyPwAAAAAAAPh/DGuyqVyOtz94idZR46KyPwz7OxMJKrY/\",\"dtype\":\"float64\",\"order\":\"little\",\"shape\":[6]},{\"__ndarray__\":\"9pHsA4hboD+tGc20PoaWvwAAAAAAAPh/wZrcQbzzhL+tGc20PoaWvyhWObZQAWi/\",\"dtype\":\"float64\",\"order\":\"little\",\"shape\":[6]},{\"__ndarray__\":\"zogNDZv/xD8AY+hRl6XIPwAAAAAAAPh/ovjeCQiaxj8AY+hRl6XIP5029SjmKsg/\",\"dtype\":\"float64\",\"order\":\"little\",\"shape\":[6]},{\"__ndarray__\":\"UA1CRFzFtj+REyJGAQrDPwAAAAAAAPh/ME0q3Qi4wD+REyJGAQrDP2JASVzw0cA/\",\"dtype\":\"float64\",\"order\":\"little\",\"shape\":[6]},{\"__ndarray__\":\"Q7yi28Qalr8Mq2vGqGaavwAAAAAAAPh/+vV+zM8ooL8Mq2vGqGaav1rc3zgVUJG/\",\"dtype\":\"float64\",\"order\":\"little\",\"shape\":[6]},{\"__ndarray__\":\"pWmjunXwvr/1GQAhMYywvwAAAAAAAPh/4/rgLD8BtL/1GQAhMYywv4pKgjDEd7W/\",\"dtype\":\"float64\",\"order\":\"little\",\"shape\":[6]},{\"__ndarray__\":\"iSBRwjQ1xb9ny5B8QHHKvwAAAAAAAPh/EMqRcwJlyb9ny5B8QHHKv3ZXGy+nIMi/\",\"dtype\":\"float64\",\"order\":\"little\",\"shape\":[6]},{\"__ndarray__\":\"neAnkVtfj7+RgSH9cER4vwAAAAAAAPh/ok4bTbNmkL+RgSH9cER4v9iozbHdfFi/\",\"dtype\":\"float64\",\"order\":\"little\",\"shape\":[6]},{\"__ndarray__\":\"qeqGk91fuD8OB9WAgmC9PwAAAAAAAPh/wzmu6/qyvT8OB9WAgmC9P7t7uaQQIro/\",\"dtype\":\"float64\",\"order\":\"little\",\"shape\":[6]},{\"__ndarray__\":\"hJBJWr71wr9a+xJGFZPKvwAAAAAAAPh/gRtIR5WeyL9a+xJGFZPKv4iDn83aIsi/\",\"dtype\":\"float64\",\"order\":\"little\",\"shape\":[6]},{\"__ndarray__\":\"vVaFq3wFyj8HZP742abPPwAAAAAAAPh/AiyvlRlJzT8HZP742abPP4H58zlodM4/\",\"dtype\":\"float64\",\"order\":\"little\",\"shape\":[6]},{\"__ndarray__\":\"dXXnE2Aizr/jqlYlBzXGvwAAAAAAAPh/NYHYP+OCyL/jqlYlBzXGv+1X8wMwcsi/\",\"dtype\":\"float64\",\"order\":\"little\",\"shape\":[6]},{\"__ndarray__\":\"pBtv1ix7uz9meHndPV+oPwAAAAAAAPh/ylBtQQPesD9meHndPV+oPx+5a/9HkbA/\",\"dtype\":\"float64\",\"order\":\"little\",\"shape\":[6]},{\"__ndarray__\":\"3s4TpbHuzL8CSzLgjUnRvwAAAAAAAPh/EO3BD+6q0L8CSzLgjUnRv9arYiYJGdC/\",\"dtype\":\"float64\",\"order\":\"little\",\"shape\":[6]},{\"__ndarray__\":\"Okg0UJk60z8OR+gphMXPPwAAAAAAAPh/7Pe7dKXZ0D8OR+gphMXPP9SxQ0mNG9E/\",\"dtype\":\"float64\",\"order\":\"little\",\"shape\":[6]},{\"__ndarray__\":\"uLQq6Ph7yD/Ryhco3crAPwAAAAAAAPh/Mwlho84pwz/Ryhco3crAP03OcUns7sI/\",\"dtype\":\"float64\",\"order\":\"little\",\"shape\":[6]},{\"__ndarray__\":\"eInWUeOisj+p6oaT3V+4PwAAAAAAAPh/ld1LNpI0uT+p6oaT3V+4P5PzaRtkiLU/\",\"dtype\":\"float64\",\"order\":\"little\",\"shape\":[6]},{\"__ndarray__\":\"eInWUeOisj/2kewDiFugPwAAAAAAAPh/uei8C+6RoT/2kewDiFugP2+MkgfJHqg/\",\"dtype\":\"float64\",\"order\":\"little\",\"shape\":[6]},{\"__ndarray__\":\"DgfVgIJgvT/OiA0Nm//EPwAAAAAAAPh/suMzF9H2wj/OiA0Nm//EP84wdxbtlMI/\",\"dtype\":\"float64\",\"order\":\"little\",\"shape\":[6]},{\"__ndarray__\":\"AGPoUZelyD8er5JpWujGPwAAAAAAAPh/qTcsEXeQxj8er5JpWujGP6azr1svY8g/\",\"dtype\":\"float64\",\"order\":\"little\",\"shape\":[6]},{\"__ndarray__\":\"ShUdPmylwj8QYzjJVyu8PwAAAAAAAPh/m945DnVZvT8QYzjJVyu8P2IhL0HSMMA/\",\"dtype\":\"float64\",\"order\":\"little\",\"shape\":[6]},{\"__ndarray__\":\"kk2oTaOVsz/2kewDiFugPwAAAAAAAPh/lmqOJLEqqT/2kewDiFugP0j5l8YWsKk/\",\"dtype\":\"float64\",\"order\":\"little\",\"shape\":[6]},{\"__ndarray__\":\"rRnNtD6Glr/wJDngQ7iovwAAAAAAAPh/modTAP9oqb/wJDngQ7iov2iZzHlHRKK/\",\"dtype\":\"float64\",\"order\":\"little\",\"shape\":[6]},{\"__ndarray__\":\"rRnNtD6Glr+kui4Cdd6uvwAAAAAAAPh/Z6zlTeepp7+kui4Cdd6uv5HDxOZqg66/\",\"dtype\":\"float64\",\"order\":\"little\",\"shape\":[6]},{\"__ndarray__\":\"Xrvrwf1bvL+JIFHCNDXFvwAAAAAAAPh/75Ofy4gZw7+JIFHCNDXFvza4ZZQI0sK/\",\"dtype\":\"float64\",\"order\":\"little\",\"shape\":[6]},{\"__ndarray__\":\"Z8uQfEBxyr98DXhTqubMvwAAAAAAAPh/3YoNVSz+zL98DXhTqubMv+Xj7zlDOsu/\",\"dtype\":\"float64\",\"order\":\"little\",\"shape\":[6]},{\"__ndarray__\":\"XJLaMw73y7+39Nd+anbHvwAAAAAAAPh/YtsxfIidyb+39Nd+anbHv021FF2SJMi/\",\"dtype\":\"float64\",\"order\":\"little\",\"shape\":[6]},{\"__ndarray__\":\"XENmmRM1wL/wJDngQ7iovwAAAAAAAPh/KFZx3oU3sL/wJDngQ7iov308mnpWP7G/\",\"dtype\":\"float64\",\"order\":\"little\",\"shape\":[6]},{\"__ndarray__\":\"V/ZnI6wqm7+d4CeRW1+PvwAAAAAAAPh/uArI9257mr+d4CeRW1+Pv2Vv09QxXoe/\",\"dtype\":\"float64\",\"order\":\"little\",\"shape\":[6]},{\"__ndarray__\":\"kYEh/XBEeL/XAq1sXAuBPwAAAAAAAPh/wOQpesYnab/XAq1sXAuBP8kJlBEg9oY/\",\"dtype\":\"float64\",\"order\":\"little\",\"shape\":[6]},{\"__ndarray__\":\"fqMElJ/CoT+O4dWsnatavwAAAAAAAPh/LGch2CGgPL+O4dWsnatav/R+NVvGK4o/\",\"dtype\":\"float64\",\"order\":\"little\",\"shape\":[6]},{\"__ndarray__\":\"fqMElJ/CoT+18zmWpny8PwAAAAAAAPh/cK8FVQPKuT+18zmWpny8P4EQyZpxq7c/\",\"dtype\":\"float64\",\"order\":\"little\",\"shape\":[6]},{\"__ndarray__\":\"pProfvkQxj8CpLTQBrnLPwAAAAAAAPh/e1iF6ZNWyT8CpLTQBrnLP456iBLrdso/\",\"dtype\":\"float64\",\"order\":\"little\",\"shape\":[6]},{\"__ndarray__\":\"aLGS5Io5zT93k8BrnnHKPwAAAAAAAPh/+JGanHx/yj93k8BrnnHKP7nCqA+nOMw/\",\"dtype\":\"float64\",\"order\":\"little\",\"shape\":[6]},{\"__ndarray__\":\"1oJpjZPPxD+kG2/WLHu7PwAAAAAAAPh/hFsqg0xcvz+kG2/WLHu7P7aUgHujLsA/\",\"dtype\":\"float64\",\"order\":\"little\",\"shape\":[6]},{\"__ndarray__\":\"Znh53T1fqD+O4dWsnatavwAAAAAAAPh/ZRH1VqtVkD+O4dWsnatav/ivm/LzvnU/\",\"dtype\":\"float64\",\"order\":\"little\",\"shape\":[6]},{\"__ndarray__\":\"g7rNQcW0rr+1a1MnQCm8vwAAAAAAAPh/fexN+VS4t7+1a1MnQCm8v5/+89i8hLq/\",\"dtype\":\"float64\",\"order\":\"little\",\"shape\":[6]},{\"__ndarray__\":\"g7rNQcW0rr/GljFUz0C4vwAAAAAAAPh/Ai0FeWwKuL/GljFUz0C4v98WWS+DoLS/\",\"dtype\":\"float64\",\"order\":\"little\",\"shape\":[6]},{\"__ndarray__\":\"ATJ4ufrGxb/ezhOlse7MvwAAAAAAAPh/mgT6FEXyyr/ezhOlse7Mv9uM/TBcgMq/\",\"dtype\":\"float64\",\"order\":\"little\",\"shape\":[6]},{\"__ndarray__\":\"Aksy4I1J0b+HqFidqafSvwAAAAAAAPh/UCfMTYWj0r+HqFidqafSv9GwYtUVxtG/\",\"dtype\":\"float64\",\"order\":\"little\",\"shape\":[6]},{\"__ndarray__\":\"1vn0VnXo0b91decTYCLOvwAAAAAAAPh/qFhZCEFC0L91decTYCLOv1fW+BpiY8+/\",\"dtype\":\"float64\",\"order\":\"little\",\"shape\":[6]},{\"__ndarray__\":\"46pWJQc1xr/GljFUz0C4vwAAAAAAAPh/Xmqnttw2u7/GljFUz0C4v1s6auomIL2/\",\"dtype\":\"float64\",\"order\":\"little\",\"shape\":[6]},{\"__ndarray__\":\"JnfbSANRsb81OW4/wgSrvwAAAAAAAPh/+ND4/+12sL81OW4/wgSrv/VYS6Vyoqm/\",\"dtype\":\"float64\",\"order\":\"little\",\"shape\":[6]},{\"__ndarray__\":\"8jCH+UTEp79mA/u5wzipvwAAAAAAAPh/6Rs37NSMrL9mA/u5wzipvw3p4AvpBqW/\",\"dtype\":\"float64\",\"order\":\"little\",\"shape\":[6]},{\"__ndarray__\":\"yhF3iDPtsL+o7eYjjXKZvwAAAAAAAPh/Q7TDNr2TpL+o7eYjjXKZvydlngv3Kpy/\",\"dtype\":\"float64\",\"order\":\"little\",\"shape\":[6]},{\"__ndarray__\":\"yhF3iDPtsL+EkElavvXCvwAAAAAAAPh/5EIB6MqCwL+EkElavvXCv+9ad/scEMG/\",\"dtype\":\"float64\",\"order\":\"little\",\"shape\":[6]},{\"__ndarray__\":\"WvsSRhWTyr+1NdHwz4LPvwAAAAAAAPh/HxJGCp+dzr+1NdHwz4LPv6H7H/ryQc2/\",\"dtype\":\"float64\",\"order\":\"little\",\"shape\":[6]},{\"__ndarray__\":\"pc+TPysW0L8brpjsCM3MvwAAAAAAAPh/puZ/UZS6zr8brpjsCM3Mv9sLsbRhFc2/\",\"dtype\":\"float64\",\"order\":\"little\",\"shape\":[6]},{\"__ndarray__\":\"u8yrz/DAxr+laaO6dfC+vwAAAAAAAPh/vRQOlBnLwb+laaO6dfC+v7/P3nwdr8G/\",\"dtype\":\"float64\",\"order\":\"little\",\"shape\":[6]},{\"__ndarray__\":\"9RkAITGMsL+o7eYjjXKZvwAAAAAAAPh/evIxP4Hwm7+o7eYjjXKZvxqVQOfUgaS/\",\"dtype\":\"float64\",\"order\":\"little\",\"shape\":[6]},{\"__ndarray__\":\"Oh3DR5/voj9QDUJEXMW2PwAAAAAAAPh/KojG20hBtD9QDUJEXMW2P2ZmQMqAALI/\",\"dtype\":\"float64\",\"order\":\"little\",\"shape\":[6]},{\"__ndarray__\":\"Oh3DR5/voj+jsIhS4Pa0PwAAAAAAAPh/WCGrD071sD+jsIhS4Pa0P6SmTs/KJrQ/\",\"dtype\":\"float64\",\"order\":\"little\",\"shape\":[6]},{\"__ndarray__\":\"kRMiRgEKwz+9VoWrfAXKPwAAAAAAAPh/dBMUN3+Qxz+9VoWrfAXKP8ywJnkmMsg/\",\"dtype\":\"float64\",\"order\":\"little\",\"shape\":[6]},{\"__ndarray__\":\"B2T++Nmmzz/Z1EgwBVbRPwAAAAAAAPh/egM3SOFr0D/Z1EgwBVbRP5f9SL1aRdE/\",\"dtype\":\"float64\",\"order\":\"little\",\"shape\":[6]},{\"__ndarray__\":\"GKSdJwrK0D9Of84by+7LPwAAAAAAAPh/fC2cEPk6zT9Of84by+7LP/L7sswIVM4/\",\"dtype\":\"float64\",\"order\":\"little\",\"shape\":[6]},{\"__ndarray__\":\"VfyefixHxD+jsIhS4Pa0PwAAAAAAAPh/QsHYmDSeuT+jsIhS4Pa0P6wFfz4HILc/\",\"dtype\":\"float64\",\"order\":\"little\",\"shape\":[6]},{\"__ndarray__\":\"J5E6Cebcqz8GYsbtStSiPwAAAAAAAPh/puQLDsgloj8GYsbtStSiPwI0MTn1Sak/\",\"dtype\":\"float64\",\"order\":\"little\",\"shape\":[6]},{\"__ndarray__\":\"6zhuOd81mT/LNSvx4UaPPwAAAAAAAPh/0Ow12Sn5hj/LNSvx4UaPPy3Pld9lTpo/\",\"dtype\":\"float64\",\"order\":\"little\",\"shape\":[6]},{\"__ndarray__\":\"KcWArRUcfz+ZutU/G/lOPwAAAAAAAPh/yaQluIZScL+ZutU/G/lOPxAItNLGsoU/\",\"dtype\":\"float64\",\"order\":\"little\",\"shape\":[6]},{\"__ndarray__\":\"og8yYyoIdb8iTuBKFA2GvwAAAAAAAPh/ubtffZRqkL8iTuBKFA2Gv/gwD7QFP1e/\",\"dtype\":\"float64\",\"order\":\"little\",\"shape\":[6]},{\"__ndarray__\":\"+SRU9UsukL9DvKLbxBqWvwAAAAAAAPh/RGf/y3Bmm79DvKLbxBqWv/1wlA0n5Ii/\",\"dtype\":\"float64\",\"order\":\"little\",\"shape\":[6]},{\"__ndarray__\":\"+SRU9UsukL/8IqYGsduVvwAAAAAAAPh/hhfitJg/m7/8IqYGsduVv/2O0H3vkYi/\",\"dtype\":\"float64\",\"order\":\"little\",\"shape\":[6]}]},\"selected\":{\"id\":\"1238\"},\"selection_policy\":{\"id\":\"1237\"}},\"id\":\"1190\",\"type\":\"ColumnDataSource\"},{\"attributes\":{\"line_alpha\":{\"value\":0.2},\"line_width\":{\"value\":2}},\"id\":\"1199\",\"type\":\"MultiLine\"},{\"attributes\":{\"bottom_units\":\"screen\",\"coordinates\":null,\"fill_alpha\":0.5,\"fill_color\":\"lightgrey\",\"group\":null,\"left_units\":\"screen\",\"level\":\"overlay\",\"line_alpha\":1.0,\"line_color\":\"black\",\"line_dash\":[4,4],\"line_width\":2,\"right_units\":\"screen\",\"syncable\":false,\"top_units\":\"screen\"},\"id\":\"1179\",\"type\":\"BoxAnnotation\"},{\"attributes\":{},\"id\":\"1235\",\"type\":\"UnionRenderers\"},{\"attributes\":{\"line_width\":{\"value\":2}},\"id\":\"1198\",\"type\":\"MultiLine\"},{\"attributes\":{\"axis_label\":\"x\",\"coordinates\":null,\"formatter\":{\"id\":\"1218\"},\"group\":null,\"major_label_policy\":{\"id\":\"1219\"},\"ticker\":{\"id\":\"1166\"},\"visible\":false},\"id\":\"1165\",\"type\":\"LinearAxis\"},{\"attributes\":{},\"id\":\"1236\",\"type\":\"Selection\"},{\"attributes\":{\"fill_color\":{\"field\":\"node_fill_color\",\"transform\":{\"id\":\"1188\"}},\"hatch_color\":{\"value\":\"#30a2da\"},\"size\":{\"field\":\"node_size\"}},\"id\":\"1192\",\"type\":\"Circle\"},{\"attributes\":{\"fill_alpha\":{\"value\":0.2},\"fill_color\":{\"value\":\"#30a2da\"},\"hatch_alpha\":{\"value\":0.2},\"hatch_color\":{\"value\":\"#30a2da\"},\"line_alpha\":{\"value\":0.2},\"size\":{\"field\":\"node_size\"}},\"id\":\"1193\",\"type\":\"Circle\"},{\"attributes\":{\"coordinates\":null,\"edge_renderer\":{\"id\":\"1202\"},\"group\":null,\"inspection_policy\":{\"id\":\"1215\"},\"layout_provider\":{\"id\":\"1191\"},\"node_renderer\":{\"id\":\"1196\"},\"selection_policy\":{\"id\":\"1213\"}},\"id\":\"1204\",\"type\":\"GraphRenderer\"},{\"attributes\":{\"fill_color\":{\"value\":\"limegreen\"},\"hatch_color\":{\"value\":\"#30a2da\"},\"size\":{\"field\":\"node_size\"}},\"id\":\"1194\",\"type\":\"Circle\"},{\"attributes\":{\"active_drag\":{\"id\":\"1174\"},\"active_scroll\":{\"id\":\"1175\"},\"tools\":[{\"id\":\"1155\"},{\"id\":\"1173\"},{\"id\":\"1174\"},{\"id\":\"1175\"},{\"id\":\"1176\"},{\"id\":\"1177\"},{\"id\":\"1178\"}]},\"id\":\"1180\",\"type\":\"Toolbar\"},{\"attributes\":{},\"id\":\"1222\",\"type\":\"AllLabels\"},{\"attributes\":{\"graph_layout\":{\"0\":[0.6581832069837557,0.015271916553866746],\"1\":[0.10557690087724622,-0.05277068161295732],\"10\":[0.9520324135905213,-0.021345869093724254],\"11\":[-0.1365276800911435,-0.11000443420509394],\"12\":[-0.47960203143974456,-0.1833012694695861],\"13\":[0.22365383081057258,-0.04926120419759776],\"14\":[-0.6428797124024586,-0.06029096271173742],\"15\":[0.4144770628097946,-0.2250071673637287],\"16\":[-0.11117421189799319,0.20659237157192553],\"17\":[-0.11876722484965493,-0.0016278304859423695],\"18\":[-0.24519852391676725,0.11127701919208628],\"19\":[-0.6378852524084381,0.11003636038402598],\"2\":[0.31351225378365094,-0.24617957361844636],\"20\":[0.8557941276530765,-0.010767134223022504],\"21\":[0.455906872721164,0.08189203276623629],\"22\":[-0.24615926436158775,0.008322450701258628],\"23\":[0.3529150662976819,-0.02485104114178474],\"24\":[-0.04782317837086737,-0.29148331037379943],\"25\":[0.5543736090893285,0.03677591469312706],\"26\":[0.4521394353632754,0.2708752604988383],\"27\":[0.5371033692546716,0.21822489602799994],\"28\":[-0.6387076715980117,0.13119091470397007],\"29\":[-0.5899613028799126,0.031948328475014096],\"3\":[0.7580973895322523,0.0009452231458178694],\"30\":[-0.8285737468077454,0.16405046593997102],\"31\":[0.34526421313450134,0.08894898096518955],\"32\":[0.9520157321933049,-0.02158649054097973],\"33\":[0.44616271113101447,-0.1208566265735614],\"34\":[-0.6674619564737089,-0.1656862210095407],\"35\":[-0.36209337936104774,-0.015318599097540459],\"36\":[-0.760769989954942,0.09521279193624345],\"37\":[0.2575538228914814,-0.14812449844896858],\"38\":[0.36790053945174567,0.20329244971315133],\"39\":[0.03791764097186033,-0.23542405101663247],\"4\":[-0.578504439633925,-0.22578934741623502],\"40\":[-0.06240315671327899,0.10734825358586747],\"41\":[-0.13107483778487636,-0.22603436050814357],\"42\":[-0.6531668142568586,0.3004515918011098],\"43\":[-0.6313114288046455,0.1912833341242839],\"44\":[-0.661935235667013,0.0727979731368914],\"45\":[-0.8183494972435938,0.11475387234989062],\"46\":[-0.7858897422128951,0.19255343913462042],\"47\":[-0.6862615044868068,0.14567330391779826],\"48\":[-0.5930511700680281,0.07650204320844115],\"49\":[-0.559125412912761,-0.02199647882960114],\"5\":[-0.006324624990189664,-0.09473892026434347],\"50\":[-0.6756976903747707,-0.11077867493052682],\"51\":[-0.6302617805559887,-0.2065811737280356],\"52\":[-0.5237402395430798,-0.218477034873234],\"53\":[-0.4581773966083347,-0.12661976804931896],\"54\":[-0.4210510198691422,-0.026529969845788006],\"55\":[-0.3039261780851426,-0.005924645769568208],\"56\":[-0.19305174864669408,0.034687983339899184],\"57\":[-0.24575770624146273,0.1723930234602068],\"58\":[-0.160523316340806,0.22831855927268951],\"59\":[-0.07767970200859223,0.162584728287604],\"6\":[-0.7332680066805858,0.17896585612231147],\"60\":[-0.06717366643076403,0.04760163620515882],\"61\":[-0.0809667607438138,-0.05997291973368581],\"62\":[-0.1446696977276987,-0.17013486915710987],\"63\":[-0.09755200480132409,-0.2701143922251249],\"64\":[0.004642343333828727,-0.2798131322087135],\"65\":[0.04006455720745524,-0.1734932834927668],\"66\":[0.04771769158584776,-0.06764240769140581],\"67\":[0.16407544517353814,-0.046419291934940335],\"68\":[0.28270105872319484,-0.06611940461795665],\"69\":[0.27335302118591576,-0.20761362001027345],\"7\":[-0.2127709178983179,0.2165840643949935],\"70\":[0.3671355665912142,-0.25135308464745726],\"71\":[0.4428533536060358,-0.17776308193388055],\"72\":[0.4224615697703998,-0.06463915877984745],\"73\":[0.38406414805785394,0.036984422216443893],\"74\":[0.348482198190523,0.14874282764881433],\"75\":[0.40274458963464116,0.24727940233131582],\"76\":[0.5054473852034905,0.262331522643366],\"77\":[0.5234968753819249,0.1584220522181307],\"78\":[0.5017267937625428,0.054419697405395255],\"79\":[0.606857711994225,0.024619567756922683],\"8\":[-0.4804656996949692,-0.04828083145236828],\"80\":[0.7085010668201597,0.007595143011756713],\"81\":[0.8071389551273492,-0.005134740425209035],\"82\":[0.9041502835474444,-0.01580160794131744],\"83\":[0.9999605832395719,-0.02578223906577208],\"84\":[1.0,-0.025202431779773132],\"85\":[0.04787783253944805,-0.003329056377061549],\"9\":[-0.6383167053771212,0.2482152180314689]}},\"id\":\"1191\",\"type\":\"StaticLayoutProvider\"},{\"attributes\":{},\"id\":\"1166\",\"type\":\"BasicTicker\"},{\"attributes\":{\"end\":0.35964508201860074,\"reset_end\":0.35964508201860074,\"reset_start\":-0.35067680059129036,\"start\":-0.35067680059129036,\"tags\":[[[\"y\",\"y\",null]]]},\"id\":\"1154\",\"type\":\"Range1d\"},{\"attributes\":{\"callback\":null,\"renderers\":[{\"id\":\"1204\"}],\"tooltips\":[[\"index\",\"@{index_hover}\"],[\"desc\",\"@{desc}\"],[\"type\",\"@{type}\"]]},\"id\":\"1155\",\"type\":\"HoverTool\"},{\"attributes\":{},\"id\":\"1218\",\"type\":\"BasicTickFormatter\"},{\"attributes\":{},\"id\":\"1161\",\"type\":\"LinearScale\"},{\"attributes\":{\"line_alpha\":{\"value\":0.2},\"line_width\":{\"value\":2}},\"id\":\"1201\",\"type\":\"MultiLine\"},{\"attributes\":{},\"id\":\"1213\",\"type\":\"NodesAndLinkedEdges\"},{\"attributes\":{\"children\":[{\"id\":\"1156\"}],\"height\":800,\"margin\":[0,0,0,0],\"name\":\"Row02588\",\"sizing_mode\":\"fixed\",\"tags\":[\"embedded\"],\"width\":800},\"id\":\"1152\",\"type\":\"Row\"},{\"attributes\":{\"axis\":{\"id\":\"1165\"},\"coordinates\":null,\"grid_line_color\":null,\"group\":null,\"ticker\":null},\"id\":\"1168\",\"type\":\"Grid\"}],\"root_ids\":[\"1152\"]},\"title\":\"Bokeh Application\",\"version\":\"2.4.3\"}};\n",
       "    var render_items = [{\"docid\":\"e8fffe7b-ea04-4683-91d4-a70c2d667896\",\"root_ids\":[\"1152\"],\"roots\":{\"1152\":\"37741e15-7893-4e1d-a772-f2db53969d0b\"}}];\n",
       "    root.Bokeh.embed.embed_items_notebook(docs_json, render_items);\n",
       "    for (const render_item of render_items) {\n",
       "      for (const root_id of render_item.root_ids) {\n",
       "\tconst id_el = document.getElementById(root_id)\n",
       "\tif (id_el.children.length && (id_el.children[0].className === 'bk-root')) {\n",
       "\t  const root_el = id_el.children[0]\n",
       "\t  root_el.id = root_el.id + '-rendered'\n",
       "\t}\n",
       "      }\n",
       "    }\n",
       "  }\n",
       "  if (root.Bokeh !== undefined && root.Bokeh.Panel !== undefined) {\n",
       "    embed_document(root);\n",
       "  } else {\n",
       "    var attempts = 0;\n",
       "    var timer = setInterval(function(root) {\n",
       "      if (root.Bokeh !== undefined && root.Bokeh.Panel !== undefined) {\n",
       "        clearInterval(timer);\n",
       "        embed_document(root);\n",
       "      } else if (document.readyState == \"complete\") {\n",
       "        attempts++;\n",
       "        if (attempts > 200) {\n",
       "          clearInterval(timer);\n",
       "          console.log(\"Bokeh: ERROR: Unable to run BokehJS code because BokehJS library is missing\");\n",
       "        }\n",
       "      }\n",
       "    }, 25, root)\n",
       "  }\n",
       "})(window);</script>"
      ],
      "text/plain": [
       ":Graph   [start,end]"
      ]
     },
     "execution_count": 16,
     "metadata": {
      "application/vnd.holoviews_exec.v0+json": {
       "id": "1152"
      }
     },
     "output_type": "execute_result"
    }
   ],
   "source": [
    "\n",
    "hook.run_with_input(np.zeros((1,3, 64, 64), dtype=np.float32))\n",
    "hook.get_graph(include_parent_modules=False)"
   ]
  },
  {
   "attachments": {},
   "cell_type": "markdown",
   "metadata": {},
   "source": [
    "This network is actually substantially overparameterized. The convolutional layers have a `scale` setting, which is set to 4 in Langosco et al.'s trained networks. Training performance and generalization seems similar for `scale=1` and `scale=4`."
   ]
  },
  {
   "cell_type": "code",
   "execution_count": 17,
   "metadata": {},
   "outputs": [
    {
     "data": {
      "application/vnd.plotly.v1+json": {
       "config": {
        "plotlyServerURL": "https://plot.ly"
       },
       "data": [
        {
         "hoverlabel": {
          "bgcolor": "white"
         },
         "hovertemplate": "%{text:,} parameters<extra></extra>",
         "orientation": "h",
         "text": [
          "257",
          "3855",
          "2097408",
          "147584",
          "147584",
          "147584",
          "147584",
          "147584",
          "147584",
          "147584",
          "147584",
          "147584",
          "73856",
          "36928",
          "36928",
          "36928",
          "36928",
          "1792"
         ],
         "textposition": "outside",
         "texttemplate": "%{text:,}",
         "type": "bar",
         "x": [
          257,
          3855,
          2097408,
          147584,
          147584,
          147584,
          147584,
          147584,
          147584,
          147584,
          147584,
          147584,
          73856,
          36928,
          36928,
          36928,
          36928,
          1792
         ],
         "y": [
          "fc_value",
          "fc_policy",
          "fc",
          "block3.res2.conv2",
          "block3.res2.conv1",
          "block3.res1.conv2",
          "block3.res1.conv1",
          "block3.conv",
          "block2.res2.conv2",
          "block2.res2.conv1",
          "block2.res1.conv2",
          "block2.res1.conv1",
          "block2.conv",
          "block1.res2.conv2",
          "block1.res2.conv1",
          "block1.res1.conv2",
          "block1.res1.conv1",
          "block1.conv"
         ]
        }
       ],
       "layout": {
        "height": 500,
        "template": {
         "data": {
          "bar": [
           {
            "error_x": {
             "color": "#2a3f5f"
            },
            "error_y": {
             "color": "#2a3f5f"
            },
            "marker": {
             "line": {
              "color": "#E5ECF6",
              "width": 0.5
             },
             "pattern": {
              "fillmode": "overlay",
              "size": 10,
              "solidity": 0.2
             }
            },
            "type": "bar"
           }
          ],
          "barpolar": [
           {
            "marker": {
             "line": {
              "color": "#E5ECF6",
              "width": 0.5
             },
             "pattern": {
              "fillmode": "overlay",
              "size": 10,
              "solidity": 0.2
             }
            },
            "type": "barpolar"
           }
          ],
          "carpet": [
           {
            "aaxis": {
             "endlinecolor": "#2a3f5f",
             "gridcolor": "white",
             "linecolor": "white",
             "minorgridcolor": "white",
             "startlinecolor": "#2a3f5f"
            },
            "baxis": {
             "endlinecolor": "#2a3f5f",
             "gridcolor": "white",
             "linecolor": "white",
             "minorgridcolor": "white",
             "startlinecolor": "#2a3f5f"
            },
            "type": "carpet"
           }
          ],
          "choropleth": [
           {
            "colorbar": {
             "outlinewidth": 0,
             "ticks": ""
            },
            "type": "choropleth"
           }
          ],
          "contour": [
           {
            "colorbar": {
             "outlinewidth": 0,
             "ticks": ""
            },
            "colorscale": [
             [
              0,
              "#0d0887"
             ],
             [
              0.1111111111111111,
              "#46039f"
             ],
             [
              0.2222222222222222,
              "#7201a8"
             ],
             [
              0.3333333333333333,
              "#9c179e"
             ],
             [
              0.4444444444444444,
              "#bd3786"
             ],
             [
              0.5555555555555556,
              "#d8576b"
             ],
             [
              0.6666666666666666,
              "#ed7953"
             ],
             [
              0.7777777777777778,
              "#fb9f3a"
             ],
             [
              0.8888888888888888,
              "#fdca26"
             ],
             [
              1,
              "#f0f921"
             ]
            ],
            "type": "contour"
           }
          ],
          "contourcarpet": [
           {
            "colorbar": {
             "outlinewidth": 0,
             "ticks": ""
            },
            "type": "contourcarpet"
           }
          ],
          "heatmap": [
           {
            "colorbar": {
             "outlinewidth": 0,
             "ticks": ""
            },
            "colorscale": [
             [
              0,
              "#0d0887"
             ],
             [
              0.1111111111111111,
              "#46039f"
             ],
             [
              0.2222222222222222,
              "#7201a8"
             ],
             [
              0.3333333333333333,
              "#9c179e"
             ],
             [
              0.4444444444444444,
              "#bd3786"
             ],
             [
              0.5555555555555556,
              "#d8576b"
             ],
             [
              0.6666666666666666,
              "#ed7953"
             ],
             [
              0.7777777777777778,
              "#fb9f3a"
             ],
             [
              0.8888888888888888,
              "#fdca26"
             ],
             [
              1,
              "#f0f921"
             ]
            ],
            "type": "heatmap"
           }
          ],
          "heatmapgl": [
           {
            "colorbar": {
             "outlinewidth": 0,
             "ticks": ""
            },
            "colorscale": [
             [
              0,
              "#0d0887"
             ],
             [
              0.1111111111111111,
              "#46039f"
             ],
             [
              0.2222222222222222,
              "#7201a8"
             ],
             [
              0.3333333333333333,
              "#9c179e"
             ],
             [
              0.4444444444444444,
              "#bd3786"
             ],
             [
              0.5555555555555556,
              "#d8576b"
             ],
             [
              0.6666666666666666,
              "#ed7953"
             ],
             [
              0.7777777777777778,
              "#fb9f3a"
             ],
             [
              0.8888888888888888,
              "#fdca26"
             ],
             [
              1,
              "#f0f921"
             ]
            ],
            "type": "heatmapgl"
           }
          ],
          "histogram": [
           {
            "marker": {
             "pattern": {
              "fillmode": "overlay",
              "size": 10,
              "solidity": 0.2
             }
            },
            "type": "histogram"
           }
          ],
          "histogram2d": [
           {
            "colorbar": {
             "outlinewidth": 0,
             "ticks": ""
            },
            "colorscale": [
             [
              0,
              "#0d0887"
             ],
             [
              0.1111111111111111,
              "#46039f"
             ],
             [
              0.2222222222222222,
              "#7201a8"
             ],
             [
              0.3333333333333333,
              "#9c179e"
             ],
             [
              0.4444444444444444,
              "#bd3786"
             ],
             [
              0.5555555555555556,
              "#d8576b"
             ],
             [
              0.6666666666666666,
              "#ed7953"
             ],
             [
              0.7777777777777778,
              "#fb9f3a"
             ],
             [
              0.8888888888888888,
              "#fdca26"
             ],
             [
              1,
              "#f0f921"
             ]
            ],
            "type": "histogram2d"
           }
          ],
          "histogram2dcontour": [
           {
            "colorbar": {
             "outlinewidth": 0,
             "ticks": ""
            },
            "colorscale": [
             [
              0,
              "#0d0887"
             ],
             [
              0.1111111111111111,
              "#46039f"
             ],
             [
              0.2222222222222222,
              "#7201a8"
             ],
             [
              0.3333333333333333,
              "#9c179e"
             ],
             [
              0.4444444444444444,
              "#bd3786"
             ],
             [
              0.5555555555555556,
              "#d8576b"
             ],
             [
              0.6666666666666666,
              "#ed7953"
             ],
             [
              0.7777777777777778,
              "#fb9f3a"
             ],
             [
              0.8888888888888888,
              "#fdca26"
             ],
             [
              1,
              "#f0f921"
             ]
            ],
            "type": "histogram2dcontour"
           }
          ],
          "mesh3d": [
           {
            "colorbar": {
             "outlinewidth": 0,
             "ticks": ""
            },
            "type": "mesh3d"
           }
          ],
          "parcoords": [
           {
            "line": {
             "colorbar": {
              "outlinewidth": 0,
              "ticks": ""
             }
            },
            "type": "parcoords"
           }
          ],
          "pie": [
           {
            "automargin": true,
            "type": "pie"
           }
          ],
          "scatter": [
           {
            "fillpattern": {
             "fillmode": "overlay",
             "size": 10,
             "solidity": 0.2
            },
            "type": "scatter"
           }
          ],
          "scatter3d": [
           {
            "line": {
             "colorbar": {
              "outlinewidth": 0,
              "ticks": ""
             }
            },
            "marker": {
             "colorbar": {
              "outlinewidth": 0,
              "ticks": ""
             }
            },
            "type": "scatter3d"
           }
          ],
          "scattercarpet": [
           {
            "marker": {
             "colorbar": {
              "outlinewidth": 0,
              "ticks": ""
             }
            },
            "type": "scattercarpet"
           }
          ],
          "scattergeo": [
           {
            "marker": {
             "colorbar": {
              "outlinewidth": 0,
              "ticks": ""
             }
            },
            "type": "scattergeo"
           }
          ],
          "scattergl": [
           {
            "marker": {
             "colorbar": {
              "outlinewidth": 0,
              "ticks": ""
             }
            },
            "type": "scattergl"
           }
          ],
          "scattermapbox": [
           {
            "marker": {
             "colorbar": {
              "outlinewidth": 0,
              "ticks": ""
             }
            },
            "type": "scattermapbox"
           }
          ],
          "scatterpolar": [
           {
            "marker": {
             "colorbar": {
              "outlinewidth": 0,
              "ticks": ""
             }
            },
            "type": "scatterpolar"
           }
          ],
          "scatterpolargl": [
           {
            "marker": {
             "colorbar": {
              "outlinewidth": 0,
              "ticks": ""
             }
            },
            "type": "scatterpolargl"
           }
          ],
          "scatterternary": [
           {
            "marker": {
             "colorbar": {
              "outlinewidth": 0,
              "ticks": ""
             }
            },
            "type": "scatterternary"
           }
          ],
          "surface": [
           {
            "colorbar": {
             "outlinewidth": 0,
             "ticks": ""
            },
            "colorscale": [
             [
              0,
              "#0d0887"
             ],
             [
              0.1111111111111111,
              "#46039f"
             ],
             [
              0.2222222222222222,
              "#7201a8"
             ],
             [
              0.3333333333333333,
              "#9c179e"
             ],
             [
              0.4444444444444444,
              "#bd3786"
             ],
             [
              0.5555555555555556,
              "#d8576b"
             ],
             [
              0.6666666666666666,
              "#ed7953"
             ],
             [
              0.7777777777777778,
              "#fb9f3a"
             ],
             [
              0.8888888888888888,
              "#fdca26"
             ],
             [
              1,
              "#f0f921"
             ]
            ],
            "type": "surface"
           }
          ],
          "table": [
           {
            "cells": {
             "fill": {
              "color": "#EBF0F8"
             },
             "line": {
              "color": "white"
             }
            },
            "header": {
             "fill": {
              "color": "#C8D4E3"
             },
             "line": {
              "color": "white"
             }
            },
            "type": "table"
           }
          ]
         },
         "layout": {
          "annotationdefaults": {
           "arrowcolor": "#2a3f5f",
           "arrowhead": 0,
           "arrowwidth": 1
          },
          "autotypenumbers": "strict",
          "coloraxis": {
           "colorbar": {
            "outlinewidth": 0,
            "ticks": ""
           }
          },
          "colorscale": {
           "diverging": [
            [
             0,
             "#8e0152"
            ],
            [
             0.1,
             "#c51b7d"
            ],
            [
             0.2,
             "#de77ae"
            ],
            [
             0.3,
             "#f1b6da"
            ],
            [
             0.4,
             "#fde0ef"
            ],
            [
             0.5,
             "#f7f7f7"
            ],
            [
             0.6,
             "#e6f5d0"
            ],
            [
             0.7,
             "#b8e186"
            ],
            [
             0.8,
             "#7fbc41"
            ],
            [
             0.9,
             "#4d9221"
            ],
            [
             1,
             "#276419"
            ]
           ],
           "sequential": [
            [
             0,
             "#0d0887"
            ],
            [
             0.1111111111111111,
             "#46039f"
            ],
            [
             0.2222222222222222,
             "#7201a8"
            ],
            [
             0.3333333333333333,
             "#9c179e"
            ],
            [
             0.4444444444444444,
             "#bd3786"
            ],
            [
             0.5555555555555556,
             "#d8576b"
            ],
            [
             0.6666666666666666,
             "#ed7953"
            ],
            [
             0.7777777777777778,
             "#fb9f3a"
            ],
            [
             0.8888888888888888,
             "#fdca26"
            ],
            [
             1,
             "#f0f921"
            ]
           ],
           "sequentialminus": [
            [
             0,
             "#0d0887"
            ],
            [
             0.1111111111111111,
             "#46039f"
            ],
            [
             0.2222222222222222,
             "#7201a8"
            ],
            [
             0.3333333333333333,
             "#9c179e"
            ],
            [
             0.4444444444444444,
             "#bd3786"
            ],
            [
             0.5555555555555556,
             "#d8576b"
            ],
            [
             0.6666666666666666,
             "#ed7953"
            ],
            [
             0.7777777777777778,
             "#fb9f3a"
            ],
            [
             0.8888888888888888,
             "#fdca26"
            ],
            [
             1,
             "#f0f921"
            ]
           ]
          },
          "colorway": [
           "#636efa",
           "#EF553B",
           "#00cc96",
           "#ab63fa",
           "#FFA15A",
           "#19d3f3",
           "#FF6692",
           "#B6E880",
           "#FF97FF",
           "#FECB52"
          ],
          "font": {
           "color": "#2a3f5f"
          },
          "geo": {
           "bgcolor": "white",
           "lakecolor": "white",
           "landcolor": "#E5ECF6",
           "showlakes": true,
           "showland": true,
           "subunitcolor": "white"
          },
          "hoverlabel": {
           "align": "left"
          },
          "hovermode": "closest",
          "mapbox": {
           "style": "light"
          },
          "paper_bgcolor": "white",
          "plot_bgcolor": "#E5ECF6",
          "polar": {
           "angularaxis": {
            "gridcolor": "white",
            "linecolor": "white",
            "ticks": ""
           },
           "bgcolor": "#E5ECF6",
           "radialaxis": {
            "gridcolor": "white",
            "linecolor": "white",
            "ticks": ""
           }
          },
          "scene": {
           "xaxis": {
            "backgroundcolor": "#E5ECF6",
            "gridcolor": "white",
            "gridwidth": 2,
            "linecolor": "white",
            "showbackground": true,
            "ticks": "",
            "zerolinecolor": "white"
           },
           "yaxis": {
            "backgroundcolor": "#E5ECF6",
            "gridcolor": "white",
            "gridwidth": 2,
            "linecolor": "white",
            "showbackground": true,
            "ticks": "",
            "zerolinecolor": "white"
           },
           "zaxis": {
            "backgroundcolor": "#E5ECF6",
            "gridcolor": "white",
            "gridwidth": 2,
            "linecolor": "white",
            "showbackground": true,
            "ticks": "",
            "zerolinecolor": "white"
           }
          },
          "shapedefaults": {
           "line": {
            "color": "#2a3f5f"
           }
          },
          "ternary": {
           "aaxis": {
            "gridcolor": "white",
            "linecolor": "white",
            "ticks": ""
           },
           "baxis": {
            "gridcolor": "white",
            "linecolor": "white",
            "ticks": ""
           },
           "bgcolor": "#E5ECF6",
           "caxis": {
            "gridcolor": "white",
            "linecolor": "white",
            "ticks": ""
           }
          },
          "title": {
           "x": 0.05
          },
          "xaxis": {
           "automargin": true,
           "gridcolor": "white",
           "linecolor": "white",
           "ticks": "",
           "title": {
            "standoff": 15
           },
           "zerolinecolor": "white",
           "zerolinewidth": 2
          },
          "yaxis": {
           "automargin": true,
           "gridcolor": "white",
           "linecolor": "white",
           "ticks": "",
           "title": {
            "standoff": 15
           },
           "zerolinecolor": "white",
           "zerolinewidth": 2
          }
         }
        },
        "title": {
         "text": "Model Parameters Per Layer (Total: 3,653,136)",
         "x": 0.5,
         "xanchor": "center",
         "y": 0.9,
         "yanchor": "top"
        },
        "xaxis": {
         "title": {
          "text": "Parameters"
         },
         "type": "log"
        },
        "yaxis": {
         "title": {
          "text": "Layer"
         }
        }
       }
      }
     },
     "metadata": {},
     "output_type": "display_data"
    },
    {
     "data": {
      "application/vnd.plotly.v1+json": {
       "config": {
        "plotlyServerURL": "https://plot.ly"
       },
       "data": [
        {
         "hoverlabel": {
          "bgcolor": "white"
         },
         "hovertemplate": "%{text:,} activations<extra></extra>",
         "orientation": "h",
         "text": [
          "256",
          "256",
          "8192",
          "8192",
          "8192",
          "8192",
          "8192",
          "8192",
          "8192",
          "8192",
          "8192",
          "8192",
          "8192",
          "8192",
          "8192",
          "32768",
          "32768",
          "32768",
          "32768",
          "32768",
          "32768",
          "32768",
          "32768",
          "32768",
          "32768",
          "32768",
          "32768",
          "131072",
          "65536",
          "65536",
          "65536",
          "65536",
          "65536",
          "65536",
          "65536",
          "65536",
          "65536",
          "65536",
          "65536",
          "262144"
         ],
         "textposition": "outside",
         "texttemplate": "%{text:,}",
         "type": "bar",
         "x": [
          256,
          256,
          8192,
          8192,
          8192,
          8192,
          8192,
          8192,
          8192,
          8192,
          8192,
          8192,
          8192,
          8192,
          8192,
          32768,
          32768,
          32768,
          32768,
          32768,
          32768,
          32768,
          32768,
          32768,
          32768,
          32768,
          32768,
          131072,
          65536,
          65536,
          65536,
          65536,
          65536,
          65536,
          65536,
          65536,
          65536,
          65536,
          65536,
          262144
         ],
         "y": [
          "relufc_out",
          "fc_out",
          "flatten_out",
          "relu3_out",
          "block3.res2.resadd_out",
          "block3.res2.conv2_out",
          "block3.res2.relu2_out",
          "block3.res2.conv1_out",
          "block3.res2.relu1_out",
          "block3.res1.resadd_out",
          "block3.res1.conv2_out",
          "block3.res1.relu2_out",
          "block3.res1.conv1_out",
          "block3.res1.relu1_out",
          "block3.maxpool_out",
          "block3.conv_out",
          "block2.res2.resadd_out",
          "block2.res2.conv2_out",
          "block2.res2.relu2_out",
          "block2.res2.conv1_out",
          "block2.res2.relu1_out",
          "block2.res1.resadd_out",
          "block2.res1.conv2_out",
          "block2.res1.relu2_out",
          "block2.res1.conv1_out",
          "block2.res1.relu1_out",
          "block2.maxpool_out",
          "block2.conv_out",
          "block1.res2.resadd_out",
          "block1.res2.conv2_out",
          "block1.res2.relu2_out",
          "block1.res2.conv1_out",
          "block1.res2.relu1_out",
          "block1.res1.resadd_out",
          "block1.res1.conv2_out",
          "block1.res1.relu2_out",
          "block1.res1.conv1_out",
          "block1.res1.relu1_out",
          "block1.maxpool_out",
          "block1.conv_out"
         ]
        }
       ],
       "layout": {
        "height": 800,
        "template": {
         "data": {
          "bar": [
           {
            "error_x": {
             "color": "#2a3f5f"
            },
            "error_y": {
             "color": "#2a3f5f"
            },
            "marker": {
             "line": {
              "color": "#E5ECF6",
              "width": 0.5
             },
             "pattern": {
              "fillmode": "overlay",
              "size": 10,
              "solidity": 0.2
             }
            },
            "type": "bar"
           }
          ],
          "barpolar": [
           {
            "marker": {
             "line": {
              "color": "#E5ECF6",
              "width": 0.5
             },
             "pattern": {
              "fillmode": "overlay",
              "size": 10,
              "solidity": 0.2
             }
            },
            "type": "barpolar"
           }
          ],
          "carpet": [
           {
            "aaxis": {
             "endlinecolor": "#2a3f5f",
             "gridcolor": "white",
             "linecolor": "white",
             "minorgridcolor": "white",
             "startlinecolor": "#2a3f5f"
            },
            "baxis": {
             "endlinecolor": "#2a3f5f",
             "gridcolor": "white",
             "linecolor": "white",
             "minorgridcolor": "white",
             "startlinecolor": "#2a3f5f"
            },
            "type": "carpet"
           }
          ],
          "choropleth": [
           {
            "colorbar": {
             "outlinewidth": 0,
             "ticks": ""
            },
            "type": "choropleth"
           }
          ],
          "contour": [
           {
            "colorbar": {
             "outlinewidth": 0,
             "ticks": ""
            },
            "colorscale": [
             [
              0,
              "#0d0887"
             ],
             [
              0.1111111111111111,
              "#46039f"
             ],
             [
              0.2222222222222222,
              "#7201a8"
             ],
             [
              0.3333333333333333,
              "#9c179e"
             ],
             [
              0.4444444444444444,
              "#bd3786"
             ],
             [
              0.5555555555555556,
              "#d8576b"
             ],
             [
              0.6666666666666666,
              "#ed7953"
             ],
             [
              0.7777777777777778,
              "#fb9f3a"
             ],
             [
              0.8888888888888888,
              "#fdca26"
             ],
             [
              1,
              "#f0f921"
             ]
            ],
            "type": "contour"
           }
          ],
          "contourcarpet": [
           {
            "colorbar": {
             "outlinewidth": 0,
             "ticks": ""
            },
            "type": "contourcarpet"
           }
          ],
          "heatmap": [
           {
            "colorbar": {
             "outlinewidth": 0,
             "ticks": ""
            },
            "colorscale": [
             [
              0,
              "#0d0887"
             ],
             [
              0.1111111111111111,
              "#46039f"
             ],
             [
              0.2222222222222222,
              "#7201a8"
             ],
             [
              0.3333333333333333,
              "#9c179e"
             ],
             [
              0.4444444444444444,
              "#bd3786"
             ],
             [
              0.5555555555555556,
              "#d8576b"
             ],
             [
              0.6666666666666666,
              "#ed7953"
             ],
             [
              0.7777777777777778,
              "#fb9f3a"
             ],
             [
              0.8888888888888888,
              "#fdca26"
             ],
             [
              1,
              "#f0f921"
             ]
            ],
            "type": "heatmap"
           }
          ],
          "heatmapgl": [
           {
            "colorbar": {
             "outlinewidth": 0,
             "ticks": ""
            },
            "colorscale": [
             [
              0,
              "#0d0887"
             ],
             [
              0.1111111111111111,
              "#46039f"
             ],
             [
              0.2222222222222222,
              "#7201a8"
             ],
             [
              0.3333333333333333,
              "#9c179e"
             ],
             [
              0.4444444444444444,
              "#bd3786"
             ],
             [
              0.5555555555555556,
              "#d8576b"
             ],
             [
              0.6666666666666666,
              "#ed7953"
             ],
             [
              0.7777777777777778,
              "#fb9f3a"
             ],
             [
              0.8888888888888888,
              "#fdca26"
             ],
             [
              1,
              "#f0f921"
             ]
            ],
            "type": "heatmapgl"
           }
          ],
          "histogram": [
           {
            "marker": {
             "pattern": {
              "fillmode": "overlay",
              "size": 10,
              "solidity": 0.2
             }
            },
            "type": "histogram"
           }
          ],
          "histogram2d": [
           {
            "colorbar": {
             "outlinewidth": 0,
             "ticks": ""
            },
            "colorscale": [
             [
              0,
              "#0d0887"
             ],
             [
              0.1111111111111111,
              "#46039f"
             ],
             [
              0.2222222222222222,
              "#7201a8"
             ],
             [
              0.3333333333333333,
              "#9c179e"
             ],
             [
              0.4444444444444444,
              "#bd3786"
             ],
             [
              0.5555555555555556,
              "#d8576b"
             ],
             [
              0.6666666666666666,
              "#ed7953"
             ],
             [
              0.7777777777777778,
              "#fb9f3a"
             ],
             [
              0.8888888888888888,
              "#fdca26"
             ],
             [
              1,
              "#f0f921"
             ]
            ],
            "type": "histogram2d"
           }
          ],
          "histogram2dcontour": [
           {
            "colorbar": {
             "outlinewidth": 0,
             "ticks": ""
            },
            "colorscale": [
             [
              0,
              "#0d0887"
             ],
             [
              0.1111111111111111,
              "#46039f"
             ],
             [
              0.2222222222222222,
              "#7201a8"
             ],
             [
              0.3333333333333333,
              "#9c179e"
             ],
             [
              0.4444444444444444,
              "#bd3786"
             ],
             [
              0.5555555555555556,
              "#d8576b"
             ],
             [
              0.6666666666666666,
              "#ed7953"
             ],
             [
              0.7777777777777778,
              "#fb9f3a"
             ],
             [
              0.8888888888888888,
              "#fdca26"
             ],
             [
              1,
              "#f0f921"
             ]
            ],
            "type": "histogram2dcontour"
           }
          ],
          "mesh3d": [
           {
            "colorbar": {
             "outlinewidth": 0,
             "ticks": ""
            },
            "type": "mesh3d"
           }
          ],
          "parcoords": [
           {
            "line": {
             "colorbar": {
              "outlinewidth": 0,
              "ticks": ""
             }
            },
            "type": "parcoords"
           }
          ],
          "pie": [
           {
            "automargin": true,
            "type": "pie"
           }
          ],
          "scatter": [
           {
            "fillpattern": {
             "fillmode": "overlay",
             "size": 10,
             "solidity": 0.2
            },
            "type": "scatter"
           }
          ],
          "scatter3d": [
           {
            "line": {
             "colorbar": {
              "outlinewidth": 0,
              "ticks": ""
             }
            },
            "marker": {
             "colorbar": {
              "outlinewidth": 0,
              "ticks": ""
             }
            },
            "type": "scatter3d"
           }
          ],
          "scattercarpet": [
           {
            "marker": {
             "colorbar": {
              "outlinewidth": 0,
              "ticks": ""
             }
            },
            "type": "scattercarpet"
           }
          ],
          "scattergeo": [
           {
            "marker": {
             "colorbar": {
              "outlinewidth": 0,
              "ticks": ""
             }
            },
            "type": "scattergeo"
           }
          ],
          "scattergl": [
           {
            "marker": {
             "colorbar": {
              "outlinewidth": 0,
              "ticks": ""
             }
            },
            "type": "scattergl"
           }
          ],
          "scattermapbox": [
           {
            "marker": {
             "colorbar": {
              "outlinewidth": 0,
              "ticks": ""
             }
            },
            "type": "scattermapbox"
           }
          ],
          "scatterpolar": [
           {
            "marker": {
             "colorbar": {
              "outlinewidth": 0,
              "ticks": ""
             }
            },
            "type": "scatterpolar"
           }
          ],
          "scatterpolargl": [
           {
            "marker": {
             "colorbar": {
              "outlinewidth": 0,
              "ticks": ""
             }
            },
            "type": "scatterpolargl"
           }
          ],
          "scatterternary": [
           {
            "marker": {
             "colorbar": {
              "outlinewidth": 0,
              "ticks": ""
             }
            },
            "type": "scatterternary"
           }
          ],
          "surface": [
           {
            "colorbar": {
             "outlinewidth": 0,
             "ticks": ""
            },
            "colorscale": [
             [
              0,
              "#0d0887"
             ],
             [
              0.1111111111111111,
              "#46039f"
             ],
             [
              0.2222222222222222,
              "#7201a8"
             ],
             [
              0.3333333333333333,
              "#9c179e"
             ],
             [
              0.4444444444444444,
              "#bd3786"
             ],
             [
              0.5555555555555556,
              "#d8576b"
             ],
             [
              0.6666666666666666,
              "#ed7953"
             ],
             [
              0.7777777777777778,
              "#fb9f3a"
             ],
             [
              0.8888888888888888,
              "#fdca26"
             ],
             [
              1,
              "#f0f921"
             ]
            ],
            "type": "surface"
           }
          ],
          "table": [
           {
            "cells": {
             "fill": {
              "color": "#EBF0F8"
             },
             "line": {
              "color": "white"
             }
            },
            "header": {
             "fill": {
              "color": "#C8D4E3"
             },
             "line": {
              "color": "white"
             }
            },
            "type": "table"
           }
          ]
         },
         "layout": {
          "annotationdefaults": {
           "arrowcolor": "#2a3f5f",
           "arrowhead": 0,
           "arrowwidth": 1
          },
          "autotypenumbers": "strict",
          "coloraxis": {
           "colorbar": {
            "outlinewidth": 0,
            "ticks": ""
           }
          },
          "colorscale": {
           "diverging": [
            [
             0,
             "#8e0152"
            ],
            [
             0.1,
             "#c51b7d"
            ],
            [
             0.2,
             "#de77ae"
            ],
            [
             0.3,
             "#f1b6da"
            ],
            [
             0.4,
             "#fde0ef"
            ],
            [
             0.5,
             "#f7f7f7"
            ],
            [
             0.6,
             "#e6f5d0"
            ],
            [
             0.7,
             "#b8e186"
            ],
            [
             0.8,
             "#7fbc41"
            ],
            [
             0.9,
             "#4d9221"
            ],
            [
             1,
             "#276419"
            ]
           ],
           "sequential": [
            [
             0,
             "#0d0887"
            ],
            [
             0.1111111111111111,
             "#46039f"
            ],
            [
             0.2222222222222222,
             "#7201a8"
            ],
            [
             0.3333333333333333,
             "#9c179e"
            ],
            [
             0.4444444444444444,
             "#bd3786"
            ],
            [
             0.5555555555555556,
             "#d8576b"
            ],
            [
             0.6666666666666666,
             "#ed7953"
            ],
            [
             0.7777777777777778,
             "#fb9f3a"
            ],
            [
             0.8888888888888888,
             "#fdca26"
            ],
            [
             1,
             "#f0f921"
            ]
           ],
           "sequentialminus": [
            [
             0,
             "#0d0887"
            ],
            [
             0.1111111111111111,
             "#46039f"
            ],
            [
             0.2222222222222222,
             "#7201a8"
            ],
            [
             0.3333333333333333,
             "#9c179e"
            ],
            [
             0.4444444444444444,
             "#bd3786"
            ],
            [
             0.5555555555555556,
             "#d8576b"
            ],
            [
             0.6666666666666666,
             "#ed7953"
            ],
            [
             0.7777777777777778,
             "#fb9f3a"
            ],
            [
             0.8888888888888888,
             "#fdca26"
            ],
            [
             1,
             "#f0f921"
            ]
           ]
          },
          "colorway": [
           "#636efa",
           "#EF553B",
           "#00cc96",
           "#ab63fa",
           "#FFA15A",
           "#19d3f3",
           "#FF6692",
           "#B6E880",
           "#FF97FF",
           "#FECB52"
          ],
          "font": {
           "color": "#2a3f5f"
          },
          "geo": {
           "bgcolor": "white",
           "lakecolor": "white",
           "landcolor": "#E5ECF6",
           "showlakes": true,
           "showland": true,
           "subunitcolor": "white"
          },
          "hoverlabel": {
           "align": "left"
          },
          "hovermode": "closest",
          "mapbox": {
           "style": "light"
          },
          "paper_bgcolor": "white",
          "plot_bgcolor": "#E5ECF6",
          "polar": {
           "angularaxis": {
            "gridcolor": "white",
            "linecolor": "white",
            "ticks": ""
           },
           "bgcolor": "#E5ECF6",
           "radialaxis": {
            "gridcolor": "white",
            "linecolor": "white",
            "ticks": ""
           }
          },
          "scene": {
           "xaxis": {
            "backgroundcolor": "#E5ECF6",
            "gridcolor": "white",
            "gridwidth": 2,
            "linecolor": "white",
            "showbackground": true,
            "ticks": "",
            "zerolinecolor": "white"
           },
           "yaxis": {
            "backgroundcolor": "#E5ECF6",
            "gridcolor": "white",
            "gridwidth": 2,
            "linecolor": "white",
            "showbackground": true,
            "ticks": "",
            "zerolinecolor": "white"
           },
           "zaxis": {
            "backgroundcolor": "#E5ECF6",
            "gridcolor": "white",
            "gridwidth": 2,
            "linecolor": "white",
            "showbackground": true,
            "ticks": "",
            "zerolinecolor": "white"
           }
          },
          "shapedefaults": {
           "line": {
            "color": "#2a3f5f"
           }
          },
          "ternary": {
           "aaxis": {
            "gridcolor": "white",
            "linecolor": "white",
            "ticks": ""
           },
           "baxis": {
            "gridcolor": "white",
            "linecolor": "white",
            "ticks": ""
           },
           "bgcolor": "#E5ECF6",
           "caxis": {
            "gridcolor": "white",
            "linecolor": "white",
            "ticks": ""
           }
          },
          "title": {
           "x": 0.05
          },
          "xaxis": {
           "automargin": true,
           "gridcolor": "white",
           "linecolor": "white",
           "ticks": "",
           "title": {
            "standoff": 15
           },
           "zerolinecolor": "white",
           "zerolinewidth": 2
          },
          "yaxis": {
           "automargin": true,
           "gridcolor": "white",
           "linecolor": "white",
           "ticks": "",
           "title": {
            "standoff": 15
           },
           "zerolinecolor": "white",
           "zerolinewidth": 2
          }
         }
        },
        "title": {
         "text": "Model Activations Per Layer (Total: 1,614,336)",
         "x": 0.5,
         "xanchor": "center",
         "y": 0.9,
         "yanchor": "top"
        },
        "xaxis": {
         "title": {
          "text": "Activation count"
         },
         "type": "log"
        },
        "yaxis": {
         "title": {
          "text": "Activations"
         }
        }
       }
      }
     },
     "metadata": {},
     "output_type": "display_data"
    }
   ],
   "source": [
    "visualization.plot_layer_stats(hook, mode=\"parameters\")\n",
    "visualization.plot_layer_stats(hook, mode=\"activations\") "
   ]
  },
  {
   "attachments": {},
   "cell_type": "markdown",
   "metadata": {},
   "source": [
    "# Viewing activations in the network"
   ]
  },
  {
   "cell_type": "code",
   "execution_count": 18,
   "metadata": {},
   "outputs": [
    {
     "data": {
      "text/plain": [
       "<matplotlib.image.AxesImage at 0x7fc27426e5f0>"
      ]
     },
     "execution_count": 18,
     "metadata": {},
     "output_type": "execute_result"
    },
    {
     "data": {
      "image/png": "[encoded data removed]",
      "text/plain": [
       "<Figure size 896x672 with 1 Axes>"
      ]
     },
     "metadata": {},
     "output_type": "display_data"
    }
   ],
   "source": [
    "def dummy_obs_pair(color: str, location: Tuple[int, int]=(32,32)):\n",
    "    \"\"\" Returns a mostly-black image pair, the first of which contains a red/green/blue pixel in the center. Returns obs of shape (2, 3, 64, 64). \"\"\"\n",
    "    \n",
    "    assert color in ['R', 'G', 'B'], f'Color must be one of R, G, B, not {color}'\n",
    "    assert len(location) == 2, 'Location must be a tuple of length 2'\n",
    "    assert all(0 <= col < 64 for col in location), 'Location must be in [0, 64)'\n",
    "\n",
    "    channel = {'R': 0, 'G': 1, 'B': 2}[color]\n",
    "    obs = np.zeros((2, 3, 64, 64), dtype=np.float32)\n",
    "    obs[0, channel, location[0], location[1]] = 1 # Have one pixel in the middle, in the given channel\n",
    "    return obs\n",
    "    \n",
    "# Let's load a dummy observation with only one nonzero value\n",
    "plt.imshow(dummy_obs_pair(\"G\")[0].transpose(1,2,0))"
   ]
  },
  {
   "cell_type": "code",
   "execution_count": 19,
   "metadata": {},
   "outputs": [],
   "source": [
    "# Get the available labels\n",
    "hook.run_with_input(dummy_obs_pair('R'))\n",
    "labels = list(hook.values_by_label.keys())[:-1] # Skip the \"_out\" layer and remove \"embedder.\" prefixes\n",
    "assert labels == list(map(expand_label, format_labels(labels)))"
   ]
  },
  {
   "cell_type": "code",
   "execution_count": 20,
   "metadata": {},
   "outputs": [
    {
     "data": {
      "application/vnd.jupyter.widget-view+json": {
       "model_id": "d46306487c224f40b5a90aba7657c1ca",
       "version_major": 2,
       "version_minor": 0
      },
      "text/plain": [
       "FigureWidget({\n",
       "    'data': [{'colorscale': [[0.0, 'rgb(103,0,31)'], [0.1, 'rgb(178,24,43)'],\n",
       "                             [0.2, 'rgb(214,96,77)'], [0.3, 'rgb(244,165,130)'],\n",
       "                             [0.4, 'rgb(253,219,199)'], [0.5, 'rgb(247,247,247)'],\n",
       "                             [0.6, 'rgb(209,229,240)'], [0.7, 'rgb(146,197,222)'],\n",
       "                             [0.8, 'rgb(67,147,195)'], [0.9, 'rgb(33,102,172)'],\n",
       "                             [1.0, 'rgb(5,48,97)']],\n",
       "              'type': 'heatmap',\n",
       "              'uid': '53c71a6a-ee48-458c-8569-35052c260d38',\n",
       "              'z': array([[0., 0., 0., ..., 0., 0., 0.],\n",
       "                          [0., 0., 0., ..., 0., 0., 0.],\n",
       "                          [0., 0., 0., ..., 0., 0., 0.],\n",
       "                          ...,\n",
       "                          [0., 0., 0., ..., 0., 0., 0.],\n",
       "                          [0., 0., 0., ..., 0., 0., 0.],\n",
       "                          [0., 0., 0., ..., 0., 0., 0.]], dtype=float32),\n",
       "              'zmax': 1.0,\n",
       "              'zmid': 0,\n",
       "              'zmin': -1.0}],\n",
       "    'layout': {'height': 500,\n",
       "               'template': '...',\n",
       "               'title': {'text': 'block1.conv_in0'},\n",
       "               'width': 500,\n",
       "               'xaxis': {'side': 'top'},\n",
       "               'yaxis': {'autorange': 'reversed'}}\n",
       "})"
      ]
     },
     "metadata": {},
     "output_type": "display_data"
    },
    {
     "data": {
      "application/vnd.jupyter.widget-view+json": {
       "model_id": "76756afb15dc4ad8a0d7ac7aa1588def",
       "version_major": 2,
       "version_minor": 0
      },
      "text/plain": [
       "VBox(children=(Dropdown(description='Layers', options=('block1.conv_in0', 'block1.conv_out', 'block1.maxpool_o…"
      ]
     },
     "metadata": {},
     "output_type": "display_data"
    },
    {
     "data": {
      "application/vnd.jupyter.widget-view+json": {
       "model_id": "f561f8d713214d0cacb67a9b4fd51719",
       "version_major": 2,
       "version_minor": 0
      },
      "text/plain": [
       "HBox(children=(Text(value='', layout=Layout(width='150px'), placeholder='Custom filename'), Button(description…"
      ]
     },
     "metadata": {},
     "output_type": "display_data"
    }
   ],
   "source": [
    "# We can begin to see how information propagates across the net for a dummy single-pixel input\n",
    "def activ_gen_px(col: int, row: int, layer_name: str, hook, color: str, pair: bool = False):\n",
    "    \"\"\" Get the activations for running a forward pass on a dummy observation, in the given color. Returns shape of (batch, channels, rows, cols), where size batch=1 if pair=False, and batch=2 if pair=True. \"\"\"\n",
    "    return get_activations(dummy_obs_pair(color, (row, col)), hook, layer_name)\n",
    "\n",
    "# Instantiate the plotter\n",
    "activ_plotter = ActivationsPlotter(labels, plotter=lambda activations, fig: plot_activations(activations[0], fig=fig), activ_gen=activ_gen_px, hook=hook, coords_enabled=True, color=\"R\") # TODO for some reason block2.maxpool_out has a different fig width?\n",
    "activ_plotter.display()"
   ]
  },
  {
   "cell_type": "code",
   "execution_count": 21,
   "metadata": {},
   "outputs": [
    {
     "data": {
      "application/vnd.jupyter.widget-view+json": {
       "model_id": "e32fb5942b0d41f19b0d46b19d7ea901",
       "version_major": 2,
       "version_minor": 0
      },
      "text/plain": [
       "FigureWidget({\n",
       "    'data': [{'colorscale': [[0.0, 'rgb(103,0,31)'], [0.1, 'rgb(178,24,43)'],\n",
       "                             [0.2, 'rgb(214,96,77)'], [0.3, 'rgb(244,165,130)'],\n",
       "                             [0.4, 'rgb(253,219,199)'], [0.5, 'rgb(247,247,247)'],\n",
       "                             [0.6, 'rgb(209,229,240)'], [0.7, 'rgb(146,197,222)'],\n",
       "                             [0.8, 'rgb(67,147,195)'], [0.9, 'rgb(33,102,172)'],\n",
       "                             [1.0, 'rgb(5,48,97)']],\n",
       "              'type': 'heatmap',\n",
       "              'uid': 'd7de2472-bd3f-4c41-a776-94a9eb70987e',\n",
       "              'z': array([[0., 0., 0., ..., 0., 0., 0.],\n",
       "                          [0., 0., 0., ..., 0., 0., 0.],\n",
       "                          [0., 0., 0., ..., 0., 0., 0.],\n",
       "                          ...,\n",
       "                          [0., 0., 0., ..., 0., 0., 0.],\n",
       "                          [0., 0., 0., ..., 0., 0., 0.],\n",
       "                          [0., 0., 0., ..., 0., 0., 0.]], dtype=float32),\n",
       "              'zmax': 1.0,\n",
       "              'zmid': 0,\n",
       "              'zmin': -1.0}],\n",
       "    'layout': {'height': 500,\n",
       "               'template': '...',\n",
       "               'title': {'text': 'block1.conv_in0'},\n",
       "               'width': 500,\n",
       "               'xaxis': {'side': 'top'},\n",
       "               'yaxis': {'autorange': 'reversed'}}\n",
       "})"
      ]
     },
     "metadata": {},
     "output_type": "display_data"
    },
    {
     "data": {
      "application/vnd.jupyter.widget-view+json": {
       "model_id": "594a0e672cdb47cf9e6656f0826b532d",
       "version_major": 2,
       "version_minor": 0
      },
      "text/plain": [
       "VBox(children=(Dropdown(description='Layers', options=('block1.conv_in0', 'block1.conv_out', 'block1.maxpool_o…"
      ]
     },
     "metadata": {},
     "output_type": "display_data"
    },
    {
     "data": {
      "application/vnd.jupyter.widget-view+json": {
       "model_id": "921d80d5364c46218205bf694b60bd42",
       "version_major": 2,
       "version_minor": 0
      },
      "text/plain": [
       "HBox(children=(Text(value='', layout=Layout(width='150px'), placeholder='Custom filename'), Button(description…"
      ]
     },
     "metadata": {},
     "output_type": "display_data"
    }
   ],
   "source": [
    "# Plot the diff between a single-pixel input and a blank input\n",
    "activ_plotter = ActivationsPlotter(labels, plotter=lambda activations, fig: plot_activations(activations[0] - activations[1], fig=fig), activ_gen=activ_gen_px, hook=hook, coords_enabled=True, color=\"R\")\n",
    "activ_plotter.display()"
   ]
  },
  {
   "cell_type": "code",
   "execution_count": 22,
   "metadata": {},
   "outputs": [
    {
     "data": {
      "application/vnd.jupyter.widget-view+json": {
       "model_id": "5811f13d10cc48848efd444227ddc3dc",
       "version_major": 2,
       "version_minor": 0
      },
      "text/plain": [
       "FigureWidget({\n",
       "    'data': [{'colorscale': [[0.0, 'rgb(103,0,31)'], [0.1, 'rgb(178,24,43)'],\n",
       "                             [0.2, 'rgb(214,96,77)'], [0.3, 'rgb(244,165,130)'],\n",
       "                             [0.4, 'rgb(253,219,199)'], [0.5, 'rgb(247,247,247)'],\n",
       "                             [0.6, 'rgb(209,229,240)'], [0.7, 'rgb(146,197,222)'],\n",
       "                             [0.8, 'rgb(67,147,195)'], [0.9, 'rgb(33,102,172)'],\n",
       "                             [1.0, 'rgb(5,48,97)']],\n",
       "              'type': 'heatmap',\n",
       "              'uid': 'b788cb91-d15d-4ee9-b39e-6fef0c44dd27',\n",
       "              'z': array([[0., 0., 0., ..., 0., 0., 0.],\n",
       "                          [0., 0., 0., ..., 0., 0., 0.],\n",
       "                          [0., 0., 0., ..., 0., 0., 0.],\n",
       "                          ...,\n",
       "                          [0., 0., 0., ..., 0., 0., 0.],\n",
       "                          [0., 0., 0., ..., 0., 0., 0.],\n",
       "                          [0., 0., 0., ..., 0., 0., 0.]], dtype=float32),\n",
       "              'zmax': 1.0,\n",
       "              'zmid': 0,\n",
       "              'zmin': -1.0}],\n",
       "    'layout': {'height': 500,\n",
       "               'template': '...',\n",
       "               'title': {'text': 'block1.conv_in0'},\n",
       "               'width': 500,\n",
       "               'xaxis': {'side': 'top'},\n",
       "               'yaxis': {'autorange': 'reversed'}}\n",
       "})"
      ]
     },
     "metadata": {},
     "output_type": "display_data"
    },
    {
     "data": {
      "application/vnd.jupyter.widget-view+json": {
       "model_id": "f72df9124f5e4a7cac6f4f5b1f0ae25b",
       "version_major": 2,
       "version_minor": 0
      },
      "text/plain": [
       "VBox(children=(Dropdown(description='Layers', options=('block1.conv_in0', 'block1.conv_out', 'block1.maxpool_o…"
      ]
     },
     "metadata": {},
     "output_type": "display_data"
    },
    {
     "data": {
      "application/vnd.jupyter.widget-view+json": {
       "model_id": "54eff74c3467484ebef96e330ab27f56",
       "version_major": 2,
       "version_minor": 0
      },
      "text/plain": [
       "HBox(children=(Text(value='', layout=Layout(width='150px'), placeholder='Custom filename'), Button(description…"
      ]
     },
     "metadata": {},
     "output_type": "display_data"
    }
   ],
   "source": [
    "# Instantiate the plotter\n",
    "nonzero_plotter = ActivationsPlotter(labels, plotter=plot_nonzero_diffs, activ_gen=activ_gen_px, hook=hook, coords_enabled=True, color=\"R\", pair=True)\n",
    "nonzero_plotter.display()"
   ]
  },
  {
   "attachments": {},
   "cell_type": "markdown",
   "metadata": {},
   "source": [
    "# 1: Locality\n",
    "Consider `n` convolutional layers (3x3 kernel, stride=1, padding=1) which each preserve the height col width of the previous feature maps. The above demonstrates that after these layers, information can only propagate `n` L1 pixels. The network itself is composed of # TODO "
   ]
  },
  {
   "attachments": {},
   "cell_type": "markdown",
   "metadata": {},
   "source": [
    "# Visualizing actual observation activations"
   ]
  },
  {
   "cell_type": "code",
   "execution_count": 23,
   "metadata": {},
   "outputs": [],
   "source": [
    "default_settings = {'channel_slider': 55, 'label_widget': 'block2.res1.resadd_out'}"
   ]
  },
  {
   "cell_type": "code",
   "execution_count": 27,
   "metadata": {},
   "outputs": [
    {
     "data": {
      "application/vnd.jupyter.widget-view+json": {
       "model_id": "37cdfaf6de2b4a9dbb809a8cc1fdf8a6",
       "version_major": 2,
       "version_minor": 0
      },
      "text/plain": [
       "Box(children=(HBox(children=(GridspecLayout(children=(Button(layout=Layout(grid_area='widget001', height='0px'…"
      ]
     },
     "metadata": {},
     "output_type": "display_data"
    },
    {
     "data": {
      "application/vnd.jupyter.widget-view+json": {
       "model_id": "b746514f85cd4b1e9e7ba5c68a1b0eb2",
       "version_major": 2,
       "version_minor": 0
      },
      "text/plain": [
       "FigureWidget({\n",
       "    'data': [{'colorscale': [[0.0, 'rgb(103,0,31)'], [0.1, 'rgb(178,24,43)'],\n",
       "                             [0.2, 'rgb(214,96,77)'], [0.3, 'rgb(244,165,130)'],\n",
       "                             [0.4, 'rgb(253,219,199)'], [0.5, 'rgb(247,247,247)'],\n",
       "                             [0.6, 'rgb(209,229,240)'], [0.7, 'rgb(146,197,222)'],\n",
       "                             [0.8, 'rgb(67,147,195)'], [0.9, 'rgb(33,102,172)'],\n",
       "                             [1.0, 'rgb(5,48,97)']],\n",
       "              'type': 'heatmap',\n",
       "              'uid': 'e030f934-4c4d-4a24-b364-4fb55ee21740',\n",
       "              'z': array([[ 0.02657262, -0.02839196, -0.07337212, ..., -0.04367238, -0.02377848,\n",
       "                           -0.01424359],\n",
       "                          [-0.00080798, -0.16589725, -0.19343746, ..., -0.17971103, -0.13789423,\n",
       "                           -0.08407792],\n",
       "                          [-0.06065782, -0.2514051 , -0.23488975, ..., -0.22294307, -0.20125811,\n",
       "                           -0.19534574],\n",
       "                          ...,\n",
       "                          [-0.05962539, -0.25053102, -0.2337972 , ..., -0.21868195, -0.20411755,\n",
       "                           -0.20397769],\n",
       "                          [-0.05711482, -0.23446661, -0.2250682 , ..., -0.21692891, -0.2030316 ,\n",
       "                           -0.20786336],\n",
       "                          [-0.08851513, -0.23334745, -0.24487017, ..., -0.24201   , -0.22992903,\n",
       "                           -0.04521213]], dtype=float32),\n",
       "              'zmax': 0.9982452,\n",
       "              'zmid': 0,\n",
       "              'zmin': -0.9982451796531677}],\n",
       "    'layout': {'height': 500,\n",
       "               'template': '...',\n",
       "               'title': {'text': 'block2.res1.resadd_out'},\n",
       "               'width': 500,\n",
       "               'xaxis': {'side': 'top'},\n",
       "               'yaxis': {'autorange': 'reversed'}}\n",
       "})"
      ]
     },
     "metadata": {},
     "output_type": "display_data"
    },
    {
     "data": {
      "application/vnd.jupyter.widget-view+json": {
       "model_id": "1cf4cde7738d4b4f9d624b6d3b3b208c",
       "version_major": 2,
       "version_minor": 0
      },
      "text/plain": [
       "VBox(children=(Dropdown(description='Layers', index=19, options=('block1.conv_in0', 'block1.conv_out', 'block1…"
      ]
     },
     "metadata": {},
     "output_type": "display_data"
    },
    {
     "data": {
      "application/vnd.jupyter.widget-view+json": {
       "model_id": "c35cdc9bc3ff4e1eadf8d9cc7050b830",
       "version_major": 2,
       "version_minor": 0
      },
      "text/plain": [
       "HBox(children=(Text(value='', layout=Layout(width='150px'), placeholder='Custom filename'), Button(description…"
      ]
     },
     "metadata": {},
     "output_type": "display_data"
    }
   ],
   "source": [
    "# Show a maze editor side-by-side with the interactive plotter\n",
    "SEED = 11\n",
    "venv = create_venv(num=1, start_level=SEED, num_levels=1) # This has to be a single maze, otherwise the vfield wont work\n",
    "custom_maze_plotter = ActivationsPlotter(labels, lambda activations, fig: plot_activations(activations[0], fig=fig), values_from_venv, hook, defaults=default_settings, venv=venv)\n",
    "\n",
    "widget_box = custom_vfield(policy, venv=venv, callback=custom_maze_plotter.update_plotter, show_components=True) \n",
    "display(widget_box)\n",
    "    \n",
    "custom_maze_plotter.display() \n",
    "# TODO make it so that it's easy to attach notes to files, load  "
   ]
  },
  {
   "attachments": {},
   "cell_type": "markdown",
   "metadata": {},
   "source": [
    "# Examine activations with attribution maps\n",
    "\n",
    "\n",
    "[Integrated gradients](https://arxiv.org/abs/1802.03788) is an attribution method which works by approximating the following integral, where $F : \\mathbb{R}^n \\rightarrow \\mathbb{R}$ is the network, $x$ is the input, $x'$ is the baseline, and $i$ is the feature.\n",
    "\n",
    "$$\n",
    "\\mathrm{IntegratedGradients}_i(x) = (x_i - x_i') \\times \\int_{\\alpha=0}^1 \\frac{\\partial F(x' + \\alpha (x - x'))}{\\partial x_i} d\\alpha\n",
    "$$\n",
    "\n",
    "[Intuitively](https://www.tensorflow.org/tutorials/interpretability/integrated_gradients) we're accumulating all the change in output from changing $x'$ to $x$ along the linear path $\\alpha x' + (1 - \\alpha) x$. For a concrete example in words, let $x_i$ be the weight of a heavy exotic frog, $x_i'$ be the average weight over all frogs, $F(x)$ be the estimated jump height of a frog with all the features $x$ (one of which is weight). Given this, the equation above can be interpreted as\n",
    "\n",
    "$$\n",
    "\\text{Weight gain of exotic frog} \\times \\text{Average rate jump height changes per unit weight gain} = \\text{Jump height change of exotic frog \\textbf{due to weight gain}}\n",
    "$$\n",
    "\n",
    "In other words, the integrated gradients vector is the vector of the change in output **due** to the change in each input feature.\n",
    "\n",
    "As an implementation detail, we currently use $x' = \\mathbf{0}$ as a baseline, though we'll be changing this soon.\n",
    "\n",
    "For the interface, <span style=\"color:blue;\">Blue</span> is the activation, brighter for positive, darker for negative. <span style=\"color:red;\">Red</span> is the attribution, brighter for positive, darker for negative.\n"
   ]
  },
  {
   "cell_type": "code",
   "execution_count": 25,
   "metadata": {},
   "outputs": [],
   "source": [
    "from torch.distributions import Categorical\n",
    "from captum.attr import IntegratedGradients\n",
    "\n",
    "class WrappedModel(t.nn.Module):\n",
    "    def __init__(self, hook: cmh.ModuleHook):\n",
    "        super().__init__()\n",
    "        assert isinstance(hook, cmh.ModuleHook), \"Hook must be a ModuleHook\"\n",
    "\n",
    "        self.hook = hook\n",
    "\n",
    "    def forward(self, labelled_activation: t.Tensor, obs: t.Tensor, label: str):\n",
    "        assert isinstance(obs, t.Tensor) and obs.dtype == t.float32, \"Obs must be a tensor of dtype float32\"\n",
    "        assert isinstance(labelled_activation, t.Tensor) and labelled_activation.dtype == t.float32, \"Labelled activation must be a tensor of dtype float32\"\n",
    "\n",
    "        # could be faster cached but I'm not taking chances with hook reuse bugs\n",
    "        mask = t.tensor(True) # mask all the things\n",
    "        patches = {label: cmh.PatchDef(value=labelled_activation, mask=mask)}\n",
    "        with self.hook.set_hook_should_get_custom_data(), self.hook.use_patches(patches):\n",
    "            c, _ = self.hook.network(obs)\n",
    "\n",
    "        # return probs\n",
    "        return t.stack([c.probs[..., np.array(act_indexes)].sum(-1) for _, act_indexes in models.MAZE_ACTION_INDICES.items()], dim=-1)\n",
    "\n",
    "\n",
    "model = WrappedModel(hook)\n",
    "ig = IntegratedGradients(model)"
   ]
  },
  {
   "cell_type": "code",
   "execution_count": 26,
   "metadata": {},
   "outputs": [
    {
     "data": {
      "application/vnd.jupyter.widget-view+json": {
       "model_id": "b4ecc3fda8b14cd6a72787bb3bfed27e",
       "version_major": 2,
       "version_minor": 0
      },
      "text/plain": [
       "interactive(children=(Dropdown(description='Target: ', index=3, options=('LEFT', 'DOWN', 'UP', 'RIGHT', 'NOOP'…"
      ]
     },
     "metadata": {},
     "output_type": "display_data"
    },
    {
     "data": {
      "application/vnd.jupyter.widget-view+json": {
       "model_id": "e05e9964dfd5484ca7e38db241efb54a",
       "version_major": 2,
       "version_minor": 0
      },
      "text/plain": [
       "Box(children=(HBox(children=(GridspecLayout(children=(Button(layout=Layout(grid_area='widget001', height='0px'…"
      ]
     },
     "metadata": {},
     "output_type": "display_data"
    }
   ],
   "source": [
    "targets = {k: i for i, k in enumerate(models.MAZE_ACTION_INDICES.keys())}\n",
    "venv = maze.create_venv(1,0,1)\n",
    "\n",
    "def viz_attr(target: str, layer_name: str, alpha: float, std_clip_low: float, std_clip_high: float, channel: int = 0, update_counter: int = 0):\n",
    "    obs = t.tensor(venv.reset(), dtype=t.float32, requires_grad=True)\n",
    "    # TODO: Baseline/counterfactual for IG, defaults is zero and is not ideal.\n",
    "    with hook.set_hook_should_get_custom_data():\n",
    "        hook.network(obs)\n",
    "        activ = hook.get_value_by_label(layer_name, convert=False)\n",
    "\n",
    "    attr, delta = ig.attribute(activ, target=targets[target], return_convergence_delta=True, additional_forward_args=(obs, layer_name))\n",
    "    attr = attr.detach().numpy()\n",
    "\n",
    "    # Convert to numpy float image format; gaussian normalize to [0,1]\n",
    "    activ_im = activ[0].detach().numpy()[channel]\n",
    "    activ_im = (activ_im - activ_im.min()) / (activ_im.max() - activ_im.min())\n",
    "\n",
    "    attr_im = attr[0][channel]\n",
    "\n",
    "    # clip outliers\n",
    "    mean, std = attr_im.mean(), attr_im.std()\n",
    "    attr_im = np.clip(attr_im, mean - std_clip_low*std, mean + std_clip_high*std)\n",
    "    # normalize for display\n",
    "    attr_im = (attr_im - attr_im.min())\n",
    "    if (attr_im.max() - attr_im.min()) != 0:\n",
    "        attr_im /= (attr_im.max() - attr_im.min())\n",
    "    else:\n",
    "        print(\"WARNING: attribution failed, image is constant zeros. try a different channel?\")\n",
    "\n",
    "    # TODO: Maybe this should be log scale since model outputs probabilities? maybe model should output log probs?\n",
    "    # hard to interpret.\n",
    "\n",
    "    # alternative (non rgb) overlay\n",
    "    # overlay_im = alpha * attr_im + (1-alpha) * activ_im\n",
    "    # rb overlay\n",
    "    green = np.zeros_like(attr_im)\n",
    "    overlay_im = np.stack([alpha*attr_im, green, (1-alpha)*activ_im], axis=2)\n",
    "\n",
    "    plt.imshow(overlay_im)\n",
    "\n",
    "\n",
    "update_counter_widget = widgets.fixed(0) # CURSED\n",
    "\n",
    "interact(\n",
    "    viz_attr,\n",
    "    target=widgets.Dropdown(options=list(targets.keys()), value='RIGHT', description='Target: '),\n",
    "    layer_name=widgets.Dropdown(options=labels, value=labels[4], description='Label: '),\n",
    "    alpha=widgets.FloatSlider(min=0, max=1, step=0.1, value=0.5),\n",
    "    std_clip_low=widgets.FloatSlider(min=0, max=10, step=0.5, value=3), # NOTE: Feel free to make default settings better\n",
    "    std_clip_high=widgets.FloatSlider(min=0, max=10, step=0.5, value=5),\n",
    "    channel=widgets.IntSlider(min=0, max=128, step=1, value=0),\n",
    "    update_counter=update_counter_widget,\n",
    ");\n",
    "\n",
    "widget_box = custom_vfield(policy, venv=venv, seed=SEED, callback=lambda _: update_counter_widget.set_trait('value', update_counter_widget.value + 1))\n",
    "display(widget_box)\n"
   ]
  }
 ],
 "metadata": {
  "kernelspec": {
   "display_name": "MATS",
   "language": "python",
   "name": "python3"
  },
  "language_info": {
   "codemirror_mode": {
    "name": "ipython",
    "version": 3
   },
   "file_extension": ".py",
   "mimetype": "text/x-python",
   "name": "python",
   "nbconvert_exporter": "python",
   "pygments_lexer": "ipython3",
   "version": "3.10.9"
  },
  "orig_nbformat": 4,
  "vscode": {
   "interpreter": {
    "hash": "4c77f2f46953a93e2cdf30c808e94602375d16ad6294e549473c1f301bc8b554"
   }
  }
 },
 "nbformat": 4,
 "nbformat_minor": 2
}
