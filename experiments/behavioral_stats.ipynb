{
 "cells": [
  {
   "attachments": {},
   "cell_type": "markdown",
   "id": "bb489560",
   "metadata": {},
   "source": [
    "This notebook is for taking statistics over thousands of runs, in order to analyze which maze features (e.g. distance to cheese) tend to affect decision-making. "
   ]
  },
  {
   "cell_type": "code",
   "execution_count": 1,
   "id": "af4881a7",
   "metadata": {},
   "outputs": [],
   "source": [
    "%load_ext autoreload\n",
    "import sys, os\n",
    "COLAB = 'google.colab' in sys.modules \n",
    "if COLAB and 'procgen-tools' not in os.getcwd():\n",
    "    os.system(\"git clone https://github.com/UlisseMini/procgen-tools\")\n",
    "    os.chdir('procgen-tools')\n",
    "    %pip install -r requirements.txt"
   ]
  },
  {
   "cell_type": "code",
   "execution_count": 247,
   "id": "c479b48f",
   "metadata": {},
   "outputs": [],
   "source": [
    "%matplotlib inline\n",
    "import matplotlib.pyplot as plt\n",
    "\n",
    "import numpy as np\n",
    "from procgen import ProcgenGym3Env\n",
    "import envs.maze as maze\n",
    "from models import load_policy\n",
    "import torch\n",
    "from IPython import display\n",
    "from glob import glob\n",
    "import pickle\n",
    "from tqdm import tqdm\n",
    "from data_util import Episode, load_episode\n",
    "from metric_utils import metrics, decision_square\n",
    "import os\n",
    "from collections import defaultdict\n",
    "\n",
    "import pandas as pd\n",
    "from sklearn import linear_model\n",
    "import statsmodels.api as sm\n",
    "from sklearn.linear_model import LogisticRegression\n",
    "from sklearn.preprocessing import StandardScaler\n",
    "from scipy import stats\n",
    "from sklearn.model_selection import train_test_split\n",
    "\n",
    "import random \n",
    "from typing import List, Tuple, Any, Dict, Union, Optional\n",
    "\n",
    "import prettytable "
   ]
  },
  {
   "cell_type": "code",
   "execution_count": 228,
   "id": "04235c2e",
   "metadata": {},
   "outputs": [
    {
     "name": "stdout",
     "output_type": "stream",
     "text": [
      "Loaded 10138 runs\n"
     ]
    }
   ],
   "source": [
    "files = glob('data/*rand_region_5*.pkl') # 80% this won't change qualitative conclusions from earlier runs\n",
    "runs = []\n",
    "for f in files:\n",
    "    try:\n",
    "        runs.append(load_episode(f, load_venv=False))\n",
    "    except (AssertionError, KeyError) as e:\n",
    "        print(f\"Malformed file {f}: {e}\")\n",
    "        #os.remove(f)\n",
    "\n",
    "print(f'Loaded {len(runs)} runs')"
   ]
  },
  {
   "cell_type": "code",
   "execution_count": 229,
   "id": "151864ae",
   "metadata": {},
   "outputs": [
    {
     "name": "stderr",
     "output_type": "stream",
     "text": [
      "100%|██████████| 10138/10138 [04:28<00:00, 37.80it/s]\n"
     ]
    },
    {
     "data": {
      "text/plain": [
       "5194"
      ]
     },
     "execution_count": 229,
     "metadata": {},
     "output_type": "execute_result"
    }
   ],
   "source": [
    "recorded_metrics = defaultdict(list)\n",
    "recorded_runs = []\n",
    "got_cheese = []\n",
    "for run in tqdm(runs):\n",
    "    g = run.grid()\n",
    "    if decision_square(g) is None or (g[-5:, -5:] == maze.CHEESE).any():\n",
    "        continue\n",
    "    for name, metric in metrics.items():\n",
    "        recorded_metrics[name].append(metric(g))\n",
    "    got_cheese.append(float(run.got_cheese))\n",
    "    recorded_runs.append(run)\n",
    "\n",
    "runs = recorded_runs; del recorded_runs\n",
    "got_cheese = np.array(got_cheese)\n",
    "len(got_cheese)"
   ]
  },
  {
   "cell_type": "code",
   "execution_count": 233,
   "id": "e6cb7919",
   "metadata": {},
   "outputs": [],
   "source": [
    "# We want to turn the metrics into a dataframe, so we have to convert them to numpy arrays\n",
    "for name, metric in recorded_metrics.items():\n",
    "    recorded_metrics[name] = np.array(metric)"
   ]
  },
  {
   "cell_type": "code",
   "execution_count": 231,
   "id": "a207f4ea",
   "metadata": {},
   "outputs": [
    {
     "name": "stdout",
     "output_type": "stream",
     "text": [
      "P(get cheese | decision square, cheese not in top 5x5) = 0.583\n"
     ]
    }
   ],
   "source": [
    "prob = sum(got_cheese) / len(got_cheese)\n",
    "print(f'P(get cheese | decision square, cheese not in top 5x5) = {prob:.3f}')"
   ]
  },
  {
   "cell_type": "code",
   "execution_count": 234,
   "id": "a306c611",
   "metadata": {},
   "outputs": [],
   "source": [
    "# We filter the data based on the conditions. In particular, we are filtering the data based on the distance between the cheese and the decision square, and the number of steps between the cheese and the decision square. We are also filtering the data based on the fact that the cheese is not in the top 5x5 region, and for mazes which have a decision square\n",
    "cond = np.logical_and(\n",
    "    (recorded_metrics['euc_dist_cheese_decision_square'] > 0),\n",
    "    (recorded_metrics['steps_between_cheese_decision_square'] > 20),\n",
    ") \n",
    "\n",
    "basenum= len (np.nonzero(cond)[0])\n",
    "\n",
    "sp_indexes = np.nonzero(cond)[0]\n",
    "filtered_rm = {}\n",
    "for key, value in recorded_metrics.items():\n",
    "    filtered_rm[key] = recorded_metrics[key][sp_indexes]\n",
    "\n",
    "assert len(filtered_rm['euc_dist_cheese_decision_square']) == len(sp_indexes)"
   ]
  },
  {
   "cell_type": "code",
   "execution_count": 235,
   "id": "9338e2dd",
   "metadata": {},
   "outputs": [
    {
     "data": {
      "application/vnd.jupyter.widget-view+json": {
       "model_id": "414b5c20b1fc4fa79e331146049f70ba",
       "version_major": 2,
       "version_minor": 0
      },
      "text/plain": [
       "interactive(children=(Dropdown(description='metric', options=('euc_dist_cheese_decision_square', 'steps_betwee…"
      ]
     },
     "metadata": {},
     "output_type": "display_data"
    }
   ],
   "source": [
    "# Make a plotly histogram, where you select which metric to display using a dropdown menu\n",
    "import plotly.express as px\n",
    "import plotly.graph_objects as go\n",
    "from ipywidgets import interact\n",
    "import math\n",
    "\n",
    "fig = go.FigureWidget()\n",
    "\n",
    "@interact \n",
    "def show_histogram(metric=list(recorded_metrics.keys())):\n",
    "    \"\"\" Show a histogram of the metric on this dataset. \"\"\"\n",
    "    fig.data = []\n",
    "\n",
    "    # Add a trace to fig\n",
    "    fig.add_trace(go.Histogram(x=recorded_metrics[metric], histnorm='probability density'))\n",
    "\n",
    "    # Set the title\n",
    "    fig.update_layout(title_text=f'Histogram of {metric}')\n",
    "    # Set y axis label to probability density\n",
    "    fig.update_yaxes(title_text='Probability density') \n",
    "    fig.update_xaxes(title_text=metric)\n",
    "\n",
    "    # Automatically display updates to fig without having to call fig.show()\n",
    "    display.display(fig)"
   ]
  },
  {
   "cell_type": "code",
   "execution_count": 236,
   "id": "f18bc057",
   "metadata": {},
   "outputs": [
    {
     "data": {
      "application/vnd.jupyter.widget-view+json": {
       "model_id": "bb56a1b7562e47b59def4c19f2cb8242",
       "version_major": 2,
       "version_minor": 0
      },
      "text/plain": [
       "interactive(children=(Dropdown(description='metric1', options=('euc_dist_cheese_decision_square', 'steps_betwe…"
      ]
     },
     "metadata": {},
     "output_type": "display_data"
    }
   ],
   "source": [
    "from ipywidgets import Dropdown, Checkbox\n",
    "\n",
    "scatter_distances_fig = go.FigureWidget()\n",
    "\n",
    "# Make plotly scatterplot comparing two metrics, to check for collinearity\n",
    "@interact\n",
    "def show_scatter(metric1=Dropdown(options=list(filtered_rm.keys()), value='euc_dist_cheese_decision_square'), \n",
    "                 metric2=Dropdown(options=list(filtered_rm.keys()), value='steps_between_cheese_decision_square'),\n",
    "                 filter_cheese=Checkbox(value=True, description='Filter trivial cases')):\n",
    "    \"\"\" Show a scatterplot of two metrics on this dataset. \"\"\"\n",
    "    # Choose which data to use\n",
    "    data = filtered_rm if filter_cheese else recorded_metrics\n",
    "\n",
    "    # Plot the scatterplot\n",
    "    scatter_distances_fig.data = []\n",
    "    scatter_distances_fig.add_trace(go.Scatter(x=data[metric1], y=data[metric2], mode='markers', name='runs'))\n",
    "    scatter_distances_fig.update_layout(title_text=f'{metric1} vs {metric2}')\n",
    "    scatter_distances_fig.update_xaxes(title_text=metric1)\n",
    "    scatter_distances_fig.update_yaxes(title_text=metric2)\n",
    "    display.display(scatter_distances_fig)\n",
    "\n",
    "    # Draw a line of best fit\n",
    "    slope, intercept, r_value, p_value, std_err = stats.linregress(data[metric1], data[metric2])\n",
    "    scatter_distances_fig.add_trace(go.Scatter(x=data[metric1], y=slope*data[metric1] + intercept, mode='lines', name='best fit'))\n",
    "\n",
    "    # Hide the legend\n",
    "    scatter_distances_fig.update_layout(showlegend=False)\n",
    "\n",
    "    # Print the correlation coefficient\n",
    "    print(f\"Correlation between {metric1} and {metric2}: {np.corrcoef(data[metric1], data[metric2])[0,1]:.3f}\")"
   ]
  },
  {
   "cell_type": "code",
   "execution_count": 237,
   "id": "68d758e4",
   "metadata": {},
   "outputs": [
    {
     "data": {
      "application/vnd.plotly.v1+json": {
       "config": {
        "plotlyServerURL": "https://plot.ly"
       },
       "data": [
        {
         "coloraxis": "coloraxis",
         "hovertemplate": "(%{x}, %{y}) = %{z:.3f} <extra></extra>",
         "name": "0",
         "type": "heatmap",
         "xaxis": "x",
         "yaxis": "y",
         "z": [
          [
           0.9999999999999999,
           0.30719795810260203,
           0.18657973124686872,
           0.2868748062342157,
           0.11538550014958858,
           0.07951913645603186,
           0.18778738839660827,
           0.10020514213083606,
           0.33096026014498914,
           0.14141970089729766,
           0.2104745808799671
          ],
          [
           0.30719795810260203,
           1,
           0.44053273957018213,
           0.13079691775090102,
           0.11084586204872929,
           0.07352514940625991,
           0.2988442202476165,
           0.0851140309036019,
           0.1248934114108047,
           0.1255393022688009,
           0.01196581155091928
          ],
          [
           0.18657973124686872,
           0.4405327395701821,
           1,
           0.08253524212201302,
           0.86476544536503,
           0.9276969344130044,
           0.745592514253701,
           0.9025023232545905,
           0.0864414354130876,
           0.8676098322257917,
           0.184087239555323
          ],
          [
           0.2868748062342157,
           0.13079691775090102,
           0.08253524212201302,
           1,
           0.013281457184841671,
           0.03729478480800766,
           0.28767694398352345,
           0.050638387894847585,
           0.9939143220608146,
           0.012936033901027382,
           -0.5343445709637389
          ],
          [
           0.11538550014958857,
           0.1108458620487293,
           0.86476544536503,
           0.01328145718484167,
           1,
           0.9145693090155428,
           0.6609547244823701,
           0.9172777157422948,
           0.019065813691678143,
           0.9963776117897325,
           0.19556743115018393
          ],
          [
           0.07951913645603186,
           0.07352514940625991,
           0.9276969344130044,
           0.03729478480800766,
           0.9145693090155428,
           1,
           0.7039990876558626,
           0.9671919963323542,
           0.044089207155631235,
           0.9116186938351697,
           0.19952594877734883
          ],
          [
           0.1877873883966083,
           0.2988442202476165,
           0.745592514253701,
           0.2876769439835235,
           0.6609547244823701,
           0.7039990876558626,
           1,
           0.7509045140412873,
           0.2950094893827821,
           0.6640121470326618,
           0.019485513989250684
          ],
          [
           0.10020514213083606,
           0.0851140309036019,
           0.9025023232545905,
           0.05063838789484758,
           0.9172777157422948,
           0.9671919963323542,
           0.7509045140412874,
           1,
           0.0568952366376355,
           0.9194929822686325,
           0.1793381591569466
          ],
          [
           0.3309602601449891,
           0.1248934114108047,
           0.0864414354130876,
           0.9939143220608145,
           0.01906581369167814,
           0.04408920715563123,
           0.2950094893827821,
           0.0568952366376355,
           1,
           0.01818708978903811,
           -0.45740104908478585
          ],
          [
           0.1414197008972977,
           0.1255393022688009,
           0.8676098322257917,
           0.012936033901027382,
           0.9963776117897324,
           0.9116186938351697,
           0.6640121470326618,
           0.9194929822686325,
           0.01818708978903811,
           1,
           0.19643723170999425
          ],
          [
           0.2104745808799671,
           0.01196581155091928,
           0.184087239555323,
           -0.5343445709637389,
           0.19556743115018393,
           0.19952594877734886,
           0.019485513989250684,
           0.1793381591569466,
           -0.4574010490847858,
           0.19643723170999422,
           1
          ]
         ]
        }
       ],
       "layout": {
        "coloraxis": {
         "cmax": 1,
         "cmin": -1,
         "colorbar": {
          "title": {
           "text": "Correlation"
          }
         },
         "colorscale": [
          [
           0,
           "rgb(103,0,31)"
          ],
          [
           0.1,
           "rgb(178,24,43)"
          ],
          [
           0.2,
           "rgb(214,96,77)"
          ],
          [
           0.3,
           "rgb(244,165,130)"
          ],
          [
           0.4,
           "rgb(253,219,199)"
          ],
          [
           0.5,
           "rgb(247,247,247)"
          ],
          [
           0.6,
           "rgb(209,229,240)"
          ],
          [
           0.7,
           "rgb(146,197,222)"
          ],
          [
           0.8,
           "rgb(67,147,195)"
          ],
          [
           0.9,
           "rgb(33,102,172)"
          ],
          [
           1,
           "rgb(5,48,97)"
          ]
         ],
         "showscale": false
        },
        "height": 800,
        "margin": {
         "t": 60
        },
        "template": {
         "data": {
          "bar": [
           {
            "error_x": {
             "color": "#2a3f5f"
            },
            "error_y": {
             "color": "#2a3f5f"
            },
            "marker": {
             "line": {
              "color": "#E5ECF6",
              "width": 0.5
             },
             "pattern": {
              "fillmode": "overlay",
              "size": 10,
              "solidity": 0.2
             }
            },
            "type": "bar"
           }
          ],
          "barpolar": [
           {
            "marker": {
             "line": {
              "color": "#E5ECF6",
              "width": 0.5
             },
             "pattern": {
              "fillmode": "overlay",
              "size": 10,
              "solidity": 0.2
             }
            },
            "type": "barpolar"
           }
          ],
          "carpet": [
           {
            "aaxis": {
             "endlinecolor": "#2a3f5f",
             "gridcolor": "white",
             "linecolor": "white",
             "minorgridcolor": "white",
             "startlinecolor": "#2a3f5f"
            },
            "baxis": {
             "endlinecolor": "#2a3f5f",
             "gridcolor": "white",
             "linecolor": "white",
             "minorgridcolor": "white",
             "startlinecolor": "#2a3f5f"
            },
            "type": "carpet"
           }
          ],
          "choropleth": [
           {
            "colorbar": {
             "outlinewidth": 0,
             "ticks": ""
            },
            "type": "choropleth"
           }
          ],
          "contour": [
           {
            "colorbar": {
             "outlinewidth": 0,
             "ticks": ""
            },
            "colorscale": [
             [
              0,
              "#0d0887"
             ],
             [
              0.1111111111111111,
              "#46039f"
             ],
             [
              0.2222222222222222,
              "#7201a8"
             ],
             [
              0.3333333333333333,
              "#9c179e"
             ],
             [
              0.4444444444444444,
              "#bd3786"
             ],
             [
              0.5555555555555556,
              "#d8576b"
             ],
             [
              0.6666666666666666,
              "#ed7953"
             ],
             [
              0.7777777777777778,
              "#fb9f3a"
             ],
             [
              0.8888888888888888,
              "#fdca26"
             ],
             [
              1,
              "#f0f921"
             ]
            ],
            "type": "contour"
           }
          ],
          "contourcarpet": [
           {
            "colorbar": {
             "outlinewidth": 0,
             "ticks": ""
            },
            "type": "contourcarpet"
           }
          ],
          "heatmap": [
           {
            "colorbar": {
             "outlinewidth": 0,
             "ticks": ""
            },
            "colorscale": [
             [
              0,
              "#0d0887"
             ],
             [
              0.1111111111111111,
              "#46039f"
             ],
             [
              0.2222222222222222,
              "#7201a8"
             ],
             [
              0.3333333333333333,
              "#9c179e"
             ],
             [
              0.4444444444444444,
              "#bd3786"
             ],
             [
              0.5555555555555556,
              "#d8576b"
             ],
             [
              0.6666666666666666,
              "#ed7953"
             ],
             [
              0.7777777777777778,
              "#fb9f3a"
             ],
             [
              0.8888888888888888,
              "#fdca26"
             ],
             [
              1,
              "#f0f921"
             ]
            ],
            "type": "heatmap"
           }
          ],
          "heatmapgl": [
           {
            "colorbar": {
             "outlinewidth": 0,
             "ticks": ""
            },
            "colorscale": [
             [
              0,
              "#0d0887"
             ],
             [
              0.1111111111111111,
              "#46039f"
             ],
             [
              0.2222222222222222,
              "#7201a8"
             ],
             [
              0.3333333333333333,
              "#9c179e"
             ],
             [
              0.4444444444444444,
              "#bd3786"
             ],
             [
              0.5555555555555556,
              "#d8576b"
             ],
             [
              0.6666666666666666,
              "#ed7953"
             ],
             [
              0.7777777777777778,
              "#fb9f3a"
             ],
             [
              0.8888888888888888,
              "#fdca26"
             ],
             [
              1,
              "#f0f921"
             ]
            ],
            "type": "heatmapgl"
           }
          ],
          "histogram": [
           {
            "marker": {
             "pattern": {
              "fillmode": "overlay",
              "size": 10,
              "solidity": 0.2
             }
            },
            "type": "histogram"
           }
          ],
          "histogram2d": [
           {
            "colorbar": {
             "outlinewidth": 0,
             "ticks": ""
            },
            "colorscale": [
             [
              0,
              "#0d0887"
             ],
             [
              0.1111111111111111,
              "#46039f"
             ],
             [
              0.2222222222222222,
              "#7201a8"
             ],
             [
              0.3333333333333333,
              "#9c179e"
             ],
             [
              0.4444444444444444,
              "#bd3786"
             ],
             [
              0.5555555555555556,
              "#d8576b"
             ],
             [
              0.6666666666666666,
              "#ed7953"
             ],
             [
              0.7777777777777778,
              "#fb9f3a"
             ],
             [
              0.8888888888888888,
              "#fdca26"
             ],
             [
              1,
              "#f0f921"
             ]
            ],
            "type": "histogram2d"
           }
          ],
          "histogram2dcontour": [
           {
            "colorbar": {
             "outlinewidth": 0,
             "ticks": ""
            },
            "colorscale": [
             [
              0,
              "#0d0887"
             ],
             [
              0.1111111111111111,
              "#46039f"
             ],
             [
              0.2222222222222222,
              "#7201a8"
             ],
             [
              0.3333333333333333,
              "#9c179e"
             ],
             [
              0.4444444444444444,
              "#bd3786"
             ],
             [
              0.5555555555555556,
              "#d8576b"
             ],
             [
              0.6666666666666666,
              "#ed7953"
             ],
             [
              0.7777777777777778,
              "#fb9f3a"
             ],
             [
              0.8888888888888888,
              "#fdca26"
             ],
             [
              1,
              "#f0f921"
             ]
            ],
            "type": "histogram2dcontour"
           }
          ],
          "mesh3d": [
           {
            "colorbar": {
             "outlinewidth": 0,
             "ticks": ""
            },
            "type": "mesh3d"
           }
          ],
          "parcoords": [
           {
            "line": {
             "colorbar": {
              "outlinewidth": 0,
              "ticks": ""
             }
            },
            "type": "parcoords"
           }
          ],
          "pie": [
           {
            "automargin": true,
            "type": "pie"
           }
          ],
          "scatter": [
           {
            "fillpattern": {
             "fillmode": "overlay",
             "size": 10,
             "solidity": 0.2
            },
            "type": "scatter"
           }
          ],
          "scatter3d": [
           {
            "line": {
             "colorbar": {
              "outlinewidth": 0,
              "ticks": ""
             }
            },
            "marker": {
             "colorbar": {
              "outlinewidth": 0,
              "ticks": ""
             }
            },
            "type": "scatter3d"
           }
          ],
          "scattercarpet": [
           {
            "marker": {
             "colorbar": {
              "outlinewidth": 0,
              "ticks": ""
             }
            },
            "type": "scattercarpet"
           }
          ],
          "scattergeo": [
           {
            "marker": {
             "colorbar": {
              "outlinewidth": 0,
              "ticks": ""
             }
            },
            "type": "scattergeo"
           }
          ],
          "scattergl": [
           {
            "marker": {
             "colorbar": {
              "outlinewidth": 0,
              "ticks": ""
             }
            },
            "type": "scattergl"
           }
          ],
          "scattermapbox": [
           {
            "marker": {
             "colorbar": {
              "outlinewidth": 0,
              "ticks": ""
             }
            },
            "type": "scattermapbox"
           }
          ],
          "scatterpolar": [
           {
            "marker": {
             "colorbar": {
              "outlinewidth": 0,
              "ticks": ""
             }
            },
            "type": "scatterpolar"
           }
          ],
          "scatterpolargl": [
           {
            "marker": {
             "colorbar": {
              "outlinewidth": 0,
              "ticks": ""
             }
            },
            "type": "scatterpolargl"
           }
          ],
          "scatterternary": [
           {
            "marker": {
             "colorbar": {
              "outlinewidth": 0,
              "ticks": ""
             }
            },
            "type": "scatterternary"
           }
          ],
          "surface": [
           {
            "colorbar": {
             "outlinewidth": 0,
             "ticks": ""
            },
            "colorscale": [
             [
              0,
              "#0d0887"
             ],
             [
              0.1111111111111111,
              "#46039f"
             ],
             [
              0.2222222222222222,
              "#7201a8"
             ],
             [
              0.3333333333333333,
              "#9c179e"
             ],
             [
              0.4444444444444444,
              "#bd3786"
             ],
             [
              0.5555555555555556,
              "#d8576b"
             ],
             [
              0.6666666666666666,
              "#ed7953"
             ],
             [
              0.7777777777777778,
              "#fb9f3a"
             ],
             [
              0.8888888888888888,
              "#fdca26"
             ],
             [
              1,
              "#f0f921"
             ]
            ],
            "type": "surface"
           }
          ],
          "table": [
           {
            "cells": {
             "fill": {
              "color": "#EBF0F8"
             },
             "line": {
              "color": "white"
             }
            },
            "header": {
             "fill": {
              "color": "#C8D4E3"
             },
             "line": {
              "color": "white"
             }
            },
            "type": "table"
           }
          ]
         },
         "layout": {
          "annotationdefaults": {
           "arrowcolor": "#2a3f5f",
           "arrowhead": 0,
           "arrowwidth": 1
          },
          "autotypenumbers": "strict",
          "coloraxis": {
           "colorbar": {
            "outlinewidth": 0,
            "ticks": ""
           }
          },
          "colorscale": {
           "diverging": [
            [
             0,
             "#8e0152"
            ],
            [
             0.1,
             "#c51b7d"
            ],
            [
             0.2,
             "#de77ae"
            ],
            [
             0.3,
             "#f1b6da"
            ],
            [
             0.4,
             "#fde0ef"
            ],
            [
             0.5,
             "#f7f7f7"
            ],
            [
             0.6,
             "#e6f5d0"
            ],
            [
             0.7,
             "#b8e186"
            ],
            [
             0.8,
             "#7fbc41"
            ],
            [
             0.9,
             "#4d9221"
            ],
            [
             1,
             "#276419"
            ]
           ],
           "sequential": [
            [
             0,
             "#0d0887"
            ],
            [
             0.1111111111111111,
             "#46039f"
            ],
            [
             0.2222222222222222,
             "#7201a8"
            ],
            [
             0.3333333333333333,
             "#9c179e"
            ],
            [
             0.4444444444444444,
             "#bd3786"
            ],
            [
             0.5555555555555556,
             "#d8576b"
            ],
            [
             0.6666666666666666,
             "#ed7953"
            ],
            [
             0.7777777777777778,
             "#fb9f3a"
            ],
            [
             0.8888888888888888,
             "#fdca26"
            ],
            [
             1,
             "#f0f921"
            ]
           ],
           "sequentialminus": [
            [
             0,
             "#0d0887"
            ],
            [
             0.1111111111111111,
             "#46039f"
            ],
            [
             0.2222222222222222,
             "#7201a8"
            ],
            [
             0.3333333333333333,
             "#9c179e"
            ],
            [
             0.4444444444444444,
             "#bd3786"
            ],
            [
             0.5555555555555556,
             "#d8576b"
            ],
            [
             0.6666666666666666,
             "#ed7953"
            ],
            [
             0.7777777777777778,
             "#fb9f3a"
            ],
            [
             0.8888888888888888,
             "#fdca26"
            ],
            [
             1,
             "#f0f921"
            ]
           ]
          },
          "colorway": [
           "#636efa",
           "#EF553B",
           "#00cc96",
           "#ab63fa",
           "#FFA15A",
           "#19d3f3",
           "#FF6692",
           "#B6E880",
           "#FF97FF",
           "#FECB52"
          ],
          "font": {
           "color": "#2a3f5f"
          },
          "geo": {
           "bgcolor": "white",
           "lakecolor": "white",
           "landcolor": "#E5ECF6",
           "showlakes": true,
           "showland": true,
           "subunitcolor": "white"
          },
          "hoverlabel": {
           "align": "left"
          },
          "hovermode": "closest",
          "mapbox": {
           "style": "light"
          },
          "paper_bgcolor": "white",
          "plot_bgcolor": "#E5ECF6",
          "polar": {
           "angularaxis": {
            "gridcolor": "white",
            "linecolor": "white",
            "ticks": ""
           },
           "bgcolor": "#E5ECF6",
           "radialaxis": {
            "gridcolor": "white",
            "linecolor": "white",
            "ticks": ""
           }
          },
          "scene": {
           "xaxis": {
            "backgroundcolor": "#E5ECF6",
            "gridcolor": "white",
            "gridwidth": 2,
            "linecolor": "white",
            "showbackground": true,
            "ticks": "",
            "zerolinecolor": "white"
           },
           "yaxis": {
            "backgroundcolor": "#E5ECF6",
            "gridcolor": "white",
            "gridwidth": 2,
            "linecolor": "white",
            "showbackground": true,
            "ticks": "",
            "zerolinecolor": "white"
           },
           "zaxis": {
            "backgroundcolor": "#E5ECF6",
            "gridcolor": "white",
            "gridwidth": 2,
            "linecolor": "white",
            "showbackground": true,
            "ticks": "",
            "zerolinecolor": "white"
           }
          },
          "shapedefaults": {
           "line": {
            "color": "#2a3f5f"
           }
          },
          "ternary": {
           "aaxis": {
            "gridcolor": "white",
            "linecolor": "white",
            "ticks": ""
           },
           "baxis": {
            "gridcolor": "white",
            "linecolor": "white",
            "ticks": ""
           },
           "bgcolor": "#E5ECF6",
           "caxis": {
            "gridcolor": "white",
            "linecolor": "white",
            "ticks": ""
           }
          },
          "title": {
           "x": 0.05
          },
          "xaxis": {
           "automargin": true,
           "gridcolor": "white",
           "linecolor": "white",
           "ticks": "",
           "title": {
            "standoff": 15
           },
           "zerolinecolor": "white",
           "zerolinewidth": 2
          },
          "yaxis": {
           "automargin": true,
           "gridcolor": "white",
           "linecolor": "white",
           "ticks": "",
           "title": {
            "standoff": 15
           },
           "zerolinecolor": "white",
           "zerolinewidth": 2
          }
         }
        },
        "title": {
         "text": "Correlation matrix between metrics"
        },
        "width": 800,
        "xaxis": {
         "anchor": "y",
         "constrain": "domain",
         "domain": [
          0,
          1
         ],
         "scaleanchor": "y",
         "ticktext": [
          "euc_dist_cheese_decision_square",
          "steps_between_cheese_decision_square",
          "steps_between_cheese_top_right",
          "euc_dist_cheese_top_right",
          "euc_dist_decision_square_top_right",
          "steps_between_decision_square_top_right",
          "steps_between_cheese_5x5",
          "steps_between_decision_square_5x5",
          "euc_dist_cheese_5x5",
          "euc_dist_decision_square_5x5",
          "cheese_coord"
         ],
         "tickvals": [
          0,
          1,
          2,
          3,
          4,
          5,
          6,
          7,
          8,
          9,
          10
         ],
         "title": {
          "text": ""
         }
        },
        "yaxis": {
         "anchor": "x",
         "autorange": "reversed",
         "constrain": "domain",
         "domain": [
          0,
          1
         ],
         "ticktext": [
          "euc_dist_cheese_decision_square",
          "steps_between_cheese_decision_square",
          "steps_between_cheese_top_right",
          "euc_dist_cheese_top_right",
          "euc_dist_decision_square_top_right",
          "steps_between_decision_square_top_right",
          "steps_between_cheese_5x5",
          "steps_between_decision_square_5x5",
          "euc_dist_cheese_5x5",
          "euc_dist_decision_square_5x5",
          "cheese_coord"
         ],
         "tickvals": [
          0,
          1,
          2,
          3,
          4,
          5,
          6,
          7,
          8,
          9,
          10
         ],
         "title": {
          "text": ""
         }
        }
       }
      }
     },
     "metadata": {},
     "output_type": "display_data"
    }
   ],
   "source": [
    "# Show the correlation matrix in plotly\n",
    "final_metrics = ['euc_dist_cheese_decision_square']\n",
    "\n",
    "correlations = np.zeros((len(filtered_rm), len(filtered_rm)))\n",
    "for i, metric1 in enumerate(filtered_rm.keys()):\n",
    "    for j, metric2 in enumerate(filtered_rm.keys()):\n",
    "        correlations[i, j] = np.corrcoef(filtered_rm[metric1], filtered_rm[metric2])[0,1]\n",
    "\n",
    "# Show the correlation matrix in plotly, with a colorbar \n",
    "# On mouse over, show the name of each metric\n",
    "corrmap = px.imshow(correlations, labels=dict(x='Metric 1', y='Metric 2', color='Correlation'), color_continuous_scale='RdBu', zmin=-1, zmax=1)\n",
    "# Hover template: show the name of each metric, by looking up its value in the x and y lists \n",
    "corrmap.update_traces(hovertemplate='(%{x}, %{y}) = %{z:.3f} <extra></extra>')\n",
    "\n",
    "corrmap.update_layout(title_text='Correlation matrix between metrics')\n",
    "# Don't show numbers over each cell\n",
    "corrmap.update_traces(text=None)\n",
    "# Show x and y axis labels\n",
    "corrmap.update_xaxes(ticktext=list(filtered_rm.keys()), tickvals=list(range(len(filtered_rm.keys()))))\n",
    "corrmap.update_yaxes(ticktext=list(filtered_rm.keys()), tickvals=list(range(len(filtered_rm.keys()))))\n",
    "\n",
    "# Hide x and y axis titles\n",
    "corrmap.update_xaxes(title_text='')\n",
    "corrmap.update_yaxes(title_text='')  \n",
    "\n",
    "# Hide the color bar \n",
    "corrmap.update_layout(coloraxis_showscale=False)\n",
    "\n",
    "# Make size of plot a bit bigger\n",
    "corrmap.update_layout(width=800, height=800)\n",
    "corrmap.show()"
   ]
  },
  {
   "cell_type": "code",
   "execution_count": 238,
   "id": "8514cf7b",
   "metadata": {},
   "outputs": [
    {
     "name": "stdout",
     "output_type": "stream",
     "text": [
      "+-----------------------------------------+-----------------------------------------+----------------------+\n",
      "|                 Metric 1                |                 Metric 2                |     Correlation      |\n",
      "+-----------------------------------------+-----------------------------------------+----------------------+\n",
      "|    euc_dist_decision_square_top_right   |       euc_dist_decision_square_5x5      |  0.9963776117897325  |\n",
      "|        euc_dist_cheese_top_right        |           euc_dist_cheese_5x5           |  0.9939143220608146  |\n",
      "| steps_between_decision_square_top_right |    steps_between_decision_square_5x5    |  0.9671919963323542  |\n",
      "|      steps_between_cheese_top_right     | steps_between_decision_square_top_right |  0.9276969344130044  |\n",
      "|    steps_between_decision_square_5x5    |       euc_dist_decision_square_5x5      |  0.9194929822686325  |\n",
      "|    euc_dist_decision_square_top_right   |    steps_between_decision_square_5x5    |  0.9172777157422948  |\n",
      "|    euc_dist_decision_square_top_right   | steps_between_decision_square_top_right |  0.9145693090155428  |\n",
      "| steps_between_decision_square_top_right |       euc_dist_decision_square_5x5      |  0.9116186938351697  |\n",
      "|      steps_between_cheese_top_right     |    steps_between_decision_square_5x5    |  0.9025023232545905  |\n",
      "|      steps_between_cheese_top_right     |       euc_dist_decision_square_5x5      |  0.8676098322257917  |\n",
      "|      steps_between_cheese_top_right     |    euc_dist_decision_square_top_right   |   0.86476544536503   |\n",
      "|         steps_between_cheese_5x5        |    steps_between_decision_square_5x5    |  0.7509045140412873  |\n",
      "|      steps_between_cheese_top_right     |         steps_between_cheese_5x5        |  0.745592514253701   |\n",
      "| steps_between_decision_square_top_right |         steps_between_cheese_5x5        |  0.7039990876558626  |\n",
      "|         steps_between_cheese_5x5        |       euc_dist_decision_square_5x5      |  0.6640121470326618  |\n",
      "|    euc_dist_decision_square_top_right   |         steps_between_cheese_5x5        |  0.6609547244823701  |\n",
      "|        euc_dist_cheese_top_right        |               cheese_coord              | -0.5343445709637389  |\n",
      "|           euc_dist_cheese_5x5           |               cheese_coord              | -0.45740104908478585 |\n",
      "|   steps_between_cheese_decision_square  |      steps_between_cheese_top_right     | 0.44053273957018213  |\n",
      "|     euc_dist_cheese_decision_square     |           euc_dist_cheese_5x5           | 0.33096026014498914  |\n",
      "|     euc_dist_cheese_decision_square     |   steps_between_cheese_decision_square  | 0.30719795810260203  |\n",
      "|   steps_between_cheese_decision_square  |         steps_between_cheese_5x5        |  0.2988442202476165  |\n",
      "|         steps_between_cheese_5x5        |           euc_dist_cheese_5x5           |  0.2950094893827821  |\n",
      "|        euc_dist_cheese_top_right        |         steps_between_cheese_5x5        | 0.28767694398352345  |\n",
      "|     euc_dist_cheese_decision_square     |        euc_dist_cheese_top_right        |  0.2868748062342157  |\n",
      "+-----------------------------------------+-----------------------------------------+----------------------+\n"
     ]
    }
   ],
   "source": [
    "# Get the top k absolute value correlations, ignoring diagonals\n",
    "k = 50\n",
    "len_diagonal = len(correlations)\n",
    "topk = np.argsort(np.abs(correlations).flatten())[-(k+len_diagonal):][::-1] # Diagonal will be 1, so just add in len_diagonal\n",
    "\n",
    "# Print the top k correlations in a pretty table\n",
    "table = prettytable.PrettyTable() \n",
    "table.field_names = [\"Metric 1\", \"Metric 2\", \"Correlation\"]\n",
    "for i in topk:\n",
    "    # Get the row and column of the correlation\n",
    "    row, col = i // len(correlations), i % len(correlations)\n",
    "    # Ignore the diagonal and the lower triangle\n",
    "    if row >= col:\n",
    "        continue\n",
    "    # Get the metric names\n",
    "    metric1, metric2 = list(filtered_rm.keys())[row], list(filtered_rm.keys())[col]\n",
    "    # Add the row to the table\n",
    "    table.add_row([metric1, metric2, correlations[row, col]])\n",
    "\n",
    "# Print the table TODO show floats to 3 decimal places\n",
    "print(table)"
   ]
  },
  {
   "cell_type": "code",
   "execution_count": 239,
   "id": "e51004a0",
   "metadata": {},
   "outputs": [],
   "source": [
    "def run_regression(attrs : List[str], data_frame : pd.DataFrame):\n",
    "    \"\"\" Runs a LASSO-regularized regression on the data using the given attributes. Returns the clf. \"\"\" \n",
    "    assert len(attrs) > 0, \"Must have at least one attribute to regress upon\"\n",
    "    # Ensure attrs is in data_frame\n",
    "    for attr in attrs:\n",
    "        assert attr in data_frame, f\"Attribute {attr} not in data frame\"\n",
    "    assert 'cheese' in data_frame, \"Attribute 'cheese' not in data frame\"\n",
    "    \n",
    "    x = data_frame[attributes] \n",
    "    y = np.ravel(data_frame[['cheese']])\n",
    "\n",
    "    clf = LogisticRegression(random_state=0, solver ='liblinear', penalty= 'l1').fit(x, y)\n",
    "    return clf\n",
    "\n",
    "def display_coeff_table(clf : Any, attrs : List[str]):\n",
    "    \"\"\" Displays the coefficients for each attribute, printing the label next to each coefficient. \"\"\" \n",
    "    assert len(attrs) > 0, \"Must have at least one attribute\"\n",
    "\n",
    "    # Print the coefficient for each attribute, printing the label next to each coefficient\n",
    "    table = prettytable.PrettyTable()\n",
    "    table.field_names = [\"Attribute\", \"Coefficient\"]\n",
    "    for i, attr in enumerate(attrs):\n",
    "        table.add_row([attr, clf.coef_[0][i]])\n",
    "\n",
    "    # Add a row for the intercept\n",
    "    table.add_row([\"Intercept\", clf.intercept_[0]])\n",
    "    print(table)"
   ]
  },
  {
   "cell_type": "code",
   "execution_count": 251,
   "id": "1f3f5156",
   "metadata": {},
   "outputs": [
    {
     "name": "stdout",
     "output_type": "stream",
     "text": [
      "+-----------------------------------------+-----------------------+\n",
      "|                Attribute                |      Coefficient      |\n",
      "+-----------------------------------------+-----------------------+\n",
      "|         steps_between_cheese_5x5        |  -0.13814137867809767 |\n",
      "|           euc_dist_cheese_5x5           |          0.0          |\n",
      "|    steps_between_decision_square_5x5    |  0.18260709829623137  |\n",
      "|       euc_dist_decision_square_5x5      |          0.0          |\n",
      "|      steps_between_cheese_top_right     |          0.0          |\n",
      "|        euc_dist_cheese_top_right        |  -3.3799921491461733  |\n",
      "| steps_between_decision_square_top_right |   0.2117419278630011  |\n",
      "|    euc_dist_decision_square_top_right   |   0.9785340788450809  |\n",
      "|   steps_between_cheese_decision_square  |  -0.4514162927863814  |\n",
      "|     euc_dist_cheese_decision_square     | -0.047013240610604336 |\n",
      "|                Intercept                |   -4.404078310324532  |\n",
      "+-----------------------------------------+-----------------------+\n",
      "The average score is  0.5964912280701749\n"
     ]
    }
   ],
   "source": [
    "keys = list(filtered_rm.keys())\n",
    "\n",
    "# Data will track the data for each run, and filtered_data will track the data for each run that got cheese\n",
    "data = { key: recorded_metrics[key] for key in keys }\n",
    "filtered_data = { key: filtered_rm[key] for key in keys }\n",
    "\n",
    "df = pd.DataFrame(data) \n",
    "filtered_df= pd.DataFrame(filtered_data) \n",
    "\n",
    "df= stats.zscore(df) # zscore standardizes the data by subtracting the mean and dividing by the standard deviation\n",
    "filtered_df= stats.zscore(filtered_df)\n",
    "\n",
    "# Now we want to add the cheese column to the dataframe\n",
    "df ['cheese'] = pd.DataFrame({'cheese': [(runs[i].got_cheese) for i in range(len(runs))]})\n",
    "filtered_df ['cheese'] = pd.DataFrame({'cheese': [(runs[i].got_cheese) for i in sp_indexes]})\n",
    "\n",
    "# Choose which keys to regress upon\n",
    "attributes = [\n",
    "    'steps_between_cheese_5x5', \n",
    "    'euc_dist_cheese_5x5',\n",
    "    'steps_between_decision_square_5x5',\n",
    "    'euc_dist_decision_square_5x5',\n",
    "    'steps_between_cheese_top_right',\n",
    "    'euc_dist_cheese_top_right',\n",
    "    'steps_between_decision_square_top_right',\n",
    "    'euc_dist_decision_square_top_right',\n",
    "    'steps_between_cheese_decision_square',\n",
    "    'euc_dist_cheese_decision_square',\n",
    "    # 'cheese_coord'\n",
    "    ] \n",
    "\n",
    "claimed_attributes = ['steps_between_cheese_decision_square', 'euc_dist_cheese_decision_square','euc_dist_cheese_top_right', 'euc_dist_decision_square_5x5']\n",
    "\n",
    "n_runs = 50\n",
    "total_score = 0\n",
    "\n",
    "# We reduce variance in the score by running the regression multiple times\n",
    "for x in range(n_runs): \n",
    "    train, test = train_test_split(filtered_df, test_size=0.2)\n",
    "\n",
    "    clf = run_regression(attributes, train)\n",
    "\n",
    "    x = test[attributes]\n",
    "    y = np.ravel(test[['cheese']])\n",
    "\n",
    "    total_score += clf.score(x, y)\n",
    "\n",
    "# Print the coefficient for each attribute, printing the label next to each coefficient (for the last run)\n",
    "display_coeff_table(clf, attributes)\n",
    "print(\"The average score is \", score_av/n_runs) # NOTE is this avg accuracy?\n",
    "\n",
    "regression_coeff_signs = { key: (clf.coef_[0][i] > 0) for i, key in enumerate(claimed_attributes) }"
   ]
  },
  {
   "cell_type": "code",
   "execution_count": 257,
   "id": "224e12a0",
   "metadata": {},
   "outputs": [
    {
     "name": "stdout",
     "output_type": "stream",
     "text": [
      "Attribute steps_between_cheese_decision_square has incorrect sign; expected False but got True\n",
      "Attribute steps_between_cheese_decision_square has incorrect sign; expected False but got True\n",
      "Attribute euc_dist_decision_square_5x5 has incorrect sign; expected False but got True\n",
      "Attribute euc_dist_cheese_top_right has incorrect sign; expected True but got False\n",
      "Attribute steps_between_cheese_decision_square has incorrect sign; expected False but got True\n",
      "Attribute euc_dist_decision_square_5x5 has incorrect sign; expected False but got True\n",
      "Attribute steps_between_cheese_decision_square has incorrect sign; expected False but got True\n",
      "Attribute euc_dist_decision_square_5x5 has incorrect sign; expected False but got True\n",
      "Attribute euc_dist_cheese_top_right has incorrect sign; expected True but got False\n",
      "Attribute steps_between_cheese_decision_square has incorrect sign; expected False but got True\n",
      "Attribute euc_dist_decision_square_5x5 has incorrect sign; expected False but got True\n",
      "Attribute steps_between_cheese_decision_square has incorrect sign; expected False but got True\n",
      "Attribute steps_between_cheese_decision_square has incorrect sign; expected False but got True\n",
      "Attribute euc_dist_decision_square_5x5 has incorrect sign; expected False but got True\n",
      "Attribute euc_dist_cheese_top_right has incorrect sign; expected True but got False\n",
      "Attribute euc_dist_decision_square_5x5 has incorrect sign; expected False but got True\n",
      "Attribute steps_between_cheese_decision_square has incorrect sign; expected False but got True\n",
      "Attribute euc_dist_decision_square_5x5 has incorrect sign; expected False but got True\n",
      "Attribute steps_between_cheese_decision_square has incorrect sign; expected False but got True\n",
      "Attribute euc_dist_decision_square_5x5 has incorrect sign; expected False but got True\n",
      "Attribute steps_between_cheese_decision_square has incorrect sign; expected False but got True\n",
      "Attribute euc_dist_decision_square_5x5 has incorrect sign; expected False but got True\n",
      "Attribute euc_dist_cheese_top_right has incorrect sign; expected True but got False\n",
      "Attribute euc_dist_cheese_decision_square has incorrect sign; expected False but got True\n",
      "Attribute steps_between_cheese_decision_square has incorrect sign; expected False but got True\n",
      "Attribute euc_dist_decision_square_5x5 has incorrect sign; expected False but got True\n",
      "Attribute euc_dist_decision_square_5x5 has incorrect sign; expected False but got True\n",
      "Attribute steps_between_cheese_decision_square has incorrect sign; expected False but got True\n",
      "Attribute euc_dist_decision_square_5x5 has incorrect sign; expected False but got True\n",
      "Attribute euc_dist_decision_square_5x5 has incorrect sign; expected False but got True\n",
      "Attribute steps_between_cheese_decision_square has incorrect sign; expected False but got True\n",
      "Attribute euc_dist_decision_square_5x5 has incorrect sign; expected False but got True\n",
      "Attribute steps_between_cheese_decision_square has incorrect sign; expected False but got True\n",
      "Attribute euc_dist_decision_square_5x5 has incorrect sign; expected False but got True\n",
      "Attribute steps_between_cheese_decision_square has incorrect sign; expected False but got True\n",
      "Attribute euc_dist_decision_square_5x5 has incorrect sign; expected False but got True\n",
      "Attribute steps_between_cheese_decision_square has incorrect sign; expected False but got True\n",
      "Attribute euc_dist_decision_square_5x5 has incorrect sign; expected False but got True\n",
      "Attribute euc_dist_cheese_top_right has incorrect sign; expected True but got False\n",
      "Attribute steps_between_cheese_decision_square has incorrect sign; expected False but got True\n",
      "Attribute euc_dist_decision_square_5x5 has incorrect sign; expected False but got True\n",
      "Attribute steps_between_cheese_decision_square has incorrect sign; expected False but got True\n",
      "Attribute euc_dist_decision_square_5x5 has incorrect sign; expected False but got True\n",
      "Attribute euc_dist_decision_square_5x5 has incorrect sign; expected False but got True\n",
      "Attribute steps_between_cheese_decision_square has incorrect sign; expected False but got True\n",
      "Attribute steps_between_cheese_decision_square has incorrect sign; expected False but got True\n",
      "Attribute euc_dist_decision_square_5x5 has incorrect sign; expected False but got True\n",
      "Attribute steps_between_cheese_decision_square has incorrect sign; expected False but got True\n",
      "Attribute euc_dist_cheese_decision_square has incorrect sign; expected False but got True\n",
      "Attribute steps_between_cheese_decision_square has incorrect sign; expected False but got True\n",
      "Attribute euc_dist_decision_square_5x5 has incorrect sign; expected False but got True\n",
      "Attribute steps_between_cheese_decision_square has incorrect sign; expected False but got True\n",
      "Attribute steps_between_cheese_decision_square has incorrect sign; expected False but got True\n",
      "Attribute euc_dist_decision_square_5x5 has incorrect sign; expected False but got True\n",
      "Attribute euc_dist_cheese_decision_square has incorrect sign; expected False but got True\n",
      "Attribute steps_between_cheese_decision_square has incorrect sign; expected False but got True\n",
      "Attribute euc_dist_decision_square_5x5 has incorrect sign; expected False but got True\n",
      "Attribute steps_between_cheese_decision_square has incorrect sign; expected False but got True\n",
      "Attribute steps_between_cheese_decision_square has incorrect sign; expected False but got True\n",
      "Attribute euc_dist_decision_square_5x5 has incorrect sign; expected False but got True\n",
      "Attribute euc_dist_decision_square_5x5 has incorrect sign; expected False but got True\n",
      "Attribute steps_between_cheese_decision_square has incorrect sign; expected False but got True\n",
      "Attribute euc_dist_decision_square_5x5 has incorrect sign; expected False but got True\n",
      "Attribute euc_dist_cheese_decision_square has incorrect sign; expected False but got True\n",
      "Attribute steps_between_cheese_decision_square has incorrect sign; expected False but got True\n",
      "Attribute euc_dist_decision_square_5x5 has incorrect sign; expected False but got True\n",
      "Attribute steps_between_cheese_decision_square has incorrect sign; expected False but got True\n",
      "Attribute euc_dist_decision_square_5x5 has incorrect sign; expected False but got True\n",
      "Attribute euc_dist_cheese_top_right has incorrect sign; expected True but got False\n",
      "Attribute steps_between_cheese_decision_square has incorrect sign; expected False but got True\n",
      "Attribute euc_dist_decision_square_5x5 has incorrect sign; expected False but got True\n",
      "Attribute steps_between_cheese_decision_square has incorrect sign; expected False but got True\n",
      "Attribute steps_between_cheese_decision_square has incorrect sign; expected False but got True\n",
      "Attribute euc_dist_decision_square_5x5 has incorrect sign; expected False but got True\n",
      "Attribute euc_dist_cheese_decision_square has incorrect sign; expected False but got True\n",
      "Attribute steps_between_cheese_decision_square has incorrect sign; expected False but got True\n",
      "Attribute euc_dist_decision_square_5x5 has incorrect sign; expected False but got True\n",
      "Attribute euc_dist_decision_square_5x5 has incorrect sign; expected False but got True\n",
      "Attribute steps_between_cheese_decision_square has incorrect sign; expected False but got True\n",
      "Attribute euc_dist_decision_square_5x5 has incorrect sign; expected False but got True\n",
      "Attribute steps_between_cheese_decision_square has incorrect sign; expected False but got True\n",
      "Attribute euc_dist_decision_square_5x5 has incorrect sign; expected False but got True\n",
      "Attribute steps_between_cheese_decision_square has incorrect sign; expected False but got True\n",
      "Attribute euc_dist_decision_square_5x5 has incorrect sign; expected False but got True\n",
      "Attribute euc_dist_cheese_decision_square has incorrect sign; expected False but got True\n",
      "Attribute steps_between_cheese_decision_square has incorrect sign; expected False but got True\n",
      "Attribute euc_dist_decision_square_5x5 has incorrect sign; expected False but got True\n",
      "Attribute euc_dist_decision_square_5x5 has incorrect sign; expected False but got True\n",
      "Attribute steps_between_cheese_decision_square has incorrect sign; expected False but got True\n",
      "Attribute steps_between_cheese_decision_square has incorrect sign; expected False but got True\n",
      "Attribute euc_dist_decision_square_5x5 has incorrect sign; expected False but got True\n",
      "Attribute steps_between_cheese_decision_square has incorrect sign; expected False but got True\n",
      "Attribute euc_dist_decision_square_5x5 has incorrect sign; expected False but got True\n",
      "Attribute euc_dist_decision_square_5x5 has incorrect sign; expected False but got True\n",
      "Attribute steps_between_cheese_decision_square has incorrect sign; expected False but got True\n",
      "Attribute euc_dist_decision_square_5x5 has incorrect sign; expected False but got True\n",
      "Attribute euc_dist_cheese_decision_square has incorrect sign; expected False but got True\n",
      "Attribute euc_dist_decision_square_5x5 has incorrect sign; expected False but got True\n",
      "Attribute steps_between_cheese_decision_square has incorrect sign; expected False but got True\n",
      "Attribute euc_dist_decision_square_5x5 has incorrect sign; expected False but got True\n",
      "Attribute euc_dist_cheese_top_right has incorrect sign; expected True but got False\n",
      "Attribute steps_between_cheese_decision_square has incorrect sign; expected False but got True\n",
      "Attribute euc_dist_cheese_decision_square has incorrect sign; expected False but got True\n",
      "Attribute steps_between_cheese_decision_square has incorrect sign; expected False but got True\n",
      "Attribute euc_dist_decision_square_5x5 has incorrect sign; expected False but got True\n",
      "Attribute steps_between_cheese_decision_square has incorrect sign; expected False but got True\n",
      "Attribute euc_dist_cheese_decision_square has incorrect sign; expected False but got True\n",
      "Attribute steps_between_cheese_decision_square has incorrect sign; expected False but got True\n",
      "Attribute euc_dist_decision_square_5x5 has incorrect sign; expected False but got True\n",
      "Attribute steps_between_cheese_decision_square has incorrect sign; expected False but got True\n",
      "Attribute euc_dist_decision_square_5x5 has incorrect sign; expected False but got True\n",
      "Attribute euc_dist_cheese_decision_square has incorrect sign; expected False but got True\n",
      "Attribute steps_between_cheese_decision_square has incorrect sign; expected False but got True\n",
      "Attribute euc_dist_decision_square_5x5 has incorrect sign; expected False but got True\n",
      "Attribute euc_dist_decision_square_5x5 has incorrect sign; expected False but got True\n",
      "Attribute steps_between_cheese_decision_square has incorrect sign; expected False but got True\n",
      "Attribute euc_dist_decision_square_5x5 has incorrect sign; expected False but got True\n",
      "Attribute euc_dist_cheese_decision_square has incorrect sign; expected False but got True\n",
      "Attribute euc_dist_decision_square_5x5 has incorrect sign; expected False but got True\n",
      "Attribute steps_between_cheese_decision_square has incorrect sign; expected False but got True\n",
      "Attribute euc_dist_decision_square_5x5 has incorrect sign; expected False but got True\n",
      "Attribute euc_dist_cheese_decision_square has incorrect sign; expected False but got True\n",
      "Attribute steps_between_cheese_decision_square has incorrect sign; expected False but got True\n",
      "Attribute euc_dist_decision_square_5x5 has incorrect sign; expected False but got True\n",
      "Attribute euc_dist_cheese_decision_square has incorrect sign; expected False but got True\n",
      "Attribute steps_between_cheese_decision_square has incorrect sign; expected False but got True\n",
      "Attribute euc_dist_decision_square_5x5 has incorrect sign; expected False but got True\n",
      "Attribute steps_between_cheese_decision_square has incorrect sign; expected False but got True\n",
      "Attribute steps_between_cheese_decision_square has incorrect sign; expected False but got True\n",
      "Attribute euc_dist_decision_square_5x5 has incorrect sign; expected False but got True\n",
      "Attribute euc_dist_cheese_decision_square has incorrect sign; expected False but got True\n",
      "Attribute euc_dist_decision_square_5x5 has incorrect sign; expected False but got True\n",
      "Attribute steps_between_cheese_decision_square has incorrect sign; expected False but got True\n",
      "Attribute euc_dist_decision_square_5x5 has incorrect sign; expected False but got True\n",
      "Attribute euc_dist_cheese_decision_square has incorrect sign; expected False but got True\n",
      "Attribute steps_between_cheese_decision_square has incorrect sign; expected False but got True\n",
      "Attribute euc_dist_decision_square_5x5 has incorrect sign; expected False but got True\n",
      "Attribute euc_dist_cheese_decision_square has incorrect sign; expected False but got True\n",
      "Attribute steps_between_cheese_decision_square has incorrect sign; expected False but got True\n",
      "Attribute steps_between_cheese_decision_square has incorrect sign; expected False but got True\n",
      "Attribute euc_dist_decision_square_5x5 has incorrect sign; expected False but got True\n",
      "Attribute euc_dist_decision_square_5x5 has incorrect sign; expected False but got True\n",
      "Attribute steps_between_cheese_decision_square has incorrect sign; expected False but got True\n",
      "Attribute euc_dist_decision_square_5x5 has incorrect sign; expected False but got True\n",
      "Attribute euc_dist_decision_square_5x5 has incorrect sign; expected False but got True\n",
      "Attribute steps_between_cheese_decision_square has incorrect sign; expected False but got True\n",
      "Attribute euc_dist_decision_square_5x5 has incorrect sign; expected False but got True\n",
      "Attribute steps_between_cheese_decision_square has incorrect sign; expected False but got True\n",
      "Attribute euc_dist_decision_square_5x5 has incorrect sign; expected False but got True\n",
      "Attribute steps_between_cheese_decision_square has incorrect sign; expected False but got True\n",
      "Attribute steps_between_cheese_decision_square has incorrect sign; expected False but got True\n",
      "Attribute euc_dist_decision_square_5x5 has incorrect sign; expected False but got True\n",
      "Attribute euc_dist_cheese_top_right has incorrect sign; expected True but got False\n",
      "Attribute steps_between_cheese_decision_square has incorrect sign; expected False but got True\n",
      "Attribute steps_between_cheese_decision_square has incorrect sign; expected False but got True\n",
      "Attribute euc_dist_decision_square_5x5 has incorrect sign; expected False but got True\n",
      "Attribute steps_between_cheese_decision_square has incorrect sign; expected False but got True\n",
      "Attribute euc_dist_decision_square_5x5 has incorrect sign; expected False but got True\n",
      "Attribute steps_between_cheese_decision_square has incorrect sign; expected False but got True\n",
      "Attribute euc_dist_decision_square_5x5 has incorrect sign; expected False but got True\n",
      "Attribute euc_dist_decision_square_5x5 has incorrect sign; expected False but got True\n",
      "Attribute steps_between_cheese_decision_square has incorrect sign; expected False but got True\n",
      "Attribute euc_dist_decision_square_5x5 has incorrect sign; expected False but got True\n",
      "Attribute euc_dist_cheese_top_right has incorrect sign; expected True but got False\n",
      "Attribute steps_between_cheese_decision_square has incorrect sign; expected False but got True\n",
      "Attribute steps_between_cheese_decision_square has incorrect sign; expected False but got True\n",
      "Attribute euc_dist_decision_square_5x5 has incorrect sign; expected False but got True\n",
      "Attribute steps_between_cheese_decision_square has incorrect sign; expected False but got True\n",
      "Attribute euc_dist_decision_square_5x5 has incorrect sign; expected False but got True\n",
      "Attribute steps_between_cheese_decision_square has incorrect sign; expected False but got True\n",
      "Attribute euc_dist_decision_square_5x5 has incorrect sign; expected False but got True\n",
      "Attribute euc_dist_decision_square_5x5 has incorrect sign; expected False but got True\n",
      "Attribute steps_between_cheese_decision_square has incorrect sign; expected False but got True\n",
      "Attribute steps_between_cheese_decision_square has incorrect sign; expected False but got True\n",
      "Attribute euc_dist_decision_square_5x5 has incorrect sign; expected False but got True\n",
      "Attribute steps_between_cheese_decision_square has incorrect sign; expected False but got True\n",
      "Attribute euc_dist_decision_square_5x5 has incorrect sign; expected False but got True\n",
      "Attribute steps_between_cheese_decision_square has incorrect sign; expected False but got True\n",
      "Attribute euc_dist_decision_square_5x5 has incorrect sign; expected False but got True\n",
      "Attribute steps_between_cheese_decision_square has incorrect sign; expected False but got True\n",
      "Attribute euc_dist_decision_square_5x5 has incorrect sign; expected False but got True\n",
      "Attribute euc_dist_cheese_decision_square has incorrect sign; expected False but got True\n",
      "Attribute steps_between_cheese_decision_square has incorrect sign; expected False but got True\n",
      "Attribute steps_between_cheese_decision_square has incorrect sign; expected False but got True\n",
      "Attribute euc_dist_decision_square_5x5 has incorrect sign; expected False but got True\n",
      "Attribute steps_between_cheese_decision_square has incorrect sign; expected False but got True\n",
      "Attribute euc_dist_decision_square_5x5 has incorrect sign; expected False but got True\n",
      "Attribute euc_dist_cheese_top_right has incorrect sign; expected True but got False\n",
      "Attribute steps_between_cheese_decision_square has incorrect sign; expected False but got True\n",
      "Attribute steps_between_cheese_decision_square has incorrect sign; expected False but got True\n",
      "Attribute euc_dist_decision_square_5x5 has incorrect sign; expected False but got True\n",
      "Attribute steps_between_cheese_decision_square has incorrect sign; expected False but got True\n",
      "Attribute steps_between_cheese_decision_square has incorrect sign; expected False but got True\n",
      "Attribute euc_dist_decision_square_5x5 has incorrect sign; expected False but got True\n",
      "Attribute euc_dist_cheese_decision_square has incorrect sign; expected False but got True\n",
      "Attribute steps_between_cheese_decision_square has incorrect sign; expected False but got True\n",
      "Attribute euc_dist_decision_square_5x5 has incorrect sign; expected False but got True\n",
      "Attribute steps_between_cheese_decision_square has incorrect sign; expected False but got True\n",
      "Attribute euc_dist_decision_square_5x5 has incorrect sign; expected False but got True\n",
      "Attribute steps_between_cheese_decision_square has incorrect sign; expected False but got True\n",
      "Attribute steps_between_cheese_decision_square has incorrect sign; expected False but got True\n",
      "Attribute euc_dist_decision_square_5x5 has incorrect sign; expected False but got True\n",
      "Attribute euc_dist_cheese_decision_square has incorrect sign; expected False but got True\n",
      "Attribute steps_between_cheese_decision_square has incorrect sign; expected False but got True\n",
      "Attribute euc_dist_decision_square_5x5 has incorrect sign; expected False but got True\n",
      "Attribute euc_dist_cheese_decision_square has incorrect sign; expected False but got True\n",
      "Attribute steps_between_cheese_decision_square has incorrect sign; expected False but got True\n",
      "Attribute euc_dist_decision_square_5x5 has incorrect sign; expected False but got True\n",
      "Attribute euc_dist_decision_square_5x5 has incorrect sign; expected False but got True\n",
      "Attribute steps_between_cheese_decision_square has incorrect sign; expected False but got True\n",
      "Attribute euc_dist_decision_square_5x5 has incorrect sign; expected False but got True\n",
      "Attribute euc_dist_cheese_decision_square has incorrect sign; expected False but got True\n",
      "Attribute steps_between_cheese_decision_square has incorrect sign; expected False but got True\n",
      "Attribute steps_between_cheese_decision_square has incorrect sign; expected False but got True\n",
      "Attribute euc_dist_decision_square_5x5 has incorrect sign; expected False but got True\n",
      "Attribute euc_dist_decision_square_5x5 has incorrect sign; expected False but got True\n",
      "Attribute euc_dist_cheese_decision_square has incorrect sign; expected False but got True\n",
      "Attribute steps_between_cheese_decision_square has incorrect sign; expected False but got True\n",
      "Attribute euc_dist_decision_square_5x5 has incorrect sign; expected False but got True\n",
      "Attribute steps_between_cheese_decision_square has incorrect sign; expected False but got True\n",
      "Attribute euc_dist_decision_square_5x5 has incorrect sign; expected False but got True\n",
      "Attribute steps_between_cheese_decision_square has incorrect sign; expected False but got True\n",
      "Attribute euc_dist_decision_square_5x5 has incorrect sign; expected False but got True\n",
      "Attribute euc_dist_cheese_decision_square has incorrect sign; expected False but got True\n",
      "Attribute steps_between_cheese_decision_square has incorrect sign; expected False but got True\n",
      "Attribute steps_between_cheese_decision_square has incorrect sign; expected False but got True\n",
      "Attribute euc_dist_decision_square_5x5 has incorrect sign; expected False but got True\n",
      "Attribute steps_between_cheese_decision_square has incorrect sign; expected False but got True\n",
      "Attribute steps_between_cheese_decision_square has incorrect sign; expected False but got True\n",
      "Attribute euc_dist_decision_square_5x5 has incorrect sign; expected False but got True\n",
      "Attribute steps_between_cheese_decision_square has incorrect sign; expected False but got True\n",
      "Attribute steps_between_cheese_decision_square has incorrect sign; expected False but got True\n",
      "Attribute euc_dist_decision_square_5x5 has incorrect sign; expected False but got True\n",
      "Attribute euc_dist_cheese_decision_square has incorrect sign; expected False but got True\n",
      "Attribute steps_between_cheese_decision_square has incorrect sign; expected False but got True\n",
      "Attribute euc_dist_decision_square_5x5 has incorrect sign; expected False but got True\n",
      "Attribute steps_between_cheese_decision_square has incorrect sign; expected False but got True\n",
      "Attribute euc_dist_decision_square_5x5 has incorrect sign; expected False but got True\n",
      "Attribute euc_dist_cheese_decision_square has incorrect sign; expected False but got True\n",
      "Attribute steps_between_cheese_decision_square has incorrect sign; expected False but got True\n",
      "Attribute euc_dist_decision_square_5x5 has incorrect sign; expected False but got True\n",
      "Attribute euc_dist_decision_square_5x5 has incorrect sign; expected False but got True\n",
      "Attribute steps_between_cheese_decision_square has incorrect sign; expected False but got True\n",
      "Attribute euc_dist_decision_square_5x5 has incorrect sign; expected False but got True\n",
      "Attribute steps_between_cheese_decision_square has incorrect sign; expected False but got True\n",
      "Attribute euc_dist_decision_square_5x5 has incorrect sign; expected False but got True\n",
      "Attribute euc_dist_decision_square_5x5 has incorrect sign; expected False but got True\n",
      "Attribute steps_between_cheese_decision_square has incorrect sign; expected False but got True\n",
      "Attribute steps_between_cheese_decision_square has incorrect sign; expected False but got True\n",
      "Attribute euc_dist_decision_square_5x5 has incorrect sign; expected False but got True\n",
      "Attribute steps_between_cheese_decision_square has incorrect sign; expected False but got True\n",
      "Attribute euc_dist_decision_square_5x5 has incorrect sign; expected False but got True\n",
      "Attribute steps_between_cheese_decision_square has incorrect sign; expected False but got True\n",
      "Attribute euc_dist_decision_square_5x5 has incorrect sign; expected False but got True\n",
      "Attribute euc_dist_cheese_decision_square has incorrect sign; expected False but got True\n",
      "Attribute steps_between_cheese_decision_square has incorrect sign; expected False but got True\n",
      "Attribute euc_dist_decision_square_5x5 has incorrect sign; expected False but got True\n",
      "Attribute euc_dist_cheese_decision_square has incorrect sign; expected False but got True\n",
      "Attribute steps_between_cheese_decision_square has incorrect sign; expected False but got True\n",
      "Attribute euc_dist_decision_square_5x5 has incorrect sign; expected False but got True\n",
      "Attribute euc_dist_cheese_decision_square has incorrect sign; expected False but got True\n",
      "Attribute steps_between_cheese_decision_square has incorrect sign; expected False but got True\n",
      "Attribute euc_dist_decision_square_5x5 has incorrect sign; expected False but got True\n",
      "Attribute steps_between_cheese_decision_square has incorrect sign; expected False but got True\n",
      "Attribute steps_between_cheese_decision_square has incorrect sign; expected False but got True\n",
      "Attribute euc_dist_decision_square_5x5 has incorrect sign; expected False but got True\n",
      "Attribute steps_between_cheese_decision_square has incorrect sign; expected False but got True\n",
      "Attribute euc_dist_decision_square_5x5 has incorrect sign; expected False but got True\n",
      "Attribute euc_dist_cheese_decision_square has incorrect sign; expected False but got True\n",
      "Attribute steps_between_cheese_decision_square has incorrect sign; expected False but got True\n",
      "Attribute euc_dist_decision_square_5x5 has incorrect sign; expected False but got True\n",
      "Attribute steps_between_cheese_decision_square has incorrect sign; expected False but got True\n",
      "Attribute steps_between_cheese_decision_square has incorrect sign; expected False but got True\n",
      "Attribute euc_dist_decision_square_5x5 has incorrect sign; expected False but got True\n",
      "Attribute euc_dist_cheese_decision_square has incorrect sign; expected False but got True\n",
      "Attribute steps_between_cheese_decision_square has incorrect sign; expected False but got True\n",
      "Attribute steps_between_cheese_decision_square has incorrect sign; expected False but got True\n",
      "Attribute euc_dist_decision_square_5x5 has incorrect sign; expected False but got True\n",
      "Attribute euc_dist_cheese_decision_square has incorrect sign; expected False but got True\n",
      "Attribute steps_between_cheese_decision_square has incorrect sign; expected False but got True\n",
      "Attribute steps_between_cheese_decision_square has incorrect sign; expected False but got True\n",
      "Attribute euc_dist_decision_square_5x5 has incorrect sign; expected False but got True\n",
      "Attribute euc_dist_cheese_decision_square has incorrect sign; expected False but got True\n",
      "Attribute steps_between_cheese_decision_square has incorrect sign; expected False but got True\n",
      "Attribute euc_dist_decision_square_5x5 has incorrect sign; expected False but got True\n",
      "Attribute steps_between_cheese_decision_square has incorrect sign; expected False but got True\n",
      "Attribute euc_dist_decision_square_5x5 has incorrect sign; expected False but got True\n",
      "Attribute steps_between_cheese_decision_square has incorrect sign; expected False but got True\n",
      "Attribute euc_dist_decision_square_5x5 has incorrect sign; expected False but got True\n",
      "Attribute steps_between_cheese_decision_square has incorrect sign; expected False but got True\n",
      "Attribute euc_dist_decision_square_5x5 has incorrect sign; expected False but got True\n",
      "Attribute steps_between_cheese_decision_square has incorrect sign; expected False but got True\n",
      "Attribute euc_dist_cheese_decision_square has incorrect sign; expected False but got True\n",
      "Attribute steps_between_cheese_decision_square has incorrect sign; expected False but got True\n",
      "Attribute euc_dist_decision_square_5x5 has incorrect sign; expected False but got True\n",
      "Attribute steps_between_cheese_decision_square has incorrect sign; expected False but got True\n",
      "Attribute euc_dist_decision_square_5x5 has incorrect sign; expected False but got True\n",
      "Attribute euc_dist_cheese_top_right has incorrect sign; expected True but got False\n",
      "Attribute steps_between_cheese_decision_square has incorrect sign; expected False but got True\n",
      "Attribute steps_between_cheese_decision_square has incorrect sign; expected False but got True\n",
      "Attribute euc_dist_decision_square_5x5 has incorrect sign; expected False but got True\n",
      "Attribute steps_between_cheese_decision_square has incorrect sign; expected False but got True\n",
      "Attribute steps_between_cheese_decision_square has incorrect sign; expected False but got True\n",
      "Attribute euc_dist_decision_square_5x5 has incorrect sign; expected False but got True\n",
      "Attribute euc_dist_decision_square_5x5 has incorrect sign; expected False but got True\n",
      "Attribute steps_between_cheese_decision_square has incorrect sign; expected False but got True\n",
      "Attribute euc_dist_decision_square_5x5 has incorrect sign; expected False but got True\n",
      "defaultdict(<class 'int'>, {'steps_between_cheese_decision_square': 1.370000000000001, 'euc_dist_decision_square_5x5': 1.260000000000001, 'euc_dist_cheese_top_right': 0.10999999999999999, 'euc_dist_cheese_decision_square': 0.3300000000000001})\n"
     ]
    }
   ],
   "source": [
    "# Let's see how robust the signs are to regressing upon a random subset of attributes\n",
    "def run_subset_regression(data_frame : pd.DataFrame, n_attrs : int, show_table : bool = False) -> Tuple[Any, List[str]]:\n",
    "    \"\"\" Runs a regression on the data frame using a random subset of n_attrs attributes. Returns the clf and the attributes used. \"\"\"\n",
    "    attrs = random.sample(list(filtered_rm.keys())[:-1], n_attrs)\n",
    "    attrs += claimed_attributes\n",
    "    clf = run_regression(attrs, train)\n",
    "    if show_table: display_coeff_table(clf, attrs)\n",
    "\n",
    "    return clf, attrs\n",
    "\n",
    "def check_claimed_signs(clf : Any, attrs : List[str], data_frame : pd.DataFrame, show_table : bool = False) -> Dict[str, int]:\n",
    "    \"\"\" Checks if the signs of the regression coefficients for the given attributes match regression_coeff_signs. Returns a dictionary which counts the number of times each attribute had the wrong sign. \"\"\"\n",
    "    counters = defaultdict(int)\n",
    "    for i, attr in enumerate(attrs):\n",
    "        if attr not in regression_coeff_signs.keys(): continue\n",
    "        assert attr in data_frame, f\"Attribute {attr} not in data frame\"\n",
    "        if (clf.coef_[0][i] >= 0) != regression_coeff_signs[attr]:\n",
    "            print(f\"Attribute {attr} has incorrect sign; expected {regression_coeff_signs[attr]} but got {clf.coef_[0][i] >= 0}\")\n",
    "            if show_table: display_coeff_table(clf, attrs)\n",
    "            counters[attr] += 1\n",
    "            # Return the attribute that had the incorrect sign\n",
    "    return counters\n",
    "\n",
    "# Run the regression multiple times and check the signs\n",
    "# See distribution of sign errors over multiple runs\n",
    "counter = defaultdict(int)\n",
    "n_rand_runs = 100 # TODO check what this means\n",
    "for x in range(n_rand_runs):\n",
    "    clf, attrs = run_subset_regression(train, 4)\n",
    "    new_counter = check_claimed_signs(clf, attrs, train, show_table=True)\n",
    "\n",
    "    for key in new_counter.keys():\n",
    "        counter[key] += new_counter[key] / n_rand_runs\n",
    "print(counter)"
   ]
  },
  {
   "cell_type": "code",
   "execution_count": 249,
   "id": "8ba3bf95",
   "metadata": {},
   "outputs": [
    {
     "name": "stdout",
     "output_type": "stream",
     "text": [
      "\n",
      "VIF for some attributes\n",
      "                                  Features         VIF\n",
      "0                 steps_between_cheese_5x5   11.311420\n",
      "1                      euc_dist_cheese_5x5  115.724308\n",
      "2        steps_between_decision_square_5x5   27.783474\n",
      "3             euc_dist_decision_square_5x5  110.207179\n",
      "4           steps_between_cheese_top_right         inf\n",
      "5                euc_dist_cheese_top_right  114.382215\n",
      "6  steps_between_decision_square_top_right         inf\n",
      "7       euc_dist_decision_square_top_right  106.792507\n",
      "8     steps_between_cheese_decision_square         inf\n",
      "9          euc_dist_cheese_decision_square    4.942266\n",
      "\n",
      "VIF for all attributes\n",
      "                                   Features         VIF\n",
      "0           euc_dist_cheese_decision_square    5.007505\n",
      "1      steps_between_cheese_decision_square         inf\n",
      "2            steps_between_cheese_top_right         inf\n",
      "3                 euc_dist_cheese_top_right  167.585939\n",
      "4        euc_dist_decision_square_top_right  107.593205\n",
      "5   steps_between_decision_square_top_right         inf\n",
      "6                  steps_between_cheese_5x5   11.321082\n",
      "7         steps_between_decision_square_5x5   27.922433\n",
      "8                       euc_dist_cheese_5x5  155.386515\n",
      "9              euc_dist_decision_square_5x5  111.485510\n",
      "10                             cheese_coord    2.422997\n"
     ]
    }
   ],
   "source": [
    "# Let's compute VIF (variance inflation factor) for each attribute\n",
    "# This is a measure of how much the variance of the coefficient is inflated due to multicollinearity\n",
    "from statsmodels.stats.outliers_influence import variance_inflation_factor\n",
    "\n",
    "# Ignore runtime warnings due to division by 0 from R2=1\n",
    "import warnings\n",
    "warnings.filterwarnings(\"ignore\")\n",
    "\n",
    "for attrs in [claimed_attributes, filtered_rm.keys()]:\n",
    "    print()\n",
    "    print(\"VIF for some attributes\" if attrs == attributes else \"VIF for all attributes\")\n",
    "    vif = pd.DataFrame()\n",
    "    vif[\"Features\"] = df[attrs].columns\n",
    "    vif[\"VIF\"] = [variance_inflation_factor(df[attrs].values, i) for i in range(df[attrs].shape[1])]\n",
    "\n",
    "    print(vif)"
   ]
  }
 ],
 "metadata": {
  "kernelspec": {
   "display_name": "MATS",
   "language": "python",
   "name": "python3"
  },
  "language_info": {
   "codemirror_mode": {
    "name": "ipython",
    "version": 3
   },
   "file_extension": ".py",
   "mimetype": "text/x-python",
   "name": "python",
   "nbconvert_exporter": "python",
   "pygments_lexer": "ipython3",
   "version": "3.10.9"
  },
  "vscode": {
   "interpreter": {
    "hash": "4c77f2f46953a93e2cdf30c808e94602375d16ad6294e549473c1f301bc8b554"
   }
  }
 },
 "nbformat": 4,
 "nbformat_minor": 5
}
