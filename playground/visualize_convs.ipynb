{
 "cells": [
  {
   "attachments": {},
   "cell_type": "markdown",
   "metadata": {},
   "source": [
    "# Visualizing details of the goal misgeneralization nets\n",
    "Let's understand lots of details about [the goal misgeneralization paper](https://arxiv.org/abs/2105.14111). In particular, we'll be looking at the cheese-maze task from the goal misgeneralization task, for which cheese was spawned in the 5x5 top-right corner of the maze. \n",
    "\n",
    "Key conclusions:\n",
    "1. Convolutional layers limit speed of information propagation (_locality_). More precisely, ignoring the effect of `maxpool2D` layers, any portions of the state separated by `n` pixels take at least `n/2` convolutional layers to interact.\n",
    "2. In the maximal maze size of 64 x 64, there is at most **two** steps of computation involving information from e.g. opposite corners of the maze. "
   ]
  },
  {
   "cell_type": "code",
   "execution_count": 42,
   "metadata": {},
   "outputs": [],
   "source": [
    "# %% Don't have to restart kernel and reimport each time you modify a dependency\n",
    "%reload_ext autoreload\n",
    "%autoreload 2\n",
    "\n",
    "# %%\n",
    "# Imports\n",
    "from typing import List, Tuple, Dict, Union, Optional, Callable\n",
    "import re \n",
    "\n",
    "import numpy as np\n",
    "import pandas as pd\n",
    "import torch as t\n",
    "import plotly.express as px\n",
    "import plotly as py\n",
    "import plotly.graph_objects as go\n",
    "from tqdm import tqdm\n",
    "from einops import rearrange\n",
    "from IPython.display import Video, display, clear_output, IFrame\n",
    "from ipywidgets import *\n",
    "import itertools\n",
    "from moviepy.video.io.ImageSequenceClip import ImageSequenceClip\n",
    "import matplotlib.pyplot as plt\n",
    "\n",
    "import circrl.module_hook as cmh\n",
    "import procgen_tools.models as models\n",
    "from experiments.patch_utils import *\n",
    "\n",
    "from procgen import ProcgenGym3Env\n",
    "\n",
    "RAND_REGION = 5\n",
    "NUM_ACTIONS = 15\n",
    "try:\n",
    "    get_ipython()\n",
    "    in_jupyter = True\n",
    "except NameError:\n",
    "    in_jupyter = False\n",
    "PATH_PREFIX = '../' if in_jupyter else ''\n",
    "\n",
    "# %%\n",
    "# Load model\n",
    "model_path = PATH_PREFIX + f'trained_models/maze_I/model_rand_region_{RAND_REGION}.pth'\n",
    "policy = models.load_policy(model_path, NUM_ACTIONS, t.device('cpu'))\n",
    "hook = cmh.ModuleHook(policy)"
   ]
  },
  {
   "cell_type": "code",
   "execution_count": 43,
   "metadata": {},
   "outputs": [],
   "source": [
    "# There's a bug in hiddenlayer atm\n",
    "# import hiddenlayer as hl\n",
    "# model = models.InterpretableImpalaModel(in_channels=3)\n",
    "# hl.build_graph(model, t.zeros((1,3, 64, 64), dtype=t.float32))\n",
    "\n",
    "from torchviz import make_dot\n",
    "model = models.InterpretableImpalaModel(in_channels=3)\n",
    "yhat = model(t.zeros((1,3, 64, 64), dtype=t.float32))\n",
    "dot = make_dot(yhat, params=dict(list(model.named_parameters()))).render('model_graph', format='png') \n",
    "\n",
    "dot = make_dot(yhat, params=dict(list(model.named_parameters())))\n",
    "# Load and imshow the png\n",
    "from IPython.display import Image\n",
    "# display(Image('model_graph.png'))\n",
    "\n",
    "# Delete the files \n",
    "import os\n",
    "os.remove('model_graph.png')\n",
    "os.remove('model_graph')"
   ]
  },
  {
   "cell_type": "code",
   "execution_count": 44,
   "metadata": {},
   "outputs": [],
   "source": [
    "# # Now use torchview\n",
    "# from torchview import draw_graph\n",
    "\n",
    "# # device='meta' -> no memory is consumed for visualization\n",
    "# model_graph = draw_graph(model, input_size=(1,3, 64, 64), device='meta')\n",
    "# model_graph.visual_graph"
   ]
  },
  {
   "cell_type": "code",
   "execution_count": 45,
   "metadata": {},
   "outputs": [
    {
     "data": {
      "text/plain": [
       "<matplotlib.image.AxesImage at 0x7f84ccb540d0>"
      ]
     },
     "execution_count": 45,
     "metadata": {},
     "output_type": "execute_result"
    },
    {
     "data": {
      "image/png": "[encoded data removed]",
      "text/plain": [
       "<Figure size 640x480 with 1 Axes>"
      ]
     },
     "metadata": {},
     "output_type": "display_data"
    }
   ],
   "source": [
    "def dummy_obs_pair(color: str, location: Tuple[int, int]=(32,32)):\n",
    "    \"\"\" Returns a mostly-black image containing a red/green/blue pixel in the center. Returns shape (2, 3, 64, 64). \"\"\"\n",
    "    \n",
    "    assert color in ['R', 'G', 'B'], f'Color must be one of R, G, B, not {color}'\n",
    "    assert len(location) == 2, 'Location must be a tuple of length 2'\n",
    "    assert all(0 <= col < 64 for col in location), 'Location must be in [0, 64)'\n",
    "\n",
    "    channel = {'R': 0, 'G': 1, 'B': 2}[color]\n",
    "    obs = np.zeros((2, 3, 64, 64), dtype=np.float32)\n",
    "    obs[0, channel, location[0], location[1]] = 1 # Have one pixel in the middle, in the given channel\n",
    "    return obs\n",
    "    \n",
    "# Let's load a dummy observation with only one nonzero value\n",
    "plt.imshow(dummy_obs_pair(\"G\")[0].transpose(1,2,0))"
   ]
  },
  {
   "cell_type": "code",
   "execution_count": 46,
   "metadata": {},
   "outputs": [
    {
     "name": "stdout",
     "output_type": "stream",
     "text": [
      "['embedder.block1.conv_in0', 'embedder.block1.conv_out', 'embedder.block1.maxpool_out', 'embedder.block1.res1.relu1_out', 'embedder.block1.res1.conv1_out', 'embedder.block1.res1.relu2_out', 'embedder.block1.res1.conv2_out', 'embedder.block1.res1.resadd_out', 'embedder.block1.res2.relu1_out', 'embedder.block1.res2.conv1_out', 'embedder.block1.res2.relu2_out', 'embedder.block1.res2.conv2_out', 'embedder.block1.res2.resadd_out', 'embedder.block2.conv_out', 'embedder.block2.maxpool_out', 'embedder.block2.res1.relu1_out', 'embedder.block2.res1.conv1_out', 'embedder.block2.res1.relu2_out', 'embedder.block2.res1.conv2_out', 'embedder.block2.res1.resadd_out', 'embedder.block2.res2.relu1_out', 'embedder.block2.res2.conv1_out', 'embedder.block2.res2.relu2_out', 'embedder.block2.res2.conv2_out', 'embedder.block2.res2.resadd_out', 'embedder.block3.conv_out', 'embedder.block3.maxpool_out', 'embedder.block3.res1.relu1_out', 'embedder.block3.res1.conv1_out', 'embedder.block3.res1.relu2_out', 'embedder.block3.res1.conv2_out', 'embedder.block3.res1.resadd_out', 'embedder.block3.res2.relu1_out', 'embedder.block3.res2.conv1_out', 'embedder.block3.res2.relu2_out', 'embedder.block3.res2.conv2_out', 'embedder.block3.res2.resadd_out', 'embedder.relu3_out', 'embedder.flatten_out', 'embedder.fc_out', 'embedder.relufc_out', 'fc_policy_out', 'fc_value_out']\n"
     ]
    }
   ],
   "source": [
    "# Get the available labels\n",
    "hook.probe_with_input(dummy_obs_pair('R'))\n",
    "labels = list(hook.values_by_label.keys())[:-1] # Skip the \"_out\" layer\n",
    "print(labels)"
   ]
  },
  {
   "cell_type": "code",
   "execution_count": 47,
   "metadata": {},
   "outputs": [],
   "source": [
    "# Let's visualize the activations at each layer using plotly, using an interactive interface that lets us slide the R/G/B pixel around\n",
    "import plotly.graph_objects as go\n",
    "from plotly.subplots import make_subplots\n",
    "import plotly.express as px\n",
    "\n",
    "def get_activations(label: str, obs: np.ndarray):\n",
    "    hook.probe_with_input(obs) # Run the model with the given obs\n",
    "    return hook.get_value_by_label(label) # Shape is (b, c, h, w) at conv layers, (b, activations) at linear layers\n",
    "\n",
    "def activation_diff(label: str, obs: np.ndarray):\n",
    "    assert obs.shape[0] == 2 # Must be a pair of observations\n",
    "    \n",
    "    activations = get_activations(label, obs)\n",
    "    return activations[0] - activations[1] # Subtract in order to cancel out bias terms which don't behave differently in the presence of the differing inputs \n",
    "\n",
    "def plot_activations(activations: np.ndarray, fig: go.FigureWidget):\n",
    "    \"\"\" Plot the activations of a given channel at a given layer, given a single (non-batched) activation tensor. \"\"\"\n",
    "    fig.update(data=[go.Heatmap(z=activations[channel])])"
   ]
  },
  {
   "cell_type": "code",
   "execution_count": 48,
   "metadata": {},
   "outputs": [],
   "source": [
    "# Now let's turn the above into a class. We want to be able to call the plotter with a single function call, and have it update the plot automatically.\n",
    "class ActivationsPlotter:\n",
    "    def __init__(self, labels: List[str], plotter: Callable, activ_gen: Callable, hook, coords_enabled: bool=False, **act_kwargs):\n",
    "        \"\"\"\n",
    "        labels: The labels of the layers to plot\n",
    "        plotter: A function that takes a label, channel, and activations and plots them\n",
    "        activ_gen: A function that takes a label and obs and returns the activations at that layer\n",
    "        hook: The hook that contains the activations\n",
    "        coords_enabled: Whether to enable the row and column sliders\n",
    "        act_kwargs: Keyword arguments to pass to the activations generator\n",
    "        \"\"\"\n",
    "        self.fig = go.FigureWidget()\n",
    "\n",
    "        self.plotter = plotter\n",
    "        self.activ_gen = activ_gen\n",
    "        self.act_kwargs = act_kwargs\n",
    "        self.hook = hook\n",
    "\n",
    "        self.label_widget = Dropdown(options=labels, value=labels[0], description=\"Activations\")\n",
    "        self.channel_slider = IntSlider(min=0, max=127, step=1, value=0, description=\"Channel\")\n",
    "        self.widgets = [self.fig, self.label_widget, self.channel_slider]\n",
    "\n",
    "        self.coords_enabled = coords_enabled\n",
    "        if coords_enabled:\n",
    "            self.col_slider, self.row_slider = (IntSlider(min=0, max=62, step=1, value=32, description=\"Column\"), IntSlider(min=0, max=63, step=1, value=32, description=\"Row\"))\n",
    "            self.widgets.extend([self.col_slider, self.row_slider])\n",
    "\n",
    "        self.filename_widget = Text(value=\"\", placeholder=\"Custom filename\", disabled=False)\n",
    "        self.filename_widget.layout.width = '150px'\n",
    "\n",
    "        self.button = Button(description=\"Save image\")\n",
    "        self.button.on_click(self.save_image)\n",
    "        self.widgets.append(HBox([self.filename_widget, self.button]))\n",
    "\n",
    "        for widget in self.widgets:\n",
    "            if widget != self.fig:\n",
    "                widget.observe(self.update_plotter, names='value')\n",
    "        self.update_plotter()\n",
    "\n",
    "    def display(self):\n",
    "        display(self.fig)\n",
    "        # Show a VBox of the label dropdown and the sliders, centered beneath the plot\n",
    "        display(VBox(self.widgets[1:-1]))\n",
    "        display(self.widgets[-1])\n",
    "\n",
    "    def save_image(self, b): # Add a save button to save the image\n",
    "        basename = self.filename_widget.value if self.filename_widget.value != \"\" else f\"{self.label_widget.value}_{self.channel_slider.value}{f'_{self.col_slider.value}_{self.row_slider.value}' if self.coords_enabled else ''}\"\n",
    "        filepath = f\"{PATH_PREFIX}playground/visualizations/{basename}.png\"\n",
    "\n",
    "        self.fig.write_image(filepath)\n",
    "        print(f\"Saved image to {filepath}\")\n",
    "        \n",
    "        self.filename_widget.value = \"\" # Clear the filename_widget box\n",
    "\n",
    "    def update_plotter(self, b=None):\n",
    "        \"\"\" Update the plot with the current values of the widgets. \"\"\"\n",
    "        label, channel = self.label_widget.value, self.channel_slider.value\n",
    "        if self.coords_enabled:\n",
    "            col, row = self.col_slider.value, self.row_slider.value\n",
    "            activations = self.activ_gen(label, row, col, **self.act_kwargs)\n",
    "        else:\n",
    "            activations = self.activ_gen(label, **self.act_kwargs)\n",
    "\n",
    "        shap = self.hook.get_value_by_label(label).shape\n",
    "        self.channel_slider.max = shap[1] - 1 if len(shap) > 2 else 0\n",
    "        self.channel_slider.value = min(channel, self.channel_slider.max)\n",
    "        self.fig.update_layout(height=500, width=500, title_text=label)\n",
    "\n",
    "        if len(activations.shape) == 1: # Linear layer\n",
    "            # Unsqueeze the np.ndarray\n",
    "            activations = np.expand_dims(activations, axis=(0,1))\n",
    "            # If there's only a single channel, display a 1D Heatmap, with a single rowvalue and the activation indices as the col values TODO remove columns\n",
    "            new_data = go.Heatmap(y=activations[channel], x=np.arange(activations.shape[2]))\n",
    "        else: \n",
    "            assert channel < activations.shape[0], \"Channel doesn't exist at this layer\"\n",
    "            new_data = go.Heatmap(z=activations[channel])\n",
    "\n",
    "        self.fig.update_layout(height=500, width=500, title_text=label)\n",
    "        if label == 'fc_policy_out':\n",
    "            # Transform each index into the corresponding action label, according to maze.py \n",
    "            self.fig.update_xaxes(ticktext=[models.human_readable_action(i).title() for i in range(NUM_ACTIONS)], tickvals=np.arange(activations.shape[2]))\n",
    "        else: # Reset the indices so that there are no xticks\n",
    "            self.fig.update_xaxes(ticktext=[], tickvals=[])\n",
    "\n",
    "        self.fig.update_xaxes(side=\"top\") # Set the x ticks to the top\n",
    "        self.fig.update_yaxes(autorange=\"reversed\") # Reverse the row-axis autorange\n",
    "        \n",
    "        self.plotter(activations=activations, fig=self.fig) # Plot the activations\n",
    "\n",
    "        # Set the min and max to be the min and max of all channels at this label\n",
    "        bounds = np.abs(activations).max()\n",
    "        self.fig.update_traces(zmin=-1 * bounds, zmid=0, zmax=bounds)    \n",
    "        \n",
    "        # Change the colorscale to split red (negative) -- white (zero) -- blue (positive)\n",
    "        self.fig.update_traces(colorscale='RdBu')"
   ]
  },
  {
   "cell_type": "code",
   "execution_count": 50,
   "metadata": {},
   "outputs": [],
   "source": [
    "def activ_gen_px(col: int, row: int, label: str, color: str):\n",
    "    \"\"\" Get the activations for running a forward pass on a dummy observation, in the given color. \"\"\"\n",
    "    return get_activations(label, dummy_obs_pair(color, (row, col)))[0]\n",
    "\n",
    "# Instantiate the plotter\n",
    "activ_plotter = ActivationsPlotter(labels, plot_activations, activ_gen_px, hook, coords_enabled=True, color=\"R\")\n",
    "activ_plotter.display()"
   ]
  },
  {
   "cell_type": "code",
   "execution_count": null,
   "metadata": {},
   "outputs": [
    {
     "data": {
      "application/vnd.jupyter.widget-view+json": {
       "model_id": "f5c97bcc3bbb463ba9f94355517e3c10",
       "version_major": 2,
       "version_minor": 0
      },
      "text/plain": [
       "FigureWidget({\n",
       "    'data': [{'colorscale': [[0.0, 'rgb(103,0,31)'], [0.1, 'rgb(178,24,43)'],\n",
       "                             [0.2, 'rgb(214,96,77)'], [0.3, 'rgb(244,165,130)'],\n",
       "                             [0.4, 'rgb(253,219,199)'], [0.5, 'rgb(247,247,247)'],\n",
       "                             [0.6, 'rgb(209,229,240)'], [0.7, 'rgb(146,197,222)'],\n",
       "                             [0.8, 'rgb(67,147,195)'], [0.9, 'rgb(33,102,172)'],\n",
       "                             [1.0, 'rgb(5,48,97)']],\n",
       "              'type': 'heatmap',\n",
       "              'uid': '1c9ffa39-6bb2-4d8d-99b8-02ac5e16b2f0',\n",
       "              'z': array([[False, False, False, ..., False, False, False],\n",
       "                          [False, False, False, ..., False, False, False],\n",
       "                          [False, False, False, ..., False, False, False],\n",
       "                          ...,\n",
       "                          [False, False, False, ..., False, False, False],\n",
       "                          [False, False, False, ..., False, False, False],\n",
       "                          [False, False, False, ..., False, False, False]], dtype=object),\n",
       "              'zmax': 1.0,\n",
       "              'zmid': 0,\n",
       "              'zmin': -1.0}],\n",
       "    'layout': {'height': 500,\n",
       "               'template': '...',\n",
       "               'title': {'text': 'embedder.block1.conv_in0 (Channel 0)'},\n",
       "               'width': 500,\n",
       "               'xaxis': {'side': 'top'},\n",
       "               'yaxis': {'autorange': 'reversed'}}\n",
       "})"
      ]
     },
     "metadata": {},
     "output_type": "display_data"
    },
    {
     "data": {
      "application/vnd.jupyter.widget-view+json": {
       "model_id": "ad2e717016ca488487ecacc87a15e5f4",
       "version_major": 2,
       "version_minor": 0
      },
      "text/plain": [
       "VBox(children=(Dropdown(description='Activations', options=('embedder.block1.conv_in0', 'embedder.block1.conv_…"
      ]
     },
     "metadata": {},
     "output_type": "display_data"
    },
    {
     "data": {
      "application/vnd.jupyter.widget-view+json": {
       "model_id": "aa95ac64f5a04ca5831f9f1311811349",
       "version_major": 2,
       "version_minor": 0
      },
      "text/plain": [
       "HBox(children=(Text(value='', layout=Layout(width='150px'), placeholder='Custom filename'), Button(description…"
      ]
     },
     "metadata": {},
     "output_type": "display_data"
    }
   ],
   "source": [
    "# Let's plot the nonzero activations \n",
    "def plot_nonzero_activations(label: str, channel: int, activations: np.ndarray, fig: go.FigureWidget):\n",
    "    \"\"\" Plot the nonzero activations in a heatmap. \"\"\"\n",
    "    # Update layout\n",
    "    fig.update_layout(height=500, width=500, title_text=f\"{label} (Channel {channel})\")\n",
    "\n",
    "    # Update axes\n",
    "    fig.update_xaxes(side=\"top\") # Set the x ticks to the top\n",
    "    fig.update_yaxes(autorange=\"reversed\") # Reverse the row-axis autorange\n",
    "\n",
    "    # Update data\n",
    "    fig.update(data=[go.Heatmap(z=activations[channel]!=0)])\n",
    "\n",
    "    # Set the min and max to be the min and max of all channels at this label\n",
    "    bounds = np.abs(activations).max()\n",
    "    fig.update_traces(zmin=-1 * bounds, zmid=0, zmax=bounds)    \n",
    "    \n",
    "    # Change the colorscale to split red (negative) -- white (zero) -- blue (positive)\n",
    "    fig.update_traces(colorscale='RdBu')\n",
    "\n",
    "# Instantiate the plotter\n",
    "nonzero_plotter = ActivationsPlotter(labels, plot_nonzero_activations, activ_gen_px, hook, coords_enabled=True, color=\"R\")\n",
    "nonzero_plotter.display()"
   ]
  },
  {
   "attachments": {},
   "cell_type": "markdown",
   "metadata": {},
   "source": [
    "# 1: Locality\n",
    "Consider `n` convolutional layers (3x3 kernel, stride=1, padding=1) which each preserve the height col width of the previous feature maps. The above demonstrates that after these layers, information can only propagate `n` L1 pixels. The network itself is composed of # TODO "
   ]
  },
  {
   "cell_type": "code",
   "execution_count": null,
   "metadata": {},
   "outputs": [
    {
     "name": "stderr",
     "output_type": "stream",
     "text": [
      "Clipping input data to the valid range for imshow with RGB data ([0..1] for floats or [0..255] for integers).\n"
     ]
    },
    {
     "name": "stdout",
     "output_type": "stream",
     "text": [
      "The difference between the two images is:\n"
     ]
    },
    {
     "data": {
      "text/plain": [
       "<matplotlib.image.AxesImage at 0x7f84cd0c24a0>"
      ]
     },
     "execution_count": 36,
     "metadata": {},
     "output_type": "execute_result"
    },
    {
     "data": {
      "image/png": "[encoded data removed]",
      "text/plain": [
       "<Figure size 640x480 with 1 Axes>"
      ]
     },
     "metadata": {},
     "output_type": "display_data"
    }
   ],
   "source": [
    "# Load up a cheese/no-cheese maze pair \n",
    "from experiments.patch_utils import *\n",
    "\n",
    "seed = 0\n",
    "venv = get_cheese_venv_pair(seed=seed)\n",
    "obs = venv.reset()\n",
    "obs = np.array(obs, dtype=np.float32)\n",
    "\n",
    "# Show the diff of the RGB renders\n",
    "print(\"The difference between the two images is:\")\n",
    "plt.imshow(rearrange(obs[0]-obs[1], 'c h w -> h w c'))"
   ]
  },
  {
   "cell_type": "code",
   "execution_count": null,
   "metadata": {},
   "outputs": [
    {
     "data": {
      "application/vnd.jupyter.widget-view+json": {
       "model_id": "7083f4521dc04de09518df779896b947",
       "version_major": 2,
       "version_minor": 0
      },
      "text/plain": [
       "FigureWidget({\n",
       "    'data': [{'colorscale': [[0.0, 'rgb(103,0,31)'], [0.1, 'rgb(178,24,43)'],\n",
       "                             [0.2, 'rgb(214,96,77)'], [0.3, 'rgb(244,165,130)'],\n",
       "                             [0.4, 'rgb(253,219,199)'], [0.5, 'rgb(247,247,247)'],\n",
       "                             [0.6, 'rgb(209,229,240)'], [0.7, 'rgb(146,197,222)'],\n",
       "                             [0.8, 'rgb(67,147,195)'], [0.9, 'rgb(33,102,172)'],\n",
       "                             [1.0, 'rgb(5,48,97)']],\n",
       "              'type': 'heatmap',\n",
       "              'uid': '35770fab-ce3e-4968-bff0-95bb5156efb5',\n",
       "              'z': array([[0., 0., 0., ..., 0., 0., 0.],\n",
       "                          [0., 0., 0., ..., 0., 0., 0.],\n",
       "                          [0., 0., 0., ..., 0., 0., 0.],\n",
       "                          ...,\n",
       "                          [0., 0., 0., ..., 0., 0., 0.],\n",
       "                          [0., 0., 0., ..., 0., 0., 0.],\n",
       "                          [0., 0., 0., ..., 0., 0., 0.]], dtype=float32),\n",
       "              'zmax': 0.5764706,\n",
       "              'zmid': 0,\n",
       "              'zmin': -0.5764706134796143}],\n",
       "    'layout': {'height': 500,\n",
       "               'template': '...',\n",
       "               'title': {'text': 'embedder.block1.conv_in0'},\n",
       "               'width': 500,\n",
       "               'xaxis': {'side': 'top', 'ticktext': [], 'tickvals': []},\n",
       "               'yaxis': {'autorange': 'reversed'}}\n",
       "})"
      ]
     },
     "metadata": {},
     "output_type": "display_data"
    },
    {
     "data": {
      "application/vnd.jupyter.widget-view+json": {
       "model_id": "5c88605a15574dee92a50fa37f6515cd",
       "version_major": 2,
       "version_minor": 0
      },
      "text/plain": [
       "VBox(children=(Dropdown(description='Activations', options=('embedder.block1.conv_in0', 'embedder.block1.conv_…"
      ]
     },
     "metadata": {},
     "output_type": "display_data"
    },
    {
     "data": {
      "application/vnd.jupyter.widget-view+json": {
       "model_id": "7d89e784161148f68d418ec1379567ca",
       "version_major": 2,
       "version_minor": 0
      },
      "text/plain": [
       "HBox(children=(Text(value='', layout=Layout(width='150px'), placeholder='Custom filename'), Button(description…"
      ]
     },
     "metadata": {},
     "output_type": "display_data"
    }
   ],
   "source": [
    "# Visualize the activations for this pair\n",
    "cheese_diff_plotter = ActivationsPlotter(labels, plot_activations, lambda label: activation_diff(label, obs), hook)\n",
    "cheese_diff_plotter.display()"
   ]
  },
  {
   "cell_type": "code",
   "execution_count": null,
   "metadata": {},
   "outputs": [
    {
     "data": {
      "text/plain": [
       "<matplotlib.image.AxesImage at 0x7f84ccf66e30>"
      ]
     },
     "execution_count": 38,
     "metadata": {},
     "output_type": "execute_result"
    },
    {
     "data": {
      "image/png": "[encoded data removed]",
      "text/plain": [
       "<Figure size 640x480 with 1 Axes>"
      ]
     },
     "metadata": {},
     "output_type": "display_data"
    }
   ],
   "source": [
    "cheese_pixels = obs[0][(obs[0]-obs[1]) != 0] # Get the nonzero pixels\n",
    "cheese_pixels = [(cheese_pixels[i], cheese_pixels[i+1], cheese_pixels[i+2]) for i in range(0, len(cheese_pixels), 3)] # Split into (R,G,B) tuples\n",
    "\n",
    "def show_cheese_at(col: int, row: int):\n",
    "    \"\"\" Make an all-black image with cheese at the given location. \"\"\"\n",
    "    obs = np.zeros((3,64,64), dtype=np.float32)\n",
    "    obs[:, row, col] = cheese_pixels[0]\n",
    "    obs[:, row, col+1] = cheese_pixels[1]\n",
    "    return obs\n",
    "\n",
    "plt.imshow(rearrange(show_cheese_at(0,0), 'c h w -> h w c')) # Show the cheese at the top left corner"
   ]
  },
  {
   "cell_type": "code",
   "execution_count": null,
   "metadata": {},
   "outputs": [
    {
     "data": {
      "application/vnd.jupyter.widget-view+json": {
       "model_id": "b51919c2f7d24346b85611579bdb10ad",
       "version_major": 2,
       "version_minor": 0
      },
      "text/plain": [
       "FigureWidget({\n",
       "    'data': [{'colorscale': [[0.0, 'rgb(103,0,31)'], [0.1, 'rgb(178,24,43)'],\n",
       "                             [0.2, 'rgb(214,96,77)'], [0.3, 'rgb(244,165,130)'],\n",
       "                             [0.4, 'rgb(253,219,199)'], [0.5, 'rgb(247,247,247)'],\n",
       "                             [0.6, 'rgb(209,229,240)'], [0.7, 'rgb(146,197,222)'],\n",
       "                             [0.8, 'rgb(67,147,195)'], [0.9, 'rgb(33,102,172)'],\n",
       "                             [1.0, 'rgb(5,48,97)']],\n",
       "              'type': 'heatmap',\n",
       "              'uid': '30640743-2dd8-48a8-a521-15421c4eb044',\n",
       "              'z': array([[0., 0., 0., ..., 0., 0., 0.],\n",
       "                          [0., 0., 0., ..., 0., 0., 0.],\n",
       "                          [0., 0., 0., ..., 0., 0., 0.],\n",
       "                          ...,\n",
       "                          [0., 0., 0., ..., 0., 0., 0.],\n",
       "                          [0., 0., 0., ..., 0., 0., 0.],\n",
       "                          [0., 0., 0., ..., 0., 0., 0.]], dtype=float32),\n",
       "              'zmax': 0.99607843,\n",
       "              'zmid': 0,\n",
       "              'zmin': -0.9960784316062927}],\n",
       "    'layout': {'height': 500,\n",
       "               'template': '...',\n",
       "               'title': {'text': 'embedder.block1.conv_in0'},\n",
       "               'width': 500,\n",
       "               'xaxis': {'side': 'top', 'ticktext': [], 'tickvals': []},\n",
       "               'yaxis': {'autorange': 'reversed'}}\n",
       "})"
      ]
     },
     "metadata": {},
     "output_type": "display_data"
    },
    {
     "data": {
      "application/vnd.jupyter.widget-view+json": {
       "model_id": "41cf450cf0c140aebea28a66f0b1d38e",
       "version_major": 2,
       "version_minor": 0
      },
      "text/plain": [
       "VBox(children=(Dropdown(description='Activations', options=('embedder.block1.conv_in0', 'embedder.block1.conv_…"
      ]
     },
     "metadata": {},
     "output_type": "display_data"
    },
    {
     "data": {
      "application/vnd.jupyter.widget-view+json": {
       "model_id": "489b3fa50041411cac11e3a8fc26e60a",
       "version_major": 2,
       "version_minor": 0
      },
      "text/plain": [
       "HBox(children=(Text(value='', layout=Layout(width='150px'), placeholder='Custom filename'), Button(description…"
      ]
     },
     "metadata": {},
     "output_type": "display_data"
    }
   ],
   "source": [
    "def activ_gen_cheese(col: int, row: int, label: str):\n",
    "    \"\"\" Return the activations for an observation with cheese at the given location. \"\"\"\n",
    "    cheese_obs = show_cheese_at(col,row)\n",
    "    cheese_obs = rearrange(cheese_obs, 'c h w -> 1 c h w')\n",
    "    activations = get_activations(label, cheese_obs)\n",
    "    return activations[0]\n",
    "\n",
    "moving_cheese_plotter = ActivationsPlotter(labels, plot_activations, activ_gen_cheese, hook, coords_enabled=True)\n",
    "moving_cheese_plotter.display()"
   ]
  },
  {
   "attachments": {},
   "cell_type": "markdown",
   "metadata": {},
   "source": [
    "# Visualizing actual observation activations"
   ]
  },
  {
   "cell_type": "code",
   "execution_count": null,
   "metadata": {},
   "outputs": [
    {
     "data": {
      "application/vnd.jupyter.widget-view+json": {
       "model_id": "fcd3e79f01de4abdbc350f4672c52d46",
       "version_major": 2,
       "version_minor": 0
      },
      "text/plain": [
       "HBox(children=(HBox(children=(GridspecLayout(children=(Button(layout=Layout(grid_area='widget001', height='0px…"
      ]
     },
     "metadata": {},
     "output_type": "display_data"
    },
    {
     "data": {
      "application/vnd.jupyter.widget-view+json": {
       "model_id": "71c0bcc1f96b4e9eaa51997b2f1b7932",
       "version_major": 2,
       "version_minor": 0
      },
      "text/plain": [
       "FigureWidget({\n",
       "    'data': [{'colorscale': [[0.0, 'rgb(103,0,31)'], [0.1, 'rgb(178,24,43)'],\n",
       "                             [0.2, 'rgb(214,96,77)'], [0.3, 'rgb(244,165,130)'],\n",
       "                             [0.4, 'rgb(253,219,199)'], [0.5, 'rgb(247,247,247)'],\n",
       "                             [0.6, 'rgb(209,229,240)'], [0.7, 'rgb(146,197,222)'],\n",
       "                             [0.8, 'rgb(67,147,195)'], [0.9, 'rgb(33,102,172)'],\n",
       "                             [1.0, 'rgb(5,48,97)']],\n",
       "              'type': 'heatmap',\n",
       "              'uid': 'abda8edd-cf38-4893-a5ba-037aec848929',\n",
       "              'z': array([[0.7411765 , 0.77254903, 0.77254903, ..., 0.7411765 , 0.7411765 ,\n",
       "                           0.77254903],\n",
       "                          [0.7882353 , 0.7411765 , 0.7411765 , ..., 0.7411765 , 0.7882353 ,\n",
       "                           0.7411765 ],\n",
       "                          [0.7882353 , 0.7882353 , 0.7882353 , ..., 0.7882353 , 0.7882353 ,\n",
       "                           0.7882353 ],\n",
       "                          ...,\n",
       "                          [0.7882353 , 0.7882353 , 0.7882353 , ..., 0.7882353 , 0.7882353 ,\n",
       "                           0.7411765 ],\n",
       "                          [0.77254903, 0.7882353 , 0.7882353 , ..., 0.77254903, 0.77254903,\n",
       "                           0.7882353 ],\n",
       "                          [0.7411765 , 0.77254903, 0.77254903, ..., 0.7411765 , 0.7411765 ,\n",
       "                           0.77254903]], dtype=float32),\n",
       "              'zmax': 0.99607843,\n",
       "              'zmid': 0,\n",
       "              'zmin': -0.9960784316062927}],\n",
       "    'layout': {'height': 500,\n",
       "               'template': '...',\n",
       "               'title': {'text': 'embedder.block1.conv_in0'},\n",
       "               'width': 500,\n",
       "               'xaxis': {'side': 'top', 'ticktext': [], 'tickvals': []},\n",
       "               'yaxis': {'autorange': 'reversed'}}\n",
       "})"
      ]
     },
     "metadata": {},
     "output_type": "display_data"
    },
    {
     "data": {
      "application/vnd.jupyter.widget-view+json": {
       "model_id": "16c01eb1672e476ba031882545437ed5",
       "version_major": 2,
       "version_minor": 0
      },
      "text/plain": [
       "VBox(children=(Dropdown(description='Activations', options=('embedder.block1.conv_in0', 'embedder.block1.conv_…"
      ]
     },
     "metadata": {},
     "output_type": "display_data"
    },
    {
     "data": {
      "application/vnd.jupyter.widget-view+json": {
       "model_id": "746f346aba2147518031489d6873956a",
       "version_major": 2,
       "version_minor": 0
      },
      "text/plain": [
       "HBox(children=(Text(value='', layout=Layout(width='150px'), placeholder='Custom filename'), Button(description…"
      ]
     },
     "metadata": {},
     "output_type": "display_data"
    }
   ],
   "source": [
    "venv = create_venv(num=1, start_level=0, num_levels=1)\n",
    "\n",
    "def activ_gen_cheese(label: str):\n",
    "    \"\"\" Generate an observation with cheese at the given location. \"\"\"\n",
    "    cheese_obs = venv.reset()\n",
    "    cheese_obs = np.array(cheese_obs, dtype=np.float32)\n",
    "    return get_activations(label, cheese_obs)[0] # Take the first and only batch element\n",
    "\n",
    "# Show a maze editor side-by-side with the interactive plotter\n",
    "custom_maze_plotter = ActivationsPlotter(labels, plot_activations, activ_gen_cheese, hook)\n",
    "\n",
    "editors = maze.venv_editor(venv, check_on_dist=False, env_nums=range(1), callback=lambda _: custom_maze_plotter.update_plotter())\n",
    "display(HBox(editors))\n",
    "\n",
    "custom_maze_plotter.display()"
   ]
  }
 ],
 "metadata": {
  "kernelspec": {
   "display_name": "MATS",
   "language": "python",
   "name": "python3"
  },
  "language_info": {
   "codemirror_mode": {
    "name": "ipython",
    "version": 3
   },
   "file_extension": ".py",
   "mimetype": "text/x-python",
   "name": "python",
   "nbconvert_exporter": "python",
   "pygments_lexer": "ipython3",
   "version": "3.10.9"
  },
  "orig_nbformat": 4,
  "vscode": {
   "interpreter": {
    "hash": "cd3e04b79b22c2a61b6815ecea0d93d7d0a83bc295cb411e510169362b7f6e5c"
   }
  }
 },
 "nbformat": 4,
 "nbformat_minor": 2
}
