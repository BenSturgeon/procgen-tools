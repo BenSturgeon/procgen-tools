{
 "cells": [
  {
   "cell_type": "code",
   "execution_count": 17,
   "metadata": {},
   "outputs": [
    {
     "name": "stdout",
     "output_type": "stream",
     "text": [
      "Already downloaded https://nerdsniper.net/mats/model_rand_region_5.pth\n"
     ]
    }
   ],
   "source": [
    "try:\n",
    "    import procgen_tools\n",
    "except ImportError:\n",
    "    get_ipython().run_line_magic(\n",
    "        magic_name=\"pip\",\n",
    "        line=\"install -U git+https://github.com/ulissemini/procgen-tools\",\n",
    "    )\n",
    "\n",
    "from procgen_tools.utils import setup\n",
    "\n",
    "setup()  # create directory structure and download data\n",
    "\n",
    "from procgen_tools.imports import *\n",
    "from procgen_tools import maze, visualization, models, patch_utils\n",
    "from typing import Tuple, Dict, List, Optional, Union\n",
    "from ipywidgets import interact, interactive, fixed, interact_manual\n",
    "import ipywidgets as widgets\n",
    "\n",
    "SAVE_DIR = \"playground/visualizations\"\n",
    "AX_SIZE = 6\n",
    "\n",
    "cheese_channels = [7, 8, 42, 44, 55, 77, 82, 88, 89, 99, 113]\n",
    "effective_channels = [8, 55, 77, 82, 88, 89, 113]"
   ]
  },
  {
   "cell_type": "code",
   "execution_count": 127,
   "metadata": {},
   "outputs": [
    {
     "name": "stdout",
     "output_type": "stream",
     "text": [
      "The geometric average probability from (0, 0) to (0, 3) is 0.906\n"
     ]
    }
   ],
   "source": [
    "venv = maze.create_venv(num=1, start_level=0, num_levels=1)\n",
    "vf = visualization.vector_field(venv, hook.network)\n",
    "start = (0, 0)\n",
    "end = (0, 3)\n",
    "prob = maze.geometric_probability_path(start, end, vf)\n",
    "print(\n",
    "    f\"The geometric average probability from {start} to {end} is {prob:0.3f}\"\n",
    ")"
   ]
  },
  {
   "attachments": {},
   "cell_type": "markdown",
   "metadata": {},
   "source": [
    "# Showing mean probability of reaching each part of the maze"
   ]
  },
  {
   "cell_type": "code",
   "execution_count": 225,
   "metadata": {},
   "outputs": [
    {
     "data": {
      "application/vnd.jupyter.widget-view+json": {
       "model_id": "48c6a09eb3794487b2e0ac7cb10619a9",
       "version_major": 2,
       "version_minor": 0
      },
      "text/plain": [
       "interactive(children=(IntSlider(value=50, description='seed'), Output()), _dom_classes=('widget-interact',))"
      ]
     },
     "metadata": {},
     "output_type": "display_data"
    }
   ],
   "source": [
    "@interact(seed=(0, 100))  # TODO implement size in show_grid_heatmap\n",
    "def show_grid_heatmap_interactive(seed: int) -> None:\n",
    "    \"\"\"Show a heatmap over the maze using matplotlib.\n",
    "\n",
    "    Args:\n",
    "        seed: Seed of the maze\n",
    "    \"\"\"\n",
    "    venv = maze.create_venv(num=1, start_level=seed, num_levels=1)\n",
    "    vf: Dict = visualization.vector_field(venv, hook.network)\n",
    "    grid: np.ndarray = maze.get_inner_grid_from_seed(seed)\n",
    "    heatmap: np.ndarray = np.zeros_like(grid, dtype=np.float32)\n",
    "    for coord in maze.get_legal_mouse_positions(grid) + [\n",
    "        maze.get_cheese_pos(grid)\n",
    "    ]:\n",
    "        heatmap[coord] = maze.geometric_probability_path((0, 0), coord, vf)\n",
    "\n",
    "    visualization.show_grid_heatmap(\n",
    "        venv=venv, heatmap=heatmap, ax_size=AX_SIZE, mode=\"human\", size=0.5\n",
    "    )"
   ]
  },
  {
   "cell_type": "code",
   "execution_count": 15,
   "metadata": {},
   "outputs": [],
   "source": [
    "def retarget_to_square(\n",
    "    venv,\n",
    "    hook,\n",
    "    channels: List[int],\n",
    "    coord: Tuple[int, int],\n",
    "    magnitude: float = 5.5,\n",
    "    default: Optional[float] = None,\n",
    ") -> float:\n",
    "    \"\"\"Create a hook and retarget the given channels to the given\n",
    "    square, returning the geometric average of the probabilities from\n",
    "    the origin to that square.\n",
    "\n",
    "    Args:\n",
    "        venv: Vectorized environment\n",
    "        hook: Hook to the network\n",
    "        channels: List of channels to retarget\n",
    "        coord: Coordinate of the square to retarget to\n",
    "        magnitude: Magnitude of the retargeting\n",
    "        default: Default value to use for the retargeted channels,\n",
    "        outside of the coord\n",
    "    \"\"\"\n",
    "    patches = patch_utils.combined_pixel_patch(\n",
    "        layer_name=default_layer,\n",
    "        channels=channels,\n",
    "        value=magnitude,\n",
    "        coord=coord,\n",
    "        default=default,\n",
    "    )\n",
    "    with hook.use_patches(patches):\n",
    "        vf: Dict = visualization.vector_field(venv, hook.network)\n",
    "    return maze.geometric_probability_path((0, 0), coord, vf)\n",
    "\n",
    "\n",
    "def cheese_at_square(venv, coord: Tuple[int, int]) -> float:\n",
    "    \"\"\"Returns the probability of navigating to a square, given that\n",
    "    the cheese is placed at the given square.\"\"\"\n",
    "    moved_venv = maze.move_cheese(venv, coord)\n",
    "    vf: Dict = visualization.vector_field(moved_venv, hook.network)\n",
    "    return maze.geometric_probability_path((0, 0), coord, vf)\n",
    "\n",
    "\n",
    "def retarget_heatmap(\n",
    "    venv,\n",
    "    hook,\n",
    "    channels: List[int],\n",
    "    magnitude: float = 5.5,\n",
    "    remove_cheese: bool = True,\n",
    "    compare_to_cheese: bool = False,\n",
    ") -> pd.DataFrame:\n",
    "    \"\"\"Returns a DataFrame of retargeted probabilities for all squares in\n",
    "    the maze, where each row contains a geometric average of the\n",
    "    probabilities under retargeting the given channels to that square\n",
    "    using the given magnitude.\"\"\"\n",
    "    new_venv = maze.remove_cheese(venv) if remove_cheese else venv\n",
    "    inner_grid: np.ndarray = maze.state_from_venv(new_venv).inner_grid()\n",
    "    reachable: List[Tuple[int, int]] = maze.get_legal_mouse_positions(\n",
    "        inner_grid\n",
    "    )\n",
    "\n",
    "    # Get the probabilities for each square\n",
    "    data: Dict[str, List[float]] = defaultdict(list)\n",
    "    for coord in reachable:\n",
    "        new_data = {\n",
    "            \"x\": coord[0],\n",
    "            \"y\": coord[1],\n",
    "            \"retarget_prob\": retarget_to_square(\n",
    "                new_venv, hook, channels, coord, magnitude\n",
    "            ),\n",
    "            \"maze_size\": inner_grid.shape[0],\n",
    "            \"d_to_coord\": len(\n",
    "                maze.pathfind(grid=inner_grid, start=(0, 0), end=coord)\n",
    "            ),\n",
    "            # \"d_to_dsq\": d_to_dsq,\n",
    "            \"start\": (0, 0),\n",
    "        }\n",
    "        if compare_to_cheese:\n",
    "            new_data[\"cheese_prob\"] = cheese_at_square(new_venv, coord)\n",
    "\n",
    "        for k, v in new_data.items():\n",
    "            data[k].append(v)\n",
    "\n",
    "    return pd.DataFrame(data)"
   ]
  },
  {
   "cell_type": "code",
   "execution_count": 18,
   "metadata": {},
   "outputs": [
    {
     "data": {
      "application/vnd.jupyter.widget-view+json": {
       "model_id": "08f6d979a0564ebfaf18248057382b2c",
       "version_major": 2,
       "version_minor": 0
      },
      "text/plain": [
       "interactive(children=(IntSlider(value=50, description='seed'), Output()), _dom_classes=('widget-interact',))"
      ]
     },
     "metadata": {},
     "output_type": "display_data"
    }
   ],
   "source": [
    "@interact(seed=(0, 100))\n",
    "def show_retarget_heatmap_interactive(seed: int) -> None:\n",
    "    \"\"\"Show a heatmap over the maze using matplotlib.\n",
    "\n",
    "    Args:\n",
    "        seed: Seed of the maze\n",
    "    \"\"\"\n",
    "    venv = maze.create_venv(num=1, start_level=seed, num_levels=1)\n",
    "    data = retarget_heatmap(\n",
    "        venv, hook, channels=cheese_channels, magnitude=5.5, remove_cheese=True\n",
    "    )\n",
    "    heatmap = data.pivot(index=\"y\", columns=\"x\", values=\"retarget_prob\")\n",
    "\n",
    "    visualization.show_grid_heatmap(\n",
    "        venv=venv, heatmap=heatmap, ax_size=AX_SIZE, mode=\"human\", size=0.5\n",
    "    )"
   ]
  },
  {
   "cell_type": "code",
   "execution_count": null,
   "metadata": {},
   "outputs": [],
   "source": []
  }
 ],
 "metadata": {
  "kernelspec": {
   "display_name": "Python 3",
   "language": "python",
   "name": "python3"
  },
  "language_info": {
   "codemirror_mode": {
    "name": "ipython",
    "version": 3
   },
   "file_extension": ".py",
   "mimetype": "text/x-python",
   "name": "python",
   "nbconvert_exporter": "python",
   "pygments_lexer": "ipython3",
   "version": "3.10.9"
  },
  "orig_nbformat": 4
 },
 "nbformat": 4,
 "nbformat_minor": 2
}
