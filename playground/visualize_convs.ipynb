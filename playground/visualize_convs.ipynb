{
 "cells": [
  {
   "attachments": {},
   "cell_type": "markdown",
   "metadata": {},
   "source": [
    "# Understanding details about how Langosco et al.'s nets work\n",
    "Let's understand lots of details about [the goal misgeneralization paper](). In particular, we'll be looking at the cheese-maze task from the goal misgeneralization task, for which cheese was spawned in the 5x5 top-right corner of the maze. \n",
    "\n",
    "Key conclusions:\n",
    "1. Convolutional layers limit speed of information propagation (_locality_). More precisely, any portions of the state separated by `n` pixels take **??** convolutional layers to interact.\n",
    "2. In the maximal maze size of **??**, there is at most two steps of computation involving information from e.g. opposite corners of the maze. "
   ]
  },
  {
   "cell_type": "code",
   "execution_count": 189,
   "metadata": {},
   "outputs": [],
   "source": [
    "# %% Don't have to restart kernel and reimport each time you modify a dependency\n",
    "%reload_ext autoreload\n",
    "%autoreload 2\n",
    "\n",
    "# %%\n",
    "# Imports\n",
    "from typing import List, Tuple, Dict, Union, Optional, Callable\n",
    "import re \n",
    "\n",
    "import numpy as np\n",
    "import pandas as pd\n",
    "import torch as t\n",
    "import plotly.express as px\n",
    "import plotly as py\n",
    "import plotly.graph_objects as go\n",
    "from tqdm import tqdm\n",
    "from einops import rearrange\n",
    "from IPython.display import Video, display, clear_output, IFrame\n",
    "from ipywidgets import Text, interact, IntSlider, fixed, FloatSlider, Dropdown\n",
    "import itertools\n",
    "from moviepy.video.io.ImageSequenceClip import ImageSequenceClip\n",
    "import matplotlib.pyplot as plt\n",
    "\n",
    "# NOTE: this is Monte's RL hooking code (and other stuff will be added in the future)\n",
    "# Install normally with: pip install circrl\n",
    "import circrl.module_hook as cmh\n",
    "import procgen_tools.models as models\n",
    "from experiments.patch_utils import *\n",
    "\n",
    "# %% \n",
    "# Load two levels and get values\n",
    "import pickle as pkl\n",
    "from procgen import ProcgenGym3Env\n",
    "\n",
    "rand_region = 5\n",
    "# Check whether we're in jupyter\n",
    "try:\n",
    "    get_ipython()\n",
    "    in_jupyter = True\n",
    "except NameError:\n",
    "    in_jupyter = False\n",
    "path_prefix = '../' if in_jupyter else ''\n",
    "\n",
    "# %%\n",
    "# Load model\n",
    "\n",
    "policy = models.load_policy(path_prefix + f'trained_models/maze_I/model_rand_region_{rand_region}.pth', 15, t.device('cpu'))\n",
    "\n",
    "# %% Experiment parameters\n",
    "label = 'embedder.block2.res1.resadd_out'\n",
    "interesting_coeffs = np.linspace(-2/3,2/3,10) \n",
    "hook = cmh.ModuleHook(policy)"
   ]
  },
  {
   "cell_type": "code",
   "execution_count": 190,
   "metadata": {},
   "outputs": [
    {
     "name": "stdout",
     "output_type": "stream",
     "text": [
      "Stopping http://localhost:6006\n",
      "Serving '../trained_models/maze_I/model_rand_region_5.pth' at http://localhost:6006\n"
     ]
    },
    {
     "data": {
      "text/html": [
       "\n",
       "        <iframe\n",
       "            width=\"1000\"\n",
       "            height=\"1000\"\n",
       "            src=\"http://localhost:6006\"\n",
       "            frameborder=\"0\"\n",
       "            allowfullscreen\n",
       "            \n",
       "        ></iframe>\n",
       "        "
      ],
      "text/plain": [
       "<IPython.lib.display.IFrame at 0x7f4eb5253580>"
      ]
     },
     "execution_count": 190,
     "metadata": {},
     "output_type": "execute_result"
    }
   ],
   "source": [
    "# Let's visualize the architecture itself\n",
    "hook.probe_with_input(dummy_obs(\"R\"))\n",
    "labels = list(hook.values_by_label.keys())[:-1] # Skip the \"_out\" layer\n",
    "\n",
    "import netron \n",
    "\n",
    "port = 6006\n",
    "model_path = path_prefix + 'trained_models/maze_I/model_rand_region_5.pth'\n",
    "netron.start(model_path, 6006, browse=False)\n",
    "IFrame(f\"http://localhost:{port}\", width=1000, height=1000)\n",
    "# Show PNG of the model from netron\n",
    "netron.stop()"
   ]
  },
  {
   "cell_type": "code",
   "execution_count": 171,
   "metadata": {},
   "outputs": [],
   "source": [
    "def dummy_obs(color: str, location: Tuple[int, int]=(32,32)):\n",
    "    \"\"\" Return two mostly-black images, with the first containing a red/green/blue pixel in the center. Returns shape (2, 3, 64, 64). \"\"\"\n",
    "    \n",
    "    assert color in ['R', 'G', 'B'], f'Color must be one of R, G, B, not {color}'\n",
    "    assert len(location) == 2, 'Location must be a tuple of length 2'\n",
    "    assert all(0 <= x < 64 for x in location), 'Location must be in [0, 64)'\n",
    "\n",
    "    channel = {'R': 0, 'G': 1, 'B': 2}[color]\n",
    "    dummy_obs = np.zeros((2, 3, 64, 64), dtype=np.float32)\n",
    "    dummy_obs[0, channel, location[0], location[1]] = 1 # Have one pixel in the middle, in the given channel\n",
    "    return dummy_obs"
   ]
  },
  {
   "cell_type": "code",
   "execution_count": 176,
   "metadata": {},
   "outputs": [
    {
     "data": {
      "text/plain": [
       "<matplotlib.image.AxesImage at 0x7f4eb558b760>"
      ]
     },
     "execution_count": 176,
     "metadata": {},
     "output_type": "execute_result"
    },
    {
     "data": {
      "image/png": "[encoded data removed]",
      "text/plain": [
       "<Figure size 640x480 with 1 Axes>"
      ]
     },
     "metadata": {},
     "output_type": "display_data"
    }
   ],
   "source": [
    "# Let's load a dummy observation with only one nonzero value\n",
    "plt.imshow(dummy_obs(\"G\")[0].transpose(1,2,0))"
   ]
  },
  {
   "cell_type": "code",
   "execution_count": 209,
   "metadata": {},
   "outputs": [
    {
     "data": {
      "application/vnd.jupyter.widget-view+json": {
       "model_id": "441ddf1eace04cdf952ef052d1900ee3",
       "version_major": 2,
       "version_minor": 0
      },
      "text/plain": [
       "FigureWidget({\n",
       "    'data': [], 'layout': {'template': '...'}\n",
       "})"
      ]
     },
     "metadata": {},
     "output_type": "display_data"
    },
    {
     "data": {
      "application/vnd.jupyter.widget-view+json": {
       "model_id": "0ebab255caf94a7893c0a2acc58871e3",
       "version_major": 2,
       "version_minor": 0
      },
      "text/plain": [
       "interactive(children=(Dropdown(description='label', options=('embedder.block1.conv_in0', 'embedder.block1.conv…"
      ]
     },
     "metadata": {},
     "output_type": "display_data"
    }
   ],
   "source": [
    "# Let's visualize the activations at each layer using plotly, using an interactive interface that lets us slide the R/G/B pixel around\n",
    "import plotly.graph_objects as go\n",
    "from plotly.subplots import make_subplots\n",
    "import plotly.express as px\n",
    "\n",
    "def plot_activation_diffs(label: str, channel: int, obs: np.ndarray, fig: go.FigureWidget):\n",
    "    \"\"\" Plot the activations of a given channel at a given layer, taking in an obs of shape (2,3,64,64). \"\"\"\n",
    "    # Get the activations\n",
    "    assert obs.shape == (2,3,64,64), f\"Obs must be of shape (2,3,64,64), not {obs.shape}\"\n",
    "    hook.probe_with_input(obs) # Run the model with the given obs\n",
    "    activations = hook.get_value_by_label(label) # Shape is (b, c, h, w) at conv layers, (b, activations) at linear layers\n",
    "    diff_activations = activations[0] - activations[1] # Subtract in order to cancel out bias terms which don't behave differently in the presence of our 1/0 discrepancy on the input\n",
    "\n",
    "    # Ensure there's a fixed green/red colorscale, centered at white=0\n",
    "    if len(activations.shape) == 2: # Linear layer\n",
    "        # Unsqueeze the np.ndarray\n",
    "        diff_activations = np.expand_dims(diff_activations, axis=(0,1))\n",
    "        # If there's only a single channel, display a 1D Heatmap, with a single y value and the activation indices as the x values\n",
    "        new_data = go.Heatmap(y=diff_activations[channel],  x=np.arange(diff_activations.shape[2]))\n",
    "    else: \n",
    "        assert channel < activations.shape[1], \"Channel doesn't exist at this layer\"\n",
    "        new_data = go.Heatmap(z=diff_activations[channel])\n",
    "\n",
    "    # Update data\n",
    "    fig.update(data=[go.Heatmap(z=diff_activations[channel])])\n",
    "\n",
    "    # Set the min and max to be the min and max of all channels at this label\n",
    "    bounds = np.abs(diff_activations).max()\n",
    "    fig.update_traces(zmin=-1 * bounds, zmid=0, zmax=bounds)\n",
    "\n",
    "    # Change the colorscale to split red (negative) -- white (zero) -- blue (positive)\n",
    "    fig.update_traces(colorscale='RdBu')\n",
    "    \n",
    "    fig.update_layout(height=500, width=500, title_text=label)\n",
    "\n",
    "channel_slider = IntSlider(min=0, max=127, step=1, value=0)\n",
    "fig = go.FigureWidget()\n",
    "display(fig)\n",
    "\n",
    "@interact \n",
    "def plot_activations_interactive(label=Dropdown(options=labels), channel=channel_slider, dummy_color=Dropdown(options=[\"R\",\"G\",\"B\"]), x=IntSlider(min=0, max=63, step=1, value=32), y=IntSlider(min=0, max=63, step=1, value=32)):\n",
    "    # Set max channel to be the max channel at this layer\n",
    "    shap = hook.get_value_by_label(label).shape\n",
    "    channel_slider.max = shap[1] - 1 if len(shap) > 2 else 0\n",
    "    channel = min(channel, channel_slider.max) # Catch inappropriate values\n",
    "    plot_activation_diffs(label=label, channel=channel, obs=dummy_obs(dummy_color, (x,y)), fig=fig)"
   ]
  },
  {
   "attachments": {},
   "cell_type": "markdown",
   "metadata": {},
   "source": [
    "# 1: Locality\n",
    "Consider `n` convolutional layers (3x3 kernel, stride=1, padding=1) which each preserve the height x width of the previous feature maps. The above demonstrates that after these layers, information can only propagate `n` L1 pixels. The network itself is composed of "
   ]
  },
  {
   "cell_type": "code",
   "execution_count": 174,
   "metadata": {},
   "outputs": [
    {
     "name": "stderr",
     "output_type": "stream",
     "text": [
      "Clipping input data to the valid range for imshow with RGB data ([0..1] for floats or [0..255] for integers).\n"
     ]
    },
    {
     "name": "stdout",
     "output_type": "stream",
     "text": [
      "The difference between the two images is:\n"
     ]
    },
    {
     "data": {
      "text/plain": [
       "<matplotlib.image.AxesImage at 0x7f4eb56ebca0>"
      ]
     },
     "execution_count": 174,
     "metadata": {},
     "output_type": "execute_result"
    },
    {
     "data": {
      "image/png": "[encoded data removed]",
      "text/plain": [
       "<Figure size 640x480 with 1 Axes>"
      ]
     },
     "metadata": {},
     "output_type": "display_data"
    }
   ],
   "source": [
    "# Load up a cheese/no-cheese maze pair \n",
    "from experiments.patch_utils import *\n",
    "from PIL import Image\n",
    "\n",
    "seed = 0\n",
    "venv = get_cheese_venv_pair(seed=seed)\n",
    "obs = venv.reset()\n",
    "obs = np.array(obs, dtype=np.float32)\n",
    "\n",
    "# Show the diff of the RGB renders\n",
    "print(\"The difference between the two images is:\")\n",
    "plt.imshow(rearrange(obs[0]-obs[1], 'c h w -> h w c'))"
   ]
  },
  {
   "cell_type": "code",
   "execution_count": 204,
   "metadata": {},
   "outputs": [
    {
     "data": {
      "text/plain": [
       "<matplotlib.image.AxesImage at 0x7f4ec350b940>"
      ]
     },
     "execution_count": 204,
     "metadata": {},
     "output_type": "execute_result"
    },
    {
     "data": {
      "image/png": "[encoded data removed]",
      "text/plain": [
       "<Figure size 640x480 with 1 Axes>"
      ]
     },
     "metadata": {},
     "output_type": "display_data"
    }
   ],
   "source": [
    "# CHEESE_PX = obs[0][(obs[0]-obs[1]) != 0]\n",
    "# print(CHEESE_PX)\n",
    "\n",
    "def locate_cheese(obs: np.ndarray):\n",
    "    \"\"\" Return the location of the cheese in the given observation. Assumes that the first channel is nonzero iff there's cheese. \"\"\"\n",
    "    assert obs.shape == (3,64,64), f\"Obs must be of shape (3,64,64), not {obs.shape}\"\n",
    "    cheese_location = np.where(obs[0] != 0)\n",
    "    return list(zip(cheese_location[0], cheese_location[1]))\n",
    "\n",
    "locate_cheese(obs[0]-obs[1])\n",
    "\n",
    "def move_cheese(obs: np.ndarray, locations: List[Tuple[int,int]]):\n",
    "    \"\"\" Return a new observation with the cheese moved to the given location. Assumes that the first channel is nonzero iff there's cheese. \"\"\"\n",
    "    assert obs.shape == (3,64,64), f\"Obs must be of shape (3,64,64), not {obs.shape}\"\n",
    "    assert all(len(loc) == 2 for loc in locations), 'Locations must be tuples of length 2'\n",
    "    assert all(all(0 <= x < 64 for x in loc) for loc in locations), 'Locations must be in [0, 64)'\n",
    "\n",
    "    # Now move the cheese to the new location\n",
    "    new_obs = np.zeros_like(obs)\n",
    "    for loc in locations:\n",
    "        new_obs[:, loc[0], loc[1]] = obs[:, loc[0], loc[1]]\n",
    "    return new_obs\n",
    "    \n",
    "plt.imshow(rearrange(move_cheese(obs[0], [(0,0)]), 'c h w -> h w c'))"
   ]
  },
  {
   "cell_type": "code",
   "execution_count": 175,
   "metadata": {},
   "outputs": [
    {
     "data": {
      "application/vnd.jupyter.widget-view+json": {
       "model_id": "ca845cce49924cfdba719d854e9f0434",
       "version_major": 2,
       "version_minor": 0
      },
      "text/plain": [
       "FigureWidget({\n",
       "    'data': [], 'layout': {'template': '...'}\n",
       "})"
      ]
     },
     "metadata": {},
     "output_type": "display_data"
    },
    {
     "data": {
      "application/vnd.jupyter.widget-view+json": {
       "model_id": "769bff289d1c4ea7912eafe1a5eea89a",
       "version_major": 2,
       "version_minor": 0
      },
      "text/plain": [
       "interactive(children=(Dropdown(description='label', options=('embedder.block1.conv_in0', 'embedder.block1.conv…"
      ]
     },
     "metadata": {},
     "output_type": "display_data"
    }
   ],
   "source": [
    "# Visualize the activations at each layer, given this observation difference\n",
    "channel_slider = IntSlider(min=0, max=127, step=1, value=0)\n",
    "fig = go.FigureWidget()\n",
    "display(fig)\n",
    "\n",
    "@interact\n",
    "def plot_activations_interactive(label=Dropdown(options=labels), channel=channel_slider, x=IntSlider(min=0, max=62, step=1, value=32), y=IntSlider(min=0, max=63, step=1, value=32)):\n",
    "    # Set max channel to be the max channel at this layer\n",
    "    channel_slider.max = hook.get_value_by_label(label).shape[1] - 1 # TODO fix for fc_out\n",
    "    # Ensure that the figure only displays once in the output\n",
    "    plot_activation_diffs(label=label, channel=channel, obs=obs, fig=fig)"
   ]
  }
 ],
 "metadata": {
  "kernelspec": {
   "display_name": "MATS",
   "language": "python",
   "name": "python3"
  },
  "language_info": {
   "codemirror_mode": {
    "name": "ipython",
    "version": 3
   },
   "file_extension": ".py",
   "mimetype": "text/x-python",
   "name": "python",
   "nbconvert_exporter": "python",
   "pygments_lexer": "ipython3",
   "version": "3.10.9"
  },
  "orig_nbformat": 4,
  "vscode": {
   "interpreter": {
    "hash": "cd3e04b79b22c2a61b6815ecea0d93d7d0a83bc295cb411e510169362b7f6e5c"
   }
  }
 },
 "nbformat": 4,
 "nbformat_minor": 2
}
