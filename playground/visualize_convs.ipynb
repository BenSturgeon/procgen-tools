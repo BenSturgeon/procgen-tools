{
 "cells": [
  {
   "cell_type": "code",
   "execution_count": 1,
   "metadata": {},
   "outputs": [],
   "source": [
    "# %% Don't have to restart kernel and reimport each time you modify a dependency\n",
    "%reload_ext autoreload\n",
    "%autoreload 2\n",
    "\n",
    "# %%\n",
    "# Imports\n",
    "from typing import List, Tuple, Dict, Union, Optional, Callable\n",
    "import re \n",
    "\n",
    "import numpy as np\n",
    "import pandas as pd\n",
    "import torch as t\n",
    "import plotly.express as px\n",
    "import plotly as py\n",
    "import plotly.graph_objects as go\n",
    "from tqdm import tqdm\n",
    "from einops import rearrange\n",
    "from IPython.display import Video, display, clear_output\n",
    "from ipywidgets import Text, interact, IntSlider, fixed, FloatSlider, Dropdown\n",
    "import itertools\n",
    "from moviepy.video.io.ImageSequenceClip import ImageSequenceClip\n",
    "import matplotlib.pyplot as plt\n",
    "\n",
    "# NOTE: this is Monte's RL hooking code (and other stuff will be added in the future)\n",
    "# Install normally with: pip install circrl\n",
    "import circrl.module_hook as cmh\n",
    "import procgen_tools.models as models\n",
    "from experiments.patch_utils import *\n",
    "\n",
    "# %% \n",
    "# Load two levels and get values\n",
    "import pickle as pkl\n",
    "from procgen import ProcgenGym3Env\n",
    "\n",
    "rand_region = 5\n",
    "# Check whether we're in jupyter\n",
    "try:\n",
    "    get_ipython()\n",
    "    in_jupyter = True\n",
    "except NameError:\n",
    "    in_jupyter = False\n",
    "path_prefix = '../' if in_jupyter else ''\n",
    "\n",
    "# %%\n",
    "# Load model\n",
    "\n",
    "policy = models.load_policy(path_prefix + f'trained_models/maze_I/model_rand_region_{rand_region}.pth', 15,\n",
    "    t.device('cpu'))\n",
    "\n",
    "# %% Experiment parameters\n",
    "label = 'embedder.block2.res1.resadd_out'\n",
    "interesting_coeffs = np.linspace(-2/3,2/3,10) \n",
    "hook = cmh.ModuleHook(policy)"
   ]
  },
  {
   "cell_type": "code",
   "execution_count": 2,
   "metadata": {},
   "outputs": [
    {
     "name": "stdout",
     "output_type": "stream",
     "text": [
      "['embedder.block1.conv_out', 'embedder.block1.res1.conv1_out', 'embedder.block1.res1.conv2_out', 'embedder.block1.res2.conv1_out', 'embedder.block1.res2.conv2_out', 'embedder.block2.conv_out', 'embedder.block2.res1.conv1_out', 'embedder.block2.res1.conv2_out', 'embedder.block2.res2.conv1_out', 'embedder.block2.res2.conv2_out', 'embedder.block3.conv_out', 'embedder.block3.res1.conv1_out', 'embedder.block3.res1.conv2_out', 'embedder.block3.res2.conv1_out', 'embedder.block3.res2.conv2_out']\n"
     ]
    }
   ],
   "source": [
    "# Let's load a dummy observation with only one nonzero value\n",
    "# This is the same as the one used in rollout-patch.py\n",
    "dummy_obs = np.zeros((2, 3, 64, 64), dtype=np.float32)\n",
    "dummy_obs[0, 0, 0, 0] = 1\n",
    "hook.probe_with_input(dummy_obs, func=forward_func_policy)\n",
    "\n",
    "# Now let's visualize the convolutions, at each layer\n",
    "labels = list(hook.values_by_label.keys()) \n",
    "# Use regex to check whether the label contains 'conv' and 'out', with an optional number in between\n",
    "conv_labels = [l for l in labels if re.match(r'.*conv.*out.*', l)]\n",
    "print(conv_labels)"
   ]
  },
  {
   "cell_type": "code",
   "execution_count": 3,
   "metadata": {},
   "outputs": [
    {
     "data": {
      "image/png": "[encoded data removed]",
      "text/plain": [
       "<Figure size 640x480 with 1 Axes>"
      ]
     },
     "metadata": {},
     "output_type": "display_data"
    }
   ],
   "source": [
    "# Now that we have the conv labels, let's visualize the activations at each one\n",
    "for label in conv_labels:\n",
    "    activations = hook.get_value_by_label(label)\n",
    "    plt.imshow(activations[0,0,:,:] - activations[1,0,:,:], cmap='gray')"
   ]
  }
 ],
 "metadata": {
  "kernelspec": {
   "display_name": "MATS",
   "language": "python",
   "name": "python3"
  },
  "language_info": {
   "codemirror_mode": {
    "name": "ipython",
    "version": 3
   },
   "file_extension": ".py",
   "mimetype": "text/x-python",
   "name": "python",
   "nbconvert_exporter": "python",
   "pygments_lexer": "ipython3",
   "version": "3.10.9"
  },
  "orig_nbformat": 4,
  "vscode": {
   "interpreter": {
    "hash": "cd3e04b79b22c2a61b6815ecea0d93d7d0a83bc295cb411e510169362b7f6e5c"
   }
  }
 },
 "nbformat": 4,
 "nbformat_minor": 2
}
