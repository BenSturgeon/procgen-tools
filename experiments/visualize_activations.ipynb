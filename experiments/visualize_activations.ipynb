{
 "cells": [
  {
   "cell_type": "code",
   "execution_count": 2,
   "metadata": {},
   "outputs": [
    {
     "name": "stdout",
     "output_type": "stream",
     "text": [
      "Already downloaded https://nerdsniper.net/mats/episode_data.tgz\n",
      "Already downloaded https://nerdsniper.net/mats/patch_data.tgz\n",
      "Already downloaded https://nerdsniper.net/mats/data.tgz\n",
      "Already downloaded https://nerdsniper.net/mats/model_rand_region_5.pth\n"
     ]
    }
   ],
   "source": [
    "try:\n",
    "    import procgen_tools\n",
    "except ImportError or ModuleNotFoundError:\n",
    "    get_ipython().run_line_magic(magic_name='pip', line='install -U git+https://github.com/ulissemini/procgen-tools')\n",
    "\n",
    "from procgen_tools.utils import setup\n",
    "\n",
    "setup() # create directory structure and download data "
   ]
  },
  {
   "cell_type": "code",
   "execution_count": 3,
   "metadata": {},
   "outputs": [],
   "source": [
    "from procgen_tools.imports import *\n",
    "from procgen_tools.procgen_imports import *"
   ]
  },
  {
   "attachments": {},
   "cell_type": "markdown",
   "metadata": {},
   "source": [
    "# Visualizing details of the goal misgeneralization nets\n",
    "Let's understand lots of details about [the goal misgeneralization paper](https://arxiv.org/abs/2105.14111). In particular, we'll be looking at the cheese-maze task from the goal misgeneralization task, for which cheese was spawned in the 5x5 top-right corner of the maze. \n",
    "\n",
    "Key conclusions:\n",
    "1. Convolutional layers limit speed of information propagation (_locality_). More precisely, ignoring the effect of `maxpool2D` layers, any portions of the state separated by `n` pixels take at least `ceil(n/2)` convolutional layers to interact.\n",
    "2. In the maximal maze size of 64 x 64, there is at most **two** steps of computation involving information from e.g. opposite corners of the maze. "
   ]
  },
  {
   "attachments": {},
   "cell_type": "markdown",
   "metadata": {},
   "source": [
    "Let's visualize the network structure. Here's a Mermaid diagram. \n",
    "\n",
    "![](https://i.imgur.com/5oSHoVQ.png) "
   ]
  },
  {
   "attachments": {},
   "cell_type": "markdown",
   "metadata": {},
   "source": [
    "This network is actually substantially overparameterized. The convolutional layers have a `scale` setting, which is set to 4 in Langosco et al.'s trained networks. Scale and generalization seems similar across scale settings.\n",
    "\n",
    "Let's examine how many parameters are in each layer, for the current network (which is `scale=4`). "
   ]
  },
  {
   "cell_type": "code",
   "execution_count": 58,
   "metadata": {},
   "outputs": [
    {
     "data": {
      "application/vnd.plotly.v1+json": {
       "config": {
        "plotlyServerURL": "https://plot.ly"
       },
       "data": [
        {
         "hoverlabel": {
          "bgcolor": "white"
         },
         "hovertemplate": "%{text:,} parameters<extra></extra>",
         "orientation": "h",
         "text": [
          "1728",
          "36864",
          "36864",
          "36864",
          "36864",
          "73728",
          "147456",
          "147456",
          "147456",
          "147456",
          "147456",
          "147456",
          "147456",
          "147456",
          "147456",
          "2097152",
          "3840",
          "256"
         ],
         "type": "bar",
         "x": [
          1728,
          36864,
          36864,
          36864,
          36864,
          73728,
          147456,
          147456,
          147456,
          147456,
          147456,
          147456,
          147456,
          147456,
          147456,
          2097152,
          3840,
          256
         ],
         "y": [
          "block1.conv",
          "block1.res1.conv1",
          "block1.res1.conv2",
          "block1.res2.conv1",
          "block1.res2.conv2",
          "block2.conv",
          "block2.res1.conv1",
          "block2.res1.conv2",
          "block2.res2.conv1",
          "block2.res2.conv2",
          "block3.conv",
          "block3.res1.conv1",
          "block3.res1.conv2",
          "block3.res2.conv1",
          "block3.res2.conv2",
          "fc",
          "fc_policy",
          "fc_value"
         ]
        }
       ],
       "layout": {
        "annotations": [
         {
          "font": {
           "size": 12
          },
          "showarrow": false,
          "text": "3,653,136 parameters in total",
          "x": 0.45,
          "xref": "paper",
          "y": 1.12,
          "yref": "paper"
         }
        ],
        "template": {
         "data": {
          "bar": [
           {
            "error_x": {
             "color": "#2a3f5f"
            },
            "error_y": {
             "color": "#2a3f5f"
            },
            "marker": {
             "line": {
              "color": "#E5ECF6",
              "width": 0.5
             },
             "pattern": {
              "fillmode": "overlay",
              "size": 10,
              "solidity": 0.2
             }
            },
            "type": "bar"
           }
          ],
          "barpolar": [
           {
            "marker": {
             "line": {
              "color": "#E5ECF6",
              "width": 0.5
             },
             "pattern": {
              "fillmode": "overlay",
              "size": 10,
              "solidity": 0.2
             }
            },
            "type": "barpolar"
           }
          ],
          "carpet": [
           {
            "aaxis": {
             "endlinecolor": "#2a3f5f",
             "gridcolor": "white",
             "linecolor": "white",
             "minorgridcolor": "white",
             "startlinecolor": "#2a3f5f"
            },
            "baxis": {
             "endlinecolor": "#2a3f5f",
             "gridcolor": "white",
             "linecolor": "white",
             "minorgridcolor": "white",
             "startlinecolor": "#2a3f5f"
            },
            "type": "carpet"
           }
          ],
          "choropleth": [
           {
            "colorbar": {
             "outlinewidth": 0,
             "ticks": ""
            },
            "type": "choropleth"
           }
          ],
          "contour": [
           {
            "colorbar": {
             "outlinewidth": 0,
             "ticks": ""
            },
            "colorscale": [
             [
              0,
              "#0d0887"
             ],
             [
              0.1111111111111111,
              "#46039f"
             ],
             [
              0.2222222222222222,
              "#7201a8"
             ],
             [
              0.3333333333333333,
              "#9c179e"
             ],
             [
              0.4444444444444444,
              "#bd3786"
             ],
             [
              0.5555555555555556,
              "#d8576b"
             ],
             [
              0.6666666666666666,
              "#ed7953"
             ],
             [
              0.7777777777777778,
              "#fb9f3a"
             ],
             [
              0.8888888888888888,
              "#fdca26"
             ],
             [
              1,
              "#f0f921"
             ]
            ],
            "type": "contour"
           }
          ],
          "contourcarpet": [
           {
            "colorbar": {
             "outlinewidth": 0,
             "ticks": ""
            },
            "type": "contourcarpet"
           }
          ],
          "heatmap": [
           {
            "colorbar": {
             "outlinewidth": 0,
             "ticks": ""
            },
            "colorscale": [
             [
              0,
              "#0d0887"
             ],
             [
              0.1111111111111111,
              "#46039f"
             ],
             [
              0.2222222222222222,
              "#7201a8"
             ],
             [
              0.3333333333333333,
              "#9c179e"
             ],
             [
              0.4444444444444444,
              "#bd3786"
             ],
             [
              0.5555555555555556,
              "#d8576b"
             ],
             [
              0.6666666666666666,
              "#ed7953"
             ],
             [
              0.7777777777777778,
              "#fb9f3a"
             ],
             [
              0.8888888888888888,
              "#fdca26"
             ],
             [
              1,
              "#f0f921"
             ]
            ],
            "type": "heatmap"
           }
          ],
          "heatmapgl": [
           {
            "colorbar": {
             "outlinewidth": 0,
             "ticks": ""
            },
            "colorscale": [
             [
              0,
              "#0d0887"
             ],
             [
              0.1111111111111111,
              "#46039f"
             ],
             [
              0.2222222222222222,
              "#7201a8"
             ],
             [
              0.3333333333333333,
              "#9c179e"
             ],
             [
              0.4444444444444444,
              "#bd3786"
             ],
             [
              0.5555555555555556,
              "#d8576b"
             ],
             [
              0.6666666666666666,
              "#ed7953"
             ],
             [
              0.7777777777777778,
              "#fb9f3a"
             ],
             [
              0.8888888888888888,
              "#fdca26"
             ],
             [
              1,
              "#f0f921"
             ]
            ],
            "type": "heatmapgl"
           }
          ],
          "histogram": [
           {
            "marker": {
             "pattern": {
              "fillmode": "overlay",
              "size": 10,
              "solidity": 0.2
             }
            },
            "type": "histogram"
           }
          ],
          "histogram2d": [
           {
            "colorbar": {
             "outlinewidth": 0,
             "ticks": ""
            },
            "colorscale": [
             [
              0,
              "#0d0887"
             ],
             [
              0.1111111111111111,
              "#46039f"
             ],
             [
              0.2222222222222222,
              "#7201a8"
             ],
             [
              0.3333333333333333,
              "#9c179e"
             ],
             [
              0.4444444444444444,
              "#bd3786"
             ],
             [
              0.5555555555555556,
              "#d8576b"
             ],
             [
              0.6666666666666666,
              "#ed7953"
             ],
             [
              0.7777777777777778,
              "#fb9f3a"
             ],
             [
              0.8888888888888888,
              "#fdca26"
             ],
             [
              1,
              "#f0f921"
             ]
            ],
            "type": "histogram2d"
           }
          ],
          "histogram2dcontour": [
           {
            "colorbar": {
             "outlinewidth": 0,
             "ticks": ""
            },
            "colorscale": [
             [
              0,
              "#0d0887"
             ],
             [
              0.1111111111111111,
              "#46039f"
             ],
             [
              0.2222222222222222,
              "#7201a8"
             ],
             [
              0.3333333333333333,
              "#9c179e"
             ],
             [
              0.4444444444444444,
              "#bd3786"
             ],
             [
              0.5555555555555556,
              "#d8576b"
             ],
             [
              0.6666666666666666,
              "#ed7953"
             ],
             [
              0.7777777777777778,
              "#fb9f3a"
             ],
             [
              0.8888888888888888,
              "#fdca26"
             ],
             [
              1,
              "#f0f921"
             ]
            ],
            "type": "histogram2dcontour"
           }
          ],
          "mesh3d": [
           {
            "colorbar": {
             "outlinewidth": 0,
             "ticks": ""
            },
            "type": "mesh3d"
           }
          ],
          "parcoords": [
           {
            "line": {
             "colorbar": {
              "outlinewidth": 0,
              "ticks": ""
             }
            },
            "type": "parcoords"
           }
          ],
          "pie": [
           {
            "automargin": true,
            "type": "pie"
           }
          ],
          "scatter": [
           {
            "fillpattern": {
             "fillmode": "overlay",
             "size": 10,
             "solidity": 0.2
            },
            "type": "scatter"
           }
          ],
          "scatter3d": [
           {
            "line": {
             "colorbar": {
              "outlinewidth": 0,
              "ticks": ""
             }
            },
            "marker": {
             "colorbar": {
              "outlinewidth": 0,
              "ticks": ""
             }
            },
            "type": "scatter3d"
           }
          ],
          "scattercarpet": [
           {
            "marker": {
             "colorbar": {
              "outlinewidth": 0,
              "ticks": ""
             }
            },
            "type": "scattercarpet"
           }
          ],
          "scattergeo": [
           {
            "marker": {
             "colorbar": {
              "outlinewidth": 0,
              "ticks": ""
             }
            },
            "type": "scattergeo"
           }
          ],
          "scattergl": [
           {
            "marker": {
             "colorbar": {
              "outlinewidth": 0,
              "ticks": ""
             }
            },
            "type": "scattergl"
           }
          ],
          "scattermapbox": [
           {
            "marker": {
             "colorbar": {
              "outlinewidth": 0,
              "ticks": ""
             }
            },
            "type": "scattermapbox"
           }
          ],
          "scatterpolar": [
           {
            "marker": {
             "colorbar": {
              "outlinewidth": 0,
              "ticks": ""
             }
            },
            "type": "scatterpolar"
           }
          ],
          "scatterpolargl": [
           {
            "marker": {
             "colorbar": {
              "outlinewidth": 0,
              "ticks": ""
             }
            },
            "type": "scatterpolargl"
           }
          ],
          "scatterternary": [
           {
            "marker": {
             "colorbar": {
              "outlinewidth": 0,
              "ticks": ""
             }
            },
            "type": "scatterternary"
           }
          ],
          "surface": [
           {
            "colorbar": {
             "outlinewidth": 0,
             "ticks": ""
            },
            "colorscale": [
             [
              0,
              "#0d0887"
             ],
             [
              0.1111111111111111,
              "#46039f"
             ],
             [
              0.2222222222222222,
              "#7201a8"
             ],
             [
              0.3333333333333333,
              "#9c179e"
             ],
             [
              0.4444444444444444,
              "#bd3786"
             ],
             [
              0.5555555555555556,
              "#d8576b"
             ],
             [
              0.6666666666666666,
              "#ed7953"
             ],
             [
              0.7777777777777778,
              "#fb9f3a"
             ],
             [
              0.8888888888888888,
              "#fdca26"
             ],
             [
              1,
              "#f0f921"
             ]
            ],
            "type": "surface"
           }
          ],
          "table": [
           {
            "cells": {
             "fill": {
              "color": "#EBF0F8"
             },
             "line": {
              "color": "white"
             }
            },
            "header": {
             "fill": {
              "color": "#C8D4E3"
             },
             "line": {
              "color": "white"
             }
            },
            "type": "table"
           }
          ]
         },
         "layout": {
          "annotationdefaults": {
           "arrowcolor": "#2a3f5f",
           "arrowhead": 0,
           "arrowwidth": 1
          },
          "autotypenumbers": "strict",
          "coloraxis": {
           "colorbar": {
            "outlinewidth": 0,
            "ticks": ""
           }
          },
          "colorscale": {
           "diverging": [
            [
             0,
             "#8e0152"
            ],
            [
             0.1,
             "#c51b7d"
            ],
            [
             0.2,
             "#de77ae"
            ],
            [
             0.3,
             "#f1b6da"
            ],
            [
             0.4,
             "#fde0ef"
            ],
            [
             0.5,
             "#f7f7f7"
            ],
            [
             0.6,
             "#e6f5d0"
            ],
            [
             0.7,
             "#b8e186"
            ],
            [
             0.8,
             "#7fbc41"
            ],
            [
             0.9,
             "#4d9221"
            ],
            [
             1,
             "#276419"
            ]
           ],
           "sequential": [
            [
             0,
             "#0d0887"
            ],
            [
             0.1111111111111111,
             "#46039f"
            ],
            [
             0.2222222222222222,
             "#7201a8"
            ],
            [
             0.3333333333333333,
             "#9c179e"
            ],
            [
             0.4444444444444444,
             "#bd3786"
            ],
            [
             0.5555555555555556,
             "#d8576b"
            ],
            [
             0.6666666666666666,
             "#ed7953"
            ],
            [
             0.7777777777777778,
             "#fb9f3a"
            ],
            [
             0.8888888888888888,
             "#fdca26"
            ],
            [
             1,
             "#f0f921"
            ]
           ],
           "sequentialminus": [
            [
             0,
             "#0d0887"
            ],
            [
             0.1111111111111111,
             "#46039f"
            ],
            [
             0.2222222222222222,
             "#7201a8"
            ],
            [
             0.3333333333333333,
             "#9c179e"
            ],
            [
             0.4444444444444444,
             "#bd3786"
            ],
            [
             0.5555555555555556,
             "#d8576b"
            ],
            [
             0.6666666666666666,
             "#ed7953"
            ],
            [
             0.7777777777777778,
             "#fb9f3a"
            ],
            [
             0.8888888888888888,
             "#fdca26"
            ],
            [
             1,
             "#f0f921"
            ]
           ]
          },
          "colorway": [
           "#636efa",
           "#EF553B",
           "#00cc96",
           "#ab63fa",
           "#FFA15A",
           "#19d3f3",
           "#FF6692",
           "#B6E880",
           "#FF97FF",
           "#FECB52"
          ],
          "font": {
           "color": "#2a3f5f"
          },
          "geo": {
           "bgcolor": "white",
           "lakecolor": "white",
           "landcolor": "#E5ECF6",
           "showlakes": true,
           "showland": true,
           "subunitcolor": "white"
          },
          "hoverlabel": {
           "align": "left"
          },
          "hovermode": "closest",
          "mapbox": {
           "style": "light"
          },
          "paper_bgcolor": "white",
          "plot_bgcolor": "#E5ECF6",
          "polar": {
           "angularaxis": {
            "gridcolor": "white",
            "linecolor": "white",
            "ticks": ""
           },
           "bgcolor": "#E5ECF6",
           "radialaxis": {
            "gridcolor": "white",
            "linecolor": "white",
            "ticks": ""
           }
          },
          "scene": {
           "xaxis": {
            "backgroundcolor": "#E5ECF6",
            "gridcolor": "white",
            "gridwidth": 2,
            "linecolor": "white",
            "showbackground": true,
            "ticks": "",
            "zerolinecolor": "white"
           },
           "yaxis": {
            "backgroundcolor": "#E5ECF6",
            "gridcolor": "white",
            "gridwidth": 2,
            "linecolor": "white",
            "showbackground": true,
            "ticks": "",
            "zerolinecolor": "white"
           },
           "zaxis": {
            "backgroundcolor": "#E5ECF6",
            "gridcolor": "white",
            "gridwidth": 2,
            "linecolor": "white",
            "showbackground": true,
            "ticks": "",
            "zerolinecolor": "white"
           }
          },
          "shapedefaults": {
           "line": {
            "color": "#2a3f5f"
           }
          },
          "ternary": {
           "aaxis": {
            "gridcolor": "white",
            "linecolor": "white",
            "ticks": ""
           },
           "baxis": {
            "gridcolor": "white",
            "linecolor": "white",
            "ticks": ""
           },
           "bgcolor": "#E5ECF6",
           "caxis": {
            "gridcolor": "white",
            "linecolor": "white",
            "ticks": ""
           }
          },
          "title": {
           "x": 0.05
          },
          "xaxis": {
           "automargin": true,
           "gridcolor": "white",
           "linecolor": "white",
           "ticks": "",
           "title": {
            "standoff": 15
           },
           "zerolinecolor": "white",
           "zerolinewidth": 2
          },
          "yaxis": {
           "automargin": true,
           "gridcolor": "white",
           "linecolor": "white",
           "ticks": "",
           "title": {
            "standoff": 15
           },
           "zerolinecolor": "white",
           "zerolinewidth": 2
          }
         }
        },
        "title": {
         "text": "Model Parameters per Layer",
         "x": 0.5,
         "xanchor": "center",
         "y": 0.9,
         "yanchor": "top"
        },
        "xaxis": {
         "title": {
          "text": "Parameters"
         },
         "type": "log"
        },
        "yaxis": {
         "title": {
          "text": "Layer (excluding biases)"
         }
        }
       }
      }
     },
     "metadata": {},
     "output_type": "display_data"
    }
   ],
   "source": [
    "# Tabulate the number of model parameters per layer\n",
    "from procgen_tools.visualization import format_label\n",
    "\n",
    "from tabulate import tabulate\n",
    "table = []\n",
    "for name, param in policy.named_parameters():\n",
    "    table.append([format_label(name), param.numel()])\n",
    "total_params = sum([param.numel() for name, param in policy.named_parameters()])\n",
    "\n",
    "# Display in a bar chart using plotly, setting the y axis to the label names\n",
    "\n",
    "# Remove \".weight\" from the labels \n",
    "non_bias_labels = [row[0] for row in table if 'bias' not in row[0]]\n",
    "non_bias_labels = [label.replace('.weight', '') for label in non_bias_labels]\n",
    "non_bias_table = [row for row in table if 'bias' not in row[0]]\n",
    "\n",
    "fig = go.Figure(data=[go.Bar(y=non_bias_labels, x=[row[1] for row in non_bias_table], orientation='h')])\n",
    "# Format the total number of parameters to be e.g. 365M\n",
    "formatted_total = format(total_params, ',')\n",
    "# Set subtitle to say total number of parameters\n",
    "fig.update_layout(\n",
    "    title={ 'text': f'Model Parameters per Layer', 'y':0.9, 'x':0.5, 'xanchor': 'center', 'yanchor': 'top'}, \n",
    "    xaxis_title='Parameters', \n",
    "    yaxis_title='Layer (excluding biases)',\n",
    "    annotations=[ dict( x=0.45, y=1.12, xref='paper', yref='paper', text=f'{formatted_total} parameters in total', showarrow=False, font=dict( size=12)) ]\n",
    "    )\n",
    "# Set mouse-over text to show the number of parameters, without showing \"Trace 0\" etc.\n",
    "fig.update_traces(text=[row[1] for row in non_bias_table], hovertemplate='%{text:,} parameters<extra></extra>', hoverlabel=dict(bgcolor='white'), )\n",
    "\n",
    "# Set x axis to be logarithmic\n",
    "fig.update_xaxes(type=\"log\")\n",
    "\n",
    "fig.show()"
   ]
  },
  {
   "attachments": {},
   "cell_type": "markdown",
   "metadata": {},
   "source": [
    "And here's a more dynamic view; small nodes are activations, and large nodes are `nn.Module`s."
   ]
  },
  {
   "cell_type": "code",
   "execution_count": 35,
   "metadata": {},
   "outputs": [
    {
     "data": {},
     "metadata": {},
     "output_type": "display_data"
    },
    {
     "data": {
      "application/vnd.holoviews_exec.v0+json": "",
      "text/html": [
       "<div id='1003'>\n",
       "  <div class=\"bk-root\" id=\"a0f95888-2f2a-4047-9a2d-247d466a1dbc\" data-root-id=\"1003\"></div>\n",
       "</div>\n",
       "<script type=\"application/javascript\">(function(root) {\n",
       "  function embed_document(root) {\n",
       "    var docs_json = {\"0192bf92-b208-4a9d-b366-66c6fd66b694\":{\"defs\":[{\"extends\":null,\"module\":null,\"name\":\"ReactiveHTML1\",\"overrides\":[],\"properties\":[]},{\"extends\":null,\"module\":null,\"name\":\"FlexBox1\",\"overrides\":[],\"properties\":[{\"default\":\"flex-start\",\"kind\":null,\"name\":\"align_content\"},{\"default\":\"flex-start\",\"kind\":null,\"name\":\"align_items\"},{\"default\":\"row\",\"kind\":null,\"name\":\"flex_direction\"},{\"default\":\"wrap\",\"kind\":null,\"name\":\"flex_wrap\"},{\"default\":\"flex-start\",\"kind\":null,\"name\":\"justify_content\"}]},{\"extends\":null,\"module\":null,\"name\":\"GridStack1\",\"overrides\":[],\"properties\":[{\"default\":\"warn\",\"kind\":null,\"name\":\"mode\"},{\"default\":null,\"kind\":null,\"name\":\"ncols\"},{\"default\":null,\"kind\":null,\"name\":\"nrows\"},{\"default\":true,\"kind\":null,\"name\":\"allow_resize\"},{\"default\":true,\"kind\":null,\"name\":\"allow_drag\"},{\"default\":[],\"kind\":null,\"name\":\"state\"}]},{\"extends\":null,\"module\":null,\"name\":\"click1\",\"overrides\":[],\"properties\":[{\"default\":\"\",\"kind\":null,\"name\":\"terminal_output\"},{\"default\":\"\",\"kind\":null,\"name\":\"debug_name\"},{\"default\":0,\"kind\":null,\"name\":\"clears\"}]},{\"extends\":null,\"module\":null,\"name\":\"NotificationAreaBase1\",\"overrides\":[],\"properties\":[{\"default\":\"bottom-right\",\"kind\":null,\"name\":\"position\"},{\"default\":0,\"kind\":null,\"name\":\"_clear\"}]},{\"extends\":null,\"module\":null,\"name\":\"NotificationArea1\",\"overrides\":[],\"properties\":[{\"default\":[],\"kind\":null,\"name\":\"notifications\"},{\"default\":\"bottom-right\",\"kind\":null,\"name\":\"position\"},{\"default\":0,\"kind\":null,\"name\":\"_clear\"},{\"default\":[{\"background\":\"#ffc107\",\"icon\":{\"className\":\"fas fa-exclamation-triangle\",\"color\":\"white\",\"tagName\":\"i\"},\"type\":\"warning\"},{\"background\":\"#007bff\",\"icon\":{\"className\":\"fas fa-info-circle\",\"color\":\"white\",\"tagName\":\"i\"},\"type\":\"info\"}],\"kind\":null,\"name\":\"types\"}]},{\"extends\":null,\"module\":null,\"name\":\"Notification\",\"overrides\":[],\"properties\":[{\"default\":null,\"kind\":null,\"name\":\"background\"},{\"default\":3000,\"kind\":null,\"name\":\"duration\"},{\"default\":null,\"kind\":null,\"name\":\"icon\"},{\"default\":\"\",\"kind\":null,\"name\":\"message\"},{\"default\":null,\"kind\":null,\"name\":\"notification_type\"},{\"default\":false,\"kind\":null,\"name\":\"_destroyed\"}]},{\"extends\":null,\"module\":null,\"name\":\"TemplateActions1\",\"overrides\":[],\"properties\":[{\"default\":0,\"kind\":null,\"name\":\"open_modal\"},{\"default\":0,\"kind\":null,\"name\":\"close_modal\"}]},{\"extends\":null,\"module\":null,\"name\":\"MaterialTemplateActions1\",\"overrides\":[],\"properties\":[{\"default\":0,\"kind\":null,\"name\":\"open_modal\"},{\"default\":0,\"kind\":null,\"name\":\"close_modal\"}]}],\"roots\":{\"references\":[{\"attributes\":{\"bottom_units\":\"screen\",\"coordinates\":null,\"fill_alpha\":0.5,\"fill_color\":\"lightgrey\",\"group\":null,\"left_units\":\"screen\",\"level\":\"overlay\",\"line_alpha\":1.0,\"line_color\":\"black\",\"line_dash\":[4,4],\"line_width\":2,\"right_units\":\"screen\",\"syncable\":false,\"top_units\":\"screen\"},\"id\":\"1030\",\"type\":\"BoxAnnotation\"},{\"attributes\":{},\"id\":\"1012\",\"type\":\"LinearScale\"},{\"attributes\":{\"data\":{\"end\":{\"__ndarray__\":\"SwAAAFIAAABAAAAAQQAAAEoAAAAuAAAAMwAAAEkAAABCAAAATgAAAEwAAAA9AAAAPgAAADIAAAA7AAAAMAAAADgAAAAsAAAANAAAAE8AAABRAAAAOQAAACsAAABHAAAAQwAAAFAAAAA8AAAAOgAAAEUAAAA1AAAAPwAAADcAAABNAAAASAAAAFMAAAAvAAAANgAAADEAAABUAAAALQAAAEYAAABEAAAAFgAAABEAAAAnAAAAJQAAAAUAAAAjAAAADwAAACUAAAANAAAAJAAAAAYAAAASAAAAHQAAACQAAAAfAAAAEAAAABUAAAALAAAAGwAAAA4AAAAaAAAACwAAAAgAAAAMAAAAHgAAAAIAAAADAAAACAAAABgAAAApAAAAHAAAAAcAAAAoAAAAFwAAACEAAAAHAAAABAAAAAkAAAAAAAAACgAAACAAAAAJAAAAEwAAABkAAAAUAAAAAQAAACYAAAAiAAAA\",\"dtype\":\"int32\",\"order\":\"little\",\"shape\":[90]},\"start\":{\"__ndarray__\":\"AAAAAAEAAAACAAAAAwAAAAQAAAAFAAAABgAAAAcAAAAIAAAACQAAAAoAAAALAAAADAAAAA0AAAAOAAAADwAAABAAAAARAAAAEgAAABMAAAAUAAAAFQAAABYAAAAXAAAAGAAAABkAAAAaAAAAGwAAABwAAAAdAAAAHgAAAB8AAAAgAAAAIQAAACIAAAAjAAAAJAAAACUAAAAmAAAAJwAAACgAAAApAAAAKgAAACsAAAAsAAAALAAAAC0AAAAuAAAALwAAADAAAAAxAAAAMQAAADIAAAAzAAAANAAAADUAAAA2AAAANwAAADgAAAA4AAAAOQAAADoAAAA7AAAAPAAAAD0AAAA9AAAAPgAAAD8AAABAAAAAQQAAAEIAAABDAAAARAAAAEQAAABFAAAARgAAAEcAAABIAAAASQAAAEkAAABKAAAASwAAAEwAAABNAAAATgAAAE8AAABQAAAAUQAAAFIAAABSAAAA\",\"dtype\":\"int32\",\"order\":\"little\",\"shape\":[90]},\"xs\":[{\"__ndarray__\":\"Lo+fcaFP5T+ZbylPdmvnPwAAAAAAAPh/pDk7uoXM5j+ZbylPdmvnP5ePkN9QweY/\",\"dtype\":\"float64\",\"order\":\"little\",\"shape\":[6]},{\"__ndarray__\":\"38/Cv15+6z+yMirXngDtPwAAAAAAAPh/bXQrs4qt7D+yMirXngDtP6e36wkAVuw/\",\"dtype\":\"float64\",\"order\":\"little\",\"shape\":[6]},{\"__ndarray__\":\"gWx1pme7tr+3memaeRGYvwAAAAAAAPh/8Osxm/7apb+3memaeRGYv5/ezqhLvaa/\",\"dtype\":\"float64\",\"order\":\"little\",\"shape\":[6]},{\"__ndarray__\":\"Q/yFP8hDmD8JxMOxwm2jPwAAAAAAAPh/i37hJHuvpT8JxMOxwm2jP2qG5SFnlJo/\",\"dtype\":\"float64\",\"order\":\"little\",\"shape\":[6]},{\"__ndarray__\":\"iAKFe7U+4T9GtsidxD/jPwAAAAAAAPh/LqyIItOO4j9GtsidxD/jPxbDLkdU1OI/\",\"dtype\":\"float64\",\"order\":\"little\",\"shape\":[6]},{\"__ndarray__\":\"1732MVH57r8Zfph0zyfvvwAAAAAAAPh/l5dTm6td778Zfph0zyfvv4ocpBFp1e6/\",\"dtype\":\"float64\",\"order\":\"little\",\"shape\":[6]},{\"__ndarray__\":\"P7x9kp3l6b+KxUqxJqTovwAAAAAAAPh/fXgutuw76b+KxUqxJqTov7xyUW/EzOi/\",\"dtype\":\"float64\",\"order\":\"little\",\"shape\":[6]},{\"__ndarray__\":\"jtZiryhd3D9z05y2wiDgPwAAAAAAAPh/Bxck5aWu3z9z05y2wiDgP6L5/T5F894/\",\"dtype\":\"float64\",\"order\":\"little\",\"shape\":[6]},{\"__ndarray__\":\"heKBo7kub7/jwsGb306xPwAAAAAAAPh/0iqnX/gMqj/jwsGb306xP8pq78fAfac/\",\"dtype\":\"float64\",\"order\":\"little\",\"shape\":[6]},{\"__ndarray__\":\"Tw8/723O4j+zbmnBhLDiPwAAAAAAAPh/8XZXR2T94j+zbmnBhLDiP4lNeATOdOI/\",\"dtype\":\"float64\",\"order\":\"little\",\"shape\":[6]},{\"__ndarray__\":\"pJYwDtQT6T/jR5mobbzpPwAAAAAAAPh/eTxOJ67J6T/jR5mobbzpPxTT6ELJR+k/\",\"dtype\":\"float64\",\"order\":\"little\",\"shape\":[6]},{\"__ndarray__\":\"GjGxcpAzwL8uZ9J8P8O2vwAAAAAAAPh/Rl1PI6r3ur8uZ9J8P8O2v7sM17kkI7e/\",\"dtype\":\"float64\",\"order\":\"little\",\"shape\":[6]},{\"__ndarray__\":\"UcG/WvEYxb83EjCWH6nHvwAAAAAAAPh/EZqyxov9x783EjCWH6nHv3r3fwzq7sW/\",\"dtype\":\"float64\",\"order\":\"little\",\"shape\":[6]},{\"__ndarray__\":\"ws4Lu0Vp6L/KrU83aOPpvwAAAAAAAPh/lvZnmfC16b/KrU83aOPpv34/MwEOSem/\",\"dtype\":\"float64\",\"order\":\"little\",\"shape\":[6]},{\"__ndarray__\":\"UD/ebjLGtr+1/Gxzja6qvwAAAAAAAPh/kursTw/xsb+1/Gxzja6qv/IGQ+Q8tqy/\",\"dtype\":\"float64\",\"order\":\"little\",\"shape\":[6]},{\"__ndarray__\":\"pewdSdBN6r8FVDvlpRjovwAAAAAAAPh/E/OedtrC6L8FVDvlpRjov3mP9sl/t+i/\",\"dtype\":\"float64\",\"order\":\"little\",\"shape\":[6]},{\"__ndarray__\":\"jFUeVhoV0r+Y2JaTv1nLvwAAAAAAAPh/pGxyI81szb+Y2JaTv1nLv+g+u4aVI86/\",\"dtype\":\"float64\",\"order\":\"little\",\"shape\":[6]},{\"__ndarray__\":\"1fo/LS3r5r/l3TyAj/vnvwAAAAAAAPh/6l0hc5Lh57/l3TyAj/vnv0/v0asqbOe/\",\"dtype\":\"float64\",\"order\":\"little\",\"shape\":[6]},{\"__ndarray__\":\"QE6Bm1Cv5r/lhn+Os4nkvwAAAAAAAPh/EttQg5wn5b/lhn+Os4nkv24DlM+DNOW/\",\"dtype\":\"float64\",\"order\":\"little\",\"shape\":[6]},{\"__ndarray__\":\"n7Whdcxa4z+qgn33fGzkPwAAAAAAAPh/DJWvMvhX5D+qgn33fGzkP4HnZVJ04OM/\",\"dtype\":\"float64\",\"order\":\"little\",\"shape\":[6]},{\"__ndarray__\":\"uYkmZPyD6D80el7VHv7pPwAAAAAAAPh/e3DDrP+z6T80el7VHv7pP6cd5fC6Vuk/\",\"dtype\":\"float64\",\"order\":\"little\",\"shape\":[6]},{\"__ndarray__\":\"QuWd0Owe0b/E5eaYwKDQvwAAAAAAAPh/XEDx9tU60L/E5eaYwKDQv2qlqC3qStG/\",\"dtype\":\"float64\",\"order\":\"little\",\"shape\":[6]},{\"__ndarray__\":\"BhNb6+TK5r8oozluDJzmvwAAAAAAAPh/06Aii0zu5r8oozluDJzmv6UlIisHZua/\",\"dtype\":\"float64\",\"order\":\"little\",\"shape\":[6]},{\"__ndarray__\":\"gMzUO2k+3j+zrpK2mcLgPwAAAAAAAPh/GavLr3lw4D+zrpK2mcLgPz+QNIxNGOA/\",\"dtype\":\"float64\",\"order\":\"little\",\"shape\":[6]},{\"__ndarray__\":\"TkRHAMQVwj//IlYtoVfLPwAAAAAAAPh/gkfoUBmqyD//IlYtoVfLP5RcVNa448g/\",\"dtype\":\"float64\",\"order\":\"little\",\"shape\":[6]},{\"__ndarray__\":\"BtOTWeSx5T82M16fGxPnPwAAAAAAAPh/mI2Sa8XZ5j82M16fGxPnP7JWN4jicuY/\",\"dtype\":\"float64\",\"order\":\"little\",\"shape\":[6]},{\"__ndarray__\":\"vtpohKVMpL+P2GbejgGsvwAAAAAAAPh/4GwmQG8Prr+P2GbejgGsvxDw0wYhsqW/\",\"dtype\":\"float64\",\"order\":\"little\",\"shape\":[6]},{\"__ndarray__\":\"nOkvFFwwy78eVurR9crCvwAAAAAAAPh/flD21mBExb8eVurR9crCv2woUzQVdcW/\",\"dtype\":\"float64\",\"order\":\"little\",\"shape\":[6]},{\"__ndarray__\":\"0entsa4r0z90/DzZ3JvTPwAAAAAAAPh/01bWH/r10j90/DzZ3JvTP+iA2gxqBtQ/\",\"dtype\":\"float64\",\"order\":\"little\",\"shape\":[6]},{\"__ndarray__\":\"QjKnbPPC4r8U5RQ8OcnhvwAAAAAAAPh/X7GgrSzO4b8U5RQ8Ocnhv7oVe1sJS+K/\",\"dtype\":\"float64\",\"order\":\"little\",\"shape\":[6]},{\"__ndarray__\":\"Q2DOlqPMxr9lNsGgqZzCvwAAAAAAAPh/I7peQYrLxL9lNsGgqZzCv9+1nbi67MK/\",\"dtype\":\"float64\",\"order\":\"little\",\"shape\":[6]},{\"__ndarray__\":\"sA4pKMRc27/3IGTq8rzWvwAAAAAAAPh/V18xZ4cC2L/3IGTq8rzWv+SIe7hpC9i/\",\"dtype\":\"float64\",\"order\":\"little\",\"shape\":[6]},{\"__ndarray__\":\"GN0qjeff6D9Sp84MJqXmPwAAAAAAAPh/8DCLAs1X5z9Sp84MJqXmP8gF7fhsJuc/\",\"dtype\":\"float64\",\"order\":\"little\",\"shape\":[6]},{\"__ndarray__\":\"wUNEGBJD4T8YLhAjsX3gPwAAAAAAAPh/+03dUuLx4D8YLhAjsX3gPwJm6zjZb+A/\",\"dtype\":\"float64\",\"order\":\"little\",\"shape\":[6]},{\"__ndarray__\":\"k+YFLrJ+7j8AAAAAAADwPwAAAAAAAPh/Mjk1KKOo7z8AAAAAAADwP9VKs4L+U+8/\",\"dtype\":\"float64\",\"order\":\"little\",\"shape\":[6]},{\"__ndarray__\":\"Lv36aicu7r+h50Bjn23svwAAAAAAAPh/4l35r6Ac7b+h50Bjn23sv5HMZ8rNz+y/\",\"dtype\":\"float64\",\"order\":\"little\",\"shape\":[6]},{\"__ndarray__\":\"u4Ndx2Bj4r8PiUBYSwXgvwAAAAAAAPh/PZhiSe2T4L8PiUBYSwXgv1pQdItGtuC/\",\"dtype\":\"float64\",\"order\":\"little\",\"shape\":[6]},{\"__ndarray__\":\"PBPbpLw05r8JQ0Yz+TjlvwAAAAAAAPh/Z93iBIO05b8JQ0Yz+Tjlv4TkJpcGNeW/\",\"dtype\":\"float64\",\"order\":\"little\",\"shape\":[6]},{\"__ndarray__\":\"RaeBZbd+7j9g1gYM/v/vPwAAAAAAAPh/6UUtsaSo7z9g1gYM/v/vP951UqT9U+8/\",\"dtype\":\"float64\",\"order\":\"little\",\"shape\":[6]},{\"__ndarray__\":\"EY2NoCMb67/2jpl3WVbtvwAAAAAAAPh/S6qji9aj7L/2jpl3WVbtvyjO1BRO0uy/\",\"dtype\":\"float64\",\"order\":\"little\",\"shape\":[6]},{\"__ndarray__\":\"Isj+/RER1j/V7pgbjgTaPwAAAAAAAPh/4S1eyCqf2D/V7pgbjgTaP47iSZoRCtk/\",\"dtype\":\"float64\",\"order\":\"little\",\"shape\":[6]},{\"__ndarray__\":\"KCnsOpor0j8pzoPnVknWPwAAAAAAAPh/XP4ta2Xp1D8pzoPnVknWP/TNAVh6fNU/\",\"dtype\":\"float64\",\"order\":\"little\",\"shape\":[6]},{\"__ndarray__\":\"NIIjXZ1B578GE1vr5MrmvwAAAAAAAPh/0YrH1oUy578GE1vr5Mrmv+Hp/Og5rea/\",\"dtype\":\"float64\",\"order\":\"little\",\"shape\":[6]},{\"__ndarray__\":\"KKM5bgyc5r/V+j8tLevmvwAAAAAAAPh/1hH78UkX57/V+j8tLevmv2bhdRzrj+a/\",\"dtype\":\"float64\",\"order\":\"little\",\"shape\":[6]},{\"__ndarray__\":\"5d08gI/7578RjY2gIxvrvwAAAAAAAPh/eaF5hU1x6r8RjY2gIxvrv7kF0dNZyuq/\",\"dtype\":\"float64\",\"order\":\"little\",\"shape\":[6]},{\"__ndarray__\":\"5d08gI/75788E9ukvDTmvwAAAAAAAPh/fu8QMtjF5r88E9ukvDTmv9sh4zaYUea/\",\"dtype\":\"float64\",\"order\":\"little\",\"shape\":[6]},{\"__ndarray__\":\"9o6Zd1lW7b/XvfYxUfnuvwAAAAAAAPh/gCRjGe+g7r/XvfYxUfnuv1tp20v/TO6/\",\"dtype\":\"float64\",\"order\":\"little\",\"shape\":[6]},{\"__ndarray__\":\"GX6YdM8n778u/fpqJy7uvwAAAAAAAPh/qDpw1CO37r8u/fpqJy7uv1tswYnfPe6/\",\"dtype\":\"float64\",\"order\":\"little\",\"shape\":[6]},{\"__ndarray__\":\"oedAY59t7L+l7B1J0E3qvwAAAAAAAPh/2+5FvY/96r+l7B1J0E3qv+0u5In24Oq/\",\"dtype\":\"float64\",\"order\":\"little\",\"shape\":[6]},{\"__ndarray__\":\"BVQ75aUY6L88E9ukvDTmvwAAAAAAAPh/80K9Nyu35r88E9ukvDTmv5NjwIdX5+a/\",\"dtype\":\"float64\",\"order\":\"little\",\"shape\":[6]},{\"__ndarray__\":\"CUNGM/k45b/Czgu7RWnovwAAAAAAAPh/bspeupbx57/Czgu7RWnov3kCkQjPtue/\",\"dtype\":\"float64\",\"order\":\"little\",\"shape\":[6]},{\"__ndarray__\":\"CUNGM/k45b+7g13HYGPivwAAAAAAAPh/wmxBi5MV47+7g13HYGPiv+Ozs6Tp1+K/\",\"dtype\":\"float64\",\"order\":\"little\",\"shape\":[6]},{\"__ndarray__\":\"yq1PN2jj6b8/vH2SneXpvwAAAAAAAPh/H/W1mlkp6r8/vH2SneXpv6n1DU6UoOm/\",\"dtype\":\"float64\",\"order\":\"little\",\"shape\":[6]},{\"__ndarray__\":\"isVKsSak6L9AToGbUK/mvwAAAAAAAPh/akZ8Uuhh579AToGbUK/mv/8UlF4zKee/\",\"dtype\":\"float64\",\"order\":\"little\",\"shape\":[6]},{\"__ndarray__\":\"5YZ/jrOJ5L9CMqds88LivwAAAAAAAPh/GhiE81ce479CMqds88Liv82ZywUpcOO/\",\"dtype\":\"float64\",\"order\":\"little\",\"shape\":[6]},{\"__ndarray__\":\"FOUUPDnJ4b+7g13HYGPivwAAAAAAAPh/Lm8NETMB4r+7g13HYGPivzPGfXmJh+K/\",\"dtype\":\"float64\",\"order\":\"little\",\"shape\":[6]},{\"__ndarray__\":\"D4lAWEsF4L+wDikoxFzbvwAAAAAAAPh/2sb0OfSc3L+wDikoxFzbv5XXIU91r9y/\",\"dtype\":\"float64\",\"order\":\"little\",\"shape\":[6]},{\"__ndarray__\":\"9yBk6vK81r+MVR5WGhXSvwAAAAAAAPh/Slp30EBN07+MVR5WGhXSv1S0UoXobNO/\",\"dtype\":\"float64\",\"order\":\"little\",\"shape\":[6]},{\"__ndarray__\":\"mNiWk79Zy79C5Z3Q7B7RvwAAAAAAAPh/cTmrpQUK0L9C5Z3Q7B7Rv9B+Z03o+tC/\",\"dtype\":\"float64\",\"order\":\"little\",\"shape\":[6]},{\"__ndarray__\":\"mNiWk79Zy78aMbFykDPAvwAAAAAAAPh/DrQfna71wr8aMbFykDPAv1coeD1P2MG/\",\"dtype\":\"float64\",\"order\":\"little\",\"shape\":[6]},{\"__ndarray__\":\"xOXmmMCg0L+c6S8UXDDLvwAAAAAAAPh/Bjv1Syk+zL+c6S8UXDDLv5XkVocxw82/\",\"dtype\":\"float64\",\"order\":\"little\",\"shape\":[6]},{\"__ndarray__\":\"Hlbq0fXKwr9QP95uMsa2vwAAAAAAAPh/m1QcZ7dRvL9QP95uMsa2v18ATeoROrq/\",\"dtype\":\"float64\",\"order\":\"little\",\"shape\":[6]},{\"__ndarray__\":\"tfxsc42uqr++2miEpUykvwAAAAAAAPh/kmpsSSpZqr++2miEpUykv0FWissG8KG/\",\"dtype\":\"float64\",\"order\":\"little\",\"shape\":[6]},{\"__ndarray__\":\"j9hm3o4BrL8aMbFykDPAvwAAAAAAAPh/DqNcBFV4vb8aMbFykDPAv0smYJr697q/\",\"dtype\":\"float64\",\"order\":\"little\",\"shape\":[6]},{\"__ndarray__\":\"LmfSfD/Dtr+F4oGjuS5vvwAAAAAAAPh/OU4UI5Xvmb+F4oGjuS5vv5ngVigp55C/\",\"dtype\":\"float64\",\"order\":\"little\",\"shape\":[6]},{\"__ndarray__\":\"LmfSfD/Dtr9Rwb9a8RjFvwAAAAAAAPh/jf8oi8iJw79Rwb9a8RjFv3fAnldmW8K/\",\"dtype\":\"float64\",\"order\":\"little\",\"shape\":[6]},{\"__ndarray__\":\"NxIwlh+px79DYM6Wo8zGvwAAAAAAAPh/tmhG4DAcyL9DYM6Wo8zGv22qT8ae+8W/\",\"dtype\":\"float64\",\"order\":\"little\",\"shape\":[6]},{\"__ndarray__\":\"ZTbBoKmcwr+BbHWmZ7u2vwAAAAAAAPh/6Auz/GNBvL+BbHWmZ7u2v920QPE1Drq/\",\"dtype\":\"float64\",\"order\":\"little\",\"shape\":[6]},{\"__ndarray__\":\"t5npmnkRmL9D/IU/yEOYPwAAAAAAAPh/qaxxARAikD9D/IU/yEOYP/h8NwiMbW4/\",\"dtype\":\"float64\",\"order\":\"little\",\"shape\":[6]},{\"__ndarray__\":\"CcTDscJtoz+F4oGjuS5vvwAAAAAAAPh/GYpcnIG9hz+F4oGjuS5vvzRFU4M/fW+/\",\"dtype\":\"float64\",\"order\":\"little\",\"shape\":[6]},{\"__ndarray__\":\"48LBm99OsT9OREcAxBXCPwAAAAAAAPh/LpGU6ecqvz9OREcAxBXCP8QTkUWs4L4/\",\"dtype\":\"float64\",\"order\":\"little\",\"shape\":[6]},{\"__ndarray__\":\"/yJWLaFXyz8oKew6mivSPwAAAAAAAPh/hQnJadzH0D8oKew6mivSP49ZeC65F9E/\",\"dtype\":\"float64\",\"order\":\"little\",\"shape\":[6]},{\"__ndarray__\":\"Kc6D51ZJ1j/R6e2xrivTPwAAAAAAAPh/PvSJ7RJO0z/R6e2xrivTP4EuCaWMP9Q/\",\"dtype\":\"float64\",\"order\":\"little\",\"shape\":[6]},{\"__ndarray__\":\"Kc6D51ZJ1j+O1mKvKF3cPwAAAAAAAPh/ryGCgFs12z+O1mKvKF3cPyo6264n/to/\",\"dtype\":\"float64\",\"order\":\"little\",\"shape\":[6]},{\"__ndarray__\":\"dPw82dyb0z8iyP79ERHWPwAAAAAAAPh/ka+4jqjo1D8iyP79ERHWP2RRoHatzNU/\",\"dtype\":\"float64\",\"order\":\"little\",\"shape\":[6]},{\"__ndarray__\":\"1e6YG44E2j+AzNQ7aT7ePwAAAAAAAPh/nkUM8s0M3T+AzNQ7aT7ePwjLK2dH49w/\",\"dtype\":\"float64\",\"order\":\"little\",\"shape\":[6]},{\"__ndarray__\":\"s66StpnC4D/BQ0QYEkPhPwAAAAAAAPh/fMgqOw1g4T/BQ0QYEkPhP6PlVyDg2uA/\",\"dtype\":\"float64\",\"order\":\"little\",\"shape\":[6]},{\"__ndarray__\":\"GC4QI7F94D+O1mKvKF3cPwAAAAAAAPh/17m6zOKi3T+O1mKvKF3cP8ago+J329w/\",\"dtype\":\"float64\",\"order\":\"little\",\"shape\":[6]},{\"__ndarray__\":\"c9OctsIg4D+IAoV7tT7hPwAAAAAAAPh/RDf/xsCw4D+IAoV7tT7hP9Rf2egVJ+E/\",\"dtype\":\"float64\",\"order\":\"little\",\"shape\":[6]},{\"__ndarray__\":\"c9OctsIg4D9PDz/vbc7iPwAAAAAAAPh/QcvYixxs4j9PDz/vbc7iPwfg8i1kH+I/\",\"dtype\":\"float64\",\"order\":\"little\",\"shape\":[6]},{\"__ndarray__\":\"RrbIncQ/4z8uj59xoU/lPwAAAAAAAPh/yLUu0vCc5D8uj59xoU/lP6EO92Lgz+Q/\",\"dtype\":\"float64\",\"order\":\"little\",\"shape\":[6]},{\"__ndarray__\":\"mW8pT3Zr5z+kljAO1BPpPwAAAAAAAPh/ECWySHu76D+kljAO1BPpP25lvP+EZ+g/\",\"dtype\":\"float64\",\"order\":\"little\",\"shape\":[6]},{\"__ndarray__\":\"40eZqG286T8Y3SqN59/oPwAAAAAAAPh/OgSwjUJh6T8Y3SqN59/oPw+CFvcw5Og/\",\"dtype\":\"float64\",\"order\":\"little\",\"shape\":[6]},{\"__ndarray__\":\"UqfODCal5j9PDz/vbc7iPwAAAAAAAPh/dL2Ovelo4z9PDz/vbc7iP6gvN9Iue+M/\",\"dtype\":\"float64\",\"order\":\"little\",\"shape\":[6]},{\"__ndarray__\":\"s25pwYSw4j+ftaF1zFrjPwAAAAAAAPh/49/RQUlr4z+ftaF1zFrjP3vaF6ui6OI/\",\"dtype\":\"float64\",\"order\":\"little\",\"shape\":[6]},{\"__ndarray__\":\"qoJ993xs5D8G05NZ5LHlPwAAAAAAAPh/zBbiVAiH5T8G05NZ5LHlP99OzszpGOU/\",\"dtype\":\"float64\",\"order\":\"little\",\"shape\":[6]},{\"__ndarray__\":\"NjNenxsT5z+5iSZk/IPoPwAAAAAAAPh/wpEUoddA6D+5iSZk/IPoP6zjT/1n3+c/\",\"dtype\":\"float64\",\"order\":\"little\",\"shape\":[6]},{\"__ndarray__\":\"NHpe1R7+6T/fz8K/Xn7rPwAAAAAAAPh/Izi9Y9Iu6z/fz8K/Xn7rP3Gd/G741Oo/\",\"dtype\":\"float64\",\"order\":\"little\",\"shape\":[6]},{\"__ndarray__\":\"sjIq154A7T9Fp4Flt37uPwAAAAAAAPh/BEZaOW4p7j9Fp4Flt37uP2ZEoW9e0+0/\",\"dtype\":\"float64\",\"order\":\"little\",\"shape\":[6]},{\"__ndarray__\":\"sjIq154A7T+T5gUusn7uPwAAAAAAAPh/hxG08Wsp7j+T5gUusn7uPzbhEita0+0/\",\"dtype\":\"float64\",\"order\":\"little\",\"shape\":[6]}],\"ys\":[{\"__ndarray__\":\"PNUs9Xlgzb/rVJs99K7MvwAAAAAAAPh/7sbp+q/1zb/rVJs99K7Mv4/Ck5tw1Mu/\",\"dtype\":\"float64\",\"order\":\"little\",\"shape\":[6]},{\"__ndarray__\":\"WI3T53tX2D9qFok+BNvaPwAAAAAAAPh/GofHN5ae2T9qFok+BNvaP27DzgbCcNo/\",\"dtype\":\"float64\",\"order\":\"little\",\"shape\":[6]},{\"__ndarray__\":\"n009UN7Q17/mcOV7pWHXvwAAAAAAAPh/Z1XmwdQL2L/mcOV7pWHXv8d7TA7B+9a/\",\"dtype\":\"float64\",\"order\":\"little\",\"shape\":[6]},{\"__ndarray__\":\"QAbBVJY81L+FiAOqJPPOvwAAAAAAAPh/r4nBCJrX0L+FiAOqJPPOv+wwY94kpNC/\",\"dtype\":\"float64\",\"order\":\"little\",\"shape\":[6]},{\"__ndarray__\":\"xi4yWkdWxb+7vex+MRHKvwAAAAAAAPh/ucNZmi+tyb+7vex+MRHKv/TCOZkB1se/\",\"dtype\":\"float64\",\"order\":\"little\",\"shape\":[6]},{\"__ndarray__\":\"WHSbppX00D+oJPv4lonJPwAAAAAAAPh/AoepciczzD+oJPv4lonJPwIMuxTeA8w/\",\"dtype\":\"float64\",\"order\":\"little\",\"shape\":[6]},{\"__ndarray__\":\"ZBYF93ggw7/QziHDESLKvwAAAAAAAPh/ClvQMryoyL/QziHDESLKvxzBVTX5ace/\",\"dtype\":\"float64\",\"order\":\"little\",\"shape\":[6]},{\"__ndarray__\":\"bHNFYHryxL8b10zGskG7vwAAAAAAAPh/Ohnqr4EswL8b10zGskG7vzqTUG3cO72/\",\"dtype\":\"float64\",\"order\":\"little\",\"shape\":[6]},{\"__ndarray__\":\"+1x3T/z7wb+FVKK6Pju+vwAAAAAAAPh/6i2ZoljowL+FVKK6Pju+v39DiPW2vL2/\",\"dtype\":\"float64\",\"order\":\"little\",\"shape\":[6]},{\"__ndarray__\":\"795/nO95qb+avVnemeWUPwAAAAAAAPh/ILTsskpqRz+avVnemeWUPwB+m8qmDyS/\",\"dtype\":\"float64\",\"order\":\"little\",\"shape\":[6]},{\"__ndarray__\":\"TP0a0OWGx79OezC2whK/vwAAAAAAAPh/xLMkQDdSwr9OezC2whK/v2e3UMvppsG/\",\"dtype\":\"float64\",\"order\":\"little\",\"shape\":[6]},{\"__ndarray__\":\"dvMtRUqNh79b6B7S62i2vwAAAAAAAPh/4o5ICR+8sr9b6B7S62i2vy4WKp+I1rC/\",\"dtype\":\"float64\",\"order\":\"little\",\"shape\":[6]},{\"__ndarray__\":\"NlAK1x+mwb/rt1sL4MHKvwAAAAAAAPh/zKhEDBP8x7/rt1sL4MHKvwDZSUFGkMi/\",\"dtype\":\"float64\",\"order\":\"little\",\"shape\":[6]},{\"__ndarray__\":\"1bzcov3OlL+vGOuKYL+0vwAAAAAAAPh/OFeUaqKxrr+vGOuKYL+0vzrKWBX27rG/\",\"dtype\":\"float64\",\"order\":\"little\",\"shape\":[6]},{\"__ndarray__\":\"OKgV1wpezj+XDvAFvRjHPwAAAAAAAPh/wjJuxeStyD+XDvAFvRjHP4Pm+cGi18k/\",\"dtype\":\"float64\",\"order\":\"little\",\"shape\":[6]},{\"__ndarray__\":\"zsZuhcD3tj+KhNh6HH+1PwAAAAAAAPh/c/Rk9Y7Lsz+KhNh6HH+1P9NCAar0Dbg/\",\"dtype\":\"float64\",\"order\":\"little\",\"shape\":[6]},{\"__ndarray__\":\"8Gztz6zCkT8CwdDlumClPwAAAAAAAPh/WlEFJMHNmz8CwdDlumClP0utsPR59aU/\",\"dtype\":\"float64\",\"order\":\"little\",\"shape\":[6]},{\"__ndarray__\":\"qMa7hRsX0D9KQNyrAA/JPwAAAAAAAPh/pzhU9zTSyz9KQNyrAA/JP4r5PqaQuco/\",\"dtype\":\"float64\",\"order\":\"little\",\"shape\":[6]},{\"__ndarray__\":\"VDetvNKyzb9wcskCfOLMvwAAAAAAAPh/mATbixwxzr9wcskCfOLMv+xGG/F2EMy/\",\"dtype\":\"float64\",\"order\":\"little\",\"shape\":[6]},{\"__ndarray__\":\"fnBIN2hotj8u+rvqouPCPwAAAAAAAPh/Lm/Mbo8dwD8u+rvqouPCP5l5FHySJ8E/\",\"dtype\":\"float64\",\"order\":\"little\",\"shape\":[6]},{\"__ndarray__\":\"VxI2xcH40j/ypjdq2rnVPwAAAAAAAPh/cwDxRqV01D/ypjdq2rnVP2xvuHu4PNU/\",\"dtype\":\"float64\",\"order\":\"little\",\"shape\":[6]},{\"__ndarray__\":\"dFihcK8mwj8sM04qeaPLPwAAAAAAAPh/85d1JFn2yD8sM04qeaPLP+o4zIziLsk/\",\"dtype\":\"float64\",\"order\":\"little\",\"shape\":[6]},{\"__ndarray__\":\"twG3FQCk2D+kBM9jImDUPwAAAAAAAPh/QHr7rG2d1T+kBM9jImDUP531UJjQtNU/\",\"dtype\":\"float64\",\"order\":\"little\",\"shape\":[6]},{\"__ndarray__\":\"lHxYb+As279Jo/xFh2nYvwAAAAAAAPh/hu4mzPOm2b9Jo/xFh2nYv65Rea3W1di/\",\"dtype\":\"float64\",\"order\":\"little\",\"shape\":[6]},{\"__ndarray__\":\"dMFm0eTyvL9Axk6I6Oi+vwAAAAAAAPh/wc8OO+s+wL9Axk6I6Oi+v9NFYfW/Pby/\",\"dtype\":\"float64\",\"order\":\"little\",\"shape\":[6]},{\"__ndarray__\":\"pwxQMpbKyT9vG33Z1AvQPwAAAAAAAPh/S1NczqZyzT9vG33Z1AvQP3DZ4Mkd284/\",\"dtype\":\"float64\",\"order\":\"little\",\"shape\":[6]},{\"__ndarray__\":\"O67iBHGevD+FB53sEKykPwAAAAAAAPh/sJP7GYGmrz+FB53sEKykP0RpmWQy460/\",\"dtype\":\"float64\",\"order\":\"little\",\"shape\":[6]},{\"__ndarray__\":\"9SatPibj0D+SOLHINEPRPwAAAAAAAPh/+kYf6pSd0D+SOLHINEPRP/yLewEKrtE/\",\"dtype\":\"float64\",\"order\":\"little\",\"shape\":[6]},{\"__ndarray__\":\"9lyMBZmU0b+LU9FnH3DWvwAAAAAAAPh/c/+Q5Iwz1b+LU9FnH3DWv4oVwy/5GtW/\",\"dtype\":\"float64\",\"order\":\"little\",\"shape\":[6]},{\"__ndarray__\":\"pVn5zZ2Ux78rKSdndbS9vwAAAAAAAPh/IJuZM8Kkwb8rKSdndbS9v0u53nJ5xcC/\",\"dtype\":\"float64\",\"order\":\"little\",\"shape\":[6]},{\"__ndarray__\":\"o2ATiGHa0b+YxqCIEaTVvwAAAAAAAPh/gMWF2j7F1L+YxqCIEaTVvwZ1jHTqQNS/\",\"dtype\":\"float64\",\"order\":\"little\",\"shape\":[6]},{\"__ndarray__\":\"eZLNQPa1ej+tses49CmCPwAAAAAAAPh/wAlKYoDmIL+tses49CmCP2z+ojaW9JA/\",\"dtype\":\"float64\",\"order\":\"little\",\"shape\":[6]},{\"__ndarray__\":\"mAhv6bkBr7934FR9nDKhvwAAAAAAAPh/9SNmPdfvoL934FR9nDKhv4Cdy72d6Ki/\",\"dtype\":\"float64\",\"order\":\"little\",\"shape\":[6]},{\"__ndarray__\":\"REk8YDEf1L8pQqEctsjOvwAAAAAAAPh/JJQ0IuVz0L8pQqEctsjOv5RqZvquyNC/\",\"dtype\":\"float64\",\"order\":\"little\",\"shape\":[6]},{\"__ndarray__\":\"zuqpt8RF3T+sveS/5qTfPwAAAAAAAPh/pS1k6x5t3j+sveS/5qTfP6jAXRn9Q98/\",\"dtype\":\"float64\",\"order\":\"little\",\"shape\":[6]},{\"__ndarray__\":\"nlcwmwoPwj+zPRo3+5m6PwAAAAAAAPh/WHj8TTq7uz+zPRo3+5m6P2k8OdZ8RL8/\",\"dtype\":\"float64\",\"order\":\"little\",\"shape\":[6]},{\"__ndarray__\":\"NMfPSvYNkr/cmxlO96BZPwAAAAAAAPh/MI4db+i1h7/cmxlO96BZP0NjKb/lxXI/\",\"dtype\":\"float64\",\"order\":\"little\",\"shape\":[6]},{\"__ndarray__\":\"KOwJLv8vuz8cRLK39MGbPwAAAAAAAPh/SH458+rypT8cRLK39MGbP1Xdy7R+C6k/\",\"dtype\":\"float64\",\"order\":\"little\",\"shape\":[6]},{\"__ndarray__\":\"AD5ggbVF3T8lKzUv6KTfPwAAAAAAAPh/Q3b6cRxt3j8lKzUv6KTfP3iZP9b2Q98/\",\"dtype\":\"float64\",\"order\":\"little\",\"shape\":[6]},{\"__ndarray__\":\"LO3MYzrj0T8xaQKq5n/TPwAAAAAAAPh/CbXnO1uQ0z8xaQKq5n/TP4uvr10Vj9I/\",\"dtype\":\"float64\",\"order\":\"little\",\"shape\":[6]},{\"__ndarray__\":\"3hoycpcl2r87lI7gCNPbvwAAAAAAAPh/Lbn/S+PP2787lI7gCNPbv5dCBhwZ1Nq/\",\"dtype\":\"float64\",\"order\":\"little\",\"shape\":[6]},{\"__ndarray__\":\"czBgVaEzwr/mk/jgnHPHvwAAAAAAAPh/eWVthin3xr/mk/jgnHPHv7Fo29PjKcW/\",\"dtype\":\"float64\",\"order\":\"little\",\"shape\":[6]},{\"__ndarray__\":\"kjJDXx6t3D+3AbcVAKTYPwAAAAAAAPh/pMiv2ivH2T+3AbcVAKTYP0T0GzhxBNo/\",\"dtype\":\"float64\",\"order\":\"little\",\"shape\":[6]},{\"__ndarray__\":\"pATPYyJg1D+oxruFGxfQPwAAAAAAAPh/6oWX9XJx0T+oxruFGxfQP2RwHm1kStE/\",\"dtype\":\"float64\",\"order\":\"little\",\"shape\":[6]},{\"__ndarray__\":\"SkDcqwAPyT8s7cxjOuPRPwAAAAAAAPh/HeJGJA900T8s7cxjOuPRP9IX7VVvpNA/\",\"dtype\":\"float64\",\"order\":\"little\",\"shape\":[6]},{\"__ndarray__\":\"SkDcqwAPyT8o7Aku/y+7PwAAAAAAAPh/ZK40xl5yvj8o7Aku/y+7P3Hx45drWcA/\",\"dtype\":\"float64\",\"order\":\"little\",\"shape\":[6]},{\"__ndarray__\":\"MWkCquZ/0z9YdJumlfTQPwAAAAAAAPh/BtYqaDYr0j9YdJumlfTQP9/pUi89U9E/\",\"dtype\":\"float64\",\"order\":\"little\",\"shape\":[6]},{\"__ndarray__\":\"qCT7+JaJyT+eVzCbCg/CPwAAAAAAAPh/Al53ZBDawz+eVzCbCg/CPwsuPgUT18Q/\",\"dtype\":\"float64\",\"order\":\"little\",\"shape\":[6]},{\"__ndarray__\":\"sz0aN/uZuj/Oxm6FwPe2PwAAAAAAAPh/bd2o4+30tT/Oxm6FwPe2P5L2hLDqIro/\",\"dtype\":\"float64\",\"order\":\"little\",\"shape\":[6]},{\"__ndarray__\":\"ioTYehx/tT8o7Aku/y+7PwAAAAAAAPh/xwrMXMRetz8o7Aku/y+7P+3puU7TXrs/\",\"dtype\":\"float64\",\"order\":\"little\",\"shape\":[6]},{\"__ndarray__\":\"HESyt/TBmz/VvNyi/c6UvwAAAAAAAPh/9IFxSxficL/VvNyi/c6Uvz15801qqJO/\",\"dtype\":\"float64\",\"order\":\"little\",\"shape\":[6]},{\"__ndarray__\":\"HESyt/TBmz80x89K9g2SvwAAAAAAAPh/ZcYQJF9hkL80x89K9g2SvxCLFwPF61G/\",\"dtype\":\"float64\",\"order\":\"little\",\"shape\":[6]},{\"__ndarray__\":\"rxjrimC/tL9kFgX3eCDDvwAAAAAAAPh/Jeg0vQGLwL9kFgX3eCDDv1UQfdwpjcC/\",\"dtype\":\"float64\",\"order\":\"little\",\"shape\":[6]},{\"__ndarray__\":\"0M4hwxEiyr9UN6280rLNvwAAAAAAAPh/pt/TWvGZzb9UN6280rLNv3G9swUYqMu/\",\"dtype\":\"float64\",\"order\":\"little\",\"shape\":[6]},{\"__ndarray__\":\"cHLJAnzizL+lWfnNnZTHvwAAAAAAAPh/TinXp936yb+lWfnNnZTHvy3WkHR1RMi/\",\"dtype\":\"float64\",\"order\":\"little\",\"shape\":[6]},{\"__ndarray__\":\"KyknZ3W0vb80x89K9g2SvwAAAAAAAPh/xisbqAVcor80x89K9g2Sv7pjxUMN96O/\",\"dtype\":\"float64\",\"order\":\"little\",\"shape\":[6]},{\"__ndarray__\":\"3JsZTvegWT95ks1A9rV6PwAAAAAAAPh/rpD2rdf5ab95ks1A9rV6P/iESqLhnos/\",\"dtype\":\"float64\",\"order\":\"little\",\"shape\":[6]},{\"__ndarray__\":\"rbHrOPQpgj/wbO3PrMKRPwAAAAAAAPh/rr5SOpuGez/wbO3PrMKRP2yHf5Hx3Jc/\",\"dtype\":\"float64\",\"order\":\"little\",\"shape\":[6]},{\"__ndarray__\":\"AsHQ5bpgpT90WKFwrybCPwAAAAAAAPh/XXD4psBiwD90WKFwrybCP8wfzY0Kv74/\",\"dtype\":\"float64\",\"order\":\"little\",\"shape\":[6]},{\"__ndarray__\":\"AsHQ5bpgpT928y1FSo2HvwAAAAAAAPh/eqZRoMibgL928y1FSo2HvygleO/QIHk/\",\"dtype\":\"float64\",\"order\":\"little\",\"shape\":[6]},{\"__ndarray__\":\"LDNOKnmjyz/1Jq0+JuPQPwAAAAAAAPh/dSfSZV4wzz/1Jq0+JuPQP0ieDdWCWNA/\",\"dtype\":\"float64\",\"order\":\"little\",\"shape\":[6]},{\"__ndarray__\":\"kjixyDRD0T84qBXXCl7OPwAAAAAAAPh/P+DAOc+yzj84qBXXCl7OPy69wsftR9A/\",\"dtype\":\"float64\",\"order\":\"little\",\"shape\":[6]},{\"__ndarray__\":\"lw7wBb0Yxz87ruIEcZ68PwAAAAAAAPh/RQx9qB2owD87ruIEcZ68Pw975hjcCcE/\",\"dtype\":\"float64\",\"order\":\"little\",\"shape\":[6]},{\"__ndarray__\":\"hQed7BCspD928y1FSo2HvwAAAAAAAPh/YKj5jMzufD928y1FSo2Hv9JwySvFhHq/\",\"dtype\":\"float64\",\"order\":\"little\",\"shape\":[6]},{\"__ndarray__\":\"W+ge0utotr/7XHdP/PvBvwAAAAAAAPh/CYMKZlCHwb/7XHdP/PvBv+4ms+ukbb+/\",\"dtype\":\"float64\",\"order\":\"little\",\"shape\":[6]},{\"__ndarray__\":\"W+ge0utotr82UArXH6bBvwAAAAAAAPh/3g3T5U2qvr82UArXH6bBv6CJJPkTHcG/\",\"dtype\":\"float64\",\"order\":\"little\",\"shape\":[6]},{\"__ndarray__\":\"67dbC+DByr+jYBOIYdrRvwAAAAAAAPh//YFIcc6e0L+jYBOIYdrRv3jE5b2ZhNC/\",\"dtype\":\"float64\",\"order\":\"little\",\"shape\":[6]},{\"__ndarray__\":\"mMagiBGk1b+fTT1Q3tDXvwAAAAAAAPh/s5/eYS2c17+fTT1Q3tDXv8Hc04Kmsda/\",\"dtype\":\"float64\",\"order\":\"little\",\"shape\":[6]},{\"__ndarray__\":\"5nDle6Vh179ABsFUljzUvwAAAAAAAPh/xP2IPHeJ1b9ABsFUljzUvyc7G9D3y9S/\",\"dtype\":\"float64\",\"order\":\"little\",\"shape\":[6]},{\"__ndarray__\":\"hYgDqiTzzr/7XHdP/PvBvwAAAAAAAPh/nakqgUv2w7/7XHdP/PvBv64fucjJxsS/\",\"dtype\":\"float64\",\"order\":\"little\",\"shape\":[6]},{\"__ndarray__\":\"hVSiuj47vr90wWbR5PK8vwAAAAAAAPh/hlb41VNuv790wWbR5PK8v0oXrqWsKru/\",\"dtype\":\"float64\",\"order\":\"little\",\"shape\":[6]},{\"__ndarray__\":\"QMZOiOjovr9zMGBVoTPCvwAAAAAAAPh/O8e8gHN4wr9zMGBVoTPCv8TJHRczbcC/\",\"dtype\":\"float64\",\"order\":\"little\",\"shape\":[6]},{\"__ndarray__\":\"5pP44Jxzx7/2XIwFmZTRvwAAAAAAAPh/795MvNow0L/2XIwFmZTRvyHcNSNesdC/\",\"dtype\":\"float64\",\"order\":\"little\",\"shape\":[6]},{\"__ndarray__\":\"5pP44Jxzx79sc0VgevLEvwAAAAAAAPh/p3Xo/amDxr9sc0VgevLEv0b23jfVa8S/\",\"dtype\":\"float64\",\"order\":\"little\",\"shape\":[6]},{\"__ndarray__\":\"i1PRZx9w1r/eGjJylyXavwAAAAAAAPh/t29uz+Zd2b/eGjJylyXav81yu2vLxti/\",\"dtype\":\"float64\",\"order\":\"little\",\"shape\":[6]},{\"__ndarray__\":\"O5SO4AjT27+UfFhv4CzbvwAAAAAAAPh/5cXkaDDm27+UfFhv4Czbv4i6KNzQ19q/\",\"dtype\":\"float64\",\"order\":\"little\",\"shape\":[6]},{\"__ndarray__\":\"SaP8RYdp2L9ESTxgMR/UvwAAAAAAAPh/oKNDBt1/1b9ESTxgMR/UvxI1nMyNQdW/\",\"dtype\":\"float64\",\"order\":\"little\",\"shape\":[6]},{\"__ndarray__\":\"KUKhHLbIzr9sc0VgevLEvwAAAAAAAPh/MH8T2awYxr9sc0VgevLEv7FyKYYnj8e/\",\"dtype\":\"float64\",\"order\":\"little\",\"shape\":[6]},{\"__ndarray__\":\"G9dMxrJBu7/GLjJaR1bFvwAAAAAAAPh/AUgyxRakw7/GLjJaR1bFv9iVVJK/kcK/\",\"dtype\":\"float64\",\"order\":\"little\",\"shape\":[6]},{\"__ndarray__\":\"G9dMxrJBu7/v3n+c73mpvwAAAAAAAPh/Sr3INMFmsb/v3n+c73mpv6hrwHLduau/\",\"dtype\":\"float64\",\"order\":\"little\",\"shape\":[6]},{\"__ndarray__\":\"u73sfjERyr881Sz1eWDNvwAAAAAAAPh/YORlNWdozb881Sz1eWDNvyck1YWrbMu/\",\"dtype\":\"float64\",\"order\":\"little\",\"shape\":[6]},{\"__ndarray__\":\"61SbPfSuzL9M/RrQ5YbHvwAAAAAAAPh/EnFUizz0yb9M/RrQ5YbHv99ETkJeRMi/\",\"dtype\":\"float64\",\"order\":\"little\",\"shape\":[6]},{\"__ndarray__\":\"TnswtsISv7+YCG/puQGvvwAAAAAAAPh/qKIjJzVbs7+YCG/puQGvv6MWNyAPFrW/\",\"dtype\":\"float64\",\"order\":\"little\",\"shape\":[6]},{\"__ndarray__\":\"d+BUfZwyob/v3n+c73mpvwAAAAAAAPh/yRkWjrXco7/v3n+c73mpv1AODB9yVay/\",\"dtype\":\"float64\",\"order\":\"little\",\"shape\":[6]},{\"__ndarray__\":\"mr1Z3pnllD9+cEg3aGi2PwAAAAAAAPh/xGzPwOXYsD9+cEg3aGi2P9TASAORHLI/\",\"dtype\":\"float64\",\"order\":\"little\",\"shape\":[6]},{\"__ndarray__\":\"Lvq76qLjwj+nDFAylsrJPwAAAAAAAPh/kBrhbqUUxz+nDFAylsrJP+FDBBsfWcg/\",\"dtype\":\"float64\",\"order\":\"little\",\"shape\":[6]},{\"__ndarray__\":\"bxt92dQL0D9XEjbFwfjSPwAAAAAAAPh/+GfT3Yqt0T9XEjbFwfjSP7vkqSCCbdI/\",\"dtype\":\"float64\",\"order\":\"little\",\"shape\":[6]},{\"__ndarray__\":\"8qY3atq51T9YjdPne1fYPwAAAAAAAPh/NxxPKXIX1z9YjdPne1fYP8dBlmGu5dc/\",\"dtype\":\"float64\",\"order\":\"little\",\"shape\":[6]},{\"__ndarray__\":\"ahaJPgTb2j8APmCBtUXdPwAAAAAAAPh/bh2gAaML3D8APmCBtUXdP7CwKB894Nw/\",\"dtype\":\"float64\",\"order\":\"little\",\"shape\":[6]},{\"__ndarray__\":\"ahaJPgTb2j/O6qm3xEXdPwAAAAAAAPh/PshYB68L3D/O6qm3xEXdP6IBy+xF4Nw/\",\"dtype\":\"float64\",\"order\":\"little\",\"shape\":[6]}]},\"selected\":{\"id\":\"1089\"},\"selection_policy\":{\"id\":\"1088\"}},\"id\":\"1041\",\"type\":\"ColumnDataSource\"},{\"attributes\":{\"data\":{\"desc\":[\"Conv2d(128, 128, kernel_size=(3, 3), stride=(1, 1), padding=(1, 1))\",\"ReLU()\",\"ReLU()\",\"Conv2d(128, 128, kernel_size=(3, 3), stride=(1, 1), padding=(1, 1))\",\"ReLU()\",\"Conv2d(64, 64, kernel_size=(3, 3), stride=(1, 1), padding=(1, 1))\",\"Conv2d(64, 64, kernel_size=(3, 3), stride=(1, 1), padding=(1, 1))\",\"ResidualAdd()\",\"ResidualAdd()\",\"ResidualAdd()\",\"ReLU()\",\"ResidualAdd()\",\"ReLU()\",\"ReLU()\",\"ReLU()\",\"Conv2d(64, 64, kernel_size=(3, 3), stride=(1, 1), padding=(1, 1))\",\"MaxPool2d(kernel_size=3, stride=2, padding=1, dilation=1, ceil_mode=False)\",\"MaxPool2d(kernel_size=3, stride=2, padding=1, dilation=1, ceil_mode=False)\",\"ReLU()\",\"ReLU()\",\"Linear(in_features=8192, out_features=256, bias=True)\",\"ReLU()\",\"Conv2d(3, 64, kernel_size=(3, 3), stride=(1, 1), padding=(1, 1))\",\"ReLU()\",\"Conv2d(128, 128, kernel_size=(3, 3), stride=(1, 1), padding=(1, 1))\",\"Flatten()\",\"Conv2d(128, 128, kernel_size=(3, 3), stride=(1, 1), padding=(1, 1))\",\"Conv2d(128, 128, kernel_size=(3, 3), stride=(1, 1), padding=(1, 1))\",\"ReLU()\",\"Conv2d(64, 64, kernel_size=(3, 3), stride=(1, 1), padding=(1, 1))\",\"Conv2d(128, 128, kernel_size=(3, 3), stride=(1, 1), padding=(1, 1))\",\"Conv2d(64, 128, kernel_size=(3, 3), stride=(1, 1), padding=(1, 1))\",\"Conv2d(128, 128, kernel_size=(3, 3), stride=(1, 1), padding=(1, 1))\",\"Conv2d(128, 128, kernel_size=(3, 3), stride=(1, 1), padding=(1, 1))\",\"Linear(in_features=256, out_features=15, bias=True)\",\"ReLU()\",\"ResidualAdd()\",\"ResidualAdd()\",\"Linear(in_features=256, out_features=1, bias=True)\",\"ReLU()\",\"Conv2d(128, 128, kernel_size=(3, 3), stride=(1, 1), padding=(1, 1))\",\"MaxPool2d(kernel_size=3, stride=2, padding=1, dilation=1, ceil_mode=False)\",\"torch.Size([1, 3, 64, 64])\",\"torch.Size([1, 64, 64, 64])\",\"torch.Size([1, 64, 32, 32])\",\"torch.Size([1, 64, 32, 32])\",\"torch.Size([1, 64, 32, 32])\",\"torch.Size([1, 64, 32, 32])\",\"torch.Size([1, 64, 32, 32])\",\"torch.Size([1, 64, 32, 32])\",\"torch.Size([1, 64, 32, 32])\",\"torch.Size([1, 64, 32, 32])\",\"torch.Size([1, 64, 32, 32])\",\"torch.Size([1, 64, 32, 32])\",\"torch.Size([1, 64, 32, 32])\",\"torch.Size([1, 128, 32, 32])\",\"torch.Size([1, 128, 16, 16])\",\"torch.Size([1, 128, 16, 16])\",\"torch.Size([1, 128, 16, 16])\",\"torch.Size([1, 128, 16, 16])\",\"torch.Size([1, 128, 16, 16])\",\"torch.Size([1, 128, 16, 16])\",\"torch.Size([1, 128, 16, 16])\",\"torch.Size([1, 128, 16, 16])\",\"torch.Size([1, 128, 16, 16])\",\"torch.Size([1, 128, 16, 16])\",\"torch.Size([1, 128, 16, 16])\",\"torch.Size([1, 128, 16, 16])\",\"torch.Size([1, 128, 8, 8])\",\"torch.Size([1, 128, 8, 8])\",\"torch.Size([1, 128, 8, 8])\",\"torch.Size([1, 128, 8, 8])\",\"torch.Size([1, 128, 8, 8])\",\"torch.Size([1, 128, 8, 8])\",\"torch.Size([1, 128, 8, 8])\",\"torch.Size([1, 128, 8, 8])\",\"torch.Size([1, 128, 8, 8])\",\"torch.Size([1, 128, 8, 8])\",\"torch.Size([1, 128, 8, 8])\",\"torch.Size([1, 128, 8, 8])\",\"torch.Size([1, 8192])\",\"torch.Size([1, 256])\",\"torch.Size([1, 256])\",\"torch.Size([1, 15])\",\"torch.Size([1, 1])\",\"\"],\"index\":{\"__ndarray__\":\"AAAAAAEAAAACAAAAAwAAAAQAAAAFAAAABgAAAAcAAAAIAAAACQAAAAoAAAALAAAADAAAAA0AAAAOAAAADwAAABAAAAARAAAAEgAAABMAAAAUAAAAFQAAABYAAAAXAAAAGAAAABkAAAAaAAAAGwAAABwAAAAdAAAAHgAAAB8AAAAgAAAAIQAAACIAAAAjAAAAJAAAACUAAAAmAAAAJwAAACgAAAApAAAAKgAAACsAAAAsAAAALQAAAC4AAAAvAAAAMAAAADEAAAAyAAAAMwAAADQAAAA1AAAANgAAADcAAAA4AAAAOQAAADoAAAA7AAAAPAAAAD0AAAA+AAAAPwAAAEAAAABBAAAAQgAAAEMAAABEAAAARQAAAEYAAABHAAAASAAAAEkAAABKAAAASwAAAEwAAABNAAAATgAAAE8AAABQAAAAUQAAAFIAAABTAAAAVAAAAFUAAAA=\",\"dtype\":\"int32\",\"order\":\"little\",\"shape\":[86]},\"index_hover\":[\"embedder.block3.res2.conv1\",\"embedder.relufc\",\"embedder.block2.res2.relu2\",\"embedder.block2.res2.conv2\",\"embedder.block3.res2.relu1\",\"embedder.block1.res1.conv1\",\"embedder.block1.res2.conv1\",\"embedder.block3.res1.resadd\",\"embedder.block2.res2.resadd\",\"embedder.block3.res2.resadd\",\"embedder.block3.res2.relu2\",\"embedder.block2.res1.resadd\",\"embedder.block2.res2.relu1\",\"embedder.block1.res2.relu1\",\"embedder.block2.res1.relu2\",\"embedder.block1.res1.conv2\",\"embedder.block2.maxpool\",\"embedder.block1.maxpool\",\"embedder.block1.res2.relu2\",\"embedder.relu3\",\"embedder.fc\",\"embedder.block2.res1.relu1\",\"embedder.block1.conv\",\"embedder.block3.res1.relu2\",\"embedder.block3.conv\",\"embedder.flatten\",\"embedder.block2.res1.conv2\",\"embedder.block2.res1.conv1\",\"embedder.block3.res1.relu1\",\"embedder.block1.res2.conv2\",\"embedder.block2.res2.conv1\",\"embedder.block2.conv\",\"embedder.block3.res2.conv2\",\"embedder.block3.res1.conv2\",\"fc_policy\",\"embedder.block1.res1.relu2\",\"embedder.block1.res2.resadd\",\"embedder.block1.res1.resadd\",\"fc_value\",\"embedder.block1.res1.relu1\",\"embedder.block3.res1.conv1\",\"embedder.block3.maxpool\",\"embedder.block1.conv_in0\",\"embedder.block1.conv_out\",\"embedder.block1.maxpool_out\",\"embedder.block1.res1.relu1_out\",\"embedder.block1.res1.conv1_out\",\"embedder.block1.res1.relu2_out\",\"embedder.block1.res1.conv2_out\",\"embedder.block1.res1.resadd_out\",\"embedder.block1.res2.relu1_out\",\"embedder.block1.res2.conv1_out\",\"embedder.block1.res2.relu2_out\",\"embedder.block1.res2.conv2_out\",\"embedder.block1.res2.resadd_out\",\"embedder.block2.conv_out\",\"embedder.block2.maxpool_out\",\"embedder.block2.res1.relu1_out\",\"embedder.block2.res1.conv1_out\",\"embedder.block2.res1.relu2_out\",\"embedder.block2.res1.conv2_out\",\"embedder.block2.res1.resadd_out\",\"embedder.block2.res2.relu1_out\",\"embedder.block2.res2.conv1_out\",\"embedder.block2.res2.relu2_out\",\"embedder.block2.res2.conv2_out\",\"embedder.block2.res2.resadd_out\",\"embedder.block3.conv_out\",\"embedder.block3.maxpool_out\",\"embedder.block3.res1.relu1_out\",\"embedder.block3.res1.conv1_out\",\"embedder.block3.res1.relu2_out\",\"embedder.block3.res1.conv2_out\",\"embedder.block3.res1.resadd_out\",\"embedder.block3.res2.relu1_out\",\"embedder.block3.res2.conv1_out\",\"embedder.block3.res2.relu2_out\",\"embedder.block3.res2.conv2_out\",\"embedder.block3.res2.resadd_out\",\"embedder.relu3_out\",\"embedder.flatten_out\",\"embedder.fc_out\",\"embedder.relufc_out\",\"fc_policy_out\",\"fc_value_out\",\"_out\"],\"node_fill_color\":[66,80,44,46,64,8,18,62,48,72,68,38,40,16,34,12,28,4,20,74,78,30,2,58,50,76,36,32,54,22,42,26,70,60,83,10,24,14,82,6,56,52,0,3,5,7,9,11,13,15,17,19,21,23,25,27,29,31,33,35,37,39,41,43,45,47,49,51,53,55,57,59,61,63,65,67,69,71,73,75,77,79,81,85,84,1],\"node_size\":{\"__ndarray__\":\"wAofAMZILEDACh8AxkgsQMAKHwDGSCxAwAofAMZILEDACh8AxkgsQMAKHwDGSCxAwAofAMZILEDACh8AxkgsQMAKHwDGSCxAwAofAMZILEDACh8AxkgsQMAKHwDGSCxAwAofAMZILEDACh8AxkgsQMAKHwDGSCxAwAofAMZILEDACh8AxkgsQMAKHwDGSCxAwAofAMZILEDACh8AxkgsQMAKHwDGSCxAwAofAMZILEDACh8AxkgsQMAKHwDGSCxAwAofAMZILEDACh8AxkgsQMAKHwDGSCxAwAofAMZILEDACh8AxkgsQMAKHwDGSCxAwAofAMZILEDACh8AxkgsQMAKHwDGSCxAwAofAMZILEDACh8AxkgsQMAKHwDGSCxAwAofAMZILEDACh8AxkgsQMAKHwDGSCxAwAofAMZILEDACh8AxkgsQMAKHwDGSCxAAAAAAAAAJEAAAAAAAAAkQAAAAAAAACRAAAAAAAAAJEAAAAAAAAAkQAAAAAAAACRAAAAAAAAAJEAAAAAAAAAkQAAAAAAAACRAAAAAAAAAJEAAAAAAAAAkQAAAAAAAACRAAAAAAAAAJEAAAAAAAAAkQAAAAAAAACRAAAAAAAAAJEAAAAAAAAAkQAAAAAAAACRAAAAAAAAAJEAAAAAAAAAkQAAAAAAAACRAAAAAAAAAJEAAAAAAAAAkQAAAAAAAACRAAAAAAAAAJEAAAAAAAAAkQAAAAAAAACRAAAAAAAAAJEAAAAAAAAAkQAAAAAAAACRAAAAAAAAAJEAAAAAAAAAkQAAAAAAAACRAAAAAAAAAJEAAAAAAAAAkQAAAAAAAACRAAAAAAAAAJEAAAAAAAAAkQAAAAAAAACRAAAAAAAAAJEAAAAAAAAAkQAAAAAAAACRAAAAAAAAAJEAAAAAAAAAkQA==\",\"dtype\":\"float64\",\"order\":\"little\",\"shape\":[86]},\"type\":[\"module\",\"module\",\"module\",\"module\",\"module\",\"module\",\"module\",\"module\",\"module\",\"module\",\"module\",\"module\",\"module\",\"module\",\"module\",\"module\",\"module\",\"module\",\"module\",\"module\",\"module\",\"module\",\"module\",\"module\",\"module\",\"module\",\"module\",\"module\",\"module\",\"module\",\"module\",\"module\",\"module\",\"module\",\"module\",\"module\",\"module\",\"module\",\"module\",\"module\",\"module\",\"module\",\"value\",\"value\",\"value\",\"value\",\"value\",\"value\",\"value\",\"value\",\"value\",\"value\",\"value\",\"value\",\"value\",\"value\",\"value\",\"value\",\"value\",\"value\",\"value\",\"value\",\"value\",\"value\",\"value\",\"value\",\"value\",\"value\",\"value\",\"value\",\"value\",\"value\",\"value\",\"value\",\"value\",\"value\",\"value\",\"value\",\"value\",\"value\",\"value\",\"value\",\"value\",\"value\",\"value\",\"value\"]},\"selected\":{\"id\":\"1087\"},\"selection_policy\":{\"id\":\"1086\"}},\"id\":\"1040\",\"type\":\"ColumnDataSource\"},{\"attributes\":{\"coordinates\":null,\"group\":null,\"text_color\":\"black\",\"text_font_size\":\"12pt\"},\"id\":\"1008\",\"type\":\"Title\"},{\"attributes\":{\"fill_color\":{\"field\":\"node_fill_color\",\"transform\":{\"id\":\"1039\"}},\"hatch_color\":{\"value\":\"#30a2da\"},\"size\":{\"field\":\"node_size\"}},\"id\":\"1043\",\"type\":\"Circle\"},{\"attributes\":{\"children\":[{\"id\":\"1007\"}],\"height\":800,\"margin\":[0,0,0,0],\"name\":\"Row00818\",\"sizing_mode\":\"fixed\",\"tags\":[\"embedded\"],\"width\":800},\"id\":\"1003\",\"type\":\"Row\"},{\"attributes\":{\"fill_alpha\":{\"value\":0.2},\"fill_color\":{\"value\":\"#30a2da\"},\"hatch_alpha\":{\"value\":0.2},\"hatch_color\":{\"value\":\"#30a2da\"},\"line_alpha\":{\"value\":0.2},\"size\":{\"field\":\"node_size\"}},\"id\":\"1044\",\"type\":\"Circle\"},{\"attributes\":{\"coordinates\":null,\"edge_renderer\":{\"id\":\"1053\"},\"group\":null,\"inspection_policy\":{\"id\":\"1066\"},\"layout_provider\":{\"id\":\"1042\"},\"node_renderer\":{\"id\":\"1047\"},\"selection_policy\":{\"id\":\"1064\"}},\"id\":\"1055\",\"type\":\"GraphRenderer\"},{\"attributes\":{\"active_drag\":{\"id\":\"1025\"},\"active_scroll\":{\"id\":\"1026\"},\"tools\":[{\"id\":\"1006\"},{\"id\":\"1024\"},{\"id\":\"1025\"},{\"id\":\"1026\"},{\"id\":\"1027\"},{\"id\":\"1028\"},{\"id\":\"1029\"}]},\"id\":\"1031\",\"type\":\"Toolbar\"},{\"attributes\":{\"source\":{\"id\":\"1040\"}},\"id\":\"1048\",\"type\":\"CDSView\"},{\"attributes\":{},\"id\":\"1086\",\"type\":\"UnionRenderers\"},{\"attributes\":{},\"id\":\"1072\",\"type\":\"BasicTickFormatter\"},{\"attributes\":{\"axis\":{\"id\":\"1016\"},\"coordinates\":null,\"grid_line_color\":null,\"group\":null,\"ticker\":null},\"id\":\"1019\",\"type\":\"Grid\"},{\"attributes\":{},\"id\":\"1064\",\"type\":\"NodesAndLinkedEdges\"},{\"attributes\":{\"line_alpha\":{\"value\":0.2},\"line_width\":{\"value\":2}},\"id\":\"1052\",\"type\":\"MultiLine\"},{\"attributes\":{},\"id\":\"1087\",\"type\":\"Selection\"},{\"attributes\":{\"callback\":null,\"renderers\":[{\"id\":\"1055\"}],\"tooltips\":[[\"index\",\"@{index_hover}\"],[\"desc\",\"@{desc}\"],[\"type\",\"@{type}\"]]},\"id\":\"1006\",\"type\":\"HoverTool\"},{\"attributes\":{},\"id\":\"1070\",\"type\":\"AllLabels\"},{\"attributes\":{\"end\":1.1973609664655616,\"reset_end\":1.1973609664655616,\"reset_start\":-1.1709706311211763,\"start\":-1.1709706311211763,\"tags\":[[[\"x\",\"x\",null]]]},\"id\":\"1004\",\"type\":\"Range1d\"},{\"attributes\":{\"line_alpha\":{\"value\":0.2},\"line_width\":{\"value\":2}},\"id\":\"1050\",\"type\":\"MultiLine\"},{\"attributes\":{},\"id\":\"1017\",\"type\":\"BasicTicker\"},{\"attributes\":{},\"id\":\"1014\",\"type\":\"LinearScale\"},{\"attributes\":{\"line_width\":{\"value\":2}},\"id\":\"1049\",\"type\":\"MultiLine\"},{\"attributes\":{\"high\":85,\"low\":0,\"palette\":[\"#f7fbff\",\"#f6fafe\",\"#f5f9fe\",\"#f4f9fe\",\"#f3f8fd\",\"#f3f8fd\",\"#f2f7fd\",\"#f1f7fd\",\"#f0f6fc\",\"#eff6fc\",\"#eff5fc\",\"#eef5fc\",\"#edf4fb\",\"#ecf4fb\",\"#ecf3fb\",\"#ebf3fb\",\"#eaf2fa\",\"#e9f2fa\",\"#e8f1fa\",\"#e8f1fa\",\"#e7f0f9\",\"#e6f0f9\",\"#e5eff9\",\"#e4eff9\",\"#e4eef8\",\"#e3eef8\",\"#e2edf8\",\"#e1edf8\",\"#e1ecf7\",\"#e0ecf7\",\"#dfebf7\",\"#deebf7\",\"#ddeaf6\",\"#ddeaf6\",\"#dce9f6\",\"#dbe9f6\",\"#dae8f5\",\"#dae8f5\",\"#d9e7f5\",\"#d8e7f5\",\"#d7e6f4\",\"#d7e6f4\",\"#d6e5f4\",\"#d5e5f4\",\"#d4e4f3\",\"#d4e4f3\",\"#d3e3f3\",\"#d2e3f3\",\"#d1e2f2\",\"#d1e2f2\",\"#d0e1f2\",\"#cfe1f2\",\"#cee0f1\",\"#cee0f1\",\"#cddff1\",\"#ccdff1\",\"#cbdef0\",\"#cbdef0\",\"#caddf0\",\"#c9ddf0\",\"#c8dcef\",\"#c8dcef\",\"#c7dbef\",\"#c6dbef\",\"#c5daee\",\"#c4daee\",\"#c3d9ee\",\"#c1d9ed\",\"#c0d8ed\",\"#bfd8ec\",\"#bed7ec\",\"#bcd7eb\",\"#bbd6eb\",\"#bad6ea\",\"#b9d5ea\",\"#b7d4ea\",\"#b6d4e9\",\"#b5d3e9\",\"#b4d3e8\",\"#b2d2e8\",\"#b1d2e7\",\"#b0d1e7\",\"#afd1e6\",\"#add0e6\",\"#acd0e6\",\"#abcfe5\",\"#aacfe5\",\"#a8cee4\",\"#a7cee4\",\"#a6cde3\",\"#a5cde3\",\"#a3cce3\",\"#a2cbe2\",\"#a1cbe2\",\"#a0cae1\",\"#9ecae1\",\"#9dc9e0\",\"#9bc8e0\",\"#9ac7e0\",\"#98c7df\",\"#97c6df\",\"#95c5df\",\"#93c4de\",\"#92c3de\",\"#90c2de\",\"#8fc1dd\",\"#8dc0dd\",\"#8bc0dd\",\"#8abfdc\",\"#88bedc\",\"#87bddc\",\"#85bcdb\",\"#83bbdb\",\"#82badb\",\"#80b9da\",\"#7fb8da\",\"#7db8d9\",\"#7bb7d9\",\"#7ab6d9\",\"#78b5d8\",\"#77b4d8\",\"#75b3d8\",\"#73b2d7\",\"#72b1d7\",\"#70b1d7\",\"#6fb0d6\",\"#6dafd6\",\"#6baed6\",\"#6aadd5\",\"#69acd5\",\"#67abd4\",\"#66aad4\",\"#65aad3\",\"#63a9d3\",\"#62a8d2\",\"#61a7d2\",\"#60a6d1\",\"#5ea5d1\",\"#5da4d0\",\"#5ca3d0\",\"#5aa3cf\",\"#59a2cf\",\"#58a1ce\",\"#57a0ce\",\"#559fcd\",\"#549ecd\",\"#539dcc\",\"#519ccc\",\"#509bcb\",\"#4f9bcb\",\"#4e9aca\",\"#4c99ca\",\"#4b98c9\",\"#4a97c9\",\"#4896c8\",\"#4795c8\",\"#4694c7\",\"#4594c7\",\"#4393c6\",\"#4292c6\",\"#4191c5\",\"#4090c5\",\"#3f8fc4\",\"#3e8ec4\",\"#3d8dc3\",\"#3c8cc3\",\"#3b8bc2\",\"#3a8ac1\",\"#3989c1\",\"#3888c0\",\"#3787c0\",\"#3585bf\",\"#3484bf\",\"#3383be\",\"#3282be\",\"#3181bd\",\"#3080bd\",\"#2f7fbc\",\"#2e7ebc\",\"#2d7dbb\",\"#2c7cbb\",\"#2b7bba\",\"#2a7ab9\",\"#2979b9\",\"#2878b8\",\"#2777b8\",\"#2676b7\",\"#2575b7\",\"#2474b6\",\"#2373b6\",\"#2272b5\",\"#2171b5\",\"#2070b4\",\"#1f6fb3\",\"#1e6eb2\",\"#1e6db2\",\"#1d6cb1\",\"#1c6bb0\",\"#1b6aaf\",\"#1a69ae\",\"#1a68ae\",\"#1967ad\",\"#1866ac\",\"#1765ab\",\"#1764ab\",\"#1663aa\",\"#1562a9\",\"#1461a8\",\"#1360a7\",\"#135fa7\",\"#125ea6\",\"#115da5\",\"#105ca4\",\"#0f5ba3\",\"#0f5aa3\",\"#0e59a2\",\"#0d58a1\",\"#0c57a0\",\"#0c56a0\",\"#0b559f\",\"#0a549e\",\"#09539d\",\"#08529c\",\"#08519c\",\"#08509a\",\"#084f99\",\"#084e97\",\"#084c96\",\"#084b94\",\"#084a92\",\"#084991\",\"#08488f\",\"#08478e\",\"#08468c\",\"#08458b\",\"#084489\",\"#084388\",\"#084286\",\"#084185\",\"#084083\",\"#083f82\",\"#083e80\",\"#083d7e\",\"#083c7d\",\"#083b7b\",\"#083a7a\",\"#083978\",\"#083877\",\"#083775\",\"#083674\",\"#083572\",\"#083471\",\"#08336f\",\"#08326e\",\"#08316c\",\"#08306b\"]},\"id\":\"1039\",\"type\":\"LinearColorMapper\"},{\"attributes\":{\"below\":[{\"id\":\"1016\"}],\"center\":[{\"id\":\"1019\"},{\"id\":\"1023\"}],\"height\":800,\"left\":[{\"id\":\"1020\"}],\"margin\":[5,5,5,5],\"min_border_bottom\":10,\"min_border_left\":10,\"min_border_right\":10,\"min_border_top\":10,\"outline_line_alpha\":0,\"renderers\":[{\"id\":\"1055\"}],\"sizing_mode\":\"fixed\",\"title\":{\"id\":\"1008\"},\"toolbar\":{\"id\":\"1031\"},\"width\":800,\"x_range\":{\"id\":\"1004\"},\"x_scale\":{\"id\":\"1012\"},\"y_range\":{\"id\":\"1005\"},\"y_scale\":{\"id\":\"1014\"}},\"id\":\"1007\",\"subtype\":\"Figure\",\"type\":\"Plot\"},{\"attributes\":{\"callback\":null},\"id\":\"1029\",\"type\":\"TapTool\"},{\"attributes\":{\"axis_label\":\"y\",\"coordinates\":null,\"formatter\":{\"id\":\"1072\"},\"group\":null,\"major_label_policy\":{\"id\":\"1073\"},\"ticker\":{\"id\":\"1021\"},\"visible\":false},\"id\":\"1020\",\"type\":\"LinearAxis\"},{\"attributes\":{\"axis\":{\"id\":\"1020\"},\"coordinates\":null,\"dimension\":1,\"grid_line_color\":null,\"group\":null,\"ticker\":null},\"id\":\"1023\",\"type\":\"Grid\"},{\"attributes\":{\"coordinates\":null,\"data_source\":{\"id\":\"1040\"},\"glyph\":{\"id\":\"1043\"},\"group\":null,\"hover_glyph\":{\"id\":\"1045\"},\"muted_glyph\":{\"id\":\"1046\"},\"nonselection_glyph\":{\"id\":\"1044\"},\"view\":{\"id\":\"1048\"}},\"id\":\"1047\",\"type\":\"GlyphRenderer\"},{\"attributes\":{},\"id\":\"1021\",\"type\":\"BasicTicker\"},{\"attributes\":{\"coordinates\":null,\"data_source\":{\"id\":\"1041\"},\"glyph\":{\"id\":\"1049\"},\"group\":null,\"hover_glyph\":{\"id\":\"1051\"},\"muted_glyph\":{\"id\":\"1052\"},\"nonselection_glyph\":{\"id\":\"1050\"},\"view\":{\"id\":\"1054\"}},\"id\":\"1053\",\"type\":\"GlyphRenderer\"},{\"attributes\":{},\"id\":\"1088\",\"type\":\"UnionRenderers\"},{\"attributes\":{\"graph_layout\":{\"0\":[0.6659705371098192,-0.2295067259926017],\"1\":[0.8591760392505384,0.38033959998411637],\"10\":[0.7836704518455986,-0.1838042513026984],\"11\":[-0.12657361602976708,-0.011499958263579062],\"12\":[-0.16482369357209817,-0.13788221359266267],\"13\":[-0.7628506329769709,-0.020320857110331787],\"14\":[-0.08896174628011733,0.23724494459321632],\"15\":[-0.8219987323822308,0.0897178960574607],\"16\":[-0.2825380173684031,0.017344188872226718],\"17\":[-0.7162080653941653,0.2514103704444133],\"18\":[-0.7089007413109769,-0.23201975071645597],\"19\":[0.604833822011347,0.08753062581712531],\"2\":[-0.08879707158978258,-0.3721233161533863],\"20\":[0.7661115604462828,0.2964329172030253],\"21\":[-0.2675125157616841,0.14180558204197136],\"22\":[-0.7122673603813332,0.38500978584854856],\"23\":[0.4725592693604952,-0.42461405633543703],\"24\":[0.14128923429101053,-0.11308126556719406],\"25\":[0.677965331035552,0.20149495560335604],\"26\":[-0.03964726678207374,0.11179262513422199],\"27\":[-0.21241332040501681,0.26386409874667943],\"28\":[0.2995411622611331,-0.2746946863348535],\"29\":[-0.5862977144366328,-0.1842229133350887],\"3\":[0.023696068646583034,-0.31619795109518023],\"30\":[-0.17812008727628567,-0.2789539173950379],\"31\":[-0.42753700181877274,0.006521188665690952],\"32\":[0.777332092015885,-0.06056004499943518],\"33\":[0.539437339206522,-0.31440386198041304],\"34\":[0.9529658221137701,0.45738332687294025],\"35\":[-0.9431340302907409,0.1410840280302041],\"36\":[-0.5746311086514803,-0.017631386104716998],\"37\":[-0.693937608703528,0.10620112298958928],\"38\":[0.9529683096454639,0.45737970003480655],\"39\":[-0.8470628867911804,0.27949390169279087],\"4\":[0.5389048969737624,-0.16669551757910578],\"40\":[0.3447918873235968,-0.4085444083397486],\"41\":[0.28391128305578883,-0.14220062893616933],\"42\":[-0.7267596072306959,0.44806632330873086],\"43\":[-0.7065488961062316,0.3183675741857519],\"44\":[-0.7494580750125662,0.1957703437005896],\"45\":[-0.9167907081541375,0.30468145945055186],\"46\":[-0.9736096646556148,0.19951140553738367],\"47\":[-0.8883816660447686,0.10391206832195259],\"48\":[-0.7530087926085122,0.08397081374325147],\"49\":[-0.6632047654585175,0.02710707064813188],\"5\":[-0.9679342246872079,0.2649282576583736],\"50\":[-0.8090096550271764,-0.08104518310128371],\"51\":[-0.7700379812942384,-0.20416471507961953],\"52\":[-0.6418092520873101,-0.22566175590590687],\"53\":[-0.5558134244412565,-0.11603482979186157],\"54\":[-0.5006462787316951,0.0015642561997084503],\"55\":[-0.3552825249648914,0.008869083392220778],\"56\":[-0.21367640215402584,0.04175361686100311],\"57\":[-0.25981154376821913,0.21592630925842948],\"58\":[-0.1468188548066544,0.26972694014410437],\"59\":[-0.05211298021321779,0.18044245519569266],\"6\":[-0.8092792378573747,-0.1494284826423381],\"60\":[-0.05469938721528066,0.040375260241957846],\"61\":[-0.08891674802216862,-0.08753847007656772],\"62\":[-0.18484873612773509,-0.2090416007480934],\"63\":[-0.1454059634146915,-0.33813894598561367],\"64\":[-0.023504161911114454,-0.36533486460917997],\"65\":[0.03794678134898539,-0.24179514218764467],\"66\":[0.06760976364763453,-0.11809150749680171],\"67\":[0.21361174310393236,-0.12074139907670034],\"68\":[0.3482262860190724,-0.18321572289383353],\"69\":[0.30638810362501734,-0.3505934251637021],\"7\":[0.44318596961543555,-0.16364984226938917],\"70\":[0.4065280217653087,-0.434755534452339],\"71\":[0.5237549367788773,-0.38144094309477744],\"72\":[0.5153432545498076,-0.24050022504754168],\"73\":[0.5039990965511677,-0.10647122708618577],\"74\":[0.6015341836661683,-0.2036496991872648],\"75\":[0.7318679376726208,-0.22408917434828565],\"76\":[0.8042515080398939,-0.12138001392348238],\"77\":[0.7076597452298563,-0.033589258479367716],\"78\":[0.5840476777625184,0.020407108493996164],\"79\":[0.6382431825441774,0.1475719114459521],\"8\":[-0.003806459975802592,-0.1405024898547039],\"80\":[0.7210825073867457,0.25072213400965543],\"81\":[0.8122705619205761,0.3394685780791483],\"82\":[0.9063257410467342,0.41961771113378765],\"83\":[1.0,0.4944397806129597],\"84\":[0.999999068727174,0.49444012270093857],\"85\":[0.058689127323236924,-0.0041208566078040285],\"9\":[0.5876989052562552,-0.04975842271227104]}},\"id\":\"1042\",\"type\":\"StaticLayoutProvider\"},{\"attributes\":{},\"id\":\"1066\",\"type\":\"NodesAndLinkedEdges\"},{\"attributes\":{\"axis_label\":\"x\",\"coordinates\":null,\"formatter\":{\"id\":\"1069\"},\"group\":null,\"major_label_policy\":{\"id\":\"1070\"},\"ticker\":{\"id\":\"1017\"},\"visible\":false},\"id\":\"1016\",\"type\":\"LinearAxis\"},{\"attributes\":{\"source\":{\"id\":\"1041\"}},\"id\":\"1054\",\"type\":\"CDSView\"},{\"attributes\":{\"fill_color\":{\"value\":\"limegreen\"},\"hatch_color\":{\"value\":\"#30a2da\"},\"size\":{\"field\":\"node_size\"}},\"id\":\"1045\",\"type\":\"Circle\"},{\"attributes\":{},\"id\":\"1024\",\"type\":\"SaveTool\"},{\"attributes\":{},\"id\":\"1025\",\"type\":\"PanTool\"},{\"attributes\":{},\"id\":\"1069\",\"type\":\"BasicTickFormatter\"},{\"attributes\":{},\"id\":\"1026\",\"type\":\"WheelZoomTool\"},{\"attributes\":{},\"id\":\"1073\",\"type\":\"AllLabels\"},{\"attributes\":{\"overlay\":{\"id\":\"1030\"}},\"id\":\"1027\",\"type\":\"BoxZoomTool\"},{\"attributes\":{\"end\":0.5873596884162663,\"reset_end\":0.5873596884162663,\"reset_start\":-0.5276751001676667,\"start\":-0.5276751001676667,\"tags\":[[[\"y\",\"y\",null]]]},\"id\":\"1005\",\"type\":\"Range1d\"},{\"attributes\":{},\"id\":\"1028\",\"type\":\"ResetTool\"},{\"attributes\":{\"fill_alpha\":{\"value\":0.2},\"fill_color\":{\"field\":\"node_fill_color\",\"transform\":{\"id\":\"1039\"}},\"hatch_alpha\":{\"value\":0.2},\"hatch_color\":{\"value\":\"#30a2da\"},\"line_alpha\":{\"value\":0.2},\"size\":{\"field\":\"node_size\"}},\"id\":\"1046\",\"type\":\"Circle\"},{\"attributes\":{},\"id\":\"1089\",\"type\":\"Selection\"},{\"attributes\":{\"line_color\":{\"value\":\"limegreen\"},\"line_width\":{\"value\":2}},\"id\":\"1051\",\"type\":\"MultiLine\"}],\"root_ids\":[\"1003\"]},\"title\":\"Bokeh Application\",\"version\":\"2.4.3\"}};\n",
       "    var render_items = [{\"docid\":\"0192bf92-b208-4a9d-b366-66c6fd66b694\",\"root_ids\":[\"1003\"],\"roots\":{\"1003\":\"a0f95888-2f2a-4047-9a2d-247d466a1dbc\"}}];\n",
       "    root.Bokeh.embed.embed_items_notebook(docs_json, render_items);\n",
       "    for (const render_item of render_items) {\n",
       "      for (const root_id of render_item.root_ids) {\n",
       "\tconst id_el = document.getElementById(root_id)\n",
       "\tif (id_el.children.length && (id_el.children[0].className === 'bk-root')) {\n",
       "\t  const root_el = id_el.children[0]\n",
       "\t  root_el.id = root_el.id + '-rendered'\n",
       "\t}\n",
       "      }\n",
       "    }\n",
       "  }\n",
       "  if (root.Bokeh !== undefined && root.Bokeh.Panel !== undefined) {\n",
       "    embed_document(root);\n",
       "  } else {\n",
       "    var attempts = 0;\n",
       "    var timer = setInterval(function(root) {\n",
       "      if (root.Bokeh !== undefined && root.Bokeh.Panel !== undefined) {\n",
       "        clearInterval(timer);\n",
       "        embed_document(root);\n",
       "      } else if (document.readyState == \"complete\") {\n",
       "        attempts++;\n",
       "        if (attempts > 200) {\n",
       "          clearInterval(timer);\n",
       "          console.log(\"Bokeh: ERROR: Unable to run BokehJS code because BokehJS library is missing\");\n",
       "        }\n",
       "      }\n",
       "    }, 25, root)\n",
       "  }\n",
       "})(window);</script>"
      ],
      "text/plain": [
       ":Graph   [start,end]"
      ]
     },
     "execution_count": 35,
     "metadata": {
      "application/vnd.holoviews_exec.v0+json": {
       "id": "1003"
      }
     },
     "output_type": "execute_result"
    }
   ],
   "source": [
    "hook.run_with_input(np.zeros((1,3, 64, 64), dtype=np.float32))\n",
    "hook.get_graph(include_parent_modules=False)"
   ]
  },
  {
   "cell_type": "code",
   "execution_count": null,
   "metadata": {},
   "outputs": [
    {
     "data": {
      "text/plain": [
       "<matplotlib.image.AxesImage at 0x7f7b25146d70>"
      ]
     },
     "execution_count": 4,
     "metadata": {},
     "output_type": "execute_result"
    },
    {
     "data": {
      "image/png": "[encoded data removed]",
      "text/plain": [
       "<Figure size 896x672 with 1 Axes>"
      ]
     },
     "metadata": {},
     "output_type": "display_data"
    }
   ],
   "source": [
    "def dummy_obs_pair(color: str, location: Tuple[int, int]=(32,32)):\n",
    "    \"\"\" Returns a mostly-black image pair, the first of which contains a red/green/blue pixel in the center. Returns obs of shape (2, 3, 64, 64). \"\"\"\n",
    "    \n",
    "    assert color in ['R', 'G', 'B'], f'Color must be one of R, G, B, not {color}'\n",
    "    assert len(location) == 2, 'Location must be a tuple of length 2'\n",
    "    assert all(0 <= col < 64 for col in location), 'Location must be in [0, 64)'\n",
    "\n",
    "    channel = {'R': 0, 'G': 1, 'B': 2}[color]\n",
    "    obs = np.zeros((2, 3, 64, 64), dtype=np.float32)\n",
    "    obs[0, channel, location[0], location[1]] = 1 # Have one pixel in the middle, in the given channel\n",
    "    return obs\n",
    "    \n",
    "# Let's load a dummy observation with only one nonzero value\n",
    "plt.imshow(dummy_obs_pair(\"G\")[0].transpose(1,2,0))"
   ]
  },
  {
   "cell_type": "code",
   "execution_count": null,
   "metadata": {},
   "outputs": [],
   "source": [
    "# Get the available labels\n",
    "hook.run_with_input(dummy_obs_pair('R'))\n",
    "labels = list(hook.values_by_label.keys())[:-1] # Skip the \"_out\" layer and remove \"embedder.\" prefixes\n",
    "assert labels == list(map(expand_label, format_labels(labels)))"
   ]
  },
  {
   "cell_type": "code",
   "execution_count": null,
   "metadata": {},
   "outputs": [
    {
     "data": {
      "application/vnd.jupyter.widget-view+json": {
       "model_id": "34221e4951014ccba58936c2f4511980",
       "version_major": 2,
       "version_minor": 0
      },
      "text/plain": [
       "FigureWidget({\n",
       "    'data': [{'colorscale': [[0.0, 'rgb(103,0,31)'], [0.1, 'rgb(178,24,43)'],\n",
       "                             [0.2, 'rgb(214,96,77)'], [0.3, 'rgb(244,165,130)'],\n",
       "                             [0.4, 'rgb(253,219,199)'], [0.5, 'rgb(247,247,247)'],\n",
       "                             [0.6, 'rgb(209,229,240)'], [0.7, 'rgb(146,197,222)'],\n",
       "                             [0.8, 'rgb(67,147,195)'], [0.9, 'rgb(33,102,172)'],\n",
       "                             [1.0, 'rgb(5,48,97)']],\n",
       "              'type': 'heatmap',\n",
       "              'uid': 'f5c504d2-4fbd-4449-96d2-4b10d29a48a0',\n",
       "              'z': array([[0., 0., 0., ..., 0., 0., 0.],\n",
       "                          [0., 0., 0., ..., 0., 0., 0.],\n",
       "                          [0., 0., 0., ..., 0., 0., 0.],\n",
       "                          ...,\n",
       "                          [0., 0., 0., ..., 0., 0., 0.],\n",
       "                          [0., 0., 0., ..., 0., 0., 0.],\n",
       "                          [0., 0., 0., ..., 0., 0., 0.]], dtype=float32),\n",
       "              'zmax': 1.0,\n",
       "              'zmid': 0,\n",
       "              'zmin': -1.0}],\n",
       "    'layout': {'height': 500,\n",
       "               'template': '...',\n",
       "               'title': {'text': 'block1.conv_in0'},\n",
       "               'width': 500,\n",
       "               'xaxis': {'side': 'top'},\n",
       "               'yaxis': {'autorange': 'reversed'}}\n",
       "})"
      ]
     },
     "metadata": {},
     "output_type": "display_data"
    },
    {
     "data": {
      "application/vnd.jupyter.widget-view+json": {
       "model_id": "dd27af93150d4f7f9d87623ebf6dcee4",
       "version_major": 2,
       "version_minor": 0
      },
      "text/plain": [
       "VBox(children=(Dropdown(description='Layers', options=('block1.conv_in0', 'block1.conv_out', 'block1.maxpool_o…"
      ]
     },
     "metadata": {},
     "output_type": "display_data"
    },
    {
     "data": {
      "application/vnd.jupyter.widget-view+json": {
       "model_id": "9d3cc8fa57274b8cb079e1c3903b5e2e",
       "version_major": 2,
       "version_minor": 0
      },
      "text/plain": [
       "HBox(children=(Text(value='', layout=Layout(width='150px'), placeholder='Custom filename'), Button(description…"
      ]
     },
     "metadata": {},
     "output_type": "display_data"
    }
   ],
   "source": [
    "# We can begin to see how information propagates across the net for a dummy single-pixel input\n",
    "def activ_gen_px(col: int, row: int, layer_name: str, hook, color: str, pair: bool = False):\n",
    "    \"\"\" Get the activations for running a forward pass on a dummy observation, in the given color. Returns shape of (batch, channels, rows, cols), where size batch=1 if pair=False, and batch=2 if pair=True. \"\"\"\n",
    "    return get_activations(dummy_obs_pair(color, (row, col)), hook, layer_name)\n",
    "\n",
    "# Instantiate the plotter\n",
    "activ_plotter = ActivationsPlotter(labels, plotter=lambda activations, fig: plot_activations(activations[0], fig=fig), activ_gen=activ_gen_px, hook=hook, coords_enabled=True, color=\"R\") # TODO for some reason block2.maxpool_out has a different fig width?\n",
    "activ_plotter.display()"
   ]
  },
  {
   "cell_type": "code",
   "execution_count": null,
   "metadata": {},
   "outputs": [
    {
     "data": {
      "application/vnd.jupyter.widget-view+json": {
       "model_id": "d26c3896f161417eb6b52e5eb65c3120",
       "version_major": 2,
       "version_minor": 0
      },
      "text/plain": [
       "FigureWidget({\n",
       "    'data': [{'colorscale': [[0.0, 'rgb(103,0,31)'], [0.1, 'rgb(178,24,43)'],\n",
       "                             [0.2, 'rgb(214,96,77)'], [0.3, 'rgb(244,165,130)'],\n",
       "                             [0.4, 'rgb(253,219,199)'], [0.5, 'rgb(247,247,247)'],\n",
       "                             [0.6, 'rgb(209,229,240)'], [0.7, 'rgb(146,197,222)'],\n",
       "                             [0.8, 'rgb(67,147,195)'], [0.9, 'rgb(33,102,172)'],\n",
       "                             [1.0, 'rgb(5,48,97)']],\n",
       "              'type': 'heatmap',\n",
       "              'uid': 'e1cd4143-c6a1-40cf-b5e1-3f4e1eec994c',\n",
       "              'z': array([[0., 0., 0., ..., 0., 0., 0.],\n",
       "                          [0., 0., 0., ..., 0., 0., 0.],\n",
       "                          [0., 0., 0., ..., 0., 0., 0.],\n",
       "                          ...,\n",
       "                          [0., 0., 0., ..., 0., 0., 0.],\n",
       "                          [0., 0., 0., ..., 0., 0., 0.],\n",
       "                          [0., 0., 0., ..., 0., 0., 0.]], dtype=float32),\n",
       "              'zmax': 1.0,\n",
       "              'zmid': 0,\n",
       "              'zmin': -1.0}],\n",
       "    'layout': {'height': 500,\n",
       "               'template': '...',\n",
       "               'title': {'text': 'block1.conv_in0'},\n",
       "               'width': 500,\n",
       "               'xaxis': {'side': 'top'},\n",
       "               'yaxis': {'autorange': 'reversed'}}\n",
       "})"
      ]
     },
     "metadata": {},
     "output_type": "display_data"
    },
    {
     "data": {
      "application/vnd.jupyter.widget-view+json": {
       "model_id": "96b3cf18824a454c90a27a01a4323619",
       "version_major": 2,
       "version_minor": 0
      },
      "text/plain": [
       "VBox(children=(Dropdown(description='Layers', options=('block1.conv_in0', 'block1.conv_out', 'block1.maxpool_o…"
      ]
     },
     "metadata": {},
     "output_type": "display_data"
    },
    {
     "data": {
      "application/vnd.jupyter.widget-view+json": {
       "model_id": "6b54d93c816849bf9596a45f1ca126ee",
       "version_major": 2,
       "version_minor": 0
      },
      "text/plain": [
       "HBox(children=(Text(value='', layout=Layout(width='150px'), placeholder='Custom filename'), Button(description…"
      ]
     },
     "metadata": {},
     "output_type": "display_data"
    }
   ],
   "source": [
    "# Plot the diff between a single-pixel input and a blank input\n",
    "activ_plotter = ActivationsPlotter(labels, plotter=lambda activations, fig: plot_activations(activations[0] - activations[1], fig=fig), activ_gen=activ_gen_px, hook=hook, coords_enabled=True, color=\"R\")\n",
    "activ_plotter.display()"
   ]
  },
  {
   "cell_type": "code",
   "execution_count": null,
   "metadata": {},
   "outputs": [
    {
     "data": {
      "application/vnd.jupyter.widget-view+json": {
       "model_id": "4b9e7373a00f40b4bc569237dd3e94dc",
       "version_major": 2,
       "version_minor": 0
      },
      "text/plain": [
       "FigureWidget({\n",
       "    'data': [{'colorscale': [[0.0, 'rgb(103,0,31)'], [0.1, 'rgb(178,24,43)'],\n",
       "                             [0.2, 'rgb(214,96,77)'], [0.3, 'rgb(244,165,130)'],\n",
       "                             [0.4, 'rgb(253,219,199)'], [0.5, 'rgb(247,247,247)'],\n",
       "                             [0.6, 'rgb(209,229,240)'], [0.7, 'rgb(146,197,222)'],\n",
       "                             [0.8, 'rgb(67,147,195)'], [0.9, 'rgb(33,102,172)'],\n",
       "                             [1.0, 'rgb(5,48,97)']],\n",
       "              'type': 'heatmap',\n",
       "              'uid': '00fc0943-fee6-4aba-8a5e-6d44487a1a7d',\n",
       "              'z': array([[0., 0., 0., ..., 0., 0., 0.],\n",
       "                          [0., 0., 0., ..., 0., 0., 0.],\n",
       "                          [0., 0., 0., ..., 0., 0., 0.],\n",
       "                          ...,\n",
       "                          [0., 0., 0., ..., 0., 0., 0.],\n",
       "                          [0., 0., 0., ..., 0., 0., 0.],\n",
       "                          [0., 0., 0., ..., 0., 0., 0.]], dtype=float32),\n",
       "              'zmax': 1.0,\n",
       "              'zmid': 0,\n",
       "              'zmin': -1.0}],\n",
       "    'layout': {'height': 500,\n",
       "               'template': '...',\n",
       "               'title': {'text': 'block1.conv_in0'},\n",
       "               'width': 500,\n",
       "               'xaxis': {'side': 'top'},\n",
       "               'yaxis': {'autorange': 'reversed'}}\n",
       "})"
      ]
     },
     "metadata": {},
     "output_type": "display_data"
    },
    {
     "data": {
      "application/vnd.jupyter.widget-view+json": {
       "model_id": "a025cb90ffde4e61ae3b1713b48db830",
       "version_major": 2,
       "version_minor": 0
      },
      "text/plain": [
       "VBox(children=(Dropdown(description='Layers', options=('block1.conv_in0', 'block1.conv_out', 'block1.maxpool_o…"
      ]
     },
     "metadata": {},
     "output_type": "display_data"
    },
    {
     "data": {
      "application/vnd.jupyter.widget-view+json": {
       "model_id": "19245d07403f4ebab21a281475b9fdd3",
       "version_major": 2,
       "version_minor": 0
      },
      "text/plain": [
       "HBox(children=(Text(value='', layout=Layout(width='150px'), placeholder='Custom filename'), Button(description…"
      ]
     },
     "metadata": {},
     "output_type": "display_data"
    }
   ],
   "source": [
    "# Instantiate the plotter\n",
    "nonzero_plotter = ActivationsPlotter(labels, plotter=plot_nonzero_diffs, activ_gen=activ_gen_px, hook=hook, coords_enabled=True, color=\"R\", pair=True)\n",
    "nonzero_plotter.display()"
   ]
  },
  {
   "attachments": {},
   "cell_type": "markdown",
   "metadata": {},
   "source": [
    "# 1: Locality\n",
    "Consider `n` convolutional layers (3x3 kernel, stride=1, padding=1) which each preserve the height col width of the previous feature maps. The above demonstrates that after these layers, information can only propagate `n` L1 pixels. The network itself is composed of # TODO "
   ]
  },
  {
   "attachments": {},
   "cell_type": "markdown",
   "metadata": {},
   "source": [
    "# Visualizing actual observation activations"
   ]
  },
  {
   "cell_type": "code",
   "execution_count": null,
   "metadata": {},
   "outputs": [],
   "source": [
    "default_settings = {'channel_slider': 55, 'label_widget': 'block2.res1.resadd_out'}"
   ]
  },
  {
   "cell_type": "code",
   "execution_count": null,
   "metadata": {},
   "outputs": [
    {
     "data": {
      "application/vnd.jupyter.widget-view+json": {
       "model_id": "2385ad9974ca47498132f9d3c4c3f4f5",
       "version_major": 2,
       "version_minor": 0
      },
      "text/plain": [
       "Box(children=(HBox(children=(GridspecLayout(children=(Button(layout=Layout(grid_area='widget001', height='0px'…"
      ]
     },
     "metadata": {},
     "output_type": "display_data"
    },
    {
     "data": {
      "application/vnd.jupyter.widget-view+json": {
       "model_id": "a004b6380d2d420fb7c62329b939e1a7",
       "version_major": 2,
       "version_minor": 0
      },
      "text/plain": [
       "FigureWidget({\n",
       "    'data': [{'colorscale': [[0.0, 'rgb(103,0,31)'], [0.1, 'rgb(178,24,43)'],\n",
       "                             [0.2, 'rgb(214,96,77)'], [0.3, 'rgb(244,165,130)'],\n",
       "                             [0.4, 'rgb(253,219,199)'], [0.5, 'rgb(247,247,247)'],\n",
       "                             [0.6, 'rgb(209,229,240)'], [0.7, 'rgb(146,197,222)'],\n",
       "                             [0.8, 'rgb(67,147,195)'], [0.9, 'rgb(33,102,172)'],\n",
       "                             [1.0, 'rgb(5,48,97)']],\n",
       "              'type': 'heatmap',\n",
       "              'uid': '85acbcd3-dc79-47d4-9898-a32f5705fc5a',\n",
       "              'z': array([[ 0.02779133, -0.02590676, -0.07078469, ..., -0.04562637, -0.02730033,\n",
       "                           -0.01589137],\n",
       "                          [-0.0011681 , -0.14533387, -0.16364552, ..., -0.12093185, -0.11846539,\n",
       "                           -0.08173238],\n",
       "                          [-0.066576  , -0.23137468, -0.15855052, ..., -0.24422255, -0.18919402,\n",
       "                           -0.1876842 ],\n",
       "                          ...,\n",
       "                          [-0.07922912, -0.1804636 , -0.07118487, ..., -0.17781088, -0.20001522,\n",
       "                           -0.20169167],\n",
       "                          [-0.07102656, -0.2485542 , -0.2737406 , ..., -0.2137844 , -0.20419706,\n",
       "                           -0.20299365],\n",
       "                          [-0.1045794 , -0.2592165 , -0.33283123, ..., -0.27477673, -0.22996438,\n",
       "                           -0.04319538]], dtype=float32),\n",
       "              'zmax': 0.8239236,\n",
       "              'zmid': 0,\n",
       "              'zmin': -0.8239235877990723}],\n",
       "    'layout': {'height': 500,\n",
       "               'template': '...',\n",
       "               'title': {'text': 'block2.res1.resadd_out'},\n",
       "               'width': 500,\n",
       "               'xaxis': {'side': 'top'},\n",
       "               'yaxis': {'autorange': 'reversed'}}\n",
       "})"
      ]
     },
     "metadata": {},
     "output_type": "display_data"
    },
    {
     "data": {
      "application/vnd.jupyter.widget-view+json": {
       "model_id": "d617ad20bffa4f57bc93f5de9c8db4cc",
       "version_major": 2,
       "version_minor": 0
      },
      "text/plain": [
       "VBox(children=(Dropdown(description='Layers', index=19, options=('block1.conv_in0', 'block1.conv_out', 'block1…"
      ]
     },
     "metadata": {},
     "output_type": "display_data"
    },
    {
     "data": {
      "application/vnd.jupyter.widget-view+json": {
       "model_id": "a728ce47501b4f2bb16b21455d80d6aa",
       "version_major": 2,
       "version_minor": 0
      },
      "text/plain": [
       "HBox(children=(Text(value='', layout=Layout(width='150px'), placeholder='Custom filename'), Button(description…"
      ]
     },
     "metadata": {},
     "output_type": "display_data"
    }
   ],
   "source": [
    "# Show a maze editor side-by-side with the interactive plotter\n",
    "SEED = 5\n",
    "venv = create_venv(num=1, start_level=SEED, num_levels=1) # This has to be a single maze, otherwise the vfield wont work\n",
    "custom_maze_plotter = ActivationsPlotter(labels, lambda activations, fig: plot_activations(activations[0], fig=fig), values_from_venv, hook, defaults=default_settings, venv=venv)\n",
    "\n",
    "widget_box = custom_vfield(policy, venv=venv, callback=custom_maze_plotter.update_plotter, ax_size = 2) \n",
    "# There are two copies of the vfield because \n",
    "display(widget_box)\n",
    "    \n",
    "custom_maze_plotter.display() \n",
    "# TODO make it so that it's easy to attach notes to files, load  "
   ]
  },
  {
   "attachments": {},
   "cell_type": "markdown",
   "metadata": {},
   "source": [
    "# Examine activations with attribution maps\n",
    "\n",
    "\n",
    "[Integrated gradients](https://arxiv.org/abs/1802.03788) is an attribution method which works by approximating the following integral, where $F : \\mathbb{R}^n \\rightarrow \\mathbb{R}$ is the network, $x$ is the input, $x'$ is the baseline, and $i$ is the feature.\n",
    "\n",
    "$$\n",
    "\\mathrm{IntegratedGradients}_i(x) = (x_i - x_i') \\times \\int_{\\alpha=0}^1 \\frac{\\partial F(x' + \\alpha (x - x'))}{\\partial x_i} d\\alpha\n",
    "$$\n",
    "\n",
    "[Intuitively](https://www.tensorflow.org/tutorials/interpretability/integrated_gradients) we're accumulating all the change in output from changing $x'$ to $x$ along the linear path $\\alpha x' + (1 - \\alpha) x$. For a concrete example in words, let $x_i$ be the weight of a heavy exotic frog, $x_i'$ be the average weight over all frogs, $F(x)$ be the estimated jump height of a frog with all the features $x$ (one of which is weight). Given this, the equation above can be interpreted as\n",
    "\n",
    "$$\n",
    "\\text{Weight gain of exotic frog} \\times \\text{Average rate jump height changes per unit weight gain} = \\text{Jump height change of exotic frog \\textbf{due to weight gain}}\n",
    "$$\n",
    "\n",
    "In other words, the integrated gradients vector is the vector of the change in output **due** to the change in each input feature.\n",
    "\n",
    "As an implementation detail, we currently use $x' = \\mathbf{0}$ as a baseline, though we'll be changing this soon.\n",
    "\n",
    "For the interface, <span style=\"color:blue;\">Blue</span> is the activation, brighter for positive, darker for negative. <span style=\"color:red;\">Red</span> is the attribution, brighter for positive, darker for negative.\n"
   ]
  },
  {
   "cell_type": "code",
   "execution_count": null,
   "metadata": {},
   "outputs": [],
   "source": [
    "from torch.distributions import Categorical\n",
    "from captum.attr import IntegratedGradients\n",
    "\n",
    "class WrappedModel(t.nn.Module):\n",
    "    def __init__(self, hook: cmh.ModuleHook):\n",
    "        super().__init__()\n",
    "        assert isinstance(hook, cmh.ModuleHook), \"Hook must be a ModuleHook\"\n",
    "\n",
    "        self.hook = hook\n",
    "\n",
    "    def forward(self, labelled_activation: t.Tensor, obs: t.Tensor, label: str):\n",
    "        assert isinstance(obs, t.Tensor) and obs.dtype == t.float32, \"Obs must be a tensor of dtype float32\"\n",
    "        assert isinstance(labelled_activation, t.Tensor) and labelled_activation.dtype == t.float32, \"Labelled activation must be a tensor of dtype float32\"\n",
    "\n",
    "        # could be faster cached but I'm not taking chances with hook reuse bugs\n",
    "        mask = t.tensor(True) # mask all the things\n",
    "        patches = {label: cmh.PatchDef(value=labelled_activation, mask=mask)}\n",
    "        with self.hook.set_hook_should_get_custom_data(), self.hook.use_patches(patches):\n",
    "            c, _ = self.hook.network(obs)\n",
    "\n",
    "        # return probs\n",
    "        return t.stack([c.probs[..., np.array(act_indexes)].sum(-1) for _, act_indexes in models.MAZE_ACTION_INDICES.items()], dim=-1)\n",
    "\n",
    "\n",
    "model = WrappedModel(hook)\n",
    "ig = IntegratedGradients(model)"
   ]
  },
  {
   "cell_type": "code",
   "execution_count": null,
   "metadata": {},
   "outputs": [
    {
     "data": {
      "application/vnd.jupyter.widget-view+json": {
       "model_id": "2ee1791c69e448fe99de6be664dae1f5",
       "version_major": 2,
       "version_minor": 0
      },
      "text/plain": [
       "interactive(children=(Dropdown(description='Target: ', index=3, options=('LEFT', 'DOWN', 'UP', 'RIGHT', 'NOOP'…"
      ]
     },
     "metadata": {},
     "output_type": "display_data"
    },
    {
     "data": {
      "application/vnd.jupyter.widget-view+json": {
       "model_id": "184859a97dc74440a078aa10ea3064ca",
       "version_major": 2,
       "version_minor": 0
      },
      "text/plain": [
       "Box(children=(HBox(children=(GridspecLayout(children=(Button(layout=Layout(grid_area='widget001', height='0px'…"
      ]
     },
     "metadata": {},
     "output_type": "display_data"
    }
   ],
   "source": [
    "targets = {k: i for i, k in enumerate(models.MAZE_ACTION_INDICES.keys())}\n",
    "venv = maze.create_venv(1,0,1)\n",
    "\n",
    "def viz_attr(target: str, layer_name: str, alpha: float, std_clip_low: float, std_clip_high: float, channel: int = 0, update_counter: int = 0):\n",
    "    obs = t.tensor(venv.reset(), dtype=t.float32, requires_grad=True)\n",
    "    # TODO: Baseline/counterfactual for IG, defaults is zero and is not ideal.\n",
    "    with hook.set_hook_should_get_custom_data():\n",
    "        hook.network(obs)\n",
    "        activ = hook.get_value_by_label(layer_name, convert=False)\n",
    "\n",
    "    attr, delta = ig.attribute(activ, target=targets[target], return_convergence_delta=True, additional_forward_args=(obs, layer_name))\n",
    "    attr = attr.detach().numpy()\n",
    "\n",
    "    # Convert to numpy float image format; gaussian normalize to [0,1]\n",
    "    activ_im = activ[0].detach().numpy()[channel]\n",
    "    activ_im = (activ_im - activ_im.min()) / (activ_im.max() - activ_im.min())\n",
    "\n",
    "    attr_im = attr[0][channel]\n",
    "\n",
    "    # clip outliers\n",
    "    mean, std = attr_im.mean(), attr_im.std()\n",
    "    attr_im = np.clip(attr_im, mean - std_clip_low*std, mean + std_clip_high*std)\n",
    "    # normalize for display\n",
    "    attr_im = (attr_im - attr_im.min())\n",
    "    if (attr_im.max() - attr_im.min()) != 0:\n",
    "        attr_im /= (attr_im.max() - attr_im.min())\n",
    "    else:\n",
    "        print(\"WARNING: attribution failed, image is constant zeros. try a different channel?\")\n",
    "\n",
    "    # TODO: Maybe this should be log scale since model outputs probabilities? maybe model should output log probs?\n",
    "    # hard to interpret.\n",
    "\n",
    "    # alternative (non rgb) overlay\n",
    "    # overlay_im = alpha * attr_im + (1-alpha) * activ_im\n",
    "    # rb overlay\n",
    "    green = np.zeros_like(attr_im)\n",
    "    overlay_im = np.stack([alpha*attr_im, green, (1-alpha)*activ_im], axis=2)\n",
    "\n",
    "    plt.imshow(overlay_im)\n",
    "\n",
    "\n",
    "update_counter_widget = widgets.fixed(0) # CURSED\n",
    "\n",
    "interact(\n",
    "    viz_attr,\n",
    "    target=widgets.Dropdown(options=list(targets.keys()), value='RIGHT', description='Target: '),\n",
    "    layer_name=widgets.Dropdown(options=labels, value=labels[4], description='Label: '),\n",
    "    alpha=widgets.FloatSlider(min=0, max=1, step=0.1, value=0.5),\n",
    "    std_clip_low=widgets.FloatSlider(min=0, max=10, step=0.5, value=3), # NOTE: Feel free to make default settings better\n",
    "    std_clip_high=widgets.FloatSlider(min=0, max=10, step=0.5, value=5),\n",
    "    channel=widgets.IntSlider(min=0, max=128, step=1, value=0),\n",
    "    update_counter=update_counter_widget,\n",
    ");\n",
    "\n",
    "widget_box = custom_vfield(policy, venv=venv, seed=SEED, callback=lambda _: update_counter_widget.set_trait('value', update_counter_widget.value + 1))\n",
    "display(widget_box)\n"
   ]
  }
 ],
 "metadata": {
  "kernelspec": {
   "display_name": "MATS",
   "language": "python",
   "name": "python3"
  },
  "language_info": {
   "codemirror_mode": {
    "name": "ipython",
    "version": 3
   },
   "file_extension": ".py",
   "mimetype": "text/x-python",
   "name": "python",
   "nbconvert_exporter": "python",
   "pygments_lexer": "ipython3",
   "version": "3.10.9"
  },
  "orig_nbformat": 4,
  "vscode": {
   "interpreter": {
    "hash": "4c77f2f46953a93e2cdf30c808e94602375d16ad6294e549473c1f301bc8b554"
   }
  }
 },
 "nbformat": 4,
 "nbformat_minor": 2
}
