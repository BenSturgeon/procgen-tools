{
 "cells": [
  {
   "attachments": {},
   "cell_type": "markdown",
   "metadata": {},
   "source": [
    "# Shard theory mechint\n",
    "\n",
    "A summary of project activities so far:\n",
    "- Basic model editing by finding a \"cheese vector\" in the activations, and subtracting it to reduce propensity to get cheese (in favor of going to the top right)\n",
    "    - Statistical data showing this drastically decreases the amount the mouse goes to the cheese, and increases the amount the mouse goes to the top right (moreso then a random screwing up of weights would!)\n",
    "- Creating useful tooling\n",
    "    - Library functions to interactively and programmatically edit mazes\n",
    "    - Library functions to \n",
    "    - A vector field view of agent behavior on a maze\n",
    "    - Data gathering scripts for episodes, vector fields, and patched vector fields (see below)\n",
    "- Behavioral statistics with preregistered predictions\n",
    "    - Euclidian distance\n",
    "    - (Peli should add more here. I don't recall all his results)\n",
    "\n",
    "\n",
    "Concrete results:"
   ]
  },
  {
   "attachments": {},
   "cell_type": "markdown",
   "metadata": {},
   "source": [
    "## Model editing: Finding a \"cheese\" vector\n",
    "\n",
    "The basic idea is simple, in a maze with no cheese the cheese-decision-influence won't be active and the mouse will try and go to the top-right. In a maze with cheese, *both* the top-right and cheese decision-influences will be active.\n",
    "\n",
    "What if we record the activations for both on a specific layer $l$, and patch the network by adding the difference?\n",
    "\n",
    "Formally, pick a maze $m$ and layer $l$. Let $a_c \\in \\mathbf{R}^n$ denote the activations of layer $l$ on maze $m$ *with the cheese*, and $a_{\\neg c} \\in \\mathbf{R}^n$ denote the activations where the cheese is first removed from the maze. (In both of these cases, the mouse remains in the start position)\n",
    "\n",
    "Now we patch the network, setting the output of layer $l$ ($a_l$) to be $a_l' = a_l + \\alpha(a_c - a_{\\neg c})$ for varying choices of $\\alpha$.\n",
    "\n",
    "For the first step we have $a_l = a_c$ (mouse hasn't moved, cheese exists) giving $a_l' = (1+\\alpha)a_c - \\alpha a_{\\neg c}$, and for $\\alpha = -1$ we have $a_l' = a_{\\neg c}$ meaning ignore the cheese.\n",
    "\n",
    "Does this work beyond the first timestep? Surprisingly, yes. It raises the probability we go to the top right a large amount when we reach \"forks in the road\" (decision squares in our terminology) and lowers the probability we go to the cheese.\n",
    "\n",
    "(This doesn't prove we're doing something motivational. We could be doing something perceptual, like editing out the knowledge of the cheese the mouse has.)"
   ]
  },
  {
   "cell_type": "code",
   "execution_count": 8,
   "metadata": {},
   "outputs": [],
   "source": [
    "%matplotlib inline\n",
    "import matplotlib.pyplot as plt\n",
    "import pickle\n",
    "from glob import glob\n",
    "from collections import defaultdict"
   ]
  },
  {
   "cell_type": "code",
   "execution_count": 9,
   "metadata": {},
   "outputs": [],
   "source": [
    "vfields = [pickle.load(open(f, 'rb')) for f in glob('../data/vfields/seed-*.pkl')]\n",
    "vfields_by_level = defaultdict(list)\n",
    "for vf in vfields:\n",
    "    vfields_by_level[vf['seed']].append(vf)\n",
    "\n",
    "def get_vfields(seed: int, coeff: float):\n",
    "    return next(vf for vf in vfields_by_level[seed] if vf['coeff'] == coeff)"
   ]
  },
  {
   "cell_type": "code",
   "execution_count": 10,
   "metadata": {},
   "outputs": [
    {
     "data": {
      "application/vnd.jupyter.widget-view+json": {
       "model_id": "d31d9b1f582b4eb8b7361865e3ead977",
       "version_major": 2,
       "version_minor": 0
      },
      "text/plain": [
       "interactive(children=(IntSlider(value=0, description='seed', max=99), FloatSlider(value=1.0, description='coef…"
      ]
     },
     "metadata": {},
     "output_type": "display_data"
    }
   ],
   "source": [
    "from ipywidgets import interact, IntSlider, FloatSlider\n",
    "from vfield_utils import plot_vfs\n",
    "\n",
    "def _coeffs_for(seed: int):\n",
    "    return sorted(set(vf['coeff'] for vf in vfields_by_level[seed]))\n",
    "\n",
    "seed_max = max(vf['seed'] for vf in vfields)\n",
    "min_coeff, max_coeff = min(vf['coeff'] for vf in vfields), max(vf['coeff'] for vf in vfields)\n",
    "\n",
    "@interact(seed = IntSlider(min=0, max=seed_max, step=1, value=0), coeff = FloatSlider(min=min_coeff, max=max_coeff, step=0.1, value=1.0))\n",
    "def interact_vfields(seed: int, coeff: float):\n",
    "    # set coeff to nearest available in vfields_by_level[seed]\n",
    "    coeff = min(_coeffs_for(seed), key=lambda x: abs(x - coeff))\n",
    "    vfs = get_vfields(seed, coeff)\n",
    "    plot_vfs(vfs)"
   ]
  },
  {
   "attachments": {},
   "cell_type": "markdown",
   "metadata": {},
   "source": [
    "## A tour through our tooling\n",
    "\n",
    "We have a few tools to help us understand the model and the data we're collecting.\n",
    "Some of these will soon be made into a library."
   ]
  },
  {
   "cell_type": "code",
   "execution_count": null,
   "metadata": {},
   "outputs": [],
   "source": []
  }
 ],
 "metadata": {
  "kernelspec": {
   "display_name": "Python 3",
   "language": "python",
   "name": "python3"
  },
  "language_info": {
   "codemirror_mode": {
    "name": "ipython",
    "version": 3
   },
   "file_extension": ".py",
   "mimetype": "text/x-python",
   "name": "python",
   "nbconvert_exporter": "python",
   "pygments_lexer": "ipython3",
   "version": "3.10.9"
  },
  "orig_nbformat": 4,
  "vscode": {
   "interpreter": {
    "hash": "767d51c1340bd893661ea55ea3124f6de3c7a262a8b4abca0554b478b1e2ff90"
   }
  }
 },
 "nbformat": 4,
 "nbformat_minor": 2
}
