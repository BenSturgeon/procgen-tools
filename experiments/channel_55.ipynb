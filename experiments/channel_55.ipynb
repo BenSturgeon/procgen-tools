{
 "cells": [
  {
   "attachments": {},
   "cell_type": "markdown",
   "metadata": {},
   "source": [
    "One particularly interesting channel in `block2.res1.resadd_out` is _channel 55_. In this notebook, we will: \n",
    "1. Visualize channel 55 and demonstrate **that it positively activates on cheese and weakly negatively activates elsewhere**, \n",
    "2. Demonstrate how the agent can sometimes be retargeted using a simple synthetic activation patch, and\n",
    "3. Show that this channel can weakly increase cheese-seeking (multiply by >1), decrease cheese-seeking (zero- or mean-ablate), strongly promote cheese-avoidance (multiply by < -1), and promote no-ops (multiply by << -1). "
   ]
  },
  {
   "cell_type": "code",
   "execution_count": 4,
   "metadata": {},
   "outputs": [
    {
     "name": "stdout",
     "output_type": "stream",
     "text": [
      "Already downloaded https://nerdsniper.net/mats/episode_data.tgz\n",
      "Already downloaded https://nerdsniper.net/mats/patch_data.tgz\n",
      "Already downloaded https://nerdsniper.net/mats/data.tgz\n",
      "Already downloaded https://nerdsniper.net/mats/model_rand_region_5.pth\n"
     ]
    }
   ],
   "source": [
    "try:\n",
    "    import procgen_tools\n",
    "except ImportError or ModuleNotFoundError:\n",
    "    get_ipython().run_line_magic(magic_name='pip', line='install -U git+https://github.com/ulissemini/procgen-tools')\n",
    "\n",
    "from procgen_tools.utils import setup\n",
    "\n",
    "setup() # create directory structure and download data \n",
    "\n",
    "from procgen_tools.imports import *\n",
    "from procgen_tools.procgen_imports import * "
   ]
  },
  {
   "attachments": {},
   "cell_type": "markdown",
   "metadata": {},
   "source": [
    "# Visualizing channel 55"
   ]
  },
  {
   "attachments": {},
   "cell_type": "markdown",
   "metadata": {},
   "source": [
    "Try clicking on the left-ward level editor below. Move the cheese around the maze by clicking on the yellow tile, and then clicking on the tile you want to contain the cheese. Watch the positive blue activations equivariantly translate along with the cheese!"
   ]
  },
  {
   "cell_type": "code",
   "execution_count": 7,
   "metadata": {},
   "outputs": [
    {
     "data": {
      "application/vnd.jupyter.widget-view+json": {
       "model_id": "eeb0e6e28df1414f9a7539489e6c469b",
       "version_major": 2,
       "version_minor": 0
      },
      "text/plain": [
       "Box(children=(HBox(children=(GridspecLayout(children=(Button(layout=Layout(grid_area='widget001', height='0px'…"
      ]
     },
     "metadata": {},
     "output_type": "display_data"
    },
    {
     "data": {
      "application/vnd.jupyter.widget-view+json": {
       "model_id": "02977dc028e24cd3b38fe0f0e27d7308",
       "version_major": 2,
       "version_minor": 0
      },
      "text/plain": [
       "FigureWidget({\n",
       "    'data': [{'colorscale': [[0.0, 'rgb(103,0,31)'], [0.1, 'rgb(178,24,43)'],\n",
       "                             [0.2, 'rgb(214,96,77)'], [0.3, 'rgb(244,165,130)'],\n",
       "                             [0.4, 'rgb(253,219,199)'], [0.5, 'rgb(247,247,247)'],\n",
       "                             [0.6, 'rgb(209,229,240)'], [0.7, 'rgb(146,197,222)'],\n",
       "                             [0.8, 'rgb(67,147,195)'], [0.9, 'rgb(33,102,172)'],\n",
       "                             [1.0, 'rgb(5,48,97)']],\n",
       "              'type': 'heatmap',\n",
       "              'uid': '50561e8b-f4f9-4033-9b4c-ff5b00e180d4',\n",
       "              'z': array([[ 0.02657262, -0.02839196, -0.07337212, ..., -0.04367238, -0.02377848,\n",
       "                           -0.01424359],\n",
       "                          [-0.00080798, -0.16589725, -0.19343746, ..., -0.17971103, -0.13789423,\n",
       "                           -0.08407792],\n",
       "                          [-0.06065782, -0.2514051 , -0.23488975, ..., -0.22294307, -0.20125811,\n",
       "                           -0.19534574],\n",
       "                          ...,\n",
       "                          [-0.05962539, -0.25053102, -0.23379712, ..., -0.21866447, -0.20411627,\n",
       "                           -0.20397769],\n",
       "                          [-0.05711482, -0.23446661, -0.22506815, ..., -0.21692471, -0.20303142,\n",
       "                           -0.20786336],\n",
       "                          [-0.08851513, -0.23334745, -0.24487017, ..., -0.24201   , -0.22992903,\n",
       "                           -0.04521213]], dtype=float32),\n",
       "              'zmax': 1.0084189,\n",
       "              'zmid': 0,\n",
       "              'zmin': -1.0084189176559448}],\n",
       "    'layout': {'height': 500,\n",
       "               'template': '...',\n",
       "               'title': {'text': 'block2.res1.resadd_out'},\n",
       "               'width': 500,\n",
       "               'xaxis': {'side': 'top'},\n",
       "               'yaxis': {'autorange': 'reversed'}}\n",
       "})"
      ]
     },
     "metadata": {},
     "output_type": "display_data"
    },
    {
     "data": {
      "application/vnd.jupyter.widget-view+json": {
       "model_id": "f9f0694923a84b53acf7cbf30a11105d",
       "version_major": 2,
       "version_minor": 0
      },
      "text/plain": [
       "VBox(children=(Dropdown(description='Layers', index=19, options=('block1.conv_in0', 'block1.conv_out', 'block1…"
      ]
     },
     "metadata": {},
     "output_type": "display_data"
    },
    {
     "data": {
      "application/vnd.jupyter.widget-view+json": {
       "model_id": "ecf3aaf4531f47d4854ad33178aee85b",
       "version_major": 2,
       "version_minor": 0
      },
      "text/plain": [
       "HBox(children=(Text(value='', layout=Layout(width='150px'), placeholder='Custom filename'), Button(description…"
      ]
     },
     "metadata": {},
     "output_type": "display_data"
    }
   ],
   "source": [
    "# Show a maze editor side-by-side with the interactive plotter\n",
    "SEED = 1\n",
    "venv = create_venv(num=1, start_level=SEED, num_levels=1) # This has to be a single maze, otherwise the vfield wont work\n",
    "\n",
    "default_settings = {'channel_slider': 55, 'label_widget': 'block2.res1.resadd_out'}\n",
    "custom_maze_plotter = ActivationsPlotter(labels, lambda activations, fig: plot_activations(activations[0], fig=fig), values_from_venv, hook, defaults=default_settings, venv=venv)\n",
    "\n",
    "widget_box = custom_vfield(policy, venv=venv, callback=custom_maze_plotter.update_plotter, ax_size = 2) \n",
    "display(widget_box)\n",
    "    \n",
    "custom_maze_plotter.display() "
   ]
  },
  {
   "cell_type": "code",
   "execution_count": 6,
   "metadata": {},
   "outputs": [
    {
     "data": {
      "application/vnd.jupyter.widget-view+json": {
       "model_id": "bb60231c8eff4b09a62992daeee16b74",
       "version_major": 2,
       "version_minor": 0
      },
      "text/plain": [
       "interactive(children=(IntSlider(value=0, description='seed'), FloatSlider(value=5.5, description='multiplier',…"
      ]
     },
     "metadata": {},
     "output_type": "display_data"
    }
   ],
   "source": [
    "@interact\n",
    "def double_channel_55(seed=IntSlider(min=0, max=100, step=1, value=0), multiplier=FloatSlider(min=-15, max=15, step=0.1, value=5.5)):\n",
    "    venv = get_cheese_venv_pair(seed=seed)\n",
    "    patches = get_multiply_patch(layer_name=default_layer, channel=55, multiplier=multiplier)\n",
    "    fig, axs, info = compare_patched_vfields(venv, patches, hook, render_padding=True, ax_size=6)\n",
    "    plt.show()\n",
    "\n",
    "    def save_fig(b):\n",
    "        fig.savefig(f'visualizations/c55_multiplier_{multiplier}_seed_{seed}.png')\n",
    "    button = Button(description='Save figure')\n",
    "    button.on_click(save_fig)\n",
    "    display(button)"
   ]
  }
 ],
 "metadata": {
  "kernelspec": {
   "display_name": "MATS",
   "language": "python",
   "name": "python3"
  },
  "language_info": {
   "codemirror_mode": {
    "name": "ipython",
    "version": 3
   },
   "file_extension": ".py",
   "mimetype": "text/x-python",
   "name": "python",
   "nbconvert_exporter": "python",
   "pygments_lexer": "ipython3",
   "version": "3.10.9"
  },
  "orig_nbformat": 4,
  "vscode": {
   "interpreter": {
    "hash": "4c77f2f46953a93e2cdf30c808e94602375d16ad6294e549473c1f301bc8b554"
   }
  }
 },
 "nbformat": 4,
 "nbformat_minor": 2
}
