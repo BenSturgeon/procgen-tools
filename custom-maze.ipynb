{
 "cells": [
  {
   "cell_type": "code",
   "execution_count": null,
   "metadata": {},
   "outputs": [],
   "source": [
    "import sys, os\n",
    "COLAB = 'google.colab' in sys.modules \n",
    "if COLAB and 'procgen-tools' not in os.getcwd():\n",
    "    os.system(\"git clone https://github.com/UlisseMini/procgen-tools\")\n",
    "    os.chdir('procgen-tools')\n",
    "    %pip install -r requirements.txt"
   ]
  },
  {
   "cell_type": "code",
   "execution_count": null,
   "metadata": {},
   "outputs": [],
   "source": [
    "%load_ext autoreload\n",
    "%matplotlib inline\n",
    "import matplotlib.pyplot as plt\n",
    "\n",
    "import numpy as np\n",
    "from procgen import ProcgenGym3Env\n",
    "import envs.maze as maze\n",
    "from models import load_policy\n",
    "import torch\n",
    "from IPython import display\n",
    "import pickle\n"
   ]
  },
  {
   "cell_type": "code",
   "execution_count": null,
   "metadata": {},
   "outputs": [],
   "source": [
    "# num is the number of environments to create in the vec env\n",
    "# num_levels is the number of levels to sample from (0 for infinite, 1 for deterministic)\n",
    "num_mazes = 2\n",
    "filepath = f'./mazes/{num_mazes}.pkl'\n",
    "venv = ProcgenGym3Env(\n",
    "    num=num_mazes, env_name='maze', num_levels=1, start_level=0,\n",
    "    distribution_mode='hard', num_threads=1, render_mode=\"rgb_array\",\n",
    ")\n",
    "venv = maze.wrap_venv(venv)\n",
    "\n",
    "try:\n",
    "    with open(filepath, 'rb') as f:\n",
    "        state_bytes_list = pickle.load(f)\n",
    "        if len(state_bytes_list) != venv.num_envs:\n",
    "            print(f'WARN: saved {len(state_bytes_list)} envs but num_envs is {venv.num_envs}')\n",
    "        else:\n",
    "            venv.env.callmethod('set_state', state_bytes_list)\n",
    "\n",
    "except FileNotFoundError:\n",
    "    print(f'No {filepath} file exists, generating venv from scratch')\n",
    "        \n",
    "\n",
    "obs = venv.reset()\n",
    "# plot all the envs in the vectorized env\n",
    "for i in range(obs.shape[0]):\n",
    "    plt.imshow(obs[i].transpose(1, 2, 0))\n",
    "    plt.show()"
   ]
  },
  {
   "cell_type": "markdown",
   "metadata": {},
   "source": [
    "## Edit the maze interactively\n",
    "\n",
    "Using the magic `maze.grid_editor` function!\n",
    "Clicking in the maze changes walls to empty space and vise versa.\n",
    "If you click the cheese it'll disappear and reappear where you click next."
   ]
  },
  {
   "cell_type": "code",
   "execution_count": null,
   "metadata": {},
   "outputs": [],
   "source": [
    "maze.venv_editor(venv)"
   ]
  },
  {
   "cell_type": "code",
   "execution_count": null,
   "metadata": {},
   "outputs": [],
   "source": [
    "with open(filepath, 'wb') as f:\n",
    "    pickle.dump(venv.env.callmethod(\"get_state\"), f)"
   ]
  },
  {
   "cell_type": "markdown",
   "metadata": {},
   "source": [
    "## Run the model on the new maze"
   ]
  },
  {
   "cell_type": "code",
   "execution_count": null,
   "metadata": {},
   "outputs": [],
   "source": [
    "if COLAB:\n",
    "  from google.colab import files\n",
    "  uploaded = files.upload()\n",
    "  for fn in uploaded.keys():\n",
    "    print('User uploaded file \"{name}\" with length {length} bytes'.format(\n",
    "        name=fn, length=len(uploaded[fn])))"
   ]
  },
  {
   "cell_type": "code",
   "execution_count": null,
   "metadata": {},
   "outputs": [],
   "source": [
    "# download from https://drive.google.com/file/d/1db1qJn_ZM49CUcA1k7uSMdsdiAQ4eR5a/view?usp=share_link\n",
    "policy = load_policy('../models/maze_I/model_rand_region_5.pth', action_size=venv.action_space.n, device=torch.device('cpu'))\n"
   ]
  },
  {
   "cell_type": "code",
   "execution_count": null,
   "metadata": {},
   "outputs": [],
   "source": [
    "done = np.zeros(venv.num_envs)\n",
    "obs = venv.reset()\n",
    "max_steps = 70\n",
    "\n",
    "for i in range(max_steps):\n",
    "    if all(done): break\n",
    "    policy.eval()\n",
    "    p, v = policy(torch.FloatTensor(obs))\n",
    "    act = p.sample().numpy()\n",
    "    #act = p.probs.argmax(dim=-1).numpy()\n",
    "    obs, rew, done_now, info = venv.step(act)\n",
    "    done = np.logical_or(done, done_now) # TODO: Don't keep running finished envs \n",
    "\n",
    "    if not all(done): # don't show last frame (new maze)\n",
    "        plt.imshow(obs[0].transpose(1,2,0)) # agent view\n",
    "        #plt.imshow(info[0]['rgb'])\n",
    "        display.display(plt.gcf())\n",
    "        display.clear_output(wait=True)\n"
   ]
  },
  {
   "cell_type": "code",
   "execution_count": null,
   "metadata": {},
   "outputs": [],
   "source": []
  }
 ],
 "metadata": {
  "kernelspec": {
   "display_name": "Python 3 (ipykernel)",
   "language": "python",
   "name": "python3"
  },
  "language_info": {
   "codemirror_mode": {
    "name": "ipython",
    "version": 3
   },
   "file_extension": ".py",
   "mimetype": "text/x-python",
   "name": "python",
   "nbconvert_exporter": "python",
   "pygments_lexer": "ipython3",
   "version": "3.10.9"
  },
  "vscode": {
   "interpreter": {
    "hash": "cd3e04b79b22c2a61b6815ecea0d93d7d0a83bc295cb411e510169362b7f6e5c"
   }
  }
 },
 "nbformat": 4,
 "nbformat_minor": 2
}
